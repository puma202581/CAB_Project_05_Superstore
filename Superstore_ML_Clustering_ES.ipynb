{
 "cells": [
  {
   "cell_type": "code",
   "execution_count": 32,
   "id": "69d626a8",
   "metadata": {},
   "outputs": [],
   "source": [
    "# import libraries\n",
    "import numpy as np\n",
    "import os\n",
    "\n",
    "from sklearn.datasets import make_blobs\n",
    "from sklearn.cluster import KMeans\n",
    "from sklearn.metrics import silhouette_score\n",
    "\n",
    "import pandas as pd\n",
    "\n",
    "import plotly.express as px\n",
    "from plotly.subplots import make_subplots\n",
    "import plotly.graph_objects as go\n",
    "\n",
    "from yellowbrick.cluster import SilhouetteVisualizer"
   ]
  },
  {
   "cell_type": "code",
   "execution_count": 33,
   "id": "161dee36",
   "metadata": {},
   "outputs": [],
   "source": [
    "# import csv file\n",
    "# pay attention to which file is being used\n",
    "df = pd.read_csv('Archive/df_product_active.csv')"
   ]
  },
  {
   "cell_type": "code",
   "execution_count": 34,
   "id": "97aae004",
   "metadata": {},
   "outputs": [
    {
     "data": {
      "application/vnd.microsoft.datawrangler.viewer.v0+json": {
       "columns": [
        {
         "name": "index",
         "rawType": "int64",
         "type": "integer"
        },
        {
         "name": "product_id",
         "rawType": "object",
         "type": "string"
        },
        {
         "name": "product_name",
         "rawType": "object",
         "type": "string"
        },
        {
         "name": "category",
         "rawType": "object",
         "type": "string"
        },
        {
         "name": "subcategory",
         "rawType": "object",
         "type": "string"
        },
        {
         "name": "product_date_first_sale",
         "rawType": "object",
         "type": "string"
        },
        {
         "name": "product_date_last_sale",
         "rawType": "object",
         "type": "string"
        },
        {
         "name": "product_selling_days_f2l",
         "rawType": "int64",
         "type": "integer"
        },
        {
         "name": "product_selling_days_f2l_l",
         "rawType": "int64",
         "type": "integer"
        },
        {
         "name": "days_since_last_sale",
         "rawType": "int64",
         "type": "integer"
        },
        {
         "name": "total_quantity",
         "rawType": "int64",
         "type": "integer"
        },
        {
         "name": "count_orders",
         "rawType": "int64",
         "type": "integer"
        },
        {
         "name": "count_orders_discount",
         "rawType": "int64",
         "type": "integer"
        },
        {
         "name": "discount_ratio",
         "rawType": "float64",
         "type": "float"
        },
        {
         "name": "total_profit",
         "rawType": "float64",
         "type": "float"
        },
        {
         "name": "avg_profit_per_order",
         "rawType": "float64",
         "type": "float"
        },
        {
         "name": "avg_orders_per_month",
         "rawType": "float64",
         "type": "float"
        },
        {
         "name": "avg_discount_per_order",
         "rawType": "float64",
         "type": "float"
        },
        {
         "name": "first_order_month",
         "rawType": "int64",
         "type": "integer"
        },
        {
         "name": "first_order_year",
         "rawType": "int64",
         "type": "integer"
        },
        {
         "name": "first_order_year_month",
         "rawType": "object",
         "type": "string"
        },
        {
         "name": "PLC_Category",
         "rawType": "object",
         "type": "string"
        },
        {
         "name": "avg_mth_profit_contribution",
         "rawType": "float64",
         "type": "float"
        },
        {
         "name": "avg_mth_profit_contribution_category",
         "rawType": "object",
         "type": "string"
        }
       ],
       "ref": "5df3e107-d418-4ac5-9a78-9fa76a85c534",
       "rows": [
        [
         "0",
         "FUR-BO-10000330",
         "Sauder Camden County Barrister Bookcase, Planked Cherry Finish",
         "Furniture",
         "Bookcases",
         "2014-11-28",
         "2017-05-30",
         "914",
         "914",
         "214",
         "10",
         "3",
         "2",
         "0.6666666666666666",
         "24.196",
         "8.065333333333333",
         "0.0797872340425531",
         "0.0999999999999999",
         "11",
         "2014",
         "2014-11",
         "5_OBSOLETE",
         "0.7941794310722101",
         "1_Low"
        ],
        [
         "1",
         "FUR-BO-10001519",
         "O'Sullivan 3-Shelf Heavy-Duty Bookcases",
         "Furniture",
         "Bookcases",
         "2015-04-16",
         "2017-12-09",
         "968",
         "968",
         "21",
         "22",
         "5",
         "3",
         "0.6",
         "147.0942",
         "29.41884",
         "0.1516683518705763",
         "0.1699999999999999",
         "4",
         "2015",
         "2015-04",
         "3_MATURITY",
         "4.558704545454545",
         "2_Medium"
        ],
        [
         "2",
         "FUR-BO-10001619",
         "O'Sullivan Cherrywood Estates Traditional Bookcase",
         "Furniture",
         "Bookcases",
         "2016-11-24",
         "2017-01-21",
         "58",
         "58",
         "343",
         "6",
         "2",
         "1",
         "0.5",
         "27.1936",
         "13.596799999999998",
         "0.1496259351620947",
         "0.1",
         "11",
         "2016",
         "2016-11",
         "5_OBSOLETE",
         "14.065655172413791",
         "3_High"
        ],
        [
         "3",
         "FUR-BO-10001811",
         "Atlantic Metals Mobile 5-Shelf Bookcases, Custom Colors",
         "Furniture",
         "Bookcases",
         "2015-03-01",
         "2017-09-23",
         "937",
         "937",
         "98",
         "26",
         "8",
         "8",
         "1.0",
         "15.049",
         "1.881125",
         "0.2318840579710145",
         "0.31625",
         "3",
         "2015",
         "2015-03",
         "3_MATURITY",
         "0.4818249733191035",
         "1_Low"
        ],
        [
         "4",
         "FUR-BO-10002213",
         "DMI Eclipse Executive Suite Bookcases",
         "Furniture",
         "Bookcases",
         "2014-09-20",
         "2017-06-25",
         "1009",
         "1009",
         "188",
         "27",
         "6",
         "6",
         "1.0",
         "90.17640000000002",
         "15.029400000000004",
         "0.150375939849624",
         "0.1833333333333333",
         "9",
         "2014",
         "2014-09",
         "5_OBSOLETE",
         "2.6811615460852334",
         "2_Medium"
        ],
        [
         "5",
         "FUR-BO-10002545",
         "Atlantic Metals Mobile 3-Shelf Bookcases, Custom Colors",
         "Furniture",
         "Bookcases",
         "2014-11-11",
         "2017-09-15",
         "1039",
         "1039",
         "106",
         "35",
         "8",
         "5",
         "0.625",
         "780.3302",
         "97.541275",
         "0.2096069868995633",
         "0.18375",
         "11",
         "2014",
         "2014-11",
         "4_DECLINE",
         "22.5311896053898",
         "3_High"
        ],
        [
         "6",
         "FUR-BO-10002598",
         "Hon Metal Bookcases, Putty",
         "Furniture",
         "Bookcases",
         "2015-02-06",
         "2017-12-01",
         "1029",
         "1029",
         "29",
         "19",
         "5",
         "1",
         "0.2",
         "362.7078",
         "72.54155999999999",
         "0.1417769376181474",
         "0.04",
         "2",
         "2015",
         "2015-02",
         "3_MATURITY",
         "10.574571428571428",
         "3_High"
        ],
        [
         "7",
         "FUR-BO-10002824",
         "Bush Mission Pointe Library",
         "Furniture",
         "Bookcases",
         "2015-07-06",
         "2017-06-03",
         "698",
         "698",
         "210",
         "6",
         "3",
         "2",
         "0.6666666666666666",
         "24.156800000000004",
         "8.052266666666668",
         "0.0991189427312775",
         "0.1733333333333333",
         "7",
         "2015",
         "2015-07",
         "5_OBSOLETE",
         "1.0382578796561606",
         "1_Low"
        ],
        [
         "8",
         "FUR-BO-10003404",
         "Global Adaptabilites Bookcase, Cherry/Storm Gray Finish",
         "Furniture",
         "Bookcases",
         "2017-09-17",
         "2017-10-12",
         "25",
         "25",
         "79",
         "8",
         "2",
         "0",
         "0.0",
         "206.8704",
         "103.4352",
         "0.5",
         "0.0",
         "9",
         "2017",
         "2017-09",
         "2_GROWTH",
         "248.24448",
         "3_High"
        ],
        [
         "9",
         "FUR-BO-10003441",
         "Bush Westfield Collection Bookcases, Fully Assembled",
         "Furniture",
         "Bookcases",
         "2016-04-17",
         "2017-12-30",
         "622",
         "622",
         "0",
         "18",
         "6",
         "5",
         "0.8333333333333334",
         "73.71539999999999",
         "12.285899999999998",
         "0.2893890675241157",
         "0.1949999999999999",
         "4",
         "2016",
         "2016-04",
         "3_MATURITY",
         "3.555405144694533",
         "2_Medium"
        ],
        [
         "10",
         "FUR-BO-10003660",
         "Bush Cubix Collection Bookcases, Fully Assembled",
         "Furniture",
         "Bookcases",
         "2015-10-05",
         "2017-12-22",
         "809",
         "809",
         "8",
         "4",
         "3",
         "1",
         "0.3333333333333333",
         "48.6156",
         "16.2052",
         "0.1101591187270501",
         "0.2333333333333333",
         "10",
         "2015",
         "2015-10",
         "3_MATURITY",
         "1.802803461063041",
         "1_Low"
        ],
        [
         "11",
         "FUR-BO-10003894",
         "Safco Value Mate Steel Bookcase, Baked Enamel Finish on Steel, Black",
         "Furniture",
         "Bookcases",
         "2016-09-03",
         "2017-04-01",
         "210",
         "210",
         "273",
         "14",
         "3",
         "3",
         "1.0",
         "106.47",
         "35.49",
         "0.186335403726708",
         "0.1999999999999999",
         "9",
         "2016",
         "2016-09",
         "5_OBSOLETE",
         "15.21",
         "3_High"
        ],
        [
         "12",
         "FUR-BO-10004015",
         "Bush Andora Bookcase, Maple/Graphite Gray Finish",
         "Furniture",
         "Bookcases",
         "2014-11-16",
         "2017-12-25",
         "1135",
         "1135",
         "5",
         "34",
         "9",
         "7",
         "0.7777777777777778",
         "135.58870000000002",
         "15.065411111111112",
         "0.2368421052631578",
         "0.1666666666666666",
         "11",
         "2014",
         "2014-11",
         "3_MATURITY",
         "3.583842290748899",
         "2_Medium"
        ],
        [
         "13",
         "FUR-BO-10004695",
         "O'Sullivan 2-Door Barrister Bookcase in Odessa Pine",
         "Furniture",
         "Bookcases",
         "2015-01-02",
         "2017-05-19",
         "868",
         "868",
         "225",
         "31",
         "7",
         "4",
         "0.5714285714285714",
         "566.4674",
         "80.92391428571429",
         "0.192131747483989",
         "0.15",
         "1",
         "2015",
         "2015-01",
         "5_OBSOLETE",
         "19.578366359447003",
         "3_High"
        ],
        [
         "14",
         "FUR-CH-10000015",
         "Hon Multipurpose Stacking Arm Chairs",
         "Furniture",
         "Chairs",
         "2014-05-11",
         "2017-08-21",
         "1198",
         "1198",
         "131",
         "36",
         "6",
         "3",
         "0.5",
         "814.416",
         "135.73600000000002",
         "0.1354401805869074",
         "0.1333333333333333",
         "5",
         "2014",
         "2014-05",
         "3_MATURITY",
         "20.394390651085143",
         "3_High"
        ],
        [
         "15",
         "FUR-CH-10000155",
         "Global Comet Stacking Armless Chair",
         "Furniture",
         "Chairs",
         "2014-07-06",
         "2017-12-01",
         "1244",
         "1244",
         "29",
         "14",
         "6",
         "5",
         "0.8333333333333334",
         "514.366",
         "85.72766666666666",
         "0.1413982717989002",
         "0.1666666666666666",
         "7",
         "2014",
         "2014-07",
         "3_MATURITY",
         "12.404324758842442",
         "2_Medium"
        ],
        [
         "16",
         "FUR-CH-10000309",
         "Global Comet Stacking Arm Chair",
         "Furniture",
         "Chairs",
         "2015-04-27",
         "2017-01-19",
         "633",
         "633",
         "345",
         "17",
         "5",
         "3",
         "0.6",
         "697.1415",
         "139.42829999999998",
         "0.1533742331288343",
         "0.16",
         "4",
         "2015",
         "2015-04",
         "5_OBSOLETE",
         "33.03988151658767",
         "3_High"
        ],
        [
         "17",
         "FUR-CH-10000422",
         "Global Highback Leather Tilter in Burgundy",
         "Furniture",
         "Chairs",
         "2014-01-13",
         "2017-11-18",
         "1405",
         "1405",
         "42",
         "34",
         "9",
         "6",
         "0.6666666666666666",
         "49.13459999999999",
         "5.459399999999999",
         "0.1865929509329647",
         "0.1444444444444444",
         "1",
         "2014",
         "2014-01",
         "4_DECLINE",
         "1.0491373665480426",
         "1_Low"
        ],
        [
         "18",
         "FUR-CH-10000454",
         "Hon Deluxe Fabric Upholstered Stacking Chairs, Rounded Back",
         "Furniture",
         "Chairs",
         "2014-06-22",
         "2017-11-29",
         "1256",
         "1256",
         "31",
         "51",
         "12",
         "8",
         "0.6666666666666666",
         "1927.442",
         "160.62016666666668",
         "0.2797202797202797",
         "0.1416666666666666",
         "6",
         "2014",
         "2014-06",
         "3_MATURITY",
         "46.03762738853503",
         "3_High"
        ],
        [
         "19",
         "FUR-CH-10000553",
         "Metal Folding Chairs, Beige, 4/Carton",
         "Furniture",
         "Chairs",
         "2014-07-26",
         "2017-10-30",
         "1192",
         "1192",
         "61",
         "23",
         "5",
         "3",
         "0.6",
         "115.7354",
         "23.14708",
         "0.1197126895450917",
         "0.12",
         "7",
         "2014",
         "2014-07",
         "3_MATURITY",
         "2.912803691275168",
         "1_Low"
        ],
        [
         "20",
         "FUR-CH-10000595",
         "Safco Contoured Stacking Chairs",
         "Furniture",
         "Chairs",
         "2014-11-23",
         "2017-06-12",
         "932",
         "932",
         "201",
         "27",
         "8",
         "6",
         "0.75",
         "870.16",
         "108.77",
         "0.2118270079435128",
         "0.125",
         "11",
         "2014",
         "2014-11",
         "5_OBSOLETE",
         "28.009442060085835",
         "3_High"
        ],
        [
         "21",
         "FUR-CH-10000665",
         "Global Airflow Leather Mesh Back Chair, Black",
         "Furniture",
         "Chairs",
         "2014-11-11",
         "2017-09-24",
         "1048",
         "1048",
         "97",
         "32",
         "9",
         "7",
         "0.7777777777777778",
         "573.7239999999999",
         "63.7471111111111",
         "0.2358078602620087",
         "0.1555555555555555",
         "11",
         "2014",
         "2014-11",
         "3_MATURITY",
         "16.423396946564885",
         "3_High"
        ],
        [
         "22",
         "FUR-CH-10000749",
         "Office Star - Ergonomic Mid Back Chair with 2-Way Adjustable Arms",
         "Furniture",
         "Chairs",
         "2014-10-14",
         "2017-10-22",
         "1104",
         "1104",
         "69",
         "13",
         "2",
         "1",
         "0.5",
         "231.6544",
         "115.8272",
         "0.0511508951406649",
         "0.1",
         "10",
         "2014",
         "2014-10",
         "3_MATURITY",
         "6.294956521739131",
         "2_Medium"
        ],
        [
         "23",
         "FUR-CH-10000785",
         "Global Ergonomic Managers Chair",
         "Furniture",
         "Chairs",
         "2015-08-08",
         "2017-11-24",
         "839",
         "839",
         "36",
         "39",
         "11",
         "7",
         "0.6363636363636364",
         "785.4532",
         "71.40483636363636",
         "0.3771428571428571",
         "0.1363636363636363",
         "8",
         "2015",
         "2015-08",
         "3_MATURITY",
         "28.08533492252682",
         "3_High"
        ],
        [
         "24",
         "FUR-CH-10000847",
         "Global Executive Mid-Back Manager's Chair",
         "Furniture",
         "Chairs",
         "2014-11-24",
         "2017-12-09",
         "1111",
         "1111",
         "21",
         "18",
         "6",
         "3",
         "0.5",
         "750.7284000000001",
         "125.1214",
         "0.1590106007067137",
         "0.1166666666666666",
         "11",
         "2014",
         "2014-11",
         "3_MATURITY",
         "20.271693969396942",
         "3_High"
        ],
        [
         "25",
         "FUR-CH-10000988",
         "Hon Olson Stacker Stools",
         "Furniture",
         "Chairs",
         "2014-05-26",
         "2017-07-21",
         "1152",
         "1152",
         "162",
         "44",
         "10",
         "8",
         "0.8",
         "833.5952",
         "83.35952",
         "0.228310502283105",
         "0.16",
         "5",
         "2014",
         "2014-05",
         "5_OBSOLETE",
         "21.70820833333333",
         "3_High"
        ],
        [
         "26",
         "FUR-CH-10001147",
         "Global Value Mid-Back Manager's Chair, Gray",
         "Furniture",
         "Chairs",
         "2014-02-11",
         "2017-12-25",
         "1413",
         "1413",
         "5",
         "39",
         "10",
         "7",
         "0.7",
         "197.8925",
         "19.78925",
         "0.2115655853314527",
         "0.16",
         "2",
         "2014",
         "2014-02",
         "3_MATURITY",
         "4.2015392781316345",
         "1_Low"
        ],
        [
         "27",
         "FUR-CH-10001215",
         "Global Troy Executive Leather Low-Back Tilter",
         "Furniture",
         "Chairs",
         "2014-07-21",
         "2017-11-13",
         "1211",
         "1211",
         "47",
         "32",
         "9",
         "9",
         "1.0",
         "951.862",
         "105.76244444444444",
         "0.2146263910969793",
         "0.2",
         "7",
         "2014",
         "2014-07",
         "3_MATURITY",
         "23.580396366639143",
         "3_High"
        ],
        [
         "28",
         "FUR-CH-10001270",
         "Harbour Creations Steel Folding Chair",
         "Furniture",
         "Chairs",
         "2014-03-01",
         "2017-12-29",
         "1399",
         "1399",
         "1",
         "34",
         "8",
         "5",
         "0.625",
         "336.375",
         "42.046875",
         "0.1714285714285714",
         "0.1625",
         "3",
         "2014",
         "2014-03",
         "3_MATURITY",
         "7.213187991422445",
         "2_Medium"
        ],
        [
         "29",
         "FUR-CH-10001394",
         "Global Leather Executive Chair",
         "Furniture",
         "Chairs",
         "2014-04-29",
         "2017-12-24",
         "1335",
         "1335",
         "6",
         "21",
         "7",
         "7",
         "1.0",
         "701.98",
         "100.28285714285714",
         "0.1565995525727069",
         "0.1857142857142857",
         "4",
         "2014",
         "2014-04",
         "3_MATURITY",
         "15.774831460674156",
         "2_Medium"
        ],
        [
         "30",
         "FUR-CH-10001708",
         "Office Star - Contemporary Swivel Chair with Padded Adjustable Arms and Flex Back",
         "Furniture",
         "Chairs",
         "2014-12-10",
         "2017-12-18",
         "1104",
         "1104",
         "12",
         "32",
         "7",
         "6",
         "0.8571428571428571",
         "425.7596",
         "60.82280000000001",
         "0.1881720430107527",
         "0.1571428571428571",
         "12",
         "2014",
         "2014-12",
         "4_DECLINE",
         "11.569554347826088",
         "2_Medium"
        ],
        [
         "31",
         "FUR-CH-10001797",
         "Safco Chair Connectors, 6/Carton",
         "Furniture",
         "Chairs",
         "2014-07-12",
         "2017-12-04",
         "1241",
         "1241",
         "26",
         "26",
         "4",
         "3",
         "0.75",
         "170.8512",
         "42.7128",
         "0.0947119179163378",
         "0.15",
         "7",
         "2014",
         "2014-07",
         "4_DECLINE",
         "4.130165995165189",
         "1_Low"
        ],
        [
         "32",
         "FUR-CH-10001802",
         "Hon Every-Day Chair Series Swivel Task Chairs",
         "Furniture",
         "Chairs",
         "2016-02-16",
         "2017-10-09",
         "601",
         "601",
         "82",
         "10",
         "3",
         "3",
         "1.0",
         "12.098",
         "4.032666666666667",
         "0.1317715959004392",
         "0.1999999999999999",
         "2",
         "2016",
         "2016-02",
         "4_DECLINE",
         "0.6038935108153077",
         "1_Low"
        ],
        [
         "33",
         "FUR-CH-10001854",
         "Office Star - Professional Matrix Back Chair with 2-to-1 Synchro Tilt and Mesh Fabric Seat",
         "Furniture",
         "Chairs",
         "2014-12-01",
         "2017-12-02",
         "1097",
         "1097",
         "28",
         "28",
         "8",
         "4",
         "0.5",
         "1305.6456",
         "163.2057",
         "0.2133333333333333",
         "0.1",
         "12",
         "2014",
         "2014-12",
         "3_MATURITY",
         "35.70589608021878",
         "3_High"
        ],
        [
         "34",
         "FUR-CH-10001891",
         "Global Deluxe Office Fabric Chairs",
         "Furniture",
         "Chairs",
         "2014-12-26",
         "2017-11-03",
         "1043",
         "1043",
         "57",
         "17",
         "6",
         "4",
         "0.6666666666666666",
         "229.3922",
         "38.23203333333333",
         "0.1636363636363636",
         "0.1166666666666666",
         "12",
         "2014",
         "2014-12",
         "4_DECLINE",
         "6.598049856184085",
         "2_Medium"
        ],
        [
         "35",
         "FUR-CH-10002017",
         "SAFCO Optional Arm Kit for Workspace Cribbage Stacking Chair",
         "Furniture",
         "Chairs",
         "2014-11-16",
         "2017-08-17",
         "1005",
         "1005",
         "135",
         "12",
         "5",
         "4",
         "0.8",
         "14.9184",
         "2.98368",
         "0.131578947368421",
         "0.2",
         "11",
         "2014",
         "2014-11",
         "3_MATURITY",
         "0.4453253731343283",
         "1_Low"
        ],
        [
         "36",
         "FUR-CH-10002024",
         "HON 5400 Series Task Chairs for Big and Tall",
         "Furniture",
         "Chairs",
         "2014-07-20",
         "2017-08-17",
         "1124",
         "1124",
         "135",
         "39",
         "8",
         "7",
         "0.875",
         "5.684341886080803e-14",
         "7.105427357601002e-15",
         "0.1906274821286735",
         "0.2",
         "7",
         "2014",
         "2014-07",
         "3_MATURITY",
         "1.5171731012671177e-15",
         "1_Low"
        ],
        [
         "37",
         "FUR-CH-10002073",
         "Hon Olson Stacker Chairs",
         "Furniture",
         "Chairs",
         "2015-11-02",
         "2017-08-13",
         "650",
         "650",
         "139",
         "22",
         "4",
         "2",
         "0.5",
         "1292.1264",
         "323.0316",
         "0.1520912547528517",
         "0.075",
         "11",
         "2015",
         "2015-11",
         "4_DECLINE",
         "59.63660307692308",
         "3_High"
        ],
        [
         "38",
         "FUR-CH-10002084",
         "Hon Mobius Operator's Chair",
         "Furniture",
         "Chairs",
         "2015-03-08",
         "2017-07-15",
         "860",
         "860",
         "168",
         "23",
         "5",
         "2",
         "0.4",
         "499.3394",
         "99.86788",
         "0.1459143968871595",
         "0.04",
         "3",
         "2015",
         "2015-03",
         "5_OBSOLETE",
         "17.418816279069766",
         "3_High"
        ],
        [
         "39",
         "FUR-CH-10002304",
         "Global Stack Chair without Arms, Black",
         "Furniture",
         "Chairs",
         "2014-03-30",
         "2017-10-12",
         "1292",
         "1292",
         "79",
         "44",
         "7",
         "5",
         "0.7142857142857143",
         "44.166",
         "6.309428571428572",
         "0.1531728665207877",
         "0.1714285714285714",
         "3",
         "2014",
         "2014-03",
         "3_MATURITY",
         "1.0255263157894736",
         "1_Low"
        ],
        [
         "40",
         "FUR-CH-10002317",
         "Global Enterprise Series Seating Low-Back Swivel/Tilt Chairs",
         "Furniture",
         "Chairs",
         "2017-08-07",
         "2017-08-07",
         "0",
         "0",
         "145",
         "1",
         "1",
         "1",
         "1.0",
         "25.898",
         "25.898",
         "0.2068965517241379",
         "0.2",
         "8",
         "2017",
         "2017-08",
         "4_DECLINE",
         "5.358206896551724",
         "1_Low"
        ],
        [
         "41",
         "FUR-CH-10002320",
         "Hon Pagoda Stacking Chairs",
         "Furniture",
         "Chairs",
         "2014-05-10",
         "2017-09-11",
         "1220",
         "1220",
         "110",
         "22",
         "4",
         "2",
         "0.5",
         "1540.704",
         "385.176",
         "0.0902255639097744",
         "0.1",
         "5",
         "2014",
         "2014-05",
         "4_DECLINE",
         "37.88616393442623",
         "3_High"
        ],
        [
         "42",
         "FUR-CH-10002331",
         "Hon 4700 Series Mobuis Mid-Back Task Chairs with Adjustable Arms",
         "Furniture",
         "Chairs",
         "2014-01-20",
         "2017-08-31",
         "1319",
         "1319",
         "121",
         "24",
         "6",
         "4",
         "0.6666666666666666",
         "832.9932000000001",
         "138.83220000000003",
         "0.125",
         "0.1333333333333333",
         "1",
         "2014",
         "2014-01",
         "3_MATURITY",
         "18.946016679302502",
         "3_High"
        ],
        [
         "43",
         "FUR-CH-10002335",
         "Hon GuestStacker Chair",
         "Furniture",
         "Chairs",
         "2014-08-05",
         "2017-12-22",
         "1235",
         "1235",
         "8",
         "34",
         "9",
         "6",
         "0.6666666666666666",
         "1233.0848",
         "137.00942222222224",
         "0.2172164119066774",
         "0.1111111111111111",
         "8",
         "2014",
         "2014-08",
         "3_MATURITY",
         "29.953476923076927",
         "3_High"
        ],
        [
         "44",
         "FUR-CH-10002439",
         "Iceberg Nesting Folding Chair, 19w x 6d x 43h",
         "Furniture",
         "Chairs",
         "2014-03-25",
         "2017-12-24",
         "1370",
         "1370",
         "6",
         "31",
         "6",
         "4",
         "0.6666666666666666",
         "253.8392",
         "42.30653333333333",
         "0.1308139534883721",
         "0.1166666666666666",
         "3",
         "2014",
         "2014-03",
         "4_DECLINE",
         "5.558522627737227",
         "2_Medium"
        ],
        [
         "45",
         "FUR-CH-10002602",
         "DMI Arturo Collection Mission-style Design Wood Chair",
         "Furniture",
         "Chairs",
         "2014-04-18",
         "2017-12-29",
         "1351",
         "1351",
         "1",
         "37",
         "11",
         "10",
         "0.9090909090909092",
         "486.1556000000001",
         "44.19596363636364",
         "0.2440828402366863",
         "0.1909090909090909",
         "4",
         "2014",
         "2014-04",
         "3_MATURITY",
         "10.795461139896377",
         "2_Medium"
        ],
        [
         "46",
         "FUR-CH-10002647",
         "Situations Contoured Folding Chairs, 4/Set",
         "Furniture",
         "Chairs",
         "2014-06-08",
         "2017-12-22",
         "1293",
         "1293",
         "8",
         "64",
         "15",
         "12",
         "0.8",
         "234.234",
         "15.6156",
         "0.3458877786318217",
         "0.18",
         "6",
         "2014",
         "2014-06",
         "3_MATURITY",
         "5.434663573085847",
         "1_Low"
        ],
        [
         "47",
         "FUR-CH-10002774",
         "Global Deluxe Stacking Chair, Gray",
         "Furniture",
         "Chairs",
         "2014-10-03",
         "2017-12-16",
         "1170",
         "1170",
         "14",
         "19",
         "7",
         "7",
         "1.0",
         "76.9798",
         "10.997114285714286",
         "0.1773648648648648",
         "0.2142857142857142",
         "10",
         "2014",
         "2014-10",
         "4_DECLINE",
         "1.9738410256410253",
         "1_Low"
        ],
        [
         "48",
         "FUR-CH-10002780",
         "Office Star - Task Chair with Contemporary Loop Arms",
         "Furniture",
         "Chairs",
         "2014-03-07",
         "2017-07-20",
         "1231",
         "1231",
         "163",
         "8",
         "2",
         "2",
         "1.0",
         "47.3096",
         "23.6548",
         "0.0430416068866571",
         "0.15",
         "3",
         "2014",
         "2014-03",
         "5_OBSOLETE",
         "1.1529553208773355",
         "1_Low"
        ],
        [
         "49",
         "FUR-CH-10002961",
         "Leather Task Chair, Black",
         "Furniture",
         "Chairs",
         "2014-09-26",
         "2017-12-11",
         "1172",
         "1172",
         "19",
         "19",
         "6",
         "6",
         "1.0",
         "54.588",
         "9.098",
         "0.1511335012594458",
         "0.1999999999999999",
         "9",
         "2014",
         "2014-09",
         "3_MATURITY",
         "1.3973037542662117",
         "1_Low"
        ]
       ],
       "shape": {
        "columns": 23,
        "rows": 1300
       }
      },
      "text/html": [
       "<div>\n",
       "<style scoped>\n",
       "    .dataframe tbody tr th:only-of-type {\n",
       "        vertical-align: middle;\n",
       "    }\n",
       "\n",
       "    .dataframe tbody tr th {\n",
       "        vertical-align: top;\n",
       "    }\n",
       "\n",
       "    .dataframe thead th {\n",
       "        text-align: right;\n",
       "    }\n",
       "</style>\n",
       "<table border=\"1\" class=\"dataframe\">\n",
       "  <thead>\n",
       "    <tr style=\"text-align: right;\">\n",
       "      <th></th>\n",
       "      <th>product_id</th>\n",
       "      <th>product_name</th>\n",
       "      <th>category</th>\n",
       "      <th>subcategory</th>\n",
       "      <th>product_date_first_sale</th>\n",
       "      <th>product_date_last_sale</th>\n",
       "      <th>product_selling_days_f2l</th>\n",
       "      <th>product_selling_days_f2l_l</th>\n",
       "      <th>days_since_last_sale</th>\n",
       "      <th>total_quantity</th>\n",
       "      <th>...</th>\n",
       "      <th>total_profit</th>\n",
       "      <th>avg_profit_per_order</th>\n",
       "      <th>avg_orders_per_month</th>\n",
       "      <th>avg_discount_per_order</th>\n",
       "      <th>first_order_month</th>\n",
       "      <th>first_order_year</th>\n",
       "      <th>first_order_year_month</th>\n",
       "      <th>PLC_Category</th>\n",
       "      <th>avg_mth_profit_contribution</th>\n",
       "      <th>avg_mth_profit_contribution_category</th>\n",
       "    </tr>\n",
       "  </thead>\n",
       "  <tbody>\n",
       "    <tr>\n",
       "      <th>0</th>\n",
       "      <td>FUR-BO-10000330</td>\n",
       "      <td>Sauder Camden County Barrister Bookcase, Plank...</td>\n",
       "      <td>Furniture</td>\n",
       "      <td>Bookcases</td>\n",
       "      <td>2014-11-28</td>\n",
       "      <td>2017-05-30</td>\n",
       "      <td>914</td>\n",
       "      <td>914</td>\n",
       "      <td>214</td>\n",
       "      <td>10</td>\n",
       "      <td>...</td>\n",
       "      <td>24.1960</td>\n",
       "      <td>8.065333</td>\n",
       "      <td>0.079787</td>\n",
       "      <td>0.100000</td>\n",
       "      <td>11</td>\n",
       "      <td>2014</td>\n",
       "      <td>2014-11</td>\n",
       "      <td>5_OBSOLETE</td>\n",
       "      <td>0.794179</td>\n",
       "      <td>1_Low</td>\n",
       "    </tr>\n",
       "    <tr>\n",
       "      <th>1</th>\n",
       "      <td>FUR-BO-10001519</td>\n",
       "      <td>O'Sullivan 3-Shelf Heavy-Duty Bookcases</td>\n",
       "      <td>Furniture</td>\n",
       "      <td>Bookcases</td>\n",
       "      <td>2015-04-16</td>\n",
       "      <td>2017-12-09</td>\n",
       "      <td>968</td>\n",
       "      <td>968</td>\n",
       "      <td>21</td>\n",
       "      <td>22</td>\n",
       "      <td>...</td>\n",
       "      <td>147.0942</td>\n",
       "      <td>29.418840</td>\n",
       "      <td>0.151668</td>\n",
       "      <td>0.170000</td>\n",
       "      <td>4</td>\n",
       "      <td>2015</td>\n",
       "      <td>2015-04</td>\n",
       "      <td>3_MATURITY</td>\n",
       "      <td>4.558705</td>\n",
       "      <td>2_Medium</td>\n",
       "    </tr>\n",
       "    <tr>\n",
       "      <th>2</th>\n",
       "      <td>FUR-BO-10001619</td>\n",
       "      <td>O'Sullivan Cherrywood Estates Traditional Book...</td>\n",
       "      <td>Furniture</td>\n",
       "      <td>Bookcases</td>\n",
       "      <td>2016-11-24</td>\n",
       "      <td>2017-01-21</td>\n",
       "      <td>58</td>\n",
       "      <td>58</td>\n",
       "      <td>343</td>\n",
       "      <td>6</td>\n",
       "      <td>...</td>\n",
       "      <td>27.1936</td>\n",
       "      <td>13.596800</td>\n",
       "      <td>0.149626</td>\n",
       "      <td>0.100000</td>\n",
       "      <td>11</td>\n",
       "      <td>2016</td>\n",
       "      <td>2016-11</td>\n",
       "      <td>5_OBSOLETE</td>\n",
       "      <td>14.065655</td>\n",
       "      <td>3_High</td>\n",
       "    </tr>\n",
       "    <tr>\n",
       "      <th>3</th>\n",
       "      <td>FUR-BO-10001811</td>\n",
       "      <td>Atlantic Metals Mobile 5-Shelf Bookcases, Cust...</td>\n",
       "      <td>Furniture</td>\n",
       "      <td>Bookcases</td>\n",
       "      <td>2015-03-01</td>\n",
       "      <td>2017-09-23</td>\n",
       "      <td>937</td>\n",
       "      <td>937</td>\n",
       "      <td>98</td>\n",
       "      <td>26</td>\n",
       "      <td>...</td>\n",
       "      <td>15.0490</td>\n",
       "      <td>1.881125</td>\n",
       "      <td>0.231884</td>\n",
       "      <td>0.316250</td>\n",
       "      <td>3</td>\n",
       "      <td>2015</td>\n",
       "      <td>2015-03</td>\n",
       "      <td>3_MATURITY</td>\n",
       "      <td>0.481825</td>\n",
       "      <td>1_Low</td>\n",
       "    </tr>\n",
       "    <tr>\n",
       "      <th>4</th>\n",
       "      <td>FUR-BO-10002213</td>\n",
       "      <td>DMI Eclipse Executive Suite Bookcases</td>\n",
       "      <td>Furniture</td>\n",
       "      <td>Bookcases</td>\n",
       "      <td>2014-09-20</td>\n",
       "      <td>2017-06-25</td>\n",
       "      <td>1009</td>\n",
       "      <td>1009</td>\n",
       "      <td>188</td>\n",
       "      <td>27</td>\n",
       "      <td>...</td>\n",
       "      <td>90.1764</td>\n",
       "      <td>15.029400</td>\n",
       "      <td>0.150376</td>\n",
       "      <td>0.183333</td>\n",
       "      <td>9</td>\n",
       "      <td>2014</td>\n",
       "      <td>2014-09</td>\n",
       "      <td>5_OBSOLETE</td>\n",
       "      <td>2.681162</td>\n",
       "      <td>2_Medium</td>\n",
       "    </tr>\n",
       "    <tr>\n",
       "      <th>...</th>\n",
       "      <td>...</td>\n",
       "      <td>...</td>\n",
       "      <td>...</td>\n",
       "      <td>...</td>\n",
       "      <td>...</td>\n",
       "      <td>...</td>\n",
       "      <td>...</td>\n",
       "      <td>...</td>\n",
       "      <td>...</td>\n",
       "      <td>...</td>\n",
       "      <td>...</td>\n",
       "      <td>...</td>\n",
       "      <td>...</td>\n",
       "      <td>...</td>\n",
       "      <td>...</td>\n",
       "      <td>...</td>\n",
       "      <td>...</td>\n",
       "      <td>...</td>\n",
       "      <td>...</td>\n",
       "      <td>...</td>\n",
       "      <td>...</td>\n",
       "    </tr>\n",
       "    <tr>\n",
       "      <th>1295</th>\n",
       "      <td>TEC-PH-10004896</td>\n",
       "      <td>Nokia Lumia 521 (T-Mobile)</td>\n",
       "      <td>Technology</td>\n",
       "      <td>Phones</td>\n",
       "      <td>2014-11-19</td>\n",
       "      <td>2017-03-26</td>\n",
       "      <td>858</td>\n",
       "      <td>858</td>\n",
       "      <td>279</td>\n",
       "      <td>20</td>\n",
       "      <td>...</td>\n",
       "      <td>83.9720</td>\n",
       "      <td>16.794400</td>\n",
       "      <td>0.131926</td>\n",
       "      <td>0.160000</td>\n",
       "      <td>11</td>\n",
       "      <td>2014</td>\n",
       "      <td>2014-11</td>\n",
       "      <td>5_OBSOLETE</td>\n",
       "      <td>2.936084</td>\n",
       "      <td>1_Low</td>\n",
       "    </tr>\n",
       "    <tr>\n",
       "      <th>1296</th>\n",
       "      <td>TEC-PH-10004908</td>\n",
       "      <td>Panasonic KX TS3282W Corded phone</td>\n",
       "      <td>Technology</td>\n",
       "      <td>Phones</td>\n",
       "      <td>2014-12-31</td>\n",
       "      <td>2017-11-12</td>\n",
       "      <td>1047</td>\n",
       "      <td>1047</td>\n",
       "      <td>48</td>\n",
       "      <td>25</td>\n",
       "      <td>...</td>\n",
       "      <td>178.4790</td>\n",
       "      <td>25.497000</td>\n",
       "      <td>0.191781</td>\n",
       "      <td>0.228571</td>\n",
       "      <td>12</td>\n",
       "      <td>2014</td>\n",
       "      <td>2014-12</td>\n",
       "      <td>4_DECLINE</td>\n",
       "      <td>5.114011</td>\n",
       "      <td>2_Medium</td>\n",
       "    </tr>\n",
       "    <tr>\n",
       "      <th>1297</th>\n",
       "      <td>TEC-PH-10004912</td>\n",
       "      <td>Cisco SPA112 2 Port Phone Adapter</td>\n",
       "      <td>Technology</td>\n",
       "      <td>Phones</td>\n",
       "      <td>2014-07-11</td>\n",
       "      <td>2017-12-01</td>\n",
       "      <td>1239</td>\n",
       "      <td>1239</td>\n",
       "      <td>29</td>\n",
       "      <td>11</td>\n",
       "      <td>...</td>\n",
       "      <td>87.3705</td>\n",
       "      <td>29.123500</td>\n",
       "      <td>0.070978</td>\n",
       "      <td>0.133333</td>\n",
       "      <td>7</td>\n",
       "      <td>2014</td>\n",
       "      <td>2014-07</td>\n",
       "      <td>3_MATURITY</td>\n",
       "      <td>2.115508</td>\n",
       "      <td>1_Low</td>\n",
       "    </tr>\n",
       "    <tr>\n",
       "      <th>1298</th>\n",
       "      <td>TEC-PH-10004922</td>\n",
       "      <td>RCA Visys Integrated PBX 8-Line Router</td>\n",
       "      <td>Technology</td>\n",
       "      <td>Phones</td>\n",
       "      <td>2014-04-07</td>\n",
       "      <td>2017-01-20</td>\n",
       "      <td>1019</td>\n",
       "      <td>1019</td>\n",
       "      <td>344</td>\n",
       "      <td>19</td>\n",
       "      <td>...</td>\n",
       "      <td>130.6305</td>\n",
       "      <td>26.126100</td>\n",
       "      <td>0.110051</td>\n",
       "      <td>0.120000</td>\n",
       "      <td>4</td>\n",
       "      <td>2014</td>\n",
       "      <td>2014-04</td>\n",
       "      <td>5_OBSOLETE</td>\n",
       "      <td>3.845844</td>\n",
       "      <td>2_Medium</td>\n",
       "    </tr>\n",
       "    <tr>\n",
       "      <th>1299</th>\n",
       "      <td>TEC-PH-10004977</td>\n",
       "      <td>GE 30524EE4</td>\n",
       "      <td>Technology</td>\n",
       "      <td>Phones</td>\n",
       "      <td>2014-01-06</td>\n",
       "      <td>2017-12-02</td>\n",
       "      <td>1426</td>\n",
       "      <td>1426</td>\n",
       "      <td>28</td>\n",
       "      <td>32</td>\n",
       "      <td>...</td>\n",
       "      <td>838.8372</td>\n",
       "      <td>93.204133</td>\n",
       "      <td>0.185695</td>\n",
       "      <td>0.155556</td>\n",
       "      <td>1</td>\n",
       "      <td>2014</td>\n",
       "      <td>2014-01</td>\n",
       "      <td>3_MATURITY</td>\n",
       "      <td>17.647346</td>\n",
       "      <td>3_High</td>\n",
       "    </tr>\n",
       "  </tbody>\n",
       "</table>\n",
       "<p>1300 rows × 23 columns</p>\n",
       "</div>"
      ],
      "text/plain": [
       "           product_id                                       product_name  \\\n",
       "0     FUR-BO-10000330  Sauder Camden County Barrister Bookcase, Plank...   \n",
       "1     FUR-BO-10001519            O'Sullivan 3-Shelf Heavy-Duty Bookcases   \n",
       "2     FUR-BO-10001619  O'Sullivan Cherrywood Estates Traditional Book...   \n",
       "3     FUR-BO-10001811  Atlantic Metals Mobile 5-Shelf Bookcases, Cust...   \n",
       "4     FUR-BO-10002213              DMI Eclipse Executive Suite Bookcases   \n",
       "...               ...                                                ...   \n",
       "1295  TEC-PH-10004896                         Nokia Lumia 521 (T-Mobile)   \n",
       "1296  TEC-PH-10004908                  Panasonic KX TS3282W Corded phone   \n",
       "1297  TEC-PH-10004912                  Cisco SPA112 2 Port Phone Adapter   \n",
       "1298  TEC-PH-10004922             RCA Visys Integrated PBX 8-Line Router   \n",
       "1299  TEC-PH-10004977                                        GE 30524EE4   \n",
       "\n",
       "        category subcategory product_date_first_sale product_date_last_sale  \\\n",
       "0      Furniture   Bookcases              2014-11-28             2017-05-30   \n",
       "1      Furniture   Bookcases              2015-04-16             2017-12-09   \n",
       "2      Furniture   Bookcases              2016-11-24             2017-01-21   \n",
       "3      Furniture   Bookcases              2015-03-01             2017-09-23   \n",
       "4      Furniture   Bookcases              2014-09-20             2017-06-25   \n",
       "...          ...         ...                     ...                    ...   \n",
       "1295  Technology      Phones              2014-11-19             2017-03-26   \n",
       "1296  Technology      Phones              2014-12-31             2017-11-12   \n",
       "1297  Technology      Phones              2014-07-11             2017-12-01   \n",
       "1298  Technology      Phones              2014-04-07             2017-01-20   \n",
       "1299  Technology      Phones              2014-01-06             2017-12-02   \n",
       "\n",
       "      product_selling_days_f2l  product_selling_days_f2l_l  \\\n",
       "0                          914                         914   \n",
       "1                          968                         968   \n",
       "2                           58                          58   \n",
       "3                          937                         937   \n",
       "4                         1009                        1009   \n",
       "...                        ...                         ...   \n",
       "1295                       858                         858   \n",
       "1296                      1047                        1047   \n",
       "1297                      1239                        1239   \n",
       "1298                      1019                        1019   \n",
       "1299                      1426                        1426   \n",
       "\n",
       "      days_since_last_sale  total_quantity  ...  total_profit  \\\n",
       "0                      214              10  ...       24.1960   \n",
       "1                       21              22  ...      147.0942   \n",
       "2                      343               6  ...       27.1936   \n",
       "3                       98              26  ...       15.0490   \n",
       "4                      188              27  ...       90.1764   \n",
       "...                    ...             ...  ...           ...   \n",
       "1295                   279              20  ...       83.9720   \n",
       "1296                    48              25  ...      178.4790   \n",
       "1297                    29              11  ...       87.3705   \n",
       "1298                   344              19  ...      130.6305   \n",
       "1299                    28              32  ...      838.8372   \n",
       "\n",
       "      avg_profit_per_order  avg_orders_per_month  avg_discount_per_order  \\\n",
       "0                 8.065333              0.079787                0.100000   \n",
       "1                29.418840              0.151668                0.170000   \n",
       "2                13.596800              0.149626                0.100000   \n",
       "3                 1.881125              0.231884                0.316250   \n",
       "4                15.029400              0.150376                0.183333   \n",
       "...                    ...                   ...                     ...   \n",
       "1295             16.794400              0.131926                0.160000   \n",
       "1296             25.497000              0.191781                0.228571   \n",
       "1297             29.123500              0.070978                0.133333   \n",
       "1298             26.126100              0.110051                0.120000   \n",
       "1299             93.204133              0.185695                0.155556   \n",
       "\n",
       "      first_order_month  first_order_year  first_order_year_month  \\\n",
       "0                    11              2014                 2014-11   \n",
       "1                     4              2015                 2015-04   \n",
       "2                    11              2016                 2016-11   \n",
       "3                     3              2015                 2015-03   \n",
       "4                     9              2014                 2014-09   \n",
       "...                 ...               ...                     ...   \n",
       "1295                 11              2014                 2014-11   \n",
       "1296                 12              2014                 2014-12   \n",
       "1297                  7              2014                 2014-07   \n",
       "1298                  4              2014                 2014-04   \n",
       "1299                  1              2014                 2014-01   \n",
       "\n",
       "      PLC_Category  avg_mth_profit_contribution  \\\n",
       "0       5_OBSOLETE                     0.794179   \n",
       "1       3_MATURITY                     4.558705   \n",
       "2       5_OBSOLETE                    14.065655   \n",
       "3       3_MATURITY                     0.481825   \n",
       "4       5_OBSOLETE                     2.681162   \n",
       "...            ...                          ...   \n",
       "1295    5_OBSOLETE                     2.936084   \n",
       "1296     4_DECLINE                     5.114011   \n",
       "1297    3_MATURITY                     2.115508   \n",
       "1298    5_OBSOLETE                     3.845844   \n",
       "1299    3_MATURITY                    17.647346   \n",
       "\n",
       "     avg_mth_profit_contribution_category  \n",
       "0                                   1_Low  \n",
       "1                                2_Medium  \n",
       "2                                  3_High  \n",
       "3                                   1_Low  \n",
       "4                                2_Medium  \n",
       "...                                   ...  \n",
       "1295                                1_Low  \n",
       "1296                             2_Medium  \n",
       "1297                                1_Low  \n",
       "1298                             2_Medium  \n",
       "1299                               3_High  \n",
       "\n",
       "[1300 rows x 23 columns]"
      ]
     },
     "execution_count": 34,
     "metadata": {},
     "output_type": "execute_result"
    }
   ],
   "source": [
    "df"
   ]
  },
  {
   "cell_type": "code",
   "execution_count": 35,
   "id": "0cf0e390",
   "metadata": {},
   "outputs": [],
   "source": [
    "# eliminate columns in dataframe df\n",
    "# rename 'total_profit' to 'Amount', 'count_orders' to 'Frequency', 'days_since_last_sale' to 'Recency'\n",
    "\n",
    "df = df.rename(columns={\n",
    "    'total_profit': 'Total_Profit',\n",
    "    'count_orders': 'Total_Orders',\n",
    "    'count_orders_discount': 'Orders_with_Discount',\n",
    "    'days_since_last_sale': 'Recency',\n",
    "    'total_quantity': 'Units',\n",
    "    'avg_mth_profit_contribution': 'Avg_Profit_Contribution'\n",
    "})\n",
    "\n",
    "\n",
    "# Open question: total profit is maybe not fair for more recent or expensive products, hence average profit contribution per month potentially more fair\n"
   ]
  },
  {
   "cell_type": "code",
   "execution_count": 36,
   "id": "cb24b818",
   "metadata": {},
   "outputs": [
    {
     "name": "stdout",
     "output_type": "stream",
     "text": [
      "<class 'pandas.core.frame.DataFrame'>\n",
      "RangeIndex: 1300 entries, 0 to 1299\n",
      "Data columns (total 23 columns):\n",
      " #   Column                                Non-Null Count  Dtype  \n",
      "---  ------                                --------------  -----  \n",
      " 0   product_id                            1300 non-null   object \n",
      " 1   product_name                          1300 non-null   object \n",
      " 2   category                              1300 non-null   object \n",
      " 3   subcategory                           1300 non-null   object \n",
      " 4   product_date_first_sale               1300 non-null   object \n",
      " 5   product_date_last_sale                1300 non-null   object \n",
      " 6   product_selling_days_f2l              1300 non-null   int64  \n",
      " 7   product_selling_days_f2l_l            1300 non-null   int64  \n",
      " 8   Recency                               1300 non-null   int64  \n",
      " 9   Units                                 1300 non-null   int64  \n",
      " 10  Total_Orders                          1300 non-null   int64  \n",
      " 11  Orders_with_Discount                  1300 non-null   int64  \n",
      " 12  discount_ratio                        1300 non-null   float64\n",
      " 13  Total_Profit                          1300 non-null   float64\n",
      " 14  avg_profit_per_order                  1300 non-null   float64\n",
      " 15  avg_orders_per_month                  1300 non-null   float64\n",
      " 16  avg_discount_per_order                1300 non-null   float64\n",
      " 17  first_order_month                     1300 non-null   int64  \n",
      " 18  first_order_year                      1300 non-null   int64  \n",
      " 19  first_order_year_month                1300 non-null   object \n",
      " 20  PLC_Category                          1300 non-null   object \n",
      " 21  Avg_Profit_Contribution               1300 non-null   float64\n",
      " 22  avg_mth_profit_contribution_category  1300 non-null   object \n",
      "dtypes: float64(6), int64(8), object(9)\n",
      "memory usage: 233.7+ KB\n"
     ]
    }
   ],
   "source": [
    "df.info()"
   ]
  },
  {
   "cell_type": "code",
   "execution_count": 37,
   "id": "e43e771f",
   "metadata": {},
   "outputs": [
    {
     "name": "stdout",
     "output_type": "stream",
     "text": [
      "<class 'pandas.core.frame.DataFrame'>\n",
      "RangeIndex: 1300 entries, 0 to 1299\n",
      "Data columns (total 15 columns):\n",
      " #   Column                      Non-Null Count  Dtype  \n",
      "---  ------                      --------------  -----  \n",
      " 0   product_id                  1300 non-null   object \n",
      " 1   product_selling_days_f2l    1300 non-null   int64  \n",
      " 2   product_selling_days_f2l_l  1300 non-null   int64  \n",
      " 3   Recency                     1300 non-null   int64  \n",
      " 4   Units                       1300 non-null   int64  \n",
      " 5   Total_Orders                1300 non-null   int64  \n",
      " 6   Orders_with_Discount        1300 non-null   int64  \n",
      " 7   discount_ratio              1300 non-null   float64\n",
      " 8   Total_Profit                1300 non-null   float64\n",
      " 9   avg_profit_per_order        1300 non-null   float64\n",
      " 10  avg_orders_per_month        1300 non-null   float64\n",
      " 11  avg_discount_per_order      1300 non-null   float64\n",
      " 12  first_order_month           1300 non-null   int64  \n",
      " 13  first_order_year            1300 non-null   int64  \n",
      " 14  Avg_Profit_Contribution     1300 non-null   float64\n",
      "dtypes: float64(6), int64(8), object(1)\n",
      "memory usage: 152.5+ KB\n"
     ]
    }
   ],
   "source": [
    "# Elimination of columns\n",
    "# Drop all object columns except 'product_id'\n",
    "cols_to_drop = [col for col in df.select_dtypes(include='object').columns if col != 'product_id']\n",
    "df = df.drop(columns=cols_to_drop)\n",
    "\n",
    "df.info()"
   ]
  },
  {
   "cell_type": "code",
   "execution_count": 38,
   "id": "ef8e95c7",
   "metadata": {},
   "outputs": [
    {
     "name": "stdout",
     "output_type": "stream",
     "text": [
      "<class 'pandas.core.frame.DataFrame'>\n",
      "RangeIndex: 1300 entries, 0 to 1299\n",
      "Data columns (total 13 columns):\n",
      " #   Column                      Non-Null Count  Dtype  \n",
      "---  ------                      --------------  -----  \n",
      " 0   product_id                  1300 non-null   object \n",
      " 1   product_selling_days_f2l    1300 non-null   int64  \n",
      " 2   product_selling_days_f2l_l  1300 non-null   int64  \n",
      " 3   Recency                     1300 non-null   int64  \n",
      " 4   Units                       1300 non-null   int64  \n",
      " 5   Total_Orders                1300 non-null   int64  \n",
      " 6   Orders_with_Discount        1300 non-null   int64  \n",
      " 7   discount_ratio              1300 non-null   float64\n",
      " 8   Total_Profit                1300 non-null   float64\n",
      " 9   avg_profit_per_order        1300 non-null   float64\n",
      " 10  avg_orders_per_month        1300 non-null   float64\n",
      " 11  avg_discount_per_order      1300 non-null   float64\n",
      " 12  Avg_Profit_Contribution     1300 non-null   float64\n",
      "dtypes: float64(6), int64(6), object(1)\n",
      "memory usage: 132.2+ KB\n"
     ]
    }
   ],
   "source": [
    "# drop first_order_month and first_order_year\n",
    "df = df.drop(columns=['first_order_month', 'first_order_year'])\n",
    "\n",
    "df.info()"
   ]
  },
  {
   "cell_type": "markdown",
   "id": "019e19b4",
   "metadata": {},
   "source": [
    "## Feature selection |  Principle Component Analysis (PCA)"
   ]
  },
  {
   "cell_type": "code",
   "execution_count": 39,
   "id": "9c91c8d8",
   "metadata": {},
   "outputs": [
    {
     "name": "stdout",
     "output_type": "stream",
     "text": [
      "Explained variance ratio by principal components:\n",
      "[3.23713164e-01 2.37146363e-01 1.65934559e-01 1.34976993e-01\n",
      " 7.62641613e-02 1.94625391e-02 1.60510922e-02 9.69521995e-03\n",
      " 8.01570272e-03 5.19113597e-03 3.54906927e-03 2.38703188e-34]\n",
      "\n",
      "Feature contributions to the first principal component:\n",
      "Orders_with_Discount          0.439228\n",
      "Total_Orders                  0.428109\n",
      "Units                         0.397576\n",
      "product_selling_days_f2l_l    0.359125\n",
      "product_selling_days_f2l      0.359125\n",
      "avg_discount_per_order        0.290975\n",
      "discount_ratio                0.262957\n",
      "avg_orders_per_month          0.121142\n",
      "Total_Profit                  0.005241\n",
      "avg_profit_per_order         -0.054607\n",
      "Avg_Profit_Contribution      -0.064268\n",
      "Recency                      -0.179347\n",
      "Name: PC1, dtype: float64\n"
     ]
    },
    {
     "data": {
      "image/png": "[encoded data removed]",
      "text/plain": [
       "<Figure size 1000x600 with 1 Axes>"
      ]
     },
     "metadata": {},
     "output_type": "display_data"
    },
    {
     "data": {
      "image/png": "[encoded data removed]",
      "text/plain": [
       "<Figure size 1000x600 with 1 Axes>"
      ]
     },
     "metadata": {},
     "output_type": "display_data"
    },
    {
     "name": "stdout",
     "output_type": "stream",
     "text": [
      "\n",
      "Top 10 important features for clustering based on PCA:\n",
      "['Orders_with_Discount', 'Total_Orders', 'Units', 'product_selling_days_f2l_l', 'product_selling_days_f2l', 'avg_discount_per_order', 'discount_ratio', 'Recency', 'avg_orders_per_month', 'Avg_Profit_Contribution']\n"
     ]
    },
    {
     "name": "stderr",
     "output_type": "stream",
     "text": [
      "c:\\Users\\MP_Laptop\\anaconda3\\envs\\EDA_Marc\\lib\\site-packages\\sklearn\\cluster\\_kmeans.py:870: FutureWarning:\n",
      "\n",
      "The default value of `n_init` will change from 10 to 'auto' in 1.4. Set the value of `n_init` explicitly to suppress the warning\n",
      "\n",
      "c:\\Users\\MP_Laptop\\anaconda3\\envs\\EDA_Marc\\lib\\site-packages\\sklearn\\cluster\\_kmeans.py:1382: UserWarning:\n",
      "\n",
      "KMeans is known to have a memory leak on Windows with MKL, when there are less chunks than available threads. You can avoid it by setting the environment variable OMP_NUM_THREADS=6.\n",
      "\n"
     ]
    },
    {
     "data": {
      "image/png": "[encoded data removed]",
      "text/plain": [
       "<Figure size 1000x600 with 1 Axes>"
      ]
     },
     "metadata": {},
     "output_type": "display_data"
    }
   ],
   "source": [
    "# Use Principal Component Analysis (PCA) to evaluate feature importance for clustering\n",
    "\n",
    "from sklearn.decomposition import PCA\n",
    "\n",
    "# Select only numeric columns for PCA\n",
    "numeric_df = df.select_dtypes(include=[np.number])\n",
    "\n",
    "# Standardize the data before PCA\n",
    "from sklearn.preprocessing import StandardScaler\n",
    "scaler = StandardScaler()\n",
    "numeric_df_scaled = scaler.fit_transform(numeric_df)\n",
    "\n",
    "# Fit PCA\n",
    "pca = PCA()\n",
    "pca.fit(numeric_df_scaled)\n",
    "\n",
    "# Display explained variance ratio and feature contributions (loadings)\n",
    "explained_variance = pca.explained_variance_ratio_\n",
    "loadings = pd.DataFrame(\n",
    "    pca.components_.T,\n",
    "    columns=[f'PC{i+1}' for i in range(len(numeric_df.columns))],\n",
    "    index=numeric_df.columns\n",
    ")\n",
    "\n",
    "print(\"Explained variance ratio by principal components:\")\n",
    "print(explained_variance)\n",
    "print(\"\\nFeature contributions to the first principal component:\")\n",
    "print(loadings['PC1'].sort_values(ascending=False))\n",
    "\n",
    "# Visualize the explained variance ratio\n",
    "import matplotlib.pyplot as plt\n",
    "plt.figure(figsize=(10, 6))\n",
    "plt.bar(range(1, len(explained_variance) + 1), explained_variance, alpha=0.7)\n",
    "plt.xlabel('Principal Component')\n",
    "plt.ylabel('Explained Variance Ratio')\n",
    "plt.title('Explained Variance Ratio by Principal Component')\n",
    "plt.xticks(range(1, len(explained_variance) + 1))\n",
    "plt.grid()\n",
    "plt.show()\n",
    "# Visualize the loadings of the first two principal components\n",
    "plt.figure(figsize=(10, 6))\n",
    "plt.barh(loadings.index, loadings['PC1'], alpha=0.7)\n",
    "plt.xlabel('Loading on PC1')\n",
    "plt.title('Feature Loadings on First Principal Component')\n",
    "plt.grid()\n",
    "plt.show()\n",
    "# Use the explained variance ratio and loadings to identify important features for clustering\n",
    "# Features with high loadings on the first few principal components are likely to be important for clustering\n",
    "# Select features with high loadings on the first principal component\n",
    "important_features = loadings['PC1'].abs().nlargest(10).index.tolist()\n",
    "print(\"\\nTop 10 important features for clustering based on PCA:\")\n",
    "print(important_features)\n",
    "# Use the important features for clustering\n",
    "from sklearn.cluster import KMeans\n",
    "# Fit KMeans clustering using the important features\n",
    "kmeans = KMeans(n_clusters=3, random_state=42)\n",
    "kmeans.fit(numeric_df[important_features])\n",
    "# Add cluster labels to the original dataframe\n",
    "df['Cluster'] = kmeans.labels_\n",
    "# Visualize the clusters\n",
    "plt.figure(figsize=(10, 6))\n",
    "plt.scatter(df[important_features[0]], df[important_features[1]], c=df['Cluster'], cmap='viridis', alpha=0.7)\n",
    "plt.xlabel(important_features[0])\n",
    "plt.ylabel(important_features[1])\n",
    "plt.title('KMeans Clustering on Important Features')\n",
    "plt.legend(*plt.gca().get_legend_handles_labels(), title=\"Cluster\")\n",
    "plt.grid()\n",
    "plt.show()\n"
   ]
  },
  {
   "cell_type": "code",
   "execution_count": 40,
   "id": "3bec458d",
   "metadata": {},
   "outputs": [
    {
     "data": {
      "image/png": "[encoded data removed]",
      "text/plain": [
       "<Figure size 1200x800 with 2 Axes>"
      ]
     },
     "metadata": {},
     "output_type": "display_data"
    }
   ],
   "source": [
    "import seaborn as sns\n",
    "\n",
    "# Compute and display the correlation matrix for df\n",
    "import matplotlib.pyplot as plt\n",
    "\n",
    "# Compute correlation matrix\n",
    "corr_matrix = df.corr(numeric_only=True)\n",
    "\n",
    "# Mask for the upper triangle\n",
    "mask = np.triu(np.ones_like(corr_matrix, dtype=bool))\n",
    "\n",
    "plt.figure(figsize=(12, 8))\n",
    "sns.heatmap(corr_matrix, mask=mask, annot=True, cmap='coolwarm', fmt=\".2f\", square=True)\n",
    "plt.title(\"Correlation Matrix (Lower Triangle)\")\n",
    "plt.show()"
   ]
  },
  {
   "cell_type": "code",
   "execution_count": 41,
   "id": "877abea9",
   "metadata": {},
   "outputs": [
    {
     "data": {
      "application/vnd.microsoft.datawrangler.viewer.v0+json": {
       "columns": [
        {
         "name": "index",
         "rawType": "int64",
         "type": "integer"
        },
        {
         "name": "product_id",
         "rawType": "object",
         "type": "string"
        },
        {
         "name": "Total_Orders",
         "rawType": "int64",
         "type": "integer"
        },
        {
         "name": "Orders_with_Discount",
         "rawType": "int64",
         "type": "integer"
        },
        {
         "name": "Units",
         "rawType": "int64",
         "type": "integer"
        }
       ],
       "ref": "54e57473-94e4-4f2f-959b-1286e48b4913",
       "rows": [
        [
         "0",
         "FUR-BO-10000330",
         "3",
         "2",
         "10"
        ],
        [
         "1",
         "FUR-BO-10001519",
         "5",
         "3",
         "22"
        ],
        [
         "2",
         "FUR-BO-10001619",
         "2",
         "1",
         "6"
        ],
        [
         "3",
         "FUR-BO-10001811",
         "8",
         "8",
         "26"
        ],
        [
         "4",
         "FUR-BO-10002213",
         "6",
         "6",
         "27"
        ],
        [
         "5",
         "FUR-BO-10002545",
         "8",
         "5",
         "35"
        ],
        [
         "6",
         "FUR-BO-10002598",
         "5",
         "1",
         "19"
        ],
        [
         "7",
         "FUR-BO-10002824",
         "3",
         "2",
         "6"
        ],
        [
         "8",
         "FUR-BO-10003404",
         "2",
         "0",
         "8"
        ],
        [
         "9",
         "FUR-BO-10003441",
         "6",
         "5",
         "18"
        ],
        [
         "10",
         "FUR-BO-10003660",
         "3",
         "1",
         "4"
        ],
        [
         "11",
         "FUR-BO-10003894",
         "3",
         "3",
         "14"
        ],
        [
         "12",
         "FUR-BO-10004015",
         "9",
         "7",
         "34"
        ],
        [
         "13",
         "FUR-BO-10004695",
         "7",
         "4",
         "31"
        ],
        [
         "14",
         "FUR-CH-10000015",
         "6",
         "3",
         "36"
        ],
        [
         "15",
         "FUR-CH-10000155",
         "6",
         "5",
         "14"
        ],
        [
         "16",
         "FUR-CH-10000309",
         "5",
         "3",
         "17"
        ],
        [
         "17",
         "FUR-CH-10000422",
         "9",
         "6",
         "34"
        ],
        [
         "18",
         "FUR-CH-10000454",
         "12",
         "8",
         "51"
        ],
        [
         "19",
         "FUR-CH-10000553",
         "5",
         "3",
         "23"
        ],
        [
         "20",
         "FUR-CH-10000595",
         "8",
         "6",
         "27"
        ],
        [
         "21",
         "FUR-CH-10000665",
         "9",
         "7",
         "32"
        ],
        [
         "22",
         "FUR-CH-10000749",
         "2",
         "1",
         "13"
        ],
        [
         "23",
         "FUR-CH-10000785",
         "11",
         "7",
         "39"
        ],
        [
         "24",
         "FUR-CH-10000847",
         "6",
         "3",
         "18"
        ],
        [
         "25",
         "FUR-CH-10000988",
         "10",
         "8",
         "44"
        ],
        [
         "26",
         "FUR-CH-10001147",
         "10",
         "7",
         "39"
        ],
        [
         "27",
         "FUR-CH-10001215",
         "9",
         "9",
         "32"
        ],
        [
         "28",
         "FUR-CH-10001270",
         "8",
         "5",
         "34"
        ],
        [
         "29",
         "FUR-CH-10001394",
         "7",
         "7",
         "21"
        ],
        [
         "30",
         "FUR-CH-10001708",
         "7",
         "6",
         "32"
        ],
        [
         "31",
         "FUR-CH-10001797",
         "4",
         "3",
         "26"
        ],
        [
         "32",
         "FUR-CH-10001802",
         "3",
         "3",
         "10"
        ],
        [
         "33",
         "FUR-CH-10001854",
         "8",
         "4",
         "28"
        ],
        [
         "34",
         "FUR-CH-10001891",
         "6",
         "4",
         "17"
        ],
        [
         "35",
         "FUR-CH-10002017",
         "5",
         "4",
         "12"
        ],
        [
         "36",
         "FUR-CH-10002024",
         "8",
         "7",
         "39"
        ],
        [
         "37",
         "FUR-CH-10002073",
         "4",
         "2",
         "22"
        ],
        [
         "38",
         "FUR-CH-10002084",
         "5",
         "2",
         "23"
        ],
        [
         "39",
         "FUR-CH-10002304",
         "7",
         "5",
         "44"
        ],
        [
         "40",
         "FUR-CH-10002317",
         "1",
         "1",
         "1"
        ],
        [
         "41",
         "FUR-CH-10002320",
         "4",
         "2",
         "22"
        ],
        [
         "42",
         "FUR-CH-10002331",
         "6",
         "4",
         "24"
        ],
        [
         "43",
         "FUR-CH-10002335",
         "9",
         "6",
         "34"
        ],
        [
         "44",
         "FUR-CH-10002439",
         "6",
         "4",
         "31"
        ],
        [
         "45",
         "FUR-CH-10002602",
         "11",
         "10",
         "37"
        ],
        [
         "46",
         "FUR-CH-10002647",
         "15",
         "12",
         "64"
        ],
        [
         "47",
         "FUR-CH-10002774",
         "7",
         "7",
         "19"
        ],
        [
         "48",
         "FUR-CH-10002780",
         "2",
         "2",
         "8"
        ],
        [
         "49",
         "FUR-CH-10002961",
         "6",
         "6",
         "19"
        ]
       ],
       "shape": {
        "columns": 4,
        "rows": 1300
       }
      },
      "text/html": [
       "<div>\n",
       "<style scoped>\n",
       "    .dataframe tbody tr th:only-of-type {\n",
       "        vertical-align: middle;\n",
       "    }\n",
       "\n",
       "    .dataframe tbody tr th {\n",
       "        vertical-align: top;\n",
       "    }\n",
       "\n",
       "    .dataframe thead th {\n",
       "        text-align: right;\n",
       "    }\n",
       "</style>\n",
       "<table border=\"1\" class=\"dataframe\">\n",
       "  <thead>\n",
       "    <tr style=\"text-align: right;\">\n",
       "      <th></th>\n",
       "      <th>product_id</th>\n",
       "      <th>Total_Orders</th>\n",
       "      <th>Orders_with_Discount</th>\n",
       "      <th>Units</th>\n",
       "    </tr>\n",
       "  </thead>\n",
       "  <tbody>\n",
       "    <tr>\n",
       "      <th>0</th>\n",
       "      <td>FUR-BO-10000330</td>\n",
       "      <td>3</td>\n",
       "      <td>2</td>\n",
       "      <td>10</td>\n",
       "    </tr>\n",
       "    <tr>\n",
       "      <th>1</th>\n",
       "      <td>FUR-BO-10001519</td>\n",
       "      <td>5</td>\n",
       "      <td>3</td>\n",
       "      <td>22</td>\n",
       "    </tr>\n",
       "    <tr>\n",
       "      <th>2</th>\n",
       "      <td>FUR-BO-10001619</td>\n",
       "      <td>2</td>\n",
       "      <td>1</td>\n",
       "      <td>6</td>\n",
       "    </tr>\n",
       "    <tr>\n",
       "      <th>3</th>\n",
       "      <td>FUR-BO-10001811</td>\n",
       "      <td>8</td>\n",
       "      <td>8</td>\n",
       "      <td>26</td>\n",
       "    </tr>\n",
       "    <tr>\n",
       "      <th>4</th>\n",
       "      <td>FUR-BO-10002213</td>\n",
       "      <td>6</td>\n",
       "      <td>6</td>\n",
       "      <td>27</td>\n",
       "    </tr>\n",
       "    <tr>\n",
       "      <th>...</th>\n",
       "      <td>...</td>\n",
       "      <td>...</td>\n",
       "      <td>...</td>\n",
       "      <td>...</td>\n",
       "    </tr>\n",
       "    <tr>\n",
       "      <th>1295</th>\n",
       "      <td>TEC-PH-10004896</td>\n",
       "      <td>5</td>\n",
       "      <td>3</td>\n",
       "      <td>20</td>\n",
       "    </tr>\n",
       "    <tr>\n",
       "      <th>1296</th>\n",
       "      <td>TEC-PH-10004908</td>\n",
       "      <td>7</td>\n",
       "      <td>7</td>\n",
       "      <td>25</td>\n",
       "    </tr>\n",
       "    <tr>\n",
       "      <th>1297</th>\n",
       "      <td>TEC-PH-10004912</td>\n",
       "      <td>3</td>\n",
       "      <td>2</td>\n",
       "      <td>11</td>\n",
       "    </tr>\n",
       "    <tr>\n",
       "      <th>1298</th>\n",
       "      <td>TEC-PH-10004922</td>\n",
       "      <td>5</td>\n",
       "      <td>3</td>\n",
       "      <td>19</td>\n",
       "    </tr>\n",
       "    <tr>\n",
       "      <th>1299</th>\n",
       "      <td>TEC-PH-10004977</td>\n",
       "      <td>9</td>\n",
       "      <td>6</td>\n",
       "      <td>32</td>\n",
       "    </tr>\n",
       "  </tbody>\n",
       "</table>\n",
       "<p>1300 rows × 4 columns</p>\n",
       "</div>"
      ],
      "text/plain": [
       "           product_id  Total_Orders  Orders_with_Discount  Units\n",
       "0     FUR-BO-10000330             3                     2     10\n",
       "1     FUR-BO-10001519             5                     3     22\n",
       "2     FUR-BO-10001619             2                     1      6\n",
       "3     FUR-BO-10001811             8                     8     26\n",
       "4     FUR-BO-10002213             6                     6     27\n",
       "...               ...           ...                   ...    ...\n",
       "1295  TEC-PH-10004896             5                     3     20\n",
       "1296  TEC-PH-10004908             7                     7     25\n",
       "1297  TEC-PH-10004912             3                     2     11\n",
       "1298  TEC-PH-10004922             5                     3     19\n",
       "1299  TEC-PH-10004977             9                     6     32\n",
       "\n",
       "[1300 rows x 4 columns]"
      ]
     },
     "execution_count": 41,
     "metadata": {},
     "output_type": "execute_result"
    }
   ],
   "source": [
    "df = df[['product_id', 'Total_Orders', 'Orders_with_Discount', 'Units']]\n",
    "\n",
    "df"
   ]
  },
  {
   "cell_type": "markdown",
   "id": "fa76e177",
   "metadata": {},
   "source": [
    "Outlier treatment"
   ]
  },
  {
   "cell_type": "code",
   "execution_count": 42,
   "id": "d6825deb",
   "metadata": {},
   "outputs": [
    {
     "data": {
      "application/vnd.microsoft.datawrangler.viewer.v0+json": {
       "columns": [
        {
         "name": "index",
         "rawType": "int64",
         "type": "integer"
        },
        {
         "name": "product_id",
         "rawType": "object",
         "type": "string"
        },
        {
         "name": "Total_Orders",
         "rawType": "int64",
         "type": "integer"
        },
        {
         "name": "Orders_with_Discount",
         "rawType": "int64",
         "type": "integer"
        },
        {
         "name": "Units",
         "rawType": "int64",
         "type": "integer"
        }
       ],
       "ref": "1fd6f5dd-b024-4a8b-9e44-040f9eb9cbec",
       "rows": [
        [
         "0",
         "FUR-BO-10000330",
         "3",
         "2",
         "10"
        ],
        [
         "1",
         "FUR-BO-10001519",
         "5",
         "3",
         "22"
        ],
        [
         "2",
         "FUR-BO-10001619",
         "2",
         "1",
         "6"
        ],
        [
         "3",
         "FUR-BO-10001811",
         "8",
         "8",
         "26"
        ],
        [
         "4",
         "FUR-BO-10002213",
         "6",
         "6",
         "27"
        ],
        [
         "5",
         "FUR-BO-10002545",
         "8",
         "5",
         "35"
        ],
        [
         "6",
         "FUR-BO-10002598",
         "5",
         "1",
         "19"
        ],
        [
         "7",
         "FUR-BO-10002824",
         "3",
         "2",
         "6"
        ],
        [
         "8",
         "FUR-BO-10003404",
         "2",
         "0",
         "8"
        ],
        [
         "9",
         "FUR-BO-10003441",
         "6",
         "5",
         "18"
        ],
        [
         "10",
         "FUR-BO-10003660",
         "3",
         "1",
         "4"
        ],
        [
         "11",
         "FUR-BO-10003894",
         "3",
         "3",
         "14"
        ],
        [
         "12",
         "FUR-BO-10004015",
         "9",
         "7",
         "34"
        ],
        [
         "13",
         "FUR-BO-10004695",
         "7",
         "4",
         "31"
        ],
        [
         "14",
         "FUR-CH-10000015",
         "6",
         "3",
         "36"
        ],
        [
         "15",
         "FUR-CH-10000155",
         "6",
         "5",
         "14"
        ],
        [
         "16",
         "FUR-CH-10000309",
         "5",
         "3",
         "17"
        ],
        [
         "17",
         "FUR-CH-10000422",
         "9",
         "6",
         "34"
        ],
        [
         "18",
         "FUR-CH-10000553",
         "5",
         "3",
         "23"
        ],
        [
         "19",
         "FUR-CH-10000595",
         "8",
         "6",
         "27"
        ],
        [
         "20",
         "FUR-CH-10000665",
         "9",
         "7",
         "32"
        ],
        [
         "21",
         "FUR-CH-10000749",
         "2",
         "1",
         "13"
        ],
        [
         "22",
         "FUR-CH-10000785",
         "11",
         "7",
         "39"
        ],
        [
         "23",
         "FUR-CH-10000847",
         "6",
         "3",
         "18"
        ],
        [
         "24",
         "FUR-CH-10000988",
         "10",
         "8",
         "44"
        ],
        [
         "25",
         "FUR-CH-10001147",
         "10",
         "7",
         "39"
        ],
        [
         "26",
         "FUR-CH-10001270",
         "8",
         "5",
         "34"
        ],
        [
         "27",
         "FUR-CH-10001394",
         "7",
         "7",
         "21"
        ],
        [
         "28",
         "FUR-CH-10001708",
         "7",
         "6",
         "32"
        ],
        [
         "29",
         "FUR-CH-10001797",
         "4",
         "3",
         "26"
        ],
        [
         "30",
         "FUR-CH-10001802",
         "3",
         "3",
         "10"
        ],
        [
         "31",
         "FUR-CH-10001854",
         "8",
         "4",
         "28"
        ],
        [
         "32",
         "FUR-CH-10001891",
         "6",
         "4",
         "17"
        ],
        [
         "33",
         "FUR-CH-10002017",
         "5",
         "4",
         "12"
        ],
        [
         "34",
         "FUR-CH-10002024",
         "8",
         "7",
         "39"
        ],
        [
         "35",
         "FUR-CH-10002073",
         "4",
         "2",
         "22"
        ],
        [
         "36",
         "FUR-CH-10002084",
         "5",
         "2",
         "23"
        ],
        [
         "37",
         "FUR-CH-10002304",
         "7",
         "5",
         "44"
        ],
        [
         "38",
         "FUR-CH-10002317",
         "1",
         "1",
         "1"
        ],
        [
         "39",
         "FUR-CH-10002320",
         "4",
         "2",
         "22"
        ],
        [
         "40",
         "FUR-CH-10002331",
         "6",
         "4",
         "24"
        ],
        [
         "41",
         "FUR-CH-10002335",
         "9",
         "6",
         "34"
        ],
        [
         "42",
         "FUR-CH-10002439",
         "6",
         "4",
         "31"
        ],
        [
         "43",
         "FUR-CH-10002774",
         "7",
         "7",
         "19"
        ],
        [
         "44",
         "FUR-CH-10002780",
         "2",
         "2",
         "8"
        ],
        [
         "45",
         "FUR-CH-10002961",
         "6",
         "6",
         "19"
        ],
        [
         "46",
         "FUR-CH-10003061",
         "8",
         "6",
         "19"
        ],
        [
         "47",
         "FUR-CH-10003199",
         "6",
         "5",
         "20"
        ],
        [
         "48",
         "FUR-CH-10003379",
         "9",
         "6",
         "33"
        ],
        [
         "49",
         "FUR-CH-10003606",
         "3",
         "2",
         "6"
        ]
       ],
       "shape": {
        "columns": 4,
        "rows": 1248
       }
      },
      "text/html": [
       "<div>\n",
       "<style scoped>\n",
       "    .dataframe tbody tr th:only-of-type {\n",
       "        vertical-align: middle;\n",
       "    }\n",
       "\n",
       "    .dataframe tbody tr th {\n",
       "        vertical-align: top;\n",
       "    }\n",
       "\n",
       "    .dataframe thead th {\n",
       "        text-align: right;\n",
       "    }\n",
       "</style>\n",
       "<table border=\"1\" class=\"dataframe\">\n",
       "  <thead>\n",
       "    <tr style=\"text-align: right;\">\n",
       "      <th></th>\n",
       "      <th>product_id</th>\n",
       "      <th>Total_Orders</th>\n",
       "      <th>Orders_with_Discount</th>\n",
       "      <th>Units</th>\n",
       "    </tr>\n",
       "  </thead>\n",
       "  <tbody>\n",
       "    <tr>\n",
       "      <th>0</th>\n",
       "      <td>FUR-BO-10000330</td>\n",
       "      <td>3</td>\n",
       "      <td>2</td>\n",
       "      <td>10</td>\n",
       "    </tr>\n",
       "    <tr>\n",
       "      <th>1</th>\n",
       "      <td>FUR-BO-10001519</td>\n",
       "      <td>5</td>\n",
       "      <td>3</td>\n",
       "      <td>22</td>\n",
       "    </tr>\n",
       "    <tr>\n",
       "      <th>2</th>\n",
       "      <td>FUR-BO-10001619</td>\n",
       "      <td>2</td>\n",
       "      <td>1</td>\n",
       "      <td>6</td>\n",
       "    </tr>\n",
       "    <tr>\n",
       "      <th>3</th>\n",
       "      <td>FUR-BO-10001811</td>\n",
       "      <td>8</td>\n",
       "      <td>8</td>\n",
       "      <td>26</td>\n",
       "    </tr>\n",
       "    <tr>\n",
       "      <th>4</th>\n",
       "      <td>FUR-BO-10002213</td>\n",
       "      <td>6</td>\n",
       "      <td>6</td>\n",
       "      <td>27</td>\n",
       "    </tr>\n",
       "    <tr>\n",
       "      <th>...</th>\n",
       "      <td>...</td>\n",
       "      <td>...</td>\n",
       "      <td>...</td>\n",
       "      <td>...</td>\n",
       "    </tr>\n",
       "    <tr>\n",
       "      <th>1243</th>\n",
       "      <td>TEC-PH-10004896</td>\n",
       "      <td>5</td>\n",
       "      <td>3</td>\n",
       "      <td>20</td>\n",
       "    </tr>\n",
       "    <tr>\n",
       "      <th>1244</th>\n",
       "      <td>TEC-PH-10004908</td>\n",
       "      <td>7</td>\n",
       "      <td>7</td>\n",
       "      <td>25</td>\n",
       "    </tr>\n",
       "    <tr>\n",
       "      <th>1245</th>\n",
       "      <td>TEC-PH-10004912</td>\n",
       "      <td>3</td>\n",
       "      <td>2</td>\n",
       "      <td>11</td>\n",
       "    </tr>\n",
       "    <tr>\n",
       "      <th>1246</th>\n",
       "      <td>TEC-PH-10004922</td>\n",
       "      <td>5</td>\n",
       "      <td>3</td>\n",
       "      <td>19</td>\n",
       "    </tr>\n",
       "    <tr>\n",
       "      <th>1247</th>\n",
       "      <td>TEC-PH-10004977</td>\n",
       "      <td>9</td>\n",
       "      <td>6</td>\n",
       "      <td>32</td>\n",
       "    </tr>\n",
       "  </tbody>\n",
       "</table>\n",
       "<p>1248 rows × 4 columns</p>\n",
       "</div>"
      ],
      "text/plain": [
       "           product_id  Total_Orders  Orders_with_Discount  Units\n",
       "0     FUR-BO-10000330             3                     2     10\n",
       "1     FUR-BO-10001519             5                     3     22\n",
       "2     FUR-BO-10001619             2                     1      6\n",
       "3     FUR-BO-10001811             8                     8     26\n",
       "4     FUR-BO-10002213             6                     6     27\n",
       "...               ...           ...                   ...    ...\n",
       "1243  TEC-PH-10004896             5                     3     20\n",
       "1244  TEC-PH-10004908             7                     7     25\n",
       "1245  TEC-PH-10004912             3                     2     11\n",
       "1246  TEC-PH-10004922             5                     3     19\n",
       "1247  TEC-PH-10004977             9                     6     32\n",
       "\n",
       "[1248 rows x 4 columns]"
      ]
     },
     "execution_count": 42,
     "metadata": {},
     "output_type": "execute_result"
    }
   ],
   "source": [
    "# copy from wine or bike data set or Copilot (1.5 IQR)\n",
    "# Outlier treatment using 1.5*IQR rule for each numerical column\n",
    "numeric_cols = df.select_dtypes(include=[np.number]).columns\n",
    "\n",
    "for col in numeric_cols:\n",
    "    Q1 = df[col].quantile(0.25)\n",
    "    Q3 = df[col].quantile(0.75)\n",
    "    IQR = Q3 - Q1\n",
    "    lower_bound = Q1 - 1.5 * IQR\n",
    "    upper_bound = Q3 + 1.5 * IQR\n",
    "    df = df[(df[col] >= lower_bound) & (df[col] <= upper_bound)]\n",
    "\n",
    "df.reset_index(drop=True, inplace=True)\n",
    "\n",
    "df\n",
    "\n",
    "# Comment: Takes out 857 rows out of 1894 rows (~45% of the data), if applied with all numerical columns still included\n",
    "# Comment: Takes out 473 rows out of 1894 rows (~25% of the data), if applied with all numerical columns still included\n"
   ]
  },
  {
   "cell_type": "markdown",
   "id": "9092a79b",
   "metadata": {},
   "source": [
    "Attention : Limit to less columns first, and the IQR -> Anticipated effect: less records deleted."
   ]
  },
  {
   "cell_type": "markdown",
   "id": "18cc1aa4",
   "metadata": {},
   "source": [
    "Scaling"
   ]
  },
  {
   "cell_type": "code",
   "execution_count": 43,
   "id": "42107b82",
   "metadata": {},
   "outputs": [
    {
     "data": {
      "application/vnd.microsoft.datawrangler.viewer.v0+json": {
       "columns": [
        {
         "name": "index",
         "rawType": "int64",
         "type": "integer"
        },
        {
         "name": "Total_Orders",
         "rawType": "float64",
         "type": "float"
        },
        {
         "name": "Orders_with_Discount",
         "rawType": "float64",
         "type": "float"
        },
        {
         "name": "Units",
         "rawType": "float64",
         "type": "float"
        }
       ],
       "ref": "b34adb63-643d-48d5-ba8d-8172b982e3a8",
       "rows": [
        [
         "0",
         "-1.154259963273814",
         "-0.32145700176609115",
         "-1.1383705545945653"
        ],
        [
         "1",
         "-0.22907278654567015",
         "0.23189243023953882",
         "0.13151677692187472"
        ],
        [
         "2",
         "-1.616853551637886",
         "-0.8748064337717212",
         "-1.561666331766712"
        ],
        [
         "3",
         "1.1587079785465457",
         "2.998639590267689",
         "0.5548125540940214"
        ],
        [
         "4",
         "0.2335208018184018",
         "1.8919407262564287",
         "0.6606364983870581"
        ]
       ],
       "shape": {
        "columns": 3,
        "rows": 5
       }
      },
      "text/html": [
       "<div>\n",
       "<style scoped>\n",
       "    .dataframe tbody tr th:only-of-type {\n",
       "        vertical-align: middle;\n",
       "    }\n",
       "\n",
       "    .dataframe tbody tr th {\n",
       "        vertical-align: top;\n",
       "    }\n",
       "\n",
       "    .dataframe thead th {\n",
       "        text-align: right;\n",
       "    }\n",
       "</style>\n",
       "<table border=\"1\" class=\"dataframe\">\n",
       "  <thead>\n",
       "    <tr style=\"text-align: right;\">\n",
       "      <th></th>\n",
       "      <th>Total_Orders</th>\n",
       "      <th>Orders_with_Discount</th>\n",
       "      <th>Units</th>\n",
       "    </tr>\n",
       "  </thead>\n",
       "  <tbody>\n",
       "    <tr>\n",
       "      <th>0</th>\n",
       "      <td>-1.154260</td>\n",
       "      <td>-0.321457</td>\n",
       "      <td>-1.138371</td>\n",
       "    </tr>\n",
       "    <tr>\n",
       "      <th>1</th>\n",
       "      <td>-0.229073</td>\n",
       "      <td>0.231892</td>\n",
       "      <td>0.131517</td>\n",
       "    </tr>\n",
       "    <tr>\n",
       "      <th>2</th>\n",
       "      <td>-1.616854</td>\n",
       "      <td>-0.874806</td>\n",
       "      <td>-1.561666</td>\n",
       "    </tr>\n",
       "    <tr>\n",
       "      <th>3</th>\n",
       "      <td>1.158708</td>\n",
       "      <td>2.998640</td>\n",
       "      <td>0.554813</td>\n",
       "    </tr>\n",
       "    <tr>\n",
       "      <th>4</th>\n",
       "      <td>0.233521</td>\n",
       "      <td>1.891941</td>\n",
       "      <td>0.660636</td>\n",
       "    </tr>\n",
       "  </tbody>\n",
       "</table>\n",
       "</div>"
      ],
      "text/plain": [
       "   Total_Orders  Orders_with_Discount     Units\n",
       "0     -1.154260             -0.321457 -1.138371\n",
       "1     -0.229073              0.231892  0.131517\n",
       "2     -1.616854             -0.874806 -1.561666\n",
       "3      1.158708              2.998640  0.554813\n",
       "4      0.233521              1.891941  0.660636"
      ]
     },
     "execution_count": 43,
     "metadata": {},
     "output_type": "execute_result"
    }
   ],
   "source": [
    "from sklearn.preprocessing import StandardScaler\n",
    "\n",
    "# Rescaling the attributes\n",
    "rfm_df = df[['Total_Orders', 'Orders_with_Discount', 'Units']]\n",
    "\n",
    "# Instantiate\n",
    "scaler = StandardScaler()\n",
    "\n",
    "# fit_transform\n",
    "rfm_df_scaled = scaler.fit_transform(rfm_df)\n",
    "rfm_df_scaled.shape\n",
    "\n",
    "rfm_df_scaled = pd.DataFrame(rfm_df_scaled)\n",
    "rfm_df_scaled.columns = ['Total_Orders', 'Orders_with_Discount', 'Units']\n",
    "rfm_df_scaled.head()\n"
   ]
  },
  {
   "cell_type": "markdown",
   "id": "1521626a",
   "metadata": {},
   "source": [
    "## Dimensional Visualizations\n",
    "\n",
    "Inspect your data and consider outlier removal and standardization/normalization."
   ]
  },
  {
   "cell_type": "code",
   "execution_count": 44,
   "id": "c60fd5d8",
   "metadata": {},
   "outputs": [
    {
     "data": {
      "application/vnd.plotly.v1+json": {
       "config": {
        "plotlyServerURL": "https://plot.ly"
       },
       "data": [
        {
         "mode": "markers",
         "type": "scatter",
         "x": {
          "bdata": "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",
          "dtype": "f8"
         },
         "xaxis": "x",
         "y": {
          "bdata": "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",
          "dtype": "f8"
         },
         "yaxis": "y"
        },
        {
         "mode": "markers",
         "type": "scatter",
         "x": {
          "bdata": "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",
          "dtype": "f8"
         },
         "xaxis": "x2",
         "y": {
          "bdata": "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",
          "dtype": "f8"
         },
         "yaxis": "y2"
        },
        {
         "mode": "markers",
         "type": "scatter",
         "x": {
          "bdata": "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",
          "dtype": "f8"
         },
         "xaxis": "x3",
         "y": {
          "bdata": "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",
          "dtype": "f8"
         },
         "yaxis": "y3"
        }
       ],
       "layout": {
        "template": {
         "data": {
          "bar": [
           {
            "error_x": {
             "color": "#2a3f5f"
            },
            "error_y": {
             "color": "#2a3f5f"
            },
            "marker": {
             "line": {
              "color": "#E5ECF6",
              "width": 0.5
             },
             "pattern": {
              "fillmode": "overlay",
              "size": 10,
              "solidity": 0.2
             }
            },
            "type": "bar"
           }
          ],
          "barpolar": [
           {
            "marker": {
             "line": {
              "color": "#E5ECF6",
              "width": 0.5
             },
             "pattern": {
              "fillmode": "overlay",
              "size": 10,
              "solidity": 0.2
             }
            },
            "type": "barpolar"
           }
          ],
          "carpet": [
           {
            "aaxis": {
             "endlinecolor": "#2a3f5f",
             "gridcolor": "white",
             "linecolor": "white",
             "minorgridcolor": "white",
             "startlinecolor": "#2a3f5f"
            },
            "baxis": {
             "endlinecolor": "#2a3f5f",
             "gridcolor": "white",
             "linecolor": "white",
             "minorgridcolor": "white",
             "startlinecolor": "#2a3f5f"
            },
            "type": "carpet"
           }
          ],
          "choropleth": [
           {
            "colorbar": {
             "outlinewidth": 0,
             "ticks": ""
            },
            "type": "choropleth"
           }
          ],
          "contour": [
           {
            "colorbar": {
             "outlinewidth": 0,
             "ticks": ""
            },
            "colorscale": [
             [
              0,
              "#0d0887"
             ],
             [
              0.1111111111111111,
              "#46039f"
             ],
             [
              0.2222222222222222,
              "#7201a8"
             ],
             [
              0.3333333333333333,
              "#9c179e"
             ],
             [
              0.4444444444444444,
              "#bd3786"
             ],
             [
              0.5555555555555556,
              "#d8576b"
             ],
             [
              0.6666666666666666,
              "#ed7953"
             ],
             [
              0.7777777777777778,
              "#fb9f3a"
             ],
             [
              0.8888888888888888,
              "#fdca26"
             ],
             [
              1,
              "#f0f921"
             ]
            ],
            "type": "contour"
           }
          ],
          "contourcarpet": [
           {
            "colorbar": {
             "outlinewidth": 0,
             "ticks": ""
            },
            "type": "contourcarpet"
           }
          ],
          "heatmap": [
           {
            "colorbar": {
             "outlinewidth": 0,
             "ticks": ""
            },
            "colorscale": [
             [
              0,
              "#0d0887"
             ],
             [
              0.1111111111111111,
              "#46039f"
             ],
             [
              0.2222222222222222,
              "#7201a8"
             ],
             [
              0.3333333333333333,
              "#9c179e"
             ],
             [
              0.4444444444444444,
              "#bd3786"
             ],
             [
              0.5555555555555556,
              "#d8576b"
             ],
             [
              0.6666666666666666,
              "#ed7953"
             ],
             [
              0.7777777777777778,
              "#fb9f3a"
             ],
             [
              0.8888888888888888,
              "#fdca26"
             ],
             [
              1,
              "#f0f921"
             ]
            ],
            "type": "heatmap"
           }
          ],
          "histogram": [
           {
            "marker": {
             "pattern": {
              "fillmode": "overlay",
              "size": 10,
              "solidity": 0.2
             }
            },
            "type": "histogram"
           }
          ],
          "histogram2d": [
           {
            "colorbar": {
             "outlinewidth": 0,
             "ticks": ""
            },
            "colorscale": [
             [
              0,
              "#0d0887"
             ],
             [
              0.1111111111111111,
              "#46039f"
             ],
             [
              0.2222222222222222,
              "#7201a8"
             ],
             [
              0.3333333333333333,
              "#9c179e"
             ],
             [
              0.4444444444444444,
              "#bd3786"
             ],
             [
              0.5555555555555556,
              "#d8576b"
             ],
             [
              0.6666666666666666,
              "#ed7953"
             ],
             [
              0.7777777777777778,
              "#fb9f3a"
             ],
             [
              0.8888888888888888,
              "#fdca26"
             ],
             [
              1,
              "#f0f921"
             ]
            ],
            "type": "histogram2d"
           }
          ],
          "histogram2dcontour": [
           {
            "colorbar": {
             "outlinewidth": 0,
             "ticks": ""
            },
            "colorscale": [
             [
              0,
              "#0d0887"
             ],
             [
              0.1111111111111111,
              "#46039f"
             ],
             [
              0.2222222222222222,
              "#7201a8"
             ],
             [
              0.3333333333333333,
              "#9c179e"
             ],
             [
              0.4444444444444444,
              "#bd3786"
             ],
             [
              0.5555555555555556,
              "#d8576b"
             ],
             [
              0.6666666666666666,
              "#ed7953"
             ],
             [
              0.7777777777777778,
              "#fb9f3a"
             ],
             [
              0.8888888888888888,
              "#fdca26"
             ],
             [
              1,
              "#f0f921"
             ]
            ],
            "type": "histogram2dcontour"
           }
          ],
          "mesh3d": [
           {
            "colorbar": {
             "outlinewidth": 0,
             "ticks": ""
            },
            "type": "mesh3d"
           }
          ],
          "parcoords": [
           {
            "line": {
             "colorbar": {
              "outlinewidth": 0,
              "ticks": ""
             }
            },
            "type": "parcoords"
           }
          ],
          "pie": [
           {
            "automargin": true,
            "type": "pie"
           }
          ],
          "scatter": [
           {
            "fillpattern": {
             "fillmode": "overlay",
             "size": 10,
             "solidity": 0.2
            },
            "type": "scatter"
           }
          ],
          "scatter3d": [
           {
            "line": {
             "colorbar": {
              "outlinewidth": 0,
              "ticks": ""
             }
            },
            "marker": {
             "colorbar": {
              "outlinewidth": 0,
              "ticks": ""
             }
            },
            "type": "scatter3d"
           }
          ],
          "scattercarpet": [
           {
            "marker": {
             "colorbar": {
              "outlinewidth": 0,
              "ticks": ""
             }
            },
            "type": "scattercarpet"
           }
          ],
          "scattergeo": [
           {
            "marker": {
             "colorbar": {
              "outlinewidth": 0,
              "ticks": ""
             }
            },
            "type": "scattergeo"
           }
          ],
          "scattergl": [
           {
            "marker": {
             "colorbar": {
              "outlinewidth": 0,
              "ticks": ""
             }
            },
            "type": "scattergl"
           }
          ],
          "scattermap": [
           {
            "marker": {
             "colorbar": {
              "outlinewidth": 0,
              "ticks": ""
             }
            },
            "type": "scattermap"
           }
          ],
          "scattermapbox": [
           {
            "marker": {
             "colorbar": {
              "outlinewidth": 0,
              "ticks": ""
             }
            },
            "type": "scattermapbox"
           }
          ],
          "scatterpolar": [
           {
            "marker": {
             "colorbar": {
              "outlinewidth": 0,
              "ticks": ""
             }
            },
            "type": "scatterpolar"
           }
          ],
          "scatterpolargl": [
           {
            "marker": {
             "colorbar": {
              "outlinewidth": 0,
              "ticks": ""
             }
            },
            "type": "scatterpolargl"
           }
          ],
          "scatterternary": [
           {
            "marker": {
             "colorbar": {
              "outlinewidth": 0,
              "ticks": ""
             }
            },
            "type": "scatterternary"
           }
          ],
          "surface": [
           {
            "colorbar": {
             "outlinewidth": 0,
             "ticks": ""
            },
            "colorscale": [
             [
              0,
              "#0d0887"
             ],
             [
              0.1111111111111111,
              "#46039f"
             ],
             [
              0.2222222222222222,
              "#7201a8"
             ],
             [
              0.3333333333333333,
              "#9c179e"
             ],
             [
              0.4444444444444444,
              "#bd3786"
             ],
             [
              0.5555555555555556,
              "#d8576b"
             ],
             [
              0.6666666666666666,
              "#ed7953"
             ],
             [
              0.7777777777777778,
              "#fb9f3a"
             ],
             [
              0.8888888888888888,
              "#fdca26"
             ],
             [
              1,
              "#f0f921"
             ]
            ],
            "type": "surface"
           }
          ],
          "table": [
           {
            "cells": {
             "fill": {
              "color": "#EBF0F8"
             },
             "line": {
              "color": "white"
             }
            },
            "header": {
             "fill": {
              "color": "#C8D4E3"
             },
             "line": {
              "color": "white"
             }
            },
            "type": "table"
           }
          ]
         },
         "layout": {
          "annotationdefaults": {
           "arrowcolor": "#2a3f5f",
           "arrowhead": 0,
           "arrowwidth": 1
          },
          "autotypenumbers": "strict",
          "coloraxis": {
           "colorbar": {
            "outlinewidth": 0,
            "ticks": ""
           }
          },
          "colorscale": {
           "diverging": [
            [
             0,
             "#8e0152"
            ],
            [
             0.1,
             "#c51b7d"
            ],
            [
             0.2,
             "#de77ae"
            ],
            [
             0.3,
             "#f1b6da"
            ],
            [
             0.4,
             "#fde0ef"
            ],
            [
             0.5,
             "#f7f7f7"
            ],
            [
             0.6,
             "#e6f5d0"
            ],
            [
             0.7,
             "#b8e186"
            ],
            [
             0.8,
             "#7fbc41"
            ],
            [
             0.9,
             "#4d9221"
            ],
            [
             1,
             "#276419"
            ]
           ],
           "sequential": [
            [
             0,
             "#0d0887"
            ],
            [
             0.1111111111111111,
             "#46039f"
            ],
            [
             0.2222222222222222,
             "#7201a8"
            ],
            [
             0.3333333333333333,
             "#9c179e"
            ],
            [
             0.4444444444444444,
             "#bd3786"
            ],
            [
             0.5555555555555556,
             "#d8576b"
            ],
            [
             0.6666666666666666,
             "#ed7953"
            ],
            [
             0.7777777777777778,
             "#fb9f3a"
            ],
            [
             0.8888888888888888,
             "#fdca26"
            ],
            [
             1,
             "#f0f921"
            ]
           ],
           "sequentialminus": [
            [
             0,
             "#0d0887"
            ],
            [
             0.1111111111111111,
             "#46039f"
            ],
            [
             0.2222222222222222,
             "#7201a8"
            ],
            [
             0.3333333333333333,
             "#9c179e"
            ],
            [
             0.4444444444444444,
             "#bd3786"
            ],
            [
             0.5555555555555556,
             "#d8576b"
            ],
            [
             0.6666666666666666,
             "#ed7953"
            ],
            [
             0.7777777777777778,
             "#fb9f3a"
            ],
            [
             0.8888888888888888,
             "#fdca26"
            ],
            [
             1,
             "#f0f921"
            ]
           ]
          },
          "colorway": [
           "#636efa",
           "#EF553B",
           "#00cc96",
           "#ab63fa",
           "#FFA15A",
           "#19d3f3",
           "#FF6692",
           "#B6E880",
           "#FF97FF",
           "#FECB52"
          ],
          "font": {
           "color": "#2a3f5f"
          },
          "geo": {
           "bgcolor": "white",
           "lakecolor": "white",
           "landcolor": "#E5ECF6",
           "showlakes": true,
           "showland": true,
           "subunitcolor": "white"
          },
          "hoverlabel": {
           "align": "left"
          },
          "hovermode": "closest",
          "mapbox": {
           "style": "light"
          },
          "paper_bgcolor": "white",
          "plot_bgcolor": "#E5ECF6",
          "polar": {
           "angularaxis": {
            "gridcolor": "white",
            "linecolor": "white",
            "ticks": ""
           },
           "bgcolor": "#E5ECF6",
           "radialaxis": {
            "gridcolor": "white",
            "linecolor": "white",
            "ticks": ""
           }
          },
          "scene": {
           "xaxis": {
            "backgroundcolor": "#E5ECF6",
            "gridcolor": "white",
            "gridwidth": 2,
            "linecolor": "white",
            "showbackground": true,
            "ticks": "",
            "zerolinecolor": "white"
           },
           "yaxis": {
            "backgroundcolor": "#E5ECF6",
            "gridcolor": "white",
            "gridwidth": 2,
            "linecolor": "white",
            "showbackground": true,
            "ticks": "",
            "zerolinecolor": "white"
           },
           "zaxis": {
            "backgroundcolor": "#E5ECF6",
            "gridcolor": "white",
            "gridwidth": 2,
            "linecolor": "white",
            "showbackground": true,
            "ticks": "",
            "zerolinecolor": "white"
           }
          },
          "shapedefaults": {
           "line": {
            "color": "#2a3f5f"
           }
          },
          "ternary": {
           "aaxis": {
            "gridcolor": "white",
            "linecolor": "white",
            "ticks": ""
           },
           "baxis": {
            "gridcolor": "white",
            "linecolor": "white",
            "ticks": ""
           },
           "bgcolor": "#E5ECF6",
           "caxis": {
            "gridcolor": "white",
            "linecolor": "white",
            "ticks": ""
           }
          },
          "title": {
           "x": 0.05
          },
          "xaxis": {
           "automargin": true,
           "gridcolor": "white",
           "linecolor": "white",
           "ticks": "",
           "title": {
            "standoff": 15
           },
           "zerolinecolor": "white",
           "zerolinewidth": 2
          },
          "yaxis": {
           "automargin": true,
           "gridcolor": "white",
           "linecolor": "white",
           "ticks": "",
           "title": {
            "standoff": 15
           },
           "zerolinecolor": "white",
           "zerolinewidth": 2
          }
         }
        },
        "xaxis": {
         "anchor": "y",
         "domain": [
          0,
          0.2888888888888889
         ],
         "title": {
          "text": "Total_Orders"
         }
        },
        "xaxis2": {
         "anchor": "y2",
         "domain": [
          0.35555555555555557,
          0.6444444444444445
         ],
         "title": {
          "text": "Total_Orders"
         }
        },
        "xaxis3": {
         "anchor": "y3",
         "domain": [
          0.7111111111111111,
          1
         ],
         "title": {
          "text": "Orders_with_Discount"
         }
        },
        "yaxis": {
         "anchor": "x",
         "domain": [
          0,
          1
         ],
         "title": {
          "text": "Orders_with_Discount"
         }
        },
        "yaxis2": {
         "anchor": "x2",
         "domain": [
          0,
          1
         ],
         "title": {
          "text": "Units"
         }
        },
        "yaxis3": {
         "anchor": "x3",
         "domain": [
          0,
          1
         ],
         "title": {
          "text": "Units"
         }
        }
       }
      }
     },
     "metadata": {},
     "output_type": "display_data"
    }
   ],
   "source": [
    "fig = make_subplots(rows=1, cols=3)\n",
    "\n",
    "fig.add_trace(\n",
    "    go.Scatter(\n",
    "        x=rfm_df_scaled[\"Total_Orders\"], \n",
    "        y=rfm_df_scaled[\"Orders_with_Discount\"], \n",
    "        mode=\"markers\"\n",
    "    ),\n",
    "    row=1, col=1,\n",
    ")\n",
    "\n",
    "fig.update_xaxes(title_text=\"Total_Orders\", row=1, col=1)\n",
    "fig.update_yaxes(title_text=\"Orders_with_Discount\", row=1, col=1)\n",
    "\n",
    "fig.add_trace(\n",
    "    go.Scatter(\n",
    "        x=rfm_df_scaled[\"Total_Orders\"], \n",
    "        y=rfm_df_scaled[\"Units\"], \n",
    "        mode=\"markers\"\n",
    "    ),\n",
    "    row=1, col=2\n",
    ")\n",
    "\n",
    "fig.update_xaxes(title_text=\"Total_Orders\", row=1, col=2)\n",
    "fig.update_yaxes(title_text=\"Units\", row=1, col=2)\n",
    "\n",
    "fig.add_trace(\n",
    "    go.Scatter(\n",
    "        x=rfm_df_scaled[\"Orders_with_Discount\"], \n",
    "        y=rfm_df_scaled[\"Units\"], \n",
    "        mode=\"markers\"\n",
    "    ),\n",
    "    row=1, col=3\n",
    ")\n",
    "\n",
    "fig.update_xaxes(title_text=\"Orders_with_Discount\", row=1, col=3)\n",
    "fig.update_yaxes(title_text=\"Units\", row=1, col=3)"
   ]
  },
  {
   "cell_type": "code",
   "execution_count": 45,
   "id": "6c07e379",
   "metadata": {},
   "outputs": [
    {
     "data": {
      "application/vnd.plotly.v1+json": {
       "config": {
        "plotlyServerURL": "https://plot.ly"
       },
       "data": [
        {
         "hovertemplate": "Total_Orders=%{x}<br>Orders_with_Discount=%{y}<br>Units=%{z}<extra></extra>",
         "legendgroup": "",
         "marker": {
          "color": "#636efa",
          "symbol": "circle"
         },
         "mode": "markers",
         "name": "",
         "scene": "scene",
         "showlegend": false,
         "type": "scatter3d",
         "x": {
          "bdata": "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",
          "dtype": "f8"
         },
         "y": {
          "bdata": "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",
          "dtype": "f8"
         },
         "z": {
          "bdata": "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",
          "dtype": "f8"
         }
        }
       ],
       "layout": {
        "height": 500,
        "legend": {
         "tracegroupgap": 0
        },
        "margin": {
         "t": 60
        },
        "scene": {
         "domain": {
          "x": [
           0,
           1
          ],
          "y": [
           0,
           1
          ]
         },
         "xaxis": {
          "title": {
           "text": "Total_Orders"
          }
         },
         "yaxis": {
          "title": {
           "text": "Orders_with_Discount"
          }
         },
         "zaxis": {
          "title": {
           "text": "Units"
          }
         }
        },
        "template": {
         "data": {
          "bar": [
           {
            "error_x": {
             "color": "#2a3f5f"
            },
            "error_y": {
             "color": "#2a3f5f"
            },
            "marker": {
             "line": {
              "color": "#E5ECF6",
              "width": 0.5
             },
             "pattern": {
              "fillmode": "overlay",
              "size": 10,
              "solidity": 0.2
             }
            },
            "type": "bar"
           }
          ],
          "barpolar": [
           {
            "marker": {
             "line": {
              "color": "#E5ECF6",
              "width": 0.5
             },
             "pattern": {
              "fillmode": "overlay",
              "size": 10,
              "solidity": 0.2
             }
            },
            "type": "barpolar"
           }
          ],
          "carpet": [
           {
            "aaxis": {
             "endlinecolor": "#2a3f5f",
             "gridcolor": "white",
             "linecolor": "white",
             "minorgridcolor": "white",
             "startlinecolor": "#2a3f5f"
            },
            "baxis": {
             "endlinecolor": "#2a3f5f",
             "gridcolor": "white",
             "linecolor": "white",
             "minorgridcolor": "white",
             "startlinecolor": "#2a3f5f"
            },
            "type": "carpet"
           }
          ],
          "choropleth": [
           {
            "colorbar": {
             "outlinewidth": 0,
             "ticks": ""
            },
            "type": "choropleth"
           }
          ],
          "contour": [
           {
            "colorbar": {
             "outlinewidth": 0,
             "ticks": ""
            },
            "colorscale": [
             [
              0,
              "#0d0887"
             ],
             [
              0.1111111111111111,
              "#46039f"
             ],
             [
              0.2222222222222222,
              "#7201a8"
             ],
             [
              0.3333333333333333,
              "#9c179e"
             ],
             [
              0.4444444444444444,
              "#bd3786"
             ],
             [
              0.5555555555555556,
              "#d8576b"
             ],
             [
              0.6666666666666666,
              "#ed7953"
             ],
             [
              0.7777777777777778,
              "#fb9f3a"
             ],
             [
              0.8888888888888888,
              "#fdca26"
             ],
             [
              1,
              "#f0f921"
             ]
            ],
            "type": "contour"
           }
          ],
          "contourcarpet": [
           {
            "colorbar": {
             "outlinewidth": 0,
             "ticks": ""
            },
            "type": "contourcarpet"
           }
          ],
          "heatmap": [
           {
            "colorbar": {
             "outlinewidth": 0,
             "ticks": ""
            },
            "colorscale": [
             [
              0,
              "#0d0887"
             ],
             [
              0.1111111111111111,
              "#46039f"
             ],
             [
              0.2222222222222222,
              "#7201a8"
             ],
             [
              0.3333333333333333,
              "#9c179e"
             ],
             [
              0.4444444444444444,
              "#bd3786"
             ],
             [
              0.5555555555555556,
              "#d8576b"
             ],
             [
              0.6666666666666666,
              "#ed7953"
             ],
             [
              0.7777777777777778,
              "#fb9f3a"
             ],
             [
              0.8888888888888888,
              "#fdca26"
             ],
             [
              1,
              "#f0f921"
             ]
            ],
            "type": "heatmap"
           }
          ],
          "histogram": [
           {
            "marker": {
             "pattern": {
              "fillmode": "overlay",
              "size": 10,
              "solidity": 0.2
             }
            },
            "type": "histogram"
           }
          ],
          "histogram2d": [
           {
            "colorbar": {
             "outlinewidth": 0,
             "ticks": ""
            },
            "colorscale": [
             [
              0,
              "#0d0887"
             ],
             [
              0.1111111111111111,
              "#46039f"
             ],
             [
              0.2222222222222222,
              "#7201a8"
             ],
             [
              0.3333333333333333,
              "#9c179e"
             ],
             [
              0.4444444444444444,
              "#bd3786"
             ],
             [
              0.5555555555555556,
              "#d8576b"
             ],
             [
              0.6666666666666666,
              "#ed7953"
             ],
             [
              0.7777777777777778,
              "#fb9f3a"
             ],
             [
              0.8888888888888888,
              "#fdca26"
             ],
             [
              1,
              "#f0f921"
             ]
            ],
            "type": "histogram2d"
           }
          ],
          "histogram2dcontour": [
           {
            "colorbar": {
             "outlinewidth": 0,
             "ticks": ""
            },
            "colorscale": [
             [
              0,
              "#0d0887"
             ],
             [
              0.1111111111111111,
              "#46039f"
             ],
             [
              0.2222222222222222,
              "#7201a8"
             ],
             [
              0.3333333333333333,
              "#9c179e"
             ],
             [
              0.4444444444444444,
              "#bd3786"
             ],
             [
              0.5555555555555556,
              "#d8576b"
             ],
             [
              0.6666666666666666,
              "#ed7953"
             ],
             [
              0.7777777777777778,
              "#fb9f3a"
             ],
             [
              0.8888888888888888,
              "#fdca26"
             ],
             [
              1,
              "#f0f921"
             ]
            ],
            "type": "histogram2dcontour"
           }
          ],
          "mesh3d": [
           {
            "colorbar": {
             "outlinewidth": 0,
             "ticks": ""
            },
            "type": "mesh3d"
           }
          ],
          "parcoords": [
           {
            "line": {
             "colorbar": {
              "outlinewidth": 0,
              "ticks": ""
             }
            },
            "type": "parcoords"
           }
          ],
          "pie": [
           {
            "automargin": true,
            "type": "pie"
           }
          ],
          "scatter": [
           {
            "fillpattern": {
             "fillmode": "overlay",
             "size": 10,
             "solidity": 0.2
            },
            "type": "scatter"
           }
          ],
          "scatter3d": [
           {
            "line": {
             "colorbar": {
              "outlinewidth": 0,
              "ticks": ""
             }
            },
            "marker": {
             "colorbar": {
              "outlinewidth": 0,
              "ticks": ""
             }
            },
            "type": "scatter3d"
           }
          ],
          "scattercarpet": [
           {
            "marker": {
             "colorbar": {
              "outlinewidth": 0,
              "ticks": ""
             }
            },
            "type": "scattercarpet"
           }
          ],
          "scattergeo": [
           {
            "marker": {
             "colorbar": {
              "outlinewidth": 0,
              "ticks": ""
             }
            },
            "type": "scattergeo"
           }
          ],
          "scattergl": [
           {
            "marker": {
             "colorbar": {
              "outlinewidth": 0,
              "ticks": ""
             }
            },
            "type": "scattergl"
           }
          ],
          "scattermap": [
           {
            "marker": {
             "colorbar": {
              "outlinewidth": 0,
              "ticks": ""
             }
            },
            "type": "scattermap"
           }
          ],
          "scattermapbox": [
           {
            "marker": {
             "colorbar": {
              "outlinewidth": 0,
              "ticks": ""
             }
            },
            "type": "scattermapbox"
           }
          ],
          "scatterpolar": [
           {
            "marker": {
             "colorbar": {
              "outlinewidth": 0,
              "ticks": ""
             }
            },
            "type": "scatterpolar"
           }
          ],
          "scatterpolargl": [
           {
            "marker": {
             "colorbar": {
              "outlinewidth": 0,
              "ticks": ""
             }
            },
            "type": "scatterpolargl"
           }
          ],
          "scatterternary": [
           {
            "marker": {
             "colorbar": {
              "outlinewidth": 0,
              "ticks": ""
             }
            },
            "type": "scatterternary"
           }
          ],
          "surface": [
           {
            "colorbar": {
             "outlinewidth": 0,
             "ticks": ""
            },
            "colorscale": [
             [
              0,
              "#0d0887"
             ],
             [
              0.1111111111111111,
              "#46039f"
             ],
             [
              0.2222222222222222,
              "#7201a8"
             ],
             [
              0.3333333333333333,
              "#9c179e"
             ],
             [
              0.4444444444444444,
              "#bd3786"
             ],
             [
              0.5555555555555556,
              "#d8576b"
             ],
             [
              0.6666666666666666,
              "#ed7953"
             ],
             [
              0.7777777777777778,
              "#fb9f3a"
             ],
             [
              0.8888888888888888,
              "#fdca26"
             ],
             [
              1,
              "#f0f921"
             ]
            ],
            "type": "surface"
           }
          ],
          "table": [
           {
            "cells": {
             "fill": {
              "color": "#EBF0F8"
             },
             "line": {
              "color": "white"
             }
            },
            "header": {
             "fill": {
              "color": "#C8D4E3"
             },
             "line": {
              "color": "white"
             }
            },
            "type": "table"
           }
          ]
         },
         "layout": {
          "annotationdefaults": {
           "arrowcolor": "#2a3f5f",
           "arrowhead": 0,
           "arrowwidth": 1
          },
          "autotypenumbers": "strict",
          "coloraxis": {
           "colorbar": {
            "outlinewidth": 0,
            "ticks": ""
           }
          },
          "colorscale": {
           "diverging": [
            [
             0,
             "#8e0152"
            ],
            [
             0.1,
             "#c51b7d"
            ],
            [
             0.2,
             "#de77ae"
            ],
            [
             0.3,
             "#f1b6da"
            ],
            [
             0.4,
             "#fde0ef"
            ],
            [
             0.5,
             "#f7f7f7"
            ],
            [
             0.6,
             "#e6f5d0"
            ],
            [
             0.7,
             "#b8e186"
            ],
            [
             0.8,
             "#7fbc41"
            ],
            [
             0.9,
             "#4d9221"
            ],
            [
             1,
             "#276419"
            ]
           ],
           "sequential": [
            [
             0,
             "#0d0887"
            ],
            [
             0.1111111111111111,
             "#46039f"
            ],
            [
             0.2222222222222222,
             "#7201a8"
            ],
            [
             0.3333333333333333,
             "#9c179e"
            ],
            [
             0.4444444444444444,
             "#bd3786"
            ],
            [
             0.5555555555555556,
             "#d8576b"
            ],
            [
             0.6666666666666666,
             "#ed7953"
            ],
            [
             0.7777777777777778,
             "#fb9f3a"
            ],
            [
             0.8888888888888888,
             "#fdca26"
            ],
            [
             1,
             "#f0f921"
            ]
           ],
           "sequentialminus": [
            [
             0,
             "#0d0887"
            ],
            [
             0.1111111111111111,
             "#46039f"
            ],
            [
             0.2222222222222222,
             "#7201a8"
            ],
            [
             0.3333333333333333,
             "#9c179e"
            ],
            [
             0.4444444444444444,
             "#bd3786"
            ],
            [
             0.5555555555555556,
             "#d8576b"
            ],
            [
             0.6666666666666666,
             "#ed7953"
            ],
            [
             0.7777777777777778,
             "#fb9f3a"
            ],
            [
             0.8888888888888888,
             "#fdca26"
            ],
            [
             1,
             "#f0f921"
            ]
           ]
          },
          "colorway": [
           "#636efa",
           "#EF553B",
           "#00cc96",
           "#ab63fa",
           "#FFA15A",
           "#19d3f3",
           "#FF6692",
           "#B6E880",
           "#FF97FF",
           "#FECB52"
          ],
          "font": {
           "color": "#2a3f5f"
          },
          "geo": {
           "bgcolor": "white",
           "lakecolor": "white",
           "landcolor": "#E5ECF6",
           "showlakes": true,
           "showland": true,
           "subunitcolor": "white"
          },
          "hoverlabel": {
           "align": "left"
          },
          "hovermode": "closest",
          "mapbox": {
           "style": "light"
          },
          "paper_bgcolor": "white",
          "plot_bgcolor": "#E5ECF6",
          "polar": {
           "angularaxis": {
            "gridcolor": "white",
            "linecolor": "white",
            "ticks": ""
           },
           "bgcolor": "#E5ECF6",
           "radialaxis": {
            "gridcolor": "white",
            "linecolor": "white",
            "ticks": ""
           }
          },
          "scene": {
           "xaxis": {
            "backgroundcolor": "#E5ECF6",
            "gridcolor": "white",
            "gridwidth": 2,
            "linecolor": "white",
            "showbackground": true,
            "ticks": "",
            "zerolinecolor": "white"
           },
           "yaxis": {
            "backgroundcolor": "#E5ECF6",
            "gridcolor": "white",
            "gridwidth": 2,
            "linecolor": "white",
            "showbackground": true,
            "ticks": "",
            "zerolinecolor": "white"
           },
           "zaxis": {
            "backgroundcolor": "#E5ECF6",
            "gridcolor": "white",
            "gridwidth": 2,
            "linecolor": "white",
            "showbackground": true,
            "ticks": "",
            "zerolinecolor": "white"
           }
          },
          "shapedefaults": {
           "line": {
            "color": "#2a3f5f"
           }
          },
          "ternary": {
           "aaxis": {
            "gridcolor": "white",
            "linecolor": "white",
            "ticks": ""
           },
           "baxis": {
            "gridcolor": "white",
            "linecolor": "white",
            "ticks": ""
           },
           "bgcolor": "#E5ECF6",
           "caxis": {
            "gridcolor": "white",
            "linecolor": "white",
            "ticks": ""
           }
          },
          "title": {
           "x": 0.05
          },
          "xaxis": {
           "automargin": true,
           "gridcolor": "white",
           "linecolor": "white",
           "ticks": "",
           "title": {
            "standoff": 15
           },
           "zerolinecolor": "white",
           "zerolinewidth": 2
          },
          "yaxis": {
           "automargin": true,
           "gridcolor": "white",
           "linecolor": "white",
           "ticks": "",
           "title": {
            "standoff": 15
           },
           "zerolinecolor": "white",
           "zerolinewidth": 2
          }
         }
        },
        "width": 600
       }
      }
     },
     "metadata": {},
     "output_type": "display_data"
    }
   ],
   "source": [
    "px.scatter_3d(rfm_df_scaled, x=\"Total_Orders\", y=\"Orders_with_Discount\", z=\"Units\", width=600, height=500)"
   ]
  },
  {
   "cell_type": "markdown",
   "id": "970a6140",
   "metadata": {},
   "source": [
    "## Elbow method"
   ]
  },
  {
   "cell_type": "code",
   "execution_count": 46,
   "id": "c9da4f2d",
   "metadata": {},
   "outputs": [
    {
     "name": "stderr",
     "output_type": "stream",
     "text": [
      "c:\\Users\\MP_Laptop\\anaconda3\\envs\\EDA_Marc\\lib\\site-packages\\sklearn\\cluster\\_kmeans.py:870: FutureWarning:\n",
      "\n",
      "The default value of `n_init` will change from 10 to 'auto' in 1.4. Set the value of `n_init` explicitly to suppress the warning\n",
      "\n",
      "c:\\Users\\MP_Laptop\\anaconda3\\envs\\EDA_Marc\\lib\\site-packages\\sklearn\\cluster\\_kmeans.py:1382: UserWarning:\n",
      "\n",
      "KMeans is known to have a memory leak on Windows with MKL, when there are less chunks than available threads. You can avoid it by setting the environment variable OMP_NUM_THREADS=5.\n",
      "\n",
      "c:\\Users\\MP_Laptop\\anaconda3\\envs\\EDA_Marc\\lib\\site-packages\\sklearn\\cluster\\_kmeans.py:870: FutureWarning:\n",
      "\n",
      "The default value of `n_init` will change from 10 to 'auto' in 1.4. Set the value of `n_init` explicitly to suppress the warning\n",
      "\n",
      "c:\\Users\\MP_Laptop\\anaconda3\\envs\\EDA_Marc\\lib\\site-packages\\sklearn\\cluster\\_kmeans.py:1382: UserWarning:\n",
      "\n",
      "KMeans is known to have a memory leak on Windows with MKL, when there are less chunks than available threads. You can avoid it by setting the environment variable OMP_NUM_THREADS=5.\n",
      "\n",
      "c:\\Users\\MP_Laptop\\anaconda3\\envs\\EDA_Marc\\lib\\site-packages\\sklearn\\cluster\\_kmeans.py:870: FutureWarning:\n",
      "\n",
      "The default value of `n_init` will change from 10 to 'auto' in 1.4. Set the value of `n_init` explicitly to suppress the warning\n",
      "\n",
      "c:\\Users\\MP_Laptop\\anaconda3\\envs\\EDA_Marc\\lib\\site-packages\\sklearn\\cluster\\_kmeans.py:1382: UserWarning:\n",
      "\n",
      "KMeans is known to have a memory leak on Windows with MKL, when there are less chunks than available threads. You can avoid it by setting the environment variable OMP_NUM_THREADS=5.\n",
      "\n",
      "c:\\Users\\MP_Laptop\\anaconda3\\envs\\EDA_Marc\\lib\\site-packages\\sklearn\\cluster\\_kmeans.py:870: FutureWarning:\n",
      "\n",
      "The default value of `n_init` will change from 10 to 'auto' in 1.4. Set the value of `n_init` explicitly to suppress the warning\n",
      "\n",
      "c:\\Users\\MP_Laptop\\anaconda3\\envs\\EDA_Marc\\lib\\site-packages\\sklearn\\cluster\\_kmeans.py:1382: UserWarning:\n",
      "\n",
      "KMeans is known to have a memory leak on Windows with MKL, when there are less chunks than available threads. You can avoid it by setting the environment variable OMP_NUM_THREADS=5.\n",
      "\n",
      "c:\\Users\\MP_Laptop\\anaconda3\\envs\\EDA_Marc\\lib\\site-packages\\sklearn\\cluster\\_kmeans.py:870: FutureWarning:\n",
      "\n",
      "The default value of `n_init` will change from 10 to 'auto' in 1.4. Set the value of `n_init` explicitly to suppress the warning\n",
      "\n",
      "c:\\Users\\MP_Laptop\\anaconda3\\envs\\EDA_Marc\\lib\\site-packages\\sklearn\\cluster\\_kmeans.py:1382: UserWarning:\n",
      "\n",
      "KMeans is known to have a memory leak on Windows with MKL, when there are less chunks than available threads. You can avoid it by setting the environment variable OMP_NUM_THREADS=5.\n",
      "\n",
      "c:\\Users\\MP_Laptop\\anaconda3\\envs\\EDA_Marc\\lib\\site-packages\\sklearn\\cluster\\_kmeans.py:870: FutureWarning:\n",
      "\n",
      "The default value of `n_init` will change from 10 to 'auto' in 1.4. Set the value of `n_init` explicitly to suppress the warning\n",
      "\n",
      "c:\\Users\\MP_Laptop\\anaconda3\\envs\\EDA_Marc\\lib\\site-packages\\sklearn\\cluster\\_kmeans.py:1382: UserWarning:\n",
      "\n",
      "KMeans is known to have a memory leak on Windows with MKL, when there are less chunks than available threads. You can avoid it by setting the environment variable OMP_NUM_THREADS=5.\n",
      "\n",
      "c:\\Users\\MP_Laptop\\anaconda3\\envs\\EDA_Marc\\lib\\site-packages\\sklearn\\cluster\\_kmeans.py:870: FutureWarning:\n",
      "\n",
      "The default value of `n_init` will change from 10 to 'auto' in 1.4. Set the value of `n_init` explicitly to suppress the warning\n",
      "\n",
      "c:\\Users\\MP_Laptop\\anaconda3\\envs\\EDA_Marc\\lib\\site-packages\\sklearn\\cluster\\_kmeans.py:1382: UserWarning:\n",
      "\n",
      "KMeans is known to have a memory leak on Windows with MKL, when there are less chunks than available threads. You can avoid it by setting the environment variable OMP_NUM_THREADS=5.\n",
      "\n",
      "c:\\Users\\MP_Laptop\\anaconda3\\envs\\EDA_Marc\\lib\\site-packages\\sklearn\\cluster\\_kmeans.py:870: FutureWarning:\n",
      "\n",
      "The default value of `n_init` will change from 10 to 'auto' in 1.4. Set the value of `n_init` explicitly to suppress the warning\n",
      "\n",
      "c:\\Users\\MP_Laptop\\anaconda3\\envs\\EDA_Marc\\lib\\site-packages\\sklearn\\cluster\\_kmeans.py:1382: UserWarning:\n",
      "\n",
      "KMeans is known to have a memory leak on Windows with MKL, when there are less chunks than available threads. You can avoid it by setting the environment variable OMP_NUM_THREADS=5.\n",
      "\n",
      "c:\\Users\\MP_Laptop\\anaconda3\\envs\\EDA_Marc\\lib\\site-packages\\sklearn\\cluster\\_kmeans.py:870: FutureWarning:\n",
      "\n",
      "The default value of `n_init` will change from 10 to 'auto' in 1.4. Set the value of `n_init` explicitly to suppress the warning\n",
      "\n",
      "c:\\Users\\MP_Laptop\\anaconda3\\envs\\EDA_Marc\\lib\\site-packages\\sklearn\\cluster\\_kmeans.py:1382: UserWarning:\n",
      "\n",
      "KMeans is known to have a memory leak on Windows with MKL, when there are less chunks than available threads. You can avoid it by setting the environment variable OMP_NUM_THREADS=5.\n",
      "\n"
     ]
    },
    {
     "data": {
      "text/plain": [
       "[3744.000000000001,\n",
       " 1801.309258533262,\n",
       " 1304.3142393119624,\n",
       " 1048.0182545770572,\n",
       " 878.2503984655355,\n",
       " 767.7472009121178,\n",
       " 684.6383463356626,\n",
       " 619.9213781706984,\n",
       " 574.2033127991136]"
      ]
     },
     "execution_count": 46,
     "metadata": {},
     "output_type": "execute_result"
    }
   ],
   "source": [
    "inertia = []\n",
    "\n",
    "for k in range(1, 10):\n",
    "    kmeans = KMeans(n_clusters=k, random_state=420).fit(rfm_df_scaled.values)\n",
    "    inertia.append(kmeans.inertia_)\n",
    "    \n",
    "inertia"
   ]
  },
  {
   "cell_type": "code",
   "execution_count": 47,
   "id": "3441eca5",
   "metadata": {},
   "outputs": [
    {
     "data": {
      "application/vnd.plotly.v1+json": {
       "config": {
        "plotlyServerURL": "https://plot.ly"
       },
       "data": [
        {
         "hovertemplate": "Cluster #=%{x}<br>Inertia=%{y}<extra></extra>",
         "legendgroup": "",
         "line": {
          "color": "#636efa",
          "dash": "solid"
         },
         "marker": {
          "symbol": "circle"
         },
         "mode": "lines",
         "name": "",
         "orientation": "v",
         "showlegend": false,
         "type": "scatter",
         "x": {
          "bdata": "AQIDBAUGBwgJ",
          "dtype": "i1"
         },
         "xaxis": "x",
         "y": {
          "bdata": "AgAAAABArUB62USuPCWcQPw/88dBYZRA2u1TsRJgkECMI+nQAHKLQLPIeET6/YdAitlSVRtlhUAvs4T7Xl+DQGn4dWKg8YFA",
          "dtype": "f8"
         },
         "yaxis": "y"
        }
       ],
       "layout": {
        "height": 500,
        "legend": {
         "tracegroupgap": 0
        },
        "template": {
         "data": {
          "bar": [
           {
            "error_x": {
             "color": "#2a3f5f"
            },
            "error_y": {
             "color": "#2a3f5f"
            },
            "marker": {
             "line": {
              "color": "#E5ECF6",
              "width": 0.5
             },
             "pattern": {
              "fillmode": "overlay",
              "size": 10,
              "solidity": 0.2
             }
            },
            "type": "bar"
           }
          ],
          "barpolar": [
           {
            "marker": {
             "line": {
              "color": "#E5ECF6",
              "width": 0.5
             },
             "pattern": {
              "fillmode": "overlay",
              "size": 10,
              "solidity": 0.2
             }
            },
            "type": "barpolar"
           }
          ],
          "carpet": [
           {
            "aaxis": {
             "endlinecolor": "#2a3f5f",
             "gridcolor": "white",
             "linecolor": "white",
             "minorgridcolor": "white",
             "startlinecolor": "#2a3f5f"
            },
            "baxis": {
             "endlinecolor": "#2a3f5f",
             "gridcolor": "white",
             "linecolor": "white",
             "minorgridcolor": "white",
             "startlinecolor": "#2a3f5f"
            },
            "type": "carpet"
           }
          ],
          "choropleth": [
           {
            "colorbar": {
             "outlinewidth": 0,
             "ticks": ""
            },
            "type": "choropleth"
           }
          ],
          "contour": [
           {
            "colorbar": {
             "outlinewidth": 0,
             "ticks": ""
            },
            "colorscale": [
             [
              0,
              "#0d0887"
             ],
             [
              0.1111111111111111,
              "#46039f"
             ],
             [
              0.2222222222222222,
              "#7201a8"
             ],
             [
              0.3333333333333333,
              "#9c179e"
             ],
             [
              0.4444444444444444,
              "#bd3786"
             ],
             [
              0.5555555555555556,
              "#d8576b"
             ],
             [
              0.6666666666666666,
              "#ed7953"
             ],
             [
              0.7777777777777778,
              "#fb9f3a"
             ],
             [
              0.8888888888888888,
              "#fdca26"
             ],
             [
              1,
              "#f0f921"
             ]
            ],
            "type": "contour"
           }
          ],
          "contourcarpet": [
           {
            "colorbar": {
             "outlinewidth": 0,
             "ticks": ""
            },
            "type": "contourcarpet"
           }
          ],
          "heatmap": [
           {
            "colorbar": {
             "outlinewidth": 0,
             "ticks": ""
            },
            "colorscale": [
             [
              0,
              "#0d0887"
             ],
             [
              0.1111111111111111,
              "#46039f"
             ],
             [
              0.2222222222222222,
              "#7201a8"
             ],
             [
              0.3333333333333333,
              "#9c179e"
             ],
             [
              0.4444444444444444,
              "#bd3786"
             ],
             [
              0.5555555555555556,
              "#d8576b"
             ],
             [
              0.6666666666666666,
              "#ed7953"
             ],
             [
              0.7777777777777778,
              "#fb9f3a"
             ],
             [
              0.8888888888888888,
              "#fdca26"
             ],
             [
              1,
              "#f0f921"
             ]
            ],
            "type": "heatmap"
           }
          ],
          "histogram": [
           {
            "marker": {
             "pattern": {
              "fillmode": "overlay",
              "size": 10,
              "solidity": 0.2
             }
            },
            "type": "histogram"
           }
          ],
          "histogram2d": [
           {
            "colorbar": {
             "outlinewidth": 0,
             "ticks": ""
            },
            "colorscale": [
             [
              0,
              "#0d0887"
             ],
             [
              0.1111111111111111,
              "#46039f"
             ],
             [
              0.2222222222222222,
              "#7201a8"
             ],
             [
              0.3333333333333333,
              "#9c179e"
             ],
             [
              0.4444444444444444,
              "#bd3786"
             ],
             [
              0.5555555555555556,
              "#d8576b"
             ],
             [
              0.6666666666666666,
              "#ed7953"
             ],
             [
              0.7777777777777778,
              "#fb9f3a"
             ],
             [
              0.8888888888888888,
              "#fdca26"
             ],
             [
              1,
              "#f0f921"
             ]
            ],
            "type": "histogram2d"
           }
          ],
          "histogram2dcontour": [
           {
            "colorbar": {
             "outlinewidth": 0,
             "ticks": ""
            },
            "colorscale": [
             [
              0,
              "#0d0887"
             ],
             [
              0.1111111111111111,
              "#46039f"
             ],
             [
              0.2222222222222222,
              "#7201a8"
             ],
             [
              0.3333333333333333,
              "#9c179e"
             ],
             [
              0.4444444444444444,
              "#bd3786"
             ],
             [
              0.5555555555555556,
              "#d8576b"
             ],
             [
              0.6666666666666666,
              "#ed7953"
             ],
             [
              0.7777777777777778,
              "#fb9f3a"
             ],
             [
              0.8888888888888888,
              "#fdca26"
             ],
             [
              1,
              "#f0f921"
             ]
            ],
            "type": "histogram2dcontour"
           }
          ],
          "mesh3d": [
           {
            "colorbar": {
             "outlinewidth": 0,
             "ticks": ""
            },
            "type": "mesh3d"
           }
          ],
          "parcoords": [
           {
            "line": {
             "colorbar": {
              "outlinewidth": 0,
              "ticks": ""
             }
            },
            "type": "parcoords"
           }
          ],
          "pie": [
           {
            "automargin": true,
            "type": "pie"
           }
          ],
          "scatter": [
           {
            "fillpattern": {
             "fillmode": "overlay",
             "size": 10,
             "solidity": 0.2
            },
            "type": "scatter"
           }
          ],
          "scatter3d": [
           {
            "line": {
             "colorbar": {
              "outlinewidth": 0,
              "ticks": ""
             }
            },
            "marker": {
             "colorbar": {
              "outlinewidth": 0,
              "ticks": ""
             }
            },
            "type": "scatter3d"
           }
          ],
          "scattercarpet": [
           {
            "marker": {
             "colorbar": {
              "outlinewidth": 0,
              "ticks": ""
             }
            },
            "type": "scattercarpet"
           }
          ],
          "scattergeo": [
           {
            "marker": {
             "colorbar": {
              "outlinewidth": 0,
              "ticks": ""
             }
            },
            "type": "scattergeo"
           }
          ],
          "scattergl": [
           {
            "marker": {
             "colorbar": {
              "outlinewidth": 0,
              "ticks": ""
             }
            },
            "type": "scattergl"
           }
          ],
          "scattermap": [
           {
            "marker": {
             "colorbar": {
              "outlinewidth": 0,
              "ticks": ""
             }
            },
            "type": "scattermap"
           }
          ],
          "scattermapbox": [
           {
            "marker": {
             "colorbar": {
              "outlinewidth": 0,
              "ticks": ""
             }
            },
            "type": "scattermapbox"
           }
          ],
          "scatterpolar": [
           {
            "marker": {
             "colorbar": {
              "outlinewidth": 0,
              "ticks": ""
             }
            },
            "type": "scatterpolar"
           }
          ],
          "scatterpolargl": [
           {
            "marker": {
             "colorbar": {
              "outlinewidth": 0,
              "ticks": ""
             }
            },
            "type": "scatterpolargl"
           }
          ],
          "scatterternary": [
           {
            "marker": {
             "colorbar": {
              "outlinewidth": 0,
              "ticks": ""
             }
            },
            "type": "scatterternary"
           }
          ],
          "surface": [
           {
            "colorbar": {
             "outlinewidth": 0,
             "ticks": ""
            },
            "colorscale": [
             [
              0,
              "#0d0887"
             ],
             [
              0.1111111111111111,
              "#46039f"
             ],
             [
              0.2222222222222222,
              "#7201a8"
             ],
             [
              0.3333333333333333,
              "#9c179e"
             ],
             [
              0.4444444444444444,
              "#bd3786"
             ],
             [
              0.5555555555555556,
              "#d8576b"
             ],
             [
              0.6666666666666666,
              "#ed7953"
             ],
             [
              0.7777777777777778,
              "#fb9f3a"
             ],
             [
              0.8888888888888888,
              "#fdca26"
             ],
             [
              1,
              "#f0f921"
             ]
            ],
            "type": "surface"
           }
          ],
          "table": [
           {
            "cells": {
             "fill": {
              "color": "#EBF0F8"
             },
             "line": {
              "color": "white"
             }
            },
            "header": {
             "fill": {
              "color": "#C8D4E3"
             },
             "line": {
              "color": "white"
             }
            },
            "type": "table"
           }
          ]
         },
         "layout": {
          "annotationdefaults": {
           "arrowcolor": "#2a3f5f",
           "arrowhead": 0,
           "arrowwidth": 1
          },
          "autotypenumbers": "strict",
          "coloraxis": {
           "colorbar": {
            "outlinewidth": 0,
            "ticks": ""
           }
          },
          "colorscale": {
           "diverging": [
            [
             0,
             "#8e0152"
            ],
            [
             0.1,
             "#c51b7d"
            ],
            [
             0.2,
             "#de77ae"
            ],
            [
             0.3,
             "#f1b6da"
            ],
            [
             0.4,
             "#fde0ef"
            ],
            [
             0.5,
             "#f7f7f7"
            ],
            [
             0.6,
             "#e6f5d0"
            ],
            [
             0.7,
             "#b8e186"
            ],
            [
             0.8,
             "#7fbc41"
            ],
            [
             0.9,
             "#4d9221"
            ],
            [
             1,
             "#276419"
            ]
           ],
           "sequential": [
            [
             0,
             "#0d0887"
            ],
            [
             0.1111111111111111,
             "#46039f"
            ],
            [
             0.2222222222222222,
             "#7201a8"
            ],
            [
             0.3333333333333333,
             "#9c179e"
            ],
            [
             0.4444444444444444,
             "#bd3786"
            ],
            [
             0.5555555555555556,
             "#d8576b"
            ],
            [
             0.6666666666666666,
             "#ed7953"
            ],
            [
             0.7777777777777778,
             "#fb9f3a"
            ],
            [
             0.8888888888888888,
             "#fdca26"
            ],
            [
             1,
             "#f0f921"
            ]
           ],
           "sequentialminus": [
            [
             0,
             "#0d0887"
            ],
            [
             0.1111111111111111,
             "#46039f"
            ],
            [
             0.2222222222222222,
             "#7201a8"
            ],
            [
             0.3333333333333333,
             "#9c179e"
            ],
            [
             0.4444444444444444,
             "#bd3786"
            ],
            [
             0.5555555555555556,
             "#d8576b"
            ],
            [
             0.6666666666666666,
             "#ed7953"
            ],
            [
             0.7777777777777778,
             "#fb9f3a"
            ],
            [
             0.8888888888888888,
             "#fdca26"
            ],
            [
             1,
             "#f0f921"
            ]
           ]
          },
          "colorway": [
           "#636efa",
           "#EF553B",
           "#00cc96",
           "#ab63fa",
           "#FFA15A",
           "#19d3f3",
           "#FF6692",
           "#B6E880",
           "#FF97FF",
           "#FECB52"
          ],
          "font": {
           "color": "#2a3f5f"
          },
          "geo": {
           "bgcolor": "white",
           "lakecolor": "white",
           "landcolor": "#E5ECF6",
           "showlakes": true,
           "showland": true,
           "subunitcolor": "white"
          },
          "hoverlabel": {
           "align": "left"
          },
          "hovermode": "closest",
          "mapbox": {
           "style": "light"
          },
          "paper_bgcolor": "white",
          "plot_bgcolor": "#E5ECF6",
          "polar": {
           "angularaxis": {
            "gridcolor": "white",
            "linecolor": "white",
            "ticks": ""
           },
           "bgcolor": "#E5ECF6",
           "radialaxis": {
            "gridcolor": "white",
            "linecolor": "white",
            "ticks": ""
           }
          },
          "scene": {
           "xaxis": {
            "backgroundcolor": "#E5ECF6",
            "gridcolor": "white",
            "gridwidth": 2,
            "linecolor": "white",
            "showbackground": true,
            "ticks": "",
            "zerolinecolor": "white"
           },
           "yaxis": {
            "backgroundcolor": "#E5ECF6",
            "gridcolor": "white",
            "gridwidth": 2,
            "linecolor": "white",
            "showbackground": true,
            "ticks": "",
            "zerolinecolor": "white"
           },
           "zaxis": {
            "backgroundcolor": "#E5ECF6",
            "gridcolor": "white",
            "gridwidth": 2,
            "linecolor": "white",
            "showbackground": true,
            "ticks": "",
            "zerolinecolor": "white"
           }
          },
          "shapedefaults": {
           "line": {
            "color": "#2a3f5f"
           }
          },
          "ternary": {
           "aaxis": {
            "gridcolor": "white",
            "linecolor": "white",
            "ticks": ""
           },
           "baxis": {
            "gridcolor": "white",
            "linecolor": "white",
            "ticks": ""
           },
           "bgcolor": "#E5ECF6",
           "caxis": {
            "gridcolor": "white",
            "linecolor": "white",
            "ticks": ""
           }
          },
          "title": {
           "x": 0.05
          },
          "xaxis": {
           "automargin": true,
           "gridcolor": "white",
           "linecolor": "white",
           "ticks": "",
           "title": {
            "standoff": 15
           },
           "zerolinecolor": "white",
           "zerolinewidth": 2
          },
          "yaxis": {
           "automargin": true,
           "gridcolor": "white",
           "linecolor": "white",
           "ticks": "",
           "title": {
            "standoff": 15
           },
           "zerolinecolor": "white",
           "zerolinewidth": 2
          }
         }
        },
        "title": {
         "text": "Elbow method"
        },
        "width": 300,
        "xaxis": {
         "anchor": "y",
         "domain": [
          0,
          1
         ],
         "title": {
          "text": "Cluster #"
         }
        },
        "yaxis": {
         "anchor": "x",
         "domain": [
          0,
          1
         ],
         "title": {
          "text": "Inertia"
         }
        }
       }
      }
     },
     "metadata": {},
     "output_type": "display_data"
    }
   ],
   "source": [
    "px.line(\n",
    "    x=range(1, 10), \n",
    "    y=inertia,\n",
    "    labels={\n",
    "        \"y\": \"Inertia\", \n",
    "        \"x\": \"Cluster #\"\n",
    "    },\n",
    "    width=300, height=500,\n",
    "    title=\"Elbow method\"\n",
    ")"
   ]
  },
  {
   "cell_type": "markdown",
   "id": "e152e513",
   "metadata": {},
   "source": [
    "## Silhouette Analysis\n",
    "\n",
    "[Silhouette Visualizer](https://www.scikit-yb.org/en/latest/api/cluster/silhouette.html) comes from the `yellowbrick` package, which will need to be installed in your Anaconda Environment."
   ]
  },
  {
   "cell_type": "code",
   "execution_count": 48,
   "id": "563b2891",
   "metadata": {},
   "outputs": [
    {
     "name": "stderr",
     "output_type": "stream",
     "text": [
      "c:\\Users\\MP_Laptop\\anaconda3\\envs\\EDA_Marc\\lib\\site-packages\\sklearn\\cluster\\_kmeans.py:870: FutureWarning:\n",
      "\n",
      "The default value of `n_init` will change from 10 to 'auto' in 1.4. Set the value of `n_init` explicitly to suppress the warning\n",
      "\n",
      "c:\\Users\\MP_Laptop\\anaconda3\\envs\\EDA_Marc\\lib\\site-packages\\sklearn\\cluster\\_kmeans.py:1382: UserWarning:\n",
      "\n",
      "KMeans is known to have a memory leak on Windows with MKL, when there are less chunks than available threads. You can avoid it by setting the environment variable OMP_NUM_THREADS=5.\n",
      "\n"
     ]
    },
    {
     "data": {
      "text/plain": [
       "0.426720017369043"
      ]
     },
     "execution_count": 48,
     "metadata": {},
     "output_type": "execute_result"
    }
   ],
   "source": [
    "k_clusters = 2 # increment to compare different cluster #s\n",
    "kmeans = KMeans(n_clusters=k_clusters, random_state=420) \n",
    "silhouette_avg = silhouette_score(rfm_df_scaled, kmeans.fit_predict(rfm_df_scaled.values))\n",
    "silhouette_avg"
   ]
  },
  {
   "cell_type": "code",
   "execution_count": 49,
   "id": "e298439d",
   "metadata": {},
   "outputs": [
    {
     "data": {
      "image/png": "[encoded data removed]",
      "text/plain": [
       "<Figure size 800x550 with 1 Axes>"
      ]
     },
     "metadata": {},
     "output_type": "display_data"
    },
    {
     "data": {
      "text/plain": [
       "<Axes: title={'center': 'Silhouette Plot of KMeans Clustering for 1248 Samples in 2 Centers'}, xlabel='silhouette coefficient values', ylabel='cluster label'>"
      ]
     },
     "execution_count": 49,
     "metadata": {},
     "output_type": "execute_result"
    }
   ],
   "source": [
    "visualizer = SilhouetteVisualizer(kmeans)\n",
    "visualizer.fit(rfm_df_scaled.values)\n",
    "visualizer.show()"
   ]
  },
  {
   "cell_type": "code",
   "execution_count": 50,
   "id": "751293e5",
   "metadata": {},
   "outputs": [
    {
     "data": {
      "application/vnd.plotly.v1+json": {
       "config": {
        "plotlyServerURL": "https://plot.ly"
       },
       "data": [
        {
         "hovertemplate": "Total_Orders=%{x}<br>Orders_with_Discount=%{y}<br>Units=%{z}<br>cluster=%{marker.color}<extra></extra>",
         "legendgroup": "",
         "marker": {
          "color": {
           "bdata": "AAAAAAAAAAAAAAAAAQAAAAEAAAABAAAAAAAAAAAAAAAAAAAAAQAAAAAAAAAAAAAAAQAAAAEAAAABAAAAAQAAAAAAAAABAAAAAAAAAAEAAAABAAAAAAAAAAEAAAAAAAAAAQAAAAEAAAABAAAAAQAAAAEAAAAAAAAAAAAAAAEAAAABAAAAAAAAAAEAAAAAAAAAAAAAAAEAAAAAAAAAAAAAAAEAAAABAAAAAQAAAAEAAAAAAAAAAQAAAAEAAAABAAAAAQAAAAAAAAABAAAAAQAAAAAAAAABAAAAAQAAAAEAAAABAAAAAQAAAAEAAAABAAAAAAAAAAEAAAABAAAAAQAAAAEAAAABAAAAAQAAAAEAAAABAAAAAQAAAAEAAAAAAAAAAQAAAAEAAAAAAAAAAAAAAAAAAAAAAAAAAAAAAAAAAAABAAAAAQAAAAAAAAAAAAAAAAAAAAAAAAAAAAAAAQAAAAAAAAAAAAAAAAAAAAAAAAAAAAAAAAAAAAAAAAAAAAAAAQAAAAAAAAABAAAAAAAAAAAAAAAAAAAAAAAAAAAAAAABAAAAAAAAAAAAAAAAAAAAAQAAAAAAAAAAAAAAAAAAAAEAAAABAAAAAAAAAAAAAAAAAAAAAAAAAAEAAAABAAAAAAAAAAEAAAABAAAAAQAAAAAAAAAAAAAAAAAAAAEAAAABAAAAAAAAAAEAAAABAAAAAQAAAAAAAAAAAAAAAAAAAAEAAAAAAAAAAQAAAAAAAAABAAAAAQAAAAAAAAAAAAAAAAAAAAEAAAAAAAAAAAAAAAAAAAAAAAAAAAAAAAAAAAAAAAAAAAAAAAAAAAAAAAAAAAAAAAAAAAAAAAAAAQAAAAAAAAAAAAAAAQAAAAAAAAAAAAAAAQAAAAAAAAAAAAAAAAAAAAAAAAAAAAAAAQAAAAAAAAAAAAAAAAAAAAAAAAAAAAAAAQAAAAAAAAAAAAAAAAAAAAAAAAABAAAAAQAAAAEAAAABAAAAAAAAAAAAAAAAAAAAAAAAAAAAAAAAAAAAAAAAAAAAAAABAAAAAAAAAAEAAAAAAAAAAAAAAAAAAAABAAAAAQAAAAAAAAABAAAAAAAAAAAAAAAAAAAAAAAAAAEAAAAAAAAAAQAAAAAAAAAAAAAAAAAAAAAAAAAAAAAAAQAAAAAAAAAAAAAAAAAAAAEAAAAAAAAAAQAAAAAAAAAAAAAAAAAAAAAAAAAAAAAAAAAAAAEAAAABAAAAAAAAAAEAAAAAAAAAAAAAAAEAAAABAAAAAAAAAAAAAAAAAAAAAAAAAAAAAAAAAAAAAAAAAAEAAAABAAAAAQAAAAAAAAAAAAAAAAAAAAEAAAABAAAAAAAAAAEAAAAAAAAAAAAAAAEAAAAAAAAAAAAAAAAAAAAAAAAAAAAAAAEAAAAAAAAAAQAAAAAAAAAAAAAAAAAAAAEAAAAAAAAAAAAAAAAAAAAAAAAAAQAAAAAAAAAAAAAAAAAAAAEAAAAAAAAAAQAAAAEAAAABAAAAAAAAAAAAAAAAAAAAAAAAAAAAAAAAAAAAAQAAAAEAAAAAAAAAAAAAAAEAAAAAAAAAAQAAAAAAAAAAAAAAAQAAAAAAAAABAAAAAAAAAAAAAAAAAAAAAQAAAAAAAAAAAAAAAQAAAAAAAAAAAAAAAAAAAAAAAAAAAAAAAAAAAAAAAAAAAAAAAAAAAAEAAAABAAAAAQAAAAEAAAAAAAAAAAAAAAAAAAAAAAAAAQAAAAAAAAABAAAAAQAAAAEAAAAAAAAAAQAAAAAAAAABAAAAAQAAAAAAAAABAAAAAAAAAAAAAAABAAAAAAAAAAEAAAABAAAAAAAAAAAAAAABAAAAAAAAAAAAAAAAAAAAAAAAAAEAAAAAAAAAAAAAAAEAAAABAAAAAQAAAAAAAAAAAAAAAAAAAAAAAAAAAAAAAAAAAAAAAAABAAAAAQAAAAEAAAAAAAAAAAAAAAAAAAABAAAAAQAAAAEAAAABAAAAAQAAAAEAAAAAAAAAAAAAAAEAAAABAAAAAQAAAAEAAAABAAAAAQAAAAEAAAAAAAAAAAAAAAAAAAAAAAAAAAAAAAEAAAAAAAAAAQAAAAAAAAABAAAAAAAAAAAAAAAAAAAAAAAAAAAAAAAAAAAAAQAAAAAAAAABAAAAAAAAAAAAAAABAAAAAQAAAAAAAAAAAAAAAAAAAAEAAAAAAAAAAQAAAAAAAAAAAAAAAAAAAAEAAAAAAAAAAAAAAAAAAAABAAAAAQAAAAEAAAABAAAAAQAAAAAAAAABAAAAAQAAAAEAAAAAAAAAAQAAAAEAAAABAAAAAAAAAAEAAAABAAAAAQAAAAEAAAABAAAAAAAAAAEAAAABAAAAAQAAAAAAAAAAAAAAAQAAAAAAAAABAAAAAQAAAAEAAAABAAAAAQAAAAEAAAABAAAAAQAAAAEAAAABAAAAAQAAAAAAAAABAAAAAQAAAAAAAAABAAAAAQAAAAEAAAABAAAAAQAAAAAAAAAAAAAAAQAAAAEAAAABAAAAAAAAAAEAAAABAAAAAQAAAAEAAAABAAAAAQAAAAEAAAABAAAAAQAAAAEAAAABAAAAAQAAAAAAAAAAAAAAAQAAAAEAAAAAAAAAAQAAAAEAAAAAAAAAAQAAAAEAAAAAAAAAAQAAAAEAAAABAAAAAQAAAAEAAAABAAAAAQAAAAAAAAABAAAAAQAAAAEAAAABAAAAAQAAAAAAAAAAAAAAAQAAAAEAAAABAAAAAQAAAAEAAAABAAAAAQAAAAAAAAABAAAAAQAAAAEAAAABAAAAAAAAAAEAAAAAAAAAAAAAAAEAAAAAAAAAAQAAAAAAAAABAAAAAAAAAAEAAAAAAAAAAQAAAAAAAAABAAAAAQAAAAAAAAABAAAAAQAAAAAAAAAAAAAAAAAAAAAAAAAAAAAAAQAAAAEAAAAAAAAAAAAAAAEAAAAAAAAAAQAAAAAAAAABAAAAAAAAAAEAAAABAAAAAAAAAAEAAAAAAAAAAAAAAAAAAAAAAAAAAAAAAAAAAAABAAAAAAAAAAAAAAABAAAAAAAAAAEAAAAAAAAAAAAAAAAAAAAAAAAAAAAAAAAAAAAAAAAAAAAAAAEAAAABAAAAAAAAAAAAAAAAAAAAAAAAAAEAAAAAAAAAAQAAAAEAAAABAAAAAQAAAAAAAAAAAAAAAQAAAAAAAAAAAAAAAAAAAAEAAAAAAAAAAAAAAAAAAAABAAAAAQAAAAAAAAABAAAAAQAAAAEAAAABAAAAAAAAAAEAAAAAAAAAAAAAAAEAAAAAAAAAAAAAAAEAAAABAAAAAAAAAAEAAAAAAAAAAAAAAAEAAAAAAAAAAAAAAAAAAAAAAAAAAQAAAAEAAAAAAAAAAAAAAAAAAAAAAAAAAQAAAAEAAAAAAAAAAAAAAAAAAAAAAAAAAAAAAAAAAAAAAAAAAAAAAAAAAAAAAAAAAAAAAAAAAAABAAAAAAAAAAAAAAAAAAAAAQAAAAAAAAAAAAAAAAAAAAEAAAABAAAAAQAAAAEAAAAAAAAAAQAAAAAAAAAAAAAAAAAAAAAAAAABAAAAAQAAAAAAAAAAAAAAAAAAAAEAAAAAAAAAAAAAAAEAAAAAAAAAAAAAAAAAAAABAAAAAAAAAAAAAAABAAAAAQAAAAAAAAABAAAAAQAAAAAAAAAAAAAAAAAAAAAAAAAAAAAAAAAAAAAAAAABAAAAAAAAAAAAAAABAAAAAQAAAAEAAAAAAAAAAQAAAAAAAAAAAAAAAAAAAAAAAAAAAAAAAAAAAAAAAAAAAAAAAAAAAAAAAAABAAAAAAAAAAAAAAAAAAAAAQAAAAAAAAAAAAAAAAAAAAAAAAAAAAAAAQAAAAEAAAAAAAAAAAAAAAAAAAAAAAAAAQAAAAEAAAABAAAAAQAAAAAAAAABAAAAAAAAAAAAAAAAAAAAAAAAAAAAAAAAAAAAAQAAAAAAAAABAAAAAAAAAAAAAAAAAAAAAAAAAAAAAAAAAAAAAQAAAAAAAAAAAAAAAAAAAAAAAAAAAAAAAQAAAAEAAAAAAAAAAAAAAAAAAAAAAAAAAQAAAAAAAAABAAAAAQAAAAAAAAAAAAAAAQAAAAAAAAABAAAAAQAAAAAAAAABAAAAAQAAAAEAAAABAAAAAQAAAAAAAAAAAAAAAAAAAAEAAAAAAAAAAAAAAAEAAAABAAAAAAAAAAAAAAAAAAAAAAAAAAEAAAABAAAAAQAAAAEAAAAAAAAAAAAAAAAAAAABAAAAAQAAAAAAAAABAAAAAAAAAAAAAAAAAAAAAQAAAAAAAAAAAAAAAQAAAAAAAAAAAAAAAAAAAAAAAAABAAAAAAAAAAAAAAAAAAAAAQAAAAAAAAAAAAAAAAAAAAAAAAABAAAAAAAAAAAAAAAAAAAAAQAAAAEAAAAAAAAAAAAAAAAAAAABAAAAAQAAAAAAAAAAAAAAAAAAAAEAAAAAAAAAAAAAAAAAAAAAAAAAAQAAAAAAAAAAAAAAAAAAAAEAAAABAAAAAAAAAAAAAAABAAAAAAAAAAAAAAAAAAAAAQAAAAAAAAAAAAAAAQAAAAAAAAAAAAAAAAAAAAEAAAABAAAAAAAAAAAAAAABAAAAAAAAAAEAAAAAAAAAAAAAAAAAAAAAAAAAAAAAAAAAAAAAAAAAAAAAAAAAAAAAAAAAAQAAAAAAAAAAAAAAAAAAAAAAAAAAAAAAAAAAAAEAAAABAAAAAAAAAAAAAAAAAAAAAAAAAAEAAAAAAAAAAAAAAAEAAAAAAAAAAAAAAAEAAAAAAAAAAQAAAAEAAAABAAAAAAAAAAAAAAAAAAAAAQAAAAAAAAAAAAAAAQAAAAEAAAABAAAAAQAAAAAAAAABAAAAAAAAAAEAAAAAAAAAAAAAAAAAAAABAAAAAAAAAAAAAAABAAAAAQAAAAEAAAAAAAAAAAAAAAAAAAAAAAAAAAAAAAEAAAABAAAAAQAAAAAAAAABAAAAAQAAAAEAAAAAAAAAAQAAAAAAAAABAAAAAQAAAAAAAAABAAAAAAAAAAAAAAABAAAAAAAAAAAAAAABAAAAAQAAAAEAAAAAAAAAAQAAAAAAAAAAAAAAAQAAAAAAAAAAAAAAAQAAAAEAAAAAAAAAAQAAAAAAAAAAAAAAAQAAAAAAAAABAAAAAQAAAAAAAAAAAAAAAAAAAAEAAAAAAAAAAQAAAAEAAAAAAAAAAAAAAAAAAAAAAAAAAQAAAAEAAAAAAAAAAAAAAAEAAAAAAAAAAQAAAAAAAAABAAAAAAAAAAAAAAAAAAAAAAAAAAEAAAAAAAAAAAAAAAEAAAABAAAAAAAAAAAAAAAAAAAAAAAAAAAAAAAAAAAAAQAAAAAAAAAAAAAAAAAAAAEAAAABAAAAAQAAAAAAAAAAAAAAAAAAAAAAAAAAAAAAAAAAAAEAAAAAAAAAAAAAAAEAAAAAAAAAAAAAAAAAAAAAAAAAAQAAAAAAAAAAAAAAAQAAAAEAAAABAAAAAQAAAAEAAAABAAAAAAAAAAEAAAABAAAAAAAAAAEAAAABAAAAAAAAAAEAAAABAAAAAQAAAAAAAAABAAAAAQAAAAAAAAAAAAAAAQAAAAAAAAAAAAAAAAAAAAAAAAAAAAAAAAAAAAEAAAAAAAAAAQAAAAAAAAABAAAAAQAAAAAAAAABAAAAAQAAAAAAAAAAAAAAAQAAAAAAAAAAAAAAAQAAAAEAAAAAAAAAAQAAAAAAAAAAAAAAAQAAAAEAAAAAAAAAAAAAAAAAAAAAAAAAAAAAAAEAAAABAAAAAAAAAAAAAAAAAAAAAAAAAAAAAAABAAAAAQAAAAEAAAABAAAAAQAAAAAAAAABAAAAAQAAAAAAAAAAAAAAAAAAAAAAAAAAAAAAAAAAAAAAAAAAAAAAAQAAAAAAAAABAAAAAQAAAAEAAAABAAAAAAAAAAAAAAAAAAAAAQAAAAAAAAAAAAAAAAAAAAAAAAAAAAAAAAAAAAAAAAAAAAAAAAAAAAAAAAAAAAAAAAAAAAAAAAAAAAAAAAAAAAAAAAAAAAAAAQAAAAEAAAAAAAAAAAAAAAAAAAABAAAAAQAAAAAAAAABAAAAAAAAAAEAAAABAAAAAQAAAAAAAAAAAAAAAAAAAAEAAAABAAAAAAAAAAAAAAABAAAAAAAAAAAAAAAAAAAAAAAAAAEAAAABAAAAAAAAAAEAAAAAAAAAAQAAAAAAAAAAAAAAAAAAAAEAAAAAAAAAAAAAAAAAAAABAAAAAQAAAAAAAAAAAAAAAAAAAAAAAAAAAAAAAAAAAAAAAAAAAAAAAAAAAAEAAAAAAAAAAAAAAAAAAAABAAAAAAAAAAAAAAABAAAAAAAAAAAAAAAAAAAAAAAAAAAAAAAAAAAAAQAAAAAAAAABAAAAAAAAAAAAAAABAAAAAAAAAAAAAAABAAAAAQAAAAAAAAAAAAAAAAAAAAEAAAABAAAAAQAAAAEAAAABAAAAAQAAAAEAAAAAAAAAAAAAAAAAAAAAAAAAAQAAAAAAAAABAAAAAAAAAAEAAAAAAAAAAAAAAAAAAAABAAAAAQAAAAAAAAAAAAAAAQAAAAEAAAABAAAAAQAAAAEAAAABAAAAAAAAAAAAAAABAAAAAAAAAAAAAAAAAAAAAQAAAAEAAAABAAAAAAAAAAAAAAABAAAAAAAAAAAAAAABAAAA",
           "dtype": "i4"
          },
          "coloraxis": "coloraxis",
          "symbol": "circle"
         },
         "mode": "markers",
         "name": "",
         "scene": "scene",
         "showlegend": false,
         "type": "scatter3d",
         "x": {
          "bdata": "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",
          "dtype": "f8"
         },
         "y": {
          "bdata": "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",
          "dtype": "f8"
         },
         "z": {
          "bdata": "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",
          "dtype": "f8"
         }
        }
       ],
       "layout": {
        "coloraxis": {
         "colorbar": {
          "title": {
           "text": "cluster"
          }
         },
         "colorscale": [
          [
           0,
           "#0d0887"
          ],
          [
           0.1111111111111111,
           "#46039f"
          ],
          [
           0.2222222222222222,
           "#7201a8"
          ],
          [
           0.3333333333333333,
           "#9c179e"
          ],
          [
           0.4444444444444444,
           "#bd3786"
          ],
          [
           0.5555555555555556,
           "#d8576b"
          ],
          [
           0.6666666666666666,
           "#ed7953"
          ],
          [
           0.7777777777777778,
           "#fb9f3a"
          ],
          [
           0.8888888888888888,
           "#fdca26"
          ],
          [
           1,
           "#f0f921"
          ]
         ]
        },
        "height": 500,
        "legend": {
         "tracegroupgap": 0
        },
        "scene": {
         "domain": {
          "x": [
           0,
           1
          ],
          "y": [
           0,
           1
          ]
         },
         "xaxis": {
          "title": {
           "text": "Total_Orders"
          }
         },
         "yaxis": {
          "title": {
           "text": "Orders_with_Discount"
          }
         },
         "zaxis": {
          "title": {
           "text": "Units"
          }
         }
        },
        "template": {
         "data": {
          "bar": [
           {
            "error_x": {
             "color": "#2a3f5f"
            },
            "error_y": {
             "color": "#2a3f5f"
            },
            "marker": {
             "line": {
              "color": "#E5ECF6",
              "width": 0.5
             },
             "pattern": {
              "fillmode": "overlay",
              "size": 10,
              "solidity": 0.2
             }
            },
            "type": "bar"
           }
          ],
          "barpolar": [
           {
            "marker": {
             "line": {
              "color": "#E5ECF6",
              "width": 0.5
             },
             "pattern": {
              "fillmode": "overlay",
              "size": 10,
              "solidity": 0.2
             }
            },
            "type": "barpolar"
           }
          ],
          "carpet": [
           {
            "aaxis": {
             "endlinecolor": "#2a3f5f",
             "gridcolor": "white",
             "linecolor": "white",
             "minorgridcolor": "white",
             "startlinecolor": "#2a3f5f"
            },
            "baxis": {
             "endlinecolor": "#2a3f5f",
             "gridcolor": "white",
             "linecolor": "white",
             "minorgridcolor": "white",
             "startlinecolor": "#2a3f5f"
            },
            "type": "carpet"
           }
          ],
          "choropleth": [
           {
            "colorbar": {
             "outlinewidth": 0,
             "ticks": ""
            },
            "type": "choropleth"
           }
          ],
          "contour": [
           {
            "colorbar": {
             "outlinewidth": 0,
             "ticks": ""
            },
            "colorscale": [
             [
              0,
              "#0d0887"
             ],
             [
              0.1111111111111111,
              "#46039f"
             ],
             [
              0.2222222222222222,
              "#7201a8"
             ],
             [
              0.3333333333333333,
              "#9c179e"
             ],
             [
              0.4444444444444444,
              "#bd3786"
             ],
             [
              0.5555555555555556,
              "#d8576b"
             ],
             [
              0.6666666666666666,
              "#ed7953"
             ],
             [
              0.7777777777777778,
              "#fb9f3a"
             ],
             [
              0.8888888888888888,
              "#fdca26"
             ],
             [
              1,
              "#f0f921"
             ]
            ],
            "type": "contour"
           }
          ],
          "contourcarpet": [
           {
            "colorbar": {
             "outlinewidth": 0,
             "ticks": ""
            },
            "type": "contourcarpet"
           }
          ],
          "heatmap": [
           {
            "colorbar": {
             "outlinewidth": 0,
             "ticks": ""
            },
            "colorscale": [
             [
              0,
              "#0d0887"
             ],
             [
              0.1111111111111111,
              "#46039f"
             ],
             [
              0.2222222222222222,
              "#7201a8"
             ],
             [
              0.3333333333333333,
              "#9c179e"
             ],
             [
              0.4444444444444444,
              "#bd3786"
             ],
             [
              0.5555555555555556,
              "#d8576b"
             ],
             [
              0.6666666666666666,
              "#ed7953"
             ],
             [
              0.7777777777777778,
              "#fb9f3a"
             ],
             [
              0.8888888888888888,
              "#fdca26"
             ],
             [
              1,
              "#f0f921"
             ]
            ],
            "type": "heatmap"
           }
          ],
          "histogram": [
           {
            "marker": {
             "pattern": {
              "fillmode": "overlay",
              "size": 10,
              "solidity": 0.2
             }
            },
            "type": "histogram"
           }
          ],
          "histogram2d": [
           {
            "colorbar": {
             "outlinewidth": 0,
             "ticks": ""
            },
            "colorscale": [
             [
              0,
              "#0d0887"
             ],
             [
              0.1111111111111111,
              "#46039f"
             ],
             [
              0.2222222222222222,
              "#7201a8"
             ],
             [
              0.3333333333333333,
              "#9c179e"
             ],
             [
              0.4444444444444444,
              "#bd3786"
             ],
             [
              0.5555555555555556,
              "#d8576b"
             ],
             [
              0.6666666666666666,
              "#ed7953"
             ],
             [
              0.7777777777777778,
              "#fb9f3a"
             ],
             [
              0.8888888888888888,
              "#fdca26"
             ],
             [
              1,
              "#f0f921"
             ]
            ],
            "type": "histogram2d"
           }
          ],
          "histogram2dcontour": [
           {
            "colorbar": {
             "outlinewidth": 0,
             "ticks": ""
            },
            "colorscale": [
             [
              0,
              "#0d0887"
             ],
             [
              0.1111111111111111,
              "#46039f"
             ],
             [
              0.2222222222222222,
              "#7201a8"
             ],
             [
              0.3333333333333333,
              "#9c179e"
             ],
             [
              0.4444444444444444,
              "#bd3786"
             ],
             [
              0.5555555555555556,
              "#d8576b"
             ],
             [
              0.6666666666666666,
              "#ed7953"
             ],
             [
              0.7777777777777778,
              "#fb9f3a"
             ],
             [
              0.8888888888888888,
              "#fdca26"
             ],
             [
              1,
              "#f0f921"
             ]
            ],
            "type": "histogram2dcontour"
           }
          ],
          "mesh3d": [
           {
            "colorbar": {
             "outlinewidth": 0,
             "ticks": ""
            },
            "type": "mesh3d"
           }
          ],
          "parcoords": [
           {
            "line": {
             "colorbar": {
              "outlinewidth": 0,
              "ticks": ""
             }
            },
            "type": "parcoords"
           }
          ],
          "pie": [
           {
            "automargin": true,
            "type": "pie"
           }
          ],
          "scatter": [
           {
            "fillpattern": {
             "fillmode": "overlay",
             "size": 10,
             "solidity": 0.2
            },
            "type": "scatter"
           }
          ],
          "scatter3d": [
           {
            "line": {
             "colorbar": {
              "outlinewidth": 0,
              "ticks": ""
             }
            },
            "marker": {
             "colorbar": {
              "outlinewidth": 0,
              "ticks": ""
             }
            },
            "type": "scatter3d"
           }
          ],
          "scattercarpet": [
           {
            "marker": {
             "colorbar": {
              "outlinewidth": 0,
              "ticks": ""
             }
            },
            "type": "scattercarpet"
           }
          ],
          "scattergeo": [
           {
            "marker": {
             "colorbar": {
              "outlinewidth": 0,
              "ticks": ""
             }
            },
            "type": "scattergeo"
           }
          ],
          "scattergl": [
           {
            "marker": {
             "colorbar": {
              "outlinewidth": 0,
              "ticks": ""
             }
            },
            "type": "scattergl"
           }
          ],
          "scattermap": [
           {
            "marker": {
             "colorbar": {
              "outlinewidth": 0,
              "ticks": ""
             }
            },
            "type": "scattermap"
           }
          ],
          "scattermapbox": [
           {
            "marker": {
             "colorbar": {
              "outlinewidth": 0,
              "ticks": ""
             }
            },
            "type": "scattermapbox"
           }
          ],
          "scatterpolar": [
           {
            "marker": {
             "colorbar": {
              "outlinewidth": 0,
              "ticks": ""
             }
            },
            "type": "scatterpolar"
           }
          ],
          "scatterpolargl": [
           {
            "marker": {
             "colorbar": {
              "outlinewidth": 0,
              "ticks": ""
             }
            },
            "type": "scatterpolargl"
           }
          ],
          "scatterternary": [
           {
            "marker": {
             "colorbar": {
              "outlinewidth": 0,
              "ticks": ""
             }
            },
            "type": "scatterternary"
           }
          ],
          "surface": [
           {
            "colorbar": {
             "outlinewidth": 0,
             "ticks": ""
            },
            "colorscale": [
             [
              0,
              "#0d0887"
             ],
             [
              0.1111111111111111,
              "#46039f"
             ],
             [
              0.2222222222222222,
              "#7201a8"
             ],
             [
              0.3333333333333333,
              "#9c179e"
             ],
             [
              0.4444444444444444,
              "#bd3786"
             ],
             [
              0.5555555555555556,
              "#d8576b"
             ],
             [
              0.6666666666666666,
              "#ed7953"
             ],
             [
              0.7777777777777778,
              "#fb9f3a"
             ],
             [
              0.8888888888888888,
              "#fdca26"
             ],
             [
              1,
              "#f0f921"
             ]
            ],
            "type": "surface"
           }
          ],
          "table": [
           {
            "cells": {
             "fill": {
              "color": "#EBF0F8"
             },
             "line": {
              "color": "white"
             }
            },
            "header": {
             "fill": {
              "color": "#C8D4E3"
             },
             "line": {
              "color": "white"
             }
            },
            "type": "table"
           }
          ]
         },
         "layout": {
          "annotationdefaults": {
           "arrowcolor": "#2a3f5f",
           "arrowhead": 0,
           "arrowwidth": 1
          },
          "autotypenumbers": "strict",
          "coloraxis": {
           "colorbar": {
            "outlinewidth": 0,
            "ticks": ""
           }
          },
          "colorscale": {
           "diverging": [
            [
             0,
             "#8e0152"
            ],
            [
             0.1,
             "#c51b7d"
            ],
            [
             0.2,
             "#de77ae"
            ],
            [
             0.3,
             "#f1b6da"
            ],
            [
             0.4,
             "#fde0ef"
            ],
            [
             0.5,
             "#f7f7f7"
            ],
            [
             0.6,
             "#e6f5d0"
            ],
            [
             0.7,
             "#b8e186"
            ],
            [
             0.8,
             "#7fbc41"
            ],
            [
             0.9,
             "#4d9221"
            ],
            [
             1,
             "#276419"
            ]
           ],
           "sequential": [
            [
             0,
             "#0d0887"
            ],
            [
             0.1111111111111111,
             "#46039f"
            ],
            [
             0.2222222222222222,
             "#7201a8"
            ],
            [
             0.3333333333333333,
             "#9c179e"
            ],
            [
             0.4444444444444444,
             "#bd3786"
            ],
            [
             0.5555555555555556,
             "#d8576b"
            ],
            [
             0.6666666666666666,
             "#ed7953"
            ],
            [
             0.7777777777777778,
             "#fb9f3a"
            ],
            [
             0.8888888888888888,
             "#fdca26"
            ],
            [
             1,
             "#f0f921"
            ]
           ],
           "sequentialminus": [
            [
             0,
             "#0d0887"
            ],
            [
             0.1111111111111111,
             "#46039f"
            ],
            [
             0.2222222222222222,
             "#7201a8"
            ],
            [
             0.3333333333333333,
             "#9c179e"
            ],
            [
             0.4444444444444444,
             "#bd3786"
            ],
            [
             0.5555555555555556,
             "#d8576b"
            ],
            [
             0.6666666666666666,
             "#ed7953"
            ],
            [
             0.7777777777777778,
             "#fb9f3a"
            ],
            [
             0.8888888888888888,
             "#fdca26"
            ],
            [
             1,
             "#f0f921"
            ]
           ]
          },
          "colorway": [
           "#636efa",
           "#EF553B",
           "#00cc96",
           "#ab63fa",
           "#FFA15A",
           "#19d3f3",
           "#FF6692",
           "#B6E880",
           "#FF97FF",
           "#FECB52"
          ],
          "font": {
           "color": "#2a3f5f"
          },
          "geo": {
           "bgcolor": "white",
           "lakecolor": "white",
           "landcolor": "#E5ECF6",
           "showlakes": true,
           "showland": true,
           "subunitcolor": "white"
          },
          "hoverlabel": {
           "align": "left"
          },
          "hovermode": "closest",
          "mapbox": {
           "style": "light"
          },
          "paper_bgcolor": "white",
          "plot_bgcolor": "#E5ECF6",
          "polar": {
           "angularaxis": {
            "gridcolor": "white",
            "linecolor": "white",
            "ticks": ""
           },
           "bgcolor": "#E5ECF6",
           "radialaxis": {
            "gridcolor": "white",
            "linecolor": "white",
            "ticks": ""
           }
          },
          "scene": {
           "xaxis": {
            "backgroundcolor": "#E5ECF6",
            "gridcolor": "white",
            "gridwidth": 2,
            "linecolor": "white",
            "showbackground": true,
            "ticks": "",
            "zerolinecolor": "white"
           },
           "yaxis": {
            "backgroundcolor": "#E5ECF6",
            "gridcolor": "white",
            "gridwidth": 2,
            "linecolor": "white",
            "showbackground": true,
            "ticks": "",
            "zerolinecolor": "white"
           },
           "zaxis": {
            "backgroundcolor": "#E5ECF6",
            "gridcolor": "white",
            "gridwidth": 2,
            "linecolor": "white",
            "showbackground": true,
            "ticks": "",
            "zerolinecolor": "white"
           }
          },
          "shapedefaults": {
           "line": {
            "color": "#2a3f5f"
           }
          },
          "ternary": {
           "aaxis": {
            "gridcolor": "white",
            "linecolor": "white",
            "ticks": ""
           },
           "baxis": {
            "gridcolor": "white",
            "linecolor": "white",
            "ticks": ""
           },
           "bgcolor": "#E5ECF6",
           "caxis": {
            "gridcolor": "white",
            "linecolor": "white",
            "ticks": ""
           }
          },
          "title": {
           "x": 0.05
          },
          "xaxis": {
           "automargin": true,
           "gridcolor": "white",
           "linecolor": "white",
           "ticks": "",
           "title": {
            "standoff": 15
           },
           "zerolinecolor": "white",
           "zerolinewidth": 2
          },
          "yaxis": {
           "automargin": true,
           "gridcolor": "white",
           "linecolor": "white",
           "ticks": "",
           "title": {
            "standoff": 15
           },
           "zerolinecolor": "white",
           "zerolinewidth": 2
          }
         }
        },
        "title": {
         "text": "KMeans | 2 Clusters<br>Silhouette Average: 0.427  |  Davies-Bouldin Index: 0.890"
        },
        "width": 600
       }
      }
     },
     "metadata": {},
     "output_type": "display_data"
    }
   ],
   "source": [
    "from sklearn.metrics import davies_bouldin_score\n",
    "\n",
    "# modify rfm_df_scaled and add cluster labels\n",
    "df_preds = rfm_df_scaled.copy()\n",
    "df_preds[\"cluster\"] = kmeans.labels_\n",
    "\n",
    "db_index = davies_bouldin_score(rfm_df_scaled, kmeans.labels_)\n",
    "# print(f\"Davies-Bouldin Index (KMeans, n_clusters={k_clusters}): {db_index:.3f}\")\n",
    "\n",
    "px.scatter_3d(\n",
    "    df_preds, \n",
    "    x=\"Total_Orders\", y=\"Orders_with_Discount\", z=\"Units\", \n",
    "    height=500, width=600, color=\"cluster\", \n",
    "    title=f\"KMeans | {k_clusters} Clusters<br>Silhouette Average: {silhouette_avg:.3f}  |  Davies-Bouldin Index: {db_index:.3f}\"\n",
    ")"
   ]
  },
  {
   "cell_type": "code",
   "execution_count": 51,
   "id": "287b42da",
   "metadata": {},
   "outputs": [
    {
     "data": {
      "application/vnd.microsoft.datawrangler.viewer.v0+json": {
       "columns": [
        {
         "name": "index",
         "rawType": "int64",
         "type": "integer"
        },
        {
         "name": "product_id",
         "rawType": "object",
         "type": "string"
        },
        {
         "name": "Total_Orders",
         "rawType": "int64",
         "type": "integer"
        },
        {
         "name": "Orders_with_Discount",
         "rawType": "int64",
         "type": "integer"
        },
        {
         "name": "Units",
         "rawType": "int64",
         "type": "integer"
        },
        {
         "name": "cluster",
         "rawType": "int32",
         "type": "integer"
        }
       ],
       "ref": "f0b2fd0a-35ec-4f1a-a8b7-9c385ccc2a1f",
       "rows": [
        [
         "0",
         "FUR-BO-10000330",
         "3",
         "2",
         "10",
         "0"
        ],
        [
         "1",
         "FUR-BO-10001519",
         "5",
         "3",
         "22",
         "0"
        ],
        [
         "2",
         "FUR-BO-10001619",
         "2",
         "1",
         "6",
         "0"
        ],
        [
         "3",
         "FUR-BO-10001811",
         "8",
         "8",
         "26",
         "1"
        ],
        [
         "4",
         "FUR-BO-10002213",
         "6",
         "6",
         "27",
         "1"
        ]
       ],
       "shape": {
        "columns": 5,
        "rows": 5
       }
      },
      "text/html": [
       "<div>\n",
       "<style scoped>\n",
       "    .dataframe tbody tr th:only-of-type {\n",
       "        vertical-align: middle;\n",
       "    }\n",
       "\n",
       "    .dataframe tbody tr th {\n",
       "        vertical-align: top;\n",
       "    }\n",
       "\n",
       "    .dataframe thead th {\n",
       "        text-align: right;\n",
       "    }\n",
       "</style>\n",
       "<table border=\"1\" class=\"dataframe\">\n",
       "  <thead>\n",
       "    <tr style=\"text-align: right;\">\n",
       "      <th></th>\n",
       "      <th>product_id</th>\n",
       "      <th>Total_Orders</th>\n",
       "      <th>Orders_with_Discount</th>\n",
       "      <th>Units</th>\n",
       "      <th>cluster</th>\n",
       "    </tr>\n",
       "  </thead>\n",
       "  <tbody>\n",
       "    <tr>\n",
       "      <th>0</th>\n",
       "      <td>FUR-BO-10000330</td>\n",
       "      <td>3</td>\n",
       "      <td>2</td>\n",
       "      <td>10</td>\n",
       "      <td>0</td>\n",
       "    </tr>\n",
       "    <tr>\n",
       "      <th>1</th>\n",
       "      <td>FUR-BO-10001519</td>\n",
       "      <td>5</td>\n",
       "      <td>3</td>\n",
       "      <td>22</td>\n",
       "      <td>0</td>\n",
       "    </tr>\n",
       "    <tr>\n",
       "      <th>2</th>\n",
       "      <td>FUR-BO-10001619</td>\n",
       "      <td>2</td>\n",
       "      <td>1</td>\n",
       "      <td>6</td>\n",
       "      <td>0</td>\n",
       "    </tr>\n",
       "    <tr>\n",
       "      <th>3</th>\n",
       "      <td>FUR-BO-10001811</td>\n",
       "      <td>8</td>\n",
       "      <td>8</td>\n",
       "      <td>26</td>\n",
       "      <td>1</td>\n",
       "    </tr>\n",
       "    <tr>\n",
       "      <th>4</th>\n",
       "      <td>FUR-BO-10002213</td>\n",
       "      <td>6</td>\n",
       "      <td>6</td>\n",
       "      <td>27</td>\n",
       "      <td>1</td>\n",
       "    </tr>\n",
       "  </tbody>\n",
       "</table>\n",
       "</div>"
      ],
      "text/plain": [
       "        product_id  Total_Orders  Orders_with_Discount  Units  cluster\n",
       "0  FUR-BO-10000330             3                     2     10        0\n",
       "1  FUR-BO-10001519             5                     3     22        0\n",
       "2  FUR-BO-10001619             2                     1      6        0\n",
       "3  FUR-BO-10001811             8                     8     26        1\n",
       "4  FUR-BO-10002213             6                     6     27        1"
      ]
     },
     "execution_count": 51,
     "metadata": {},
     "output_type": "execute_result"
    }
   ],
   "source": [
    "# Bring cluster results (labels) back to original dataframe df before scaling \n",
    "\n",
    "# Merge cluster labels from df_preds back to the original df using index alignment\n",
    "df_with_clusters = df.copy()\n",
    "df_with_clusters = df_with_clusters.join(df_preds[[\"cluster\"]])\n",
    "\n",
    "df_with_clusters.head()"
   ]
  },
  {
   "cell_type": "code",
   "execution_count": 52,
   "id": "96439181",
   "metadata": {},
   "outputs": [
    {
     "data": {
      "application/vnd.plotly.v1+json": {
       "config": {
        "plotlyServerURL": "https://plot.ly"
       },
       "data": [
        {
         "hovertemplate": "Total_Orders=%{x}<br>Orders_with_Discount=%{y}<br>Units=%{z}<br>cluster=%{marker.color}<extra></extra>",
         "legendgroup": "",
         "marker": {
          "color": {
           "bdata": "AAAAAAAAAAAAAAAAAQAAAAEAAAABAAAAAAAAAAAAAAAAAAAAAQAAAAAAAAAAAAAAAQAAAAEAAAABAAAAAQAAAAAAAAABAAAAAAAAAAEAAAABAAAAAAAAAAEAAAAAAAAAAQAAAAEAAAABAAAAAQAAAAEAAAAAAAAAAAAAAAEAAAABAAAAAAAAAAEAAAAAAAAAAAAAAAEAAAAAAAAAAAAAAAEAAAABAAAAAQAAAAEAAAAAAAAAAQAAAAEAAAABAAAAAQAAAAAAAAABAAAAAQAAAAAAAAABAAAAAQAAAAEAAAABAAAAAQAAAAEAAAABAAAAAAAAAAEAAAABAAAAAQAAAAEAAAABAAAAAQAAAAEAAAABAAAAAQAAAAEAAAAAAAAAAQAAAAEAAAAAAAAAAAAAAAAAAAAAAAAAAAAAAAAAAAABAAAAAQAAAAAAAAAAAAAAAAAAAAAAAAAAAAAAAQAAAAAAAAAAAAAAAAAAAAAAAAAAAAAAAAAAAAAAAAAAAAAAAQAAAAAAAAABAAAAAAAAAAAAAAAAAAAAAAAAAAAAAAABAAAAAAAAAAAAAAAAAAAAAQAAAAAAAAAAAAAAAAAAAAEAAAABAAAAAAAAAAAAAAAAAAAAAAAAAAEAAAABAAAAAAAAAAEAAAABAAAAAQAAAAAAAAAAAAAAAAAAAAEAAAABAAAAAAAAAAEAAAABAAAAAQAAAAAAAAAAAAAAAAAAAAEAAAAAAAAAAQAAAAAAAAABAAAAAQAAAAAAAAAAAAAAAAAAAAEAAAAAAAAAAAAAAAAAAAAAAAAAAAAAAAAAAAAAAAAAAAAAAAAAAAAAAAAAAAAAAAAAAAAAAAAAAQAAAAAAAAAAAAAAAQAAAAAAAAAAAAAAAQAAAAAAAAAAAAAAAAAAAAAAAAAAAAAAAQAAAAAAAAAAAAAAAAAAAAAAAAAAAAAAAQAAAAAAAAAAAAAAAAAAAAAAAAABAAAAAQAAAAEAAAABAAAAAAAAAAAAAAAAAAAAAAAAAAAAAAAAAAAAAAAAAAAAAAABAAAAAAAAAAEAAAAAAAAAAAAAAAAAAAABAAAAAQAAAAAAAAABAAAAAAAAAAAAAAAAAAAAAAAAAAEAAAAAAAAAAQAAAAAAAAAAAAAAAAAAAAAAAAAAAAAAAQAAAAAAAAAAAAAAAAAAAAEAAAAAAAAAAQAAAAAAAAAAAAAAAAAAAAAAAAAAAAAAAAAAAAEAAAABAAAAAAAAAAEAAAAAAAAAAAAAAAEAAAABAAAAAAAAAAAAAAAAAAAAAAAAAAAAAAAAAAAAAAAAAAEAAAABAAAAAQAAAAAAAAAAAAAAAAAAAAEAAAABAAAAAAAAAAEAAAAAAAAAAAAAAAEAAAAAAAAAAAAAAAAAAAAAAAAAAAAAAAEAAAAAAAAAAQAAAAAAAAAAAAAAAAAAAAEAAAAAAAAAAAAAAAAAAAAAAAAAAQAAAAAAAAAAAAAAAAAAAAEAAAAAAAAAAQAAAAEAAAABAAAAAAAAAAAAAAAAAAAAAAAAAAAAAAAAAAAAAQAAAAEAAAAAAAAAAAAAAAEAAAAAAAAAAQAAAAAAAAAAAAAAAQAAAAAAAAABAAAAAAAAAAAAAAAAAAAAAQAAAAAAAAAAAAAAAQAAAAAAAAAAAAAAAAAAAAAAAAAAAAAAAAAAAAAAAAAAAAAAAAAAAAEAAAABAAAAAQAAAAEAAAAAAAAAAAAAAAAAAAAAAAAAAQAAAAAAAAABAAAAAQAAAAEAAAAAAAAAAQAAAAAAAAABAAAAAQAAAAAAAAABAAAAAAAAAAAAAAABAAAAAAAAAAEAAAABAAAAAAAAAAAAAAABAAAAAAAAAAAAAAAAAAAAAAAAAAEAAAAAAAAAAAAAAAEAAAABAAAAAQAAAAAAAAAAAAAAAAAAAAAAAAAAAAAAAAAAAAAAAAABAAAAAQAAAAEAAAAAAAAAAAAAAAAAAAABAAAAAQAAAAEAAAABAAAAAQAAAAEAAAAAAAAAAAAAAAEAAAABAAAAAQAAAAEAAAABAAAAAQAAAAEAAAAAAAAAAAAAAAAAAAAAAAAAAAAAAAEAAAAAAAAAAQAAAAAAAAABAAAAAAAAAAAAAAAAAAAAAAAAAAAAAAAAAAAAAQAAAAAAAAABAAAAAAAAAAAAAAABAAAAAQAAAAAAAAAAAAAAAAAAAAEAAAAAAAAAAQAAAAAAAAAAAAAAAAAAAAEAAAAAAAAAAAAAAAAAAAABAAAAAQAAAAEAAAABAAAAAQAAAAAAAAABAAAAAQAAAAEAAAAAAAAAAQAAAAEAAAABAAAAAAAAAAEAAAABAAAAAQAAAAEAAAABAAAAAAAAAAEAAAABAAAAAQAAAAAAAAAAAAAAAQAAAAAAAAABAAAAAQAAAAEAAAABAAAAAQAAAAEAAAABAAAAAQAAAAEAAAABAAAAAQAAAAAAAAABAAAAAQAAAAAAAAABAAAAAQAAAAEAAAABAAAAAQAAAAAAAAAAAAAAAQAAAAEAAAABAAAAAAAAAAEAAAABAAAAAQAAAAEAAAABAAAAAQAAAAEAAAABAAAAAQAAAAEAAAABAAAAAQAAAAAAAAAAAAAAAQAAAAEAAAAAAAAAAQAAAAEAAAAAAAAAAQAAAAEAAAAAAAAAAQAAAAEAAAABAAAAAQAAAAEAAAABAAAAAQAAAAAAAAABAAAAAQAAAAEAAAABAAAAAQAAAAAAAAAAAAAAAQAAAAEAAAABAAAAAQAAAAEAAAABAAAAAQAAAAAAAAABAAAAAQAAAAEAAAABAAAAAAAAAAEAAAAAAAAAAAAAAAEAAAAAAAAAAQAAAAAAAAABAAAAAAAAAAEAAAAAAAAAAQAAAAAAAAABAAAAAQAAAAAAAAABAAAAAQAAAAAAAAAAAAAAAAAAAAAAAAAAAAAAAQAAAAEAAAAAAAAAAAAAAAEAAAAAAAAAAQAAAAAAAAABAAAAAAAAAAEAAAABAAAAAAAAAAEAAAAAAAAAAAAAAAAAAAAAAAAAAAAAAAAAAAABAAAAAAAAAAAAAAABAAAAAAAAAAEAAAAAAAAAAAAAAAAAAAAAAAAAAAAAAAAAAAAAAAAAAAAAAAEAAAABAAAAAAAAAAAAAAAAAAAAAAAAAAEAAAAAAAAAAQAAAAEAAAABAAAAAQAAAAAAAAAAAAAAAQAAAAAAAAAAAAAAAAAAAAEAAAAAAAAAAAAAAAAAAAABAAAAAQAAAAAAAAABAAAAAQAAAAEAAAABAAAAAAAAAAEAAAAAAAAAAAAAAAEAAAAAAAAAAAAAAAEAAAABAAAAAAAAAAEAAAAAAAAAAAAAAAEAAAAAAAAAAAAAAAAAAAAAAAAAAQAAAAEAAAAAAAAAAAAAAAAAAAAAAAAAAQAAAAEAAAAAAAAAAAAAAAAAAAAAAAAAAAAAAAAAAAAAAAAAAAAAAAAAAAAAAAAAAAAAAAAAAAABAAAAAAAAAAAAAAAAAAAAAQAAAAAAAAAAAAAAAAAAAAEAAAABAAAAAQAAAAEAAAAAAAAAAQAAAAAAAAAAAAAAAAAAAAAAAAABAAAAAQAAAAAAAAAAAAAAAAAAAAEAAAAAAAAAAAAAAAEAAAAAAAAAAAAAAAAAAAABAAAAAAAAAAAAAAABAAAAAQAAAAAAAAABAAAAAQAAAAAAAAAAAAAAAAAAAAAAAAAAAAAAAAAAAAAAAAABAAAAAAAAAAAAAAABAAAAAQAAAAEAAAAAAAAAAQAAAAAAAAAAAAAAAAAAAAAAAAAAAAAAAAAAAAAAAAAAAAAAAAAAAAAAAAABAAAAAAAAAAAAAAAAAAAAAQAAAAAAAAAAAAAAAAAAAAAAAAAAAAAAAQAAAAEAAAAAAAAAAAAAAAAAAAAAAAAAAQAAAAEAAAABAAAAAQAAAAAAAAABAAAAAAAAAAAAAAAAAAAAAAAAAAAAAAAAAAAAAQAAAAAAAAABAAAAAAAAAAAAAAAAAAAAAAAAAAAAAAAAAAAAAQAAAAAAAAAAAAAAAAAAAAAAAAAAAAAAAQAAAAEAAAAAAAAAAAAAAAAAAAAAAAAAAQAAAAAAAAABAAAAAQAAAAAAAAAAAAAAAQAAAAAAAAABAAAAAQAAAAAAAAABAAAAAQAAAAEAAAABAAAAAQAAAAAAAAAAAAAAAAAAAAEAAAAAAAAAAAAAAAEAAAABAAAAAAAAAAAAAAAAAAAAAAAAAAEAAAABAAAAAQAAAAEAAAAAAAAAAAAAAAAAAAABAAAAAQAAAAAAAAABAAAAAAAAAAAAAAAAAAAAAQAAAAAAAAAAAAAAAQAAAAAAAAAAAAAAAAAAAAAAAAABAAAAAAAAAAAAAAAAAAAAAQAAAAAAAAAAAAAAAAAAAAAAAAABAAAAAAAAAAAAAAAAAAAAAQAAAAEAAAAAAAAAAAAAAAAAAAABAAAAAQAAAAAAAAAAAAAAAAAAAAEAAAAAAAAAAAAAAAAAAAAAAAAAAQAAAAAAAAAAAAAAAAAAAAEAAAABAAAAAAAAAAAAAAABAAAAAAAAAAAAAAAAAAAAAQAAAAAAAAAAAAAAAQAAAAAAAAAAAAAAAAAAAAEAAAABAAAAAAAAAAAAAAABAAAAAAAAAAEAAAAAAAAAAAAAAAAAAAAAAAAAAAAAAAAAAAAAAAAAAAAAAAAAAAAAAAAAAQAAAAAAAAAAAAAAAAAAAAAAAAAAAAAAAAAAAAEAAAABAAAAAAAAAAAAAAAAAAAAAAAAAAEAAAAAAAAAAAAAAAEAAAAAAAAAAAAAAAEAAAAAAAAAAQAAAAEAAAABAAAAAAAAAAAAAAAAAAAAAQAAAAAAAAAAAAAAAQAAAAEAAAABAAAAAQAAAAAAAAABAAAAAAAAAAEAAAAAAAAAAAAAAAAAAAABAAAAAAAAAAAAAAABAAAAAQAAAAEAAAAAAAAAAAAAAAAAAAAAAAAAAAAAAAEAAAABAAAAAQAAAAAAAAABAAAAAQAAAAEAAAAAAAAAAQAAAAAAAAABAAAAAQAAAAAAAAABAAAAAAAAAAAAAAABAAAAAAAAAAAAAAABAAAAAQAAAAEAAAAAAAAAAQAAAAAAAAAAAAAAAQAAAAAAAAAAAAAAAQAAAAEAAAAAAAAAAQAAAAAAAAAAAAAAAQAAAAAAAAABAAAAAQAAAAAAAAAAAAAAAAAAAAEAAAAAAAAAAQAAAAEAAAAAAAAAAAAAAAAAAAAAAAAAAQAAAAEAAAAAAAAAAAAAAAEAAAAAAAAAAQAAAAAAAAABAAAAAAAAAAAAAAAAAAAAAAAAAAEAAAAAAAAAAAAAAAEAAAABAAAAAAAAAAAAAAAAAAAAAAAAAAAAAAAAAAAAAQAAAAAAAAAAAAAAAAAAAAEAAAABAAAAAQAAAAAAAAAAAAAAAAAAAAAAAAAAAAAAAAAAAAEAAAAAAAAAAAAAAAEAAAAAAAAAAAAAAAAAAAAAAAAAAQAAAAAAAAAAAAAAAQAAAAEAAAABAAAAAQAAAAEAAAABAAAAAAAAAAEAAAABAAAAAAAAAAEAAAABAAAAAAAAAAEAAAABAAAAAQAAAAAAAAABAAAAAQAAAAAAAAAAAAAAAQAAAAAAAAAAAAAAAAAAAAAAAAAAAAAAAAAAAAEAAAAAAAAAAQAAAAAAAAABAAAAAQAAAAAAAAABAAAAAQAAAAAAAAAAAAAAAQAAAAAAAAAAAAAAAQAAAAEAAAAAAAAAAQAAAAAAAAAAAAAAAQAAAAEAAAAAAAAAAAAAAAAAAAAAAAAAAAAAAAEAAAABAAAAAAAAAAAAAAAAAAAAAAAAAAAAAAABAAAAAQAAAAEAAAABAAAAAQAAAAAAAAABAAAAAQAAAAAAAAAAAAAAAAAAAAAAAAAAAAAAAAAAAAAAAAAAAAAAAQAAAAAAAAABAAAAAQAAAAEAAAABAAAAAAAAAAAAAAAAAAAAAQAAAAAAAAAAAAAAAAAAAAAAAAAAAAAAAAAAAAAAAAAAAAAAAAAAAAAAAAAAAAAAAAAAAAAAAAAAAAAAAAAAAAAAAAAAAAAAAQAAAAEAAAAAAAAAAAAAAAAAAAABAAAAAQAAAAAAAAABAAAAAAAAAAEAAAABAAAAAQAAAAAAAAAAAAAAAAAAAAEAAAABAAAAAAAAAAAAAAABAAAAAAAAAAAAAAAAAAAAAAAAAAEAAAABAAAAAAAAAAEAAAAAAAAAAQAAAAAAAAAAAAAAAAAAAAEAAAAAAAAAAAAAAAAAAAABAAAAAQAAAAAAAAAAAAAAAAAAAAAAAAAAAAAAAAAAAAAAAAAAAAAAAAAAAAEAAAAAAAAAAAAAAAAAAAABAAAAAAAAAAAAAAABAAAAAAAAAAAAAAAAAAAAAAAAAAAAAAAAAAAAAQAAAAAAAAABAAAAAAAAAAAAAAABAAAAAAAAAAAAAAABAAAAAQAAAAAAAAAAAAAAAAAAAAEAAAABAAAAAQAAAAEAAAABAAAAAQAAAAEAAAAAAAAAAAAAAAAAAAAAAAAAAQAAAAAAAAABAAAAAAAAAAEAAAAAAAAAAAAAAAAAAAABAAAAAQAAAAAAAAAAAAAAAQAAAAEAAAABAAAAAQAAAAEAAAABAAAAAAAAAAAAAAABAAAAAAAAAAAAAAAAAAAAAQAAAAEAAAABAAAAAAAAAAAAAAABAAAAAAAAAAAAAAABAAAA",
           "dtype": "i4"
          },
          "coloraxis": "coloraxis",
          "symbol": "circle"
         },
         "mode": "markers",
         "name": "",
         "scene": "scene",
         "showlegend": false,
         "type": "scatter3d",
         "x": {
          "bdata": "AwUCCAYIBQMCBgMDCQcGBgUJBQgJAgsGCgoIBwcEAwgGBQgEBQcBBAYJBgcCBggGCQMHCgQIBwgICQgGBgcICAYFCgoJBgYEBwkFBQQFBAMHBgUEBAYFCAQHBwUEBQQDBwQIBQUEBAYJBQUFBwQGBgoIBQUGAwcIBQgKBgQDBQcHBQgHBgMCBAcCCAYIBQQGAwYGBQYCAwIGBQMFBQUGCQIFBwUFBgUFBQYDCAQFBgQHBgMCBQMICAYGAgYEAwYCAwMJBgcEBAMGBgYFBQQEBQgEBgQDBQQDCQQEBggEBwUEBgQBAwoIBgcFBQkHBwYGBgUEBQoIBgIDBQcGAgcGBAgFAwQFBQYDBQQGAQkEBQUEBwYEAgkECAYHBAQFAwMDCgcEAwkEBwUHBwIHAwQCBwMDCQICBQMDAwICAwcHBgYEBQMGCAYHBwYGBgQGCAUHBwQHBAgHAwMHBgUDBQYCBgcHBwMEBQQFAgYGBwcHAwUFBwgHBwcFBAgGBgcIBggHBAYDBAsFBwQJBgIBBAIFBgMGAwMGBwQFAgcEBwMCBAsCAwMICggICAQHCgYECQgIBQcKCAgHBAcJBwMEBgQFBQgLBQcICAcGCQQFBgQIBAUKBwQFBwcGBQgHCAcKCAcHCQoIBgQECAYEBwYECQkECAkJBgoICAIJBwkLBgIFCgYHBwgHCQQGBQgKBAgEBAcFCAQIAwgDBwYGBgMHCAUEAgQECAYFBQsFBwYGBAcHBAcFAwMCBAQHBAQHAwcFAgUFBgMBBQkHBAMBBQcFCAcHBwUDBgUDBQgEBQIGBQQIBggHBQcDBQgEAwYHBgYEBAgCBAMGBgcEBgUECwgFBQQFBQUFAgYGAgMJBgEECwIDAwcHCQgCCQMCBAUKBwUGAgUGAwgEBQMIBAQGCgYGCAUFBgUGBgMGAQIGCQYGCAYEAwQFBAMFAgIHAwQCCQQDBAMGBgYFAwUCCQgLCQUJBgUDAgIBCAMHBAUFAgUFCAUFBQQGCAUDBQMDCQUICAUCCgUIBwUIBwUHCQQDAQkFAgcIBgYGBAcGBwcGAQUHBwQIAgIBBgYECAUEBQIIAgMDCAUFBgULBQIEBgYGBAQIBwIFAwcEBQMECQUEBQkHAgEGBQMECAUEBwEFBQYKBwMIBQgEBQQGBQUFBQQDBwMEBAQGBAcHBgMFBAgFAwgGBQgGCQgLAwIFBwQFBgcHCAYHBQcFBQQIBAQHBwgFBQUFBQkLCAEFCgsFCgUIBwMJBQQGBgYHCQcGCgMECAIECQcFBgQECAQKCgYEAgYFCAcEBQIHCgcEBQYECAQGBAUEAwcDBQkJBQQDBgMDBgQEBggIBwQDBAYCBAkEBQgFAwUDCQQFBQcHBgYHAwYFBgYHBQgHBAMIBwQGCwUEBgMBBggCCQIJCAMIBgUDCgYGCAYDCAUFBwUFBgUFBQkJBAUCAgUGBwoICQIGBgIEAwQFBAQCBgUIBwYHBAIEBwUEAQIBAgMDAQECAgMBAQICBQUEAwYGBwQIAwcGBwMFAwUIAgUHBAQEBQYJBAYEBgEEBQoFBQQHCAUEBQYDBQYEBAkEBgUGBAQGBAQFBAUCCQYGBAUIBQUGBwQDBQYKCgoFBwcEBAUFBwQHAgYFAwUGCAMEBQcGBgkFAgMIAwQDBgcGBAUHAwUJ",
          "dtype": "i1"
         },
         "y": {
          "bdata": "AgMBCAYFAQIABQEDBwQDBQMGAwYHAQcDCAcFBwYDAwQEBAcCAgUBAgQGBAcCBgYFBgIFBwIIBwYHBgYGAgQHBgYFBwEFAgQDBAMEAgICAQEBAwAAAQMDAgABAQMAAAICBAIFAQEBAQIDBAMABQECAwIDAQICAgUDAAQGAgAAAgQCAwIEAwEBAAEABQMDAwEDAQECAQABAgECAwEDAQICAwICAwMCAwABAgIBAAEDAgECAwEAAAEDBQUDAQMAAQQAAQEEAgIDAQADAwMEBAMDBAUDAwECAQIAAwIAAwMDAgICAgIAAAQDAQIDAgEEAgEEAgMBAwYDBAACAgICAAQBAwICAgMDAgQBAwIDAAUCAgIBAwAAAQYABAIDAgIBAAEBAwIDAAMABgIBBAEBAQIBAgAABAEBAQABAQEAAAQEAwMBAwMCAwACAgQBAwACAwIDAgEEAgQFAQADAQECAQUBAwECAQEAAgECAAIDAwIBAQEDBAcDAgQBAwMDBQMCBQMDAgIBAgMCAwADAgEAAQICAwICAAADAwACAAIAAgAAAQYCAQIHCAYGBwQFBwQCBwUFBAQGCAUDAgQIBgIDBQMEBAYGBAYGCAcECAMFAwMEBAUFBAMCBAYFAgUHBgYGBwcFBwYGBAMEBwUCBQQDBgcCBwYFBAYGBgEHBggIBgIEBwQGBwYFBgMDBQYHBAcEAwQFBQQEAQYCBgMEBAECAwIDAQIDAwMDAQQBAQAEAQEEAgQDAAABAQMDBAIEAAEAAQMBAwEAAgMCAgEAAAIBBQQDAQECBAECAgMBAgACAwIEBAQFAQICAwQCAQMDAQMBAAcAAQMBBAIBAAEBBgICAgABAQECAQIBAAEFAgAABQABAgIAAwIAAgIAAgIEBAEBAgIDAQMBAQICAwICAQMFBAICAwICAgIDAQIDAgMCAwIBAQICAQEDAQABAQIBAgMCAQEBBQIBAQQBAgQFBQEHAQMCAAAABAEDAgEAAQIABgIEAgECAwMAAQEBAgMEBQABAgMCAgMDBwMBAwIBAAMDAgIEAwMBAwIEBAIAAQIBBQEDAAABBQICAgECAQEAAAIABQAAAgIEAQEBAwQBAAMBAwEAAgICBAIBBAIBAwMBAgACAAEAAgEBAgECAwQDAAAFAgICAAACAQIDAQIAAwEBAQABAgMEAgMBAAMAAwQBAgICAwMDAQECBAIBAwMBAwIBAgIDAgIDAQAEBAECAwECAgIEAgACAwUCAwMCAQICAgECAgEFAQMAAQABAgACAwMBAwECBQEDBAEEAQQDAgMCAgEAAwMAAgECAQIDAgICAgMBAQQDAwECAQIAAwICAQEDAgEAAQIBAgQBAgQBAQAAAwECBAQEAwABAgIEAQQDAgECAwEDAwAABgICAgIBAgQBBQEDAQMCBQMBBAEBAwMBBAICAgQCAQIEAgQDAAEBAQECBgMDBAADBQAAAAIDAwEABAQGBQUEAQEEBQIDAQABAgECAQEAAgIAAQECAwQCAwEEBQIFAAUEBgICAwQFAgMCBAIEAgQEAwQEBAACAgUEAQIGBQQDAwMDBQMCAwQCAwQEAgQFAgIEAgMCBgIFAgQGBAMCBgMDAgQGBwQDBgMDBAIDBQAEAQIDAAIFAwACBQUFBQYEAgEHAwMBBAQEAgMHAgMG",
          "dtype": "i1"
         },
         "z": {
          "bdata": "ChYGGhsjEwYIEgQOIh8kDhEiFxsgDScSLCciFSAaChwRDCcWFywBFhgiHxMIExMUIQYVKw0fGCMiIxogFBseGBgfKyQtGxAQFCYTFhMSDgcaHhELDRMXIhEWFxcWEQoRFxEYHBoRFQ4oERUXGRIXESwlDBUYDRYfDCEmHBEKCxsiEhkbJwgGBxwDJBMdGQoODB4UFRULEAYVERIVIRIYJgoUFxQLFQ0REBELJAoUDQ0RGwgGDQofFBEYDhAQCg4GDg0fER0SDREWFhIaDhMTEygMGw4PEAwSKQ0KEx4SGBUYFxEICygUEx4NFCkaERwODg8NFhodFAoIFRUfBB8PBigZDAwKDxYJHQgQAx0QEhYMJBQNBR4SIx0YFhIXDQgLLBUQDhoTFxYXFAceDAoNGAUOGwUIGggOCg4IDiAZFSILFAcXHhUZHhMNGA0bGBgfEQ8bERwTDg0dGxkICxIJExobHg0MGBYICRIXGCAXDw4aHBgRFCAYExsfGCAsFBQPHhQEESERIxIeEgkDDgQUFggeDw8fFxARAxkRFAgEEygFCwodKiYkHwojHhAIHB0nESMkGygfDyUgHw0IHBEUHx4lFyEeFhoVKRUYFhEiGiErGxgRFxYQFhodHhUnIhYoIyIkGhAPFRQVHRcLJBcLGSAkHx8iFwsmGiwpHAwTIxsiLCoSKhMaFB8nEBcPFRoMGw8cCxoKHg0SEggUGxYTCQsNFSILECMPGhcTCh4YESMJEQwNEgsWCRIYCSMOCRAUEgkCDBcgEA8FGBsNHhssJhMNFxMJDyIWDwgZJRghFhUWFSMPEB0ODxQXExcQDxYFDQcSJxwRGA8NKCMWFBIQHhANCBIYCBEeEwISKwUNBxkjJSQDGAwEDRQlHBQYCSATDyQYEQ0tEA4dJxISHg4MEA8REgkWBAocGRgYJRMUDQ8TDgsPCQUiCRkJKAwMEwwUEhoUEQsFHCAnKREZGAoRBwsEJQ0YDw4YDhMeHBUPGQkYIB0PEhEHHA4ZGxQHGA4cHhEYGBogJQkGAiEYBCMiEw4bECEWGiUWAw8gFBMeBQUHHhYaGRUUGRAhCAwPFhQNDRAuGAsPIBMNDgwcEQUZCyATEwgLKBoVEiYjCQIaHRIQHhMQHAIIDBkVHAcqGxQMFg8VDRwOEwoKFggMDxwPDhoZEQ0XDxkVBxIXEyUUGysrDAoOFggLHxQeIBggESIYERAeFA8SIxsSFgwMDyMjHwMdKB8NKA0fGg0eCQ0eGBQcKx4eGgUSIQcNIhgVFQ8TGg4oGw4IBRUWICQVDAUcFhUQDB8GGg0WDg0XBxgNEx0bDA8HGAYMFAgOFBUfFhEQDRMEEBwPGBoYDxUOIhEZGhUXGS0aCyAhCxUnDiQYHQkZGRASLBoQFAkDFB4FHQQiIw4eEQ4NIxIRIBcLFRoNFhQZFA4NFSIpERIKCh8dFSopGQQeIAoMEhgMDRIGEBAmChkVCwcRExQOAwsFBBEOAwMKAwsFAwYHIhoMCxsRFg8ZCiAcEggZCRsoCBUbDhMRGCAbCxgLJwMRDysREQoWGBINChMJDRMJDiUPEw0QEg4WDgoPCg0GHhgWDRIbDQ8dGg8NFxgjGSAZGxISFRUSHQwaCBsWDQ8RHAsMGRcgGyIVBQsfCBAMERwaDhQZCxMg",
          "dtype": "i1"
         }
        }
       ],
       "layout": {
        "coloraxis": {
         "colorbar": {
          "title": {
           "text": "cluster"
          }
         },
         "colorscale": [
          [
           0,
           "#0d0887"
          ],
          [
           0.1111111111111111,
           "#46039f"
          ],
          [
           0.2222222222222222,
           "#7201a8"
          ],
          [
           0.3333333333333333,
           "#9c179e"
          ],
          [
           0.4444444444444444,
           "#bd3786"
          ],
          [
           0.5555555555555556,
           "#d8576b"
          ],
          [
           0.6666666666666666,
           "#ed7953"
          ],
          [
           0.7777777777777778,
           "#fb9f3a"
          ],
          [
           0.8888888888888888,
           "#fdca26"
          ],
          [
           1,
           "#f0f921"
          ]
         ]
        },
        "height": 500,
        "legend": {
         "tracegroupgap": 0
        },
        "margin": {
         "t": 60
        },
        "scene": {
         "domain": {
          "x": [
           0,
           1
          ],
          "y": [
           0,
           1
          ]
         },
         "xaxis": {
          "title": {
           "text": "Total_Orders"
          }
         },
         "yaxis": {
          "title": {
           "text": "Orders_with_Discount"
          }
         },
         "zaxis": {
          "title": {
           "text": "Units"
          }
         }
        },
        "template": {
         "data": {
          "bar": [
           {
            "error_x": {
             "color": "#2a3f5f"
            },
            "error_y": {
             "color": "#2a3f5f"
            },
            "marker": {
             "line": {
              "color": "#E5ECF6",
              "width": 0.5
             },
             "pattern": {
              "fillmode": "overlay",
              "size": 10,
              "solidity": 0.2
             }
            },
            "type": "bar"
           }
          ],
          "barpolar": [
           {
            "marker": {
             "line": {
              "color": "#E5ECF6",
              "width": 0.5
             },
             "pattern": {
              "fillmode": "overlay",
              "size": 10,
              "solidity": 0.2
             }
            },
            "type": "barpolar"
           }
          ],
          "carpet": [
           {
            "aaxis": {
             "endlinecolor": "#2a3f5f",
             "gridcolor": "white",
             "linecolor": "white",
             "minorgridcolor": "white",
             "startlinecolor": "#2a3f5f"
            },
            "baxis": {
             "endlinecolor": "#2a3f5f",
             "gridcolor": "white",
             "linecolor": "white",
             "minorgridcolor": "white",
             "startlinecolor": "#2a3f5f"
            },
            "type": "carpet"
           }
          ],
          "choropleth": [
           {
            "colorbar": {
             "outlinewidth": 0,
             "ticks": ""
            },
            "type": "choropleth"
           }
          ],
          "contour": [
           {
            "colorbar": {
             "outlinewidth": 0,
             "ticks": ""
            },
            "colorscale": [
             [
              0,
              "#0d0887"
             ],
             [
              0.1111111111111111,
              "#46039f"
             ],
             [
              0.2222222222222222,
              "#7201a8"
             ],
             [
              0.3333333333333333,
              "#9c179e"
             ],
             [
              0.4444444444444444,
              "#bd3786"
             ],
             [
              0.5555555555555556,
              "#d8576b"
             ],
             [
              0.6666666666666666,
              "#ed7953"
             ],
             [
              0.7777777777777778,
              "#fb9f3a"
             ],
             [
              0.8888888888888888,
              "#fdca26"
             ],
             [
              1,
              "#f0f921"
             ]
            ],
            "type": "contour"
           }
          ],
          "contourcarpet": [
           {
            "colorbar": {
             "outlinewidth": 0,
             "ticks": ""
            },
            "type": "contourcarpet"
           }
          ],
          "heatmap": [
           {
            "colorbar": {
             "outlinewidth": 0,
             "ticks": ""
            },
            "colorscale": [
             [
              0,
              "#0d0887"
             ],
             [
              0.1111111111111111,
              "#46039f"
             ],
             [
              0.2222222222222222,
              "#7201a8"
             ],
             [
              0.3333333333333333,
              "#9c179e"
             ],
             [
              0.4444444444444444,
              "#bd3786"
             ],
             [
              0.5555555555555556,
              "#d8576b"
             ],
             [
              0.6666666666666666,
              "#ed7953"
             ],
             [
              0.7777777777777778,
              "#fb9f3a"
             ],
             [
              0.8888888888888888,
              "#fdca26"
             ],
             [
              1,
              "#f0f921"
             ]
            ],
            "type": "heatmap"
           }
          ],
          "histogram": [
           {
            "marker": {
             "pattern": {
              "fillmode": "overlay",
              "size": 10,
              "solidity": 0.2
             }
            },
            "type": "histogram"
           }
          ],
          "histogram2d": [
           {
            "colorbar": {
             "outlinewidth": 0,
             "ticks": ""
            },
            "colorscale": [
             [
              0,
              "#0d0887"
             ],
             [
              0.1111111111111111,
              "#46039f"
             ],
             [
              0.2222222222222222,
              "#7201a8"
             ],
             [
              0.3333333333333333,
              "#9c179e"
             ],
             [
              0.4444444444444444,
              "#bd3786"
             ],
             [
              0.5555555555555556,
              "#d8576b"
             ],
             [
              0.6666666666666666,
              "#ed7953"
             ],
             [
              0.7777777777777778,
              "#fb9f3a"
             ],
             [
              0.8888888888888888,
              "#fdca26"
             ],
             [
              1,
              "#f0f921"
             ]
            ],
            "type": "histogram2d"
           }
          ],
          "histogram2dcontour": [
           {
            "colorbar": {
             "outlinewidth": 0,
             "ticks": ""
            },
            "colorscale": [
             [
              0,
              "#0d0887"
             ],
             [
              0.1111111111111111,
              "#46039f"
             ],
             [
              0.2222222222222222,
              "#7201a8"
             ],
             [
              0.3333333333333333,
              "#9c179e"
             ],
             [
              0.4444444444444444,
              "#bd3786"
             ],
             [
              0.5555555555555556,
              "#d8576b"
             ],
             [
              0.6666666666666666,
              "#ed7953"
             ],
             [
              0.7777777777777778,
              "#fb9f3a"
             ],
             [
              0.8888888888888888,
              "#fdca26"
             ],
             [
              1,
              "#f0f921"
             ]
            ],
            "type": "histogram2dcontour"
           }
          ],
          "mesh3d": [
           {
            "colorbar": {
             "outlinewidth": 0,
             "ticks": ""
            },
            "type": "mesh3d"
           }
          ],
          "parcoords": [
           {
            "line": {
             "colorbar": {
              "outlinewidth": 0,
              "ticks": ""
             }
            },
            "type": "parcoords"
           }
          ],
          "pie": [
           {
            "automargin": true,
            "type": "pie"
           }
          ],
          "scatter": [
           {
            "fillpattern": {
             "fillmode": "overlay",
             "size": 10,
             "solidity": 0.2
            },
            "type": "scatter"
           }
          ],
          "scatter3d": [
           {
            "line": {
             "colorbar": {
              "outlinewidth": 0,
              "ticks": ""
             }
            },
            "marker": {
             "colorbar": {
              "outlinewidth": 0,
              "ticks": ""
             }
            },
            "type": "scatter3d"
           }
          ],
          "scattercarpet": [
           {
            "marker": {
             "colorbar": {
              "outlinewidth": 0,
              "ticks": ""
             }
            },
            "type": "scattercarpet"
           }
          ],
          "scattergeo": [
           {
            "marker": {
             "colorbar": {
              "outlinewidth": 0,
              "ticks": ""
             }
            },
            "type": "scattergeo"
           }
          ],
          "scattergl": [
           {
            "marker": {
             "colorbar": {
              "outlinewidth": 0,
              "ticks": ""
             }
            },
            "type": "scattergl"
           }
          ],
          "scattermap": [
           {
            "marker": {
             "colorbar": {
              "outlinewidth": 0,
              "ticks": ""
             }
            },
            "type": "scattermap"
           }
          ],
          "scattermapbox": [
           {
            "marker": {
             "colorbar": {
              "outlinewidth": 0,
              "ticks": ""
             }
            },
            "type": "scattermapbox"
           }
          ],
          "scatterpolar": [
           {
            "marker": {
             "colorbar": {
              "outlinewidth": 0,
              "ticks": ""
             }
            },
            "type": "scatterpolar"
           }
          ],
          "scatterpolargl": [
           {
            "marker": {
             "colorbar": {
              "outlinewidth": 0,
              "ticks": ""
             }
            },
            "type": "scatterpolargl"
           }
          ],
          "scatterternary": [
           {
            "marker": {
             "colorbar": {
              "outlinewidth": 0,
              "ticks": ""
             }
            },
            "type": "scatterternary"
           }
          ],
          "surface": [
           {
            "colorbar": {
             "outlinewidth": 0,
             "ticks": ""
            },
            "colorscale": [
             [
              0,
              "#0d0887"
             ],
             [
              0.1111111111111111,
              "#46039f"
             ],
             [
              0.2222222222222222,
              "#7201a8"
             ],
             [
              0.3333333333333333,
              "#9c179e"
             ],
             [
              0.4444444444444444,
              "#bd3786"
             ],
             [
              0.5555555555555556,
              "#d8576b"
             ],
             [
              0.6666666666666666,
              "#ed7953"
             ],
             [
              0.7777777777777778,
              "#fb9f3a"
             ],
             [
              0.8888888888888888,
              "#fdca26"
             ],
             [
              1,
              "#f0f921"
             ]
            ],
            "type": "surface"
           }
          ],
          "table": [
           {
            "cells": {
             "fill": {
              "color": "#EBF0F8"
             },
             "line": {
              "color": "white"
             }
            },
            "header": {
             "fill": {
              "color": "#C8D4E3"
             },
             "line": {
              "color": "white"
             }
            },
            "type": "table"
           }
          ]
         },
         "layout": {
          "annotationdefaults": {
           "arrowcolor": "#2a3f5f",
           "arrowhead": 0,
           "arrowwidth": 1
          },
          "autotypenumbers": "strict",
          "coloraxis": {
           "colorbar": {
            "outlinewidth": 0,
            "ticks": ""
           }
          },
          "colorscale": {
           "diverging": [
            [
             0,
             "#8e0152"
            ],
            [
             0.1,
             "#c51b7d"
            ],
            [
             0.2,
             "#de77ae"
            ],
            [
             0.3,
             "#f1b6da"
            ],
            [
             0.4,
             "#fde0ef"
            ],
            [
             0.5,
             "#f7f7f7"
            ],
            [
             0.6,
             "#e6f5d0"
            ],
            [
             0.7,
             "#b8e186"
            ],
            [
             0.8,
             "#7fbc41"
            ],
            [
             0.9,
             "#4d9221"
            ],
            [
             1,
             "#276419"
            ]
           ],
           "sequential": [
            [
             0,
             "#0d0887"
            ],
            [
             0.1111111111111111,
             "#46039f"
            ],
            [
             0.2222222222222222,
             "#7201a8"
            ],
            [
             0.3333333333333333,
             "#9c179e"
            ],
            [
             0.4444444444444444,
             "#bd3786"
            ],
            [
             0.5555555555555556,
             "#d8576b"
            ],
            [
             0.6666666666666666,
             "#ed7953"
            ],
            [
             0.7777777777777778,
             "#fb9f3a"
            ],
            [
             0.8888888888888888,
             "#fdca26"
            ],
            [
             1,
             "#f0f921"
            ]
           ],
           "sequentialminus": [
            [
             0,
             "#0d0887"
            ],
            [
             0.1111111111111111,
             "#46039f"
            ],
            [
             0.2222222222222222,
             "#7201a8"
            ],
            [
             0.3333333333333333,
             "#9c179e"
            ],
            [
             0.4444444444444444,
             "#bd3786"
            ],
            [
             0.5555555555555556,
             "#d8576b"
            ],
            [
             0.6666666666666666,
             "#ed7953"
            ],
            [
             0.7777777777777778,
             "#fb9f3a"
            ],
            [
             0.8888888888888888,
             "#fdca26"
            ],
            [
             1,
             "#f0f921"
            ]
           ]
          },
          "colorway": [
           "#636efa",
           "#EF553B",
           "#00cc96",
           "#ab63fa",
           "#FFA15A",
           "#19d3f3",
           "#FF6692",
           "#B6E880",
           "#FF97FF",
           "#FECB52"
          ],
          "font": {
           "color": "#2a3f5f"
          },
          "geo": {
           "bgcolor": "white",
           "lakecolor": "white",
           "landcolor": "#E5ECF6",
           "showlakes": true,
           "showland": true,
           "subunitcolor": "white"
          },
          "hoverlabel": {
           "align": "left"
          },
          "hovermode": "closest",
          "mapbox": {
           "style": "light"
          },
          "paper_bgcolor": "white",
          "plot_bgcolor": "#E5ECF6",
          "polar": {
           "angularaxis": {
            "gridcolor": "white",
            "linecolor": "white",
            "ticks": ""
           },
           "bgcolor": "#E5ECF6",
           "radialaxis": {
            "gridcolor": "white",
            "linecolor": "white",
            "ticks": ""
           }
          },
          "scene": {
           "xaxis": {
            "backgroundcolor": "#E5ECF6",
            "gridcolor": "white",
            "gridwidth": 2,
            "linecolor": "white",
            "showbackground": true,
            "ticks": "",
            "zerolinecolor": "white"
           },
           "yaxis": {
            "backgroundcolor": "#E5ECF6",
            "gridcolor": "white",
            "gridwidth": 2,
            "linecolor": "white",
            "showbackground": true,
            "ticks": "",
            "zerolinecolor": "white"
           },
           "zaxis": {
            "backgroundcolor": "#E5ECF6",
            "gridcolor": "white",
            "gridwidth": 2,
            "linecolor": "white",
            "showbackground": true,
            "ticks": "",
            "zerolinecolor": "white"
           }
          },
          "shapedefaults": {
           "line": {
            "color": "#2a3f5f"
           }
          },
          "ternary": {
           "aaxis": {
            "gridcolor": "white",
            "linecolor": "white",
            "ticks": ""
           },
           "baxis": {
            "gridcolor": "white",
            "linecolor": "white",
            "ticks": ""
           },
           "bgcolor": "#E5ECF6",
           "caxis": {
            "gridcolor": "white",
            "linecolor": "white",
            "ticks": ""
           }
          },
          "title": {
           "x": 0.05
          },
          "xaxis": {
           "automargin": true,
           "gridcolor": "white",
           "linecolor": "white",
           "ticks": "",
           "title": {
            "standoff": 15
           },
           "zerolinecolor": "white",
           "zerolinewidth": 2
          },
          "yaxis": {
           "automargin": true,
           "gridcolor": "white",
           "linecolor": "white",
           "ticks": "",
           "title": {
            "standoff": 15
           },
           "zerolinecolor": "white",
           "zerolinewidth": 2
          }
         }
        },
        "width": 600
       }
      }
     },
     "metadata": {},
     "output_type": "display_data"
    }
   ],
   "source": [
    "px.scatter_3d(df_with_clusters, x=\"Total_Orders\", y=\"Orders_with_Discount\", z=\"Units\", color=\"cluster\", width=600, height=500)"
   ]
  },
  {
   "cell_type": "code",
   "execution_count": 53,
   "id": "68f7422f",
   "metadata": {},
   "outputs": [
    {
     "data": {
      "image/png": "[encoded data removed]",
      "text/plain": [
       "<Figure size 1500x600 with 3 Axes>"
      ]
     },
     "metadata": {},
     "output_type": "display_data"
    }
   ],
   "source": [
    "import seaborn as sns\n",
    "\n",
    "# Create boxplot with cluster results. three boxplots next to each other. One box plot per feature ('Units', 'Total_Orders', Orders_with_Discount')\n",
    "       \n",
    "import matplotlib.pyplot as plt\n",
    "\n",
    "plt.figure(figsize=(15, 6))\n",
    "features = ['Units', 'Total_Orders', 'Orders_with_Discount']\n",
    "\n",
    "for i, feature in enumerate(features):\n",
    "    plt.subplot(1, 3, i + 1)\n",
    "    sns.boxplot(x='cluster', y=feature, data=df_with_clusters)\n",
    "    plt.title(f'{feature} by Cluster')\n",
    "    plt.xlabel('Cluster')\n",
    "    plt.ylabel(feature)\n",
    "\n",
    "plt.tight_layout()\n",
    "plt.show()"
   ]
  },
  {
   "cell_type": "code",
   "execution_count": null,
   "id": "d8437b80",
   "metadata": {},
   "outputs": [],
   "source": []
  },
  {
   "cell_type": "markdown",
   "id": "2cb3341a",
   "metadata": {},
   "source": [
    "## DBSCAN"
   ]
  },
  {
   "cell_type": "markdown",
   "id": "e2d99b01",
   "metadata": {},
   "source": [
    "1. Logic to find best setting for DBSCAN"
   ]
  },
  {
   "cell_type": "code",
   "execution_count": 54,
   "id": "d32d39d9",
   "metadata": {},
   "outputs": [],
   "source": [
    "from sklearn.neighbors import NearestNeighbors\n",
    "from matplotlib import pyplot as plt"
   ]
  },
  {
   "cell_type": "code",
   "execution_count": 55,
   "id": "711189f5",
   "metadata": {},
   "outputs": [],
   "source": [
    "neighbors = NearestNeighbors(n_neighbors=6) # 2*3 features = 6 | textbook says 2*number of features\n",
    "# fit the model\n",
    "neighbors_fit = neighbors.fit(rfm_df_scaled)\n",
    "distances, indices = neighbors_fit.kneighbors(rfm_df_scaled)"
   ]
  },
  {
   "cell_type": "code",
   "execution_count": 56,
   "id": "5575be39",
   "metadata": {},
   "outputs": [
    {
     "data": {
      "text/plain": [
       "[<matplotlib.lines.Line2D at 0x20e40f09dc0>]"
      ]
     },
     "execution_count": 56,
     "metadata": {},
     "output_type": "execute_result"
    },
    {
     "data": {
      "image/png": "[encoded data removed]",
      "text/plain": [
       "<Figure size 800x550 with 1 Axes>"
      ]
     },
     "metadata": {},
     "output_type": "display_data"
    }
   ],
   "source": [
    "distances = np.sort(distances, axis=0)\n",
    "distances = distances[:,1]\n",
    "plt.plot(distances)\n",
    "\n",
    "# Points sorted by distance to the 6th nearest neighbor (see setting above)"
   ]
  },
  {
   "cell_type": "markdown",
   "id": "fd2a3543",
   "metadata": {},
   "source": [
    "2. Using DB Scan"
   ]
  },
  {
   "cell_type": "code",
   "execution_count": 57,
   "id": "25824a19",
   "metadata": {},
   "outputs": [
    {
     "name": "stdout",
     "output_type": "stream",
     "text": [
      "DBSCAN identified 2 clusters (excluding noise).\n"
     ]
    },
    {
     "data": {
      "application/vnd.plotly.v1+json": {
       "config": {
        "plotlyServerURL": "https://plot.ly"
       },
       "data": [
        {
         "hovertemplate": "Total_Orders=%{x}<br>Orders_with_Discount=%{y}<br>Units=%{z}<br>dbscan_cluster=%{marker.color}<extra></extra>",
         "legendgroup": "",
         "marker": {
          "color": {
           "bdata": "/////////////////////////////////////////////////////////////////////wD/////////////////////////////AQEB/////////////////////wD//wD//////////////////////wH/AP///////////////////////////////////////////////////wH///8B////////AQH/////////////////////////////////Af////////////////////8A/wD//wD//////wH//wD/////////Af//////////////////Af//////////AP//AP////////8AAQH//////////////wD//////////////wH//////wD/////////////////////////////////////////////////AP///////////////////////////wH/////////////////////////////////AP8B////Af////8B//////////8B////////////////////////////////////////AP///wD///////////////////////////////8B////Af////////////////////////////8A/////////////////////////////////////////////////////////////wH//wD/////////////////AP///////////wD/////////////AP//AP////////////8A////AP//AP////////////8A//8A//////////////////////////8BAf////8A/wH/////Af///////////////wD/AAH//////////////wD//wD//////wAA/wABAf///////////wH//wAB//////////////8A////////////////////////////////AP///wH//wH//////////////////////////////////wD//////////////////////wD//////////////////////wD//////wH///////////////////8B//////////////////////////////////////8A/////////wD/////////AP//Af//////////Af////////8A////////////Af//AQD///////8B//8AAP////////8A/////wD///////////////////8A//////8B////////////////AP//////AP///wD/AAD///////////////////8A/////////wH/AP//////////////////////////////AP////////////8A//////////////////////////////8A/////wD/Af///////////////////////////////////////////wH///////8A//////////////8A/////wD//////////////////wH///////////8AAP///wD///////////8A//8A////AP//AAD/AP//////AP///////////////////////wH//////////wD///8A////////////////////AP//////",
           "dtype": "i1"
          },
          "coloraxis": "coloraxis",
          "symbol": "circle"
         },
         "mode": "markers",
         "name": "",
         "scene": "scene",
         "showlegend": false,
         "type": "scatter3d",
         "x": {
          "bdata": "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",
          "dtype": "f8"
         },
         "y": {
          "bdata": "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",
          "dtype": "f8"
         },
         "z": {
          "bdata": "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",
          "dtype": "f8"
         }
        }
       ],
       "layout": {
        "coloraxis": {
         "colorbar": {
          "title": {
           "text": "dbscan_cluster"
          }
         },
         "colorscale": [
          [
           0,
           "#0d0887"
          ],
          [
           0.1111111111111111,
           "#46039f"
          ],
          [
           0.2222222222222222,
           "#7201a8"
          ],
          [
           0.3333333333333333,
           "#9c179e"
          ],
          [
           0.4444444444444444,
           "#bd3786"
          ],
          [
           0.5555555555555556,
           "#d8576b"
          ],
          [
           0.6666666666666666,
           "#ed7953"
          ],
          [
           0.7777777777777778,
           "#fb9f3a"
          ],
          [
           0.8888888888888888,
           "#fdca26"
          ],
          [
           1,
           "#f0f921"
          ]
         ]
        },
        "height": 500,
        "legend": {
         "tracegroupgap": 0
        },
        "scene": {
         "domain": {
          "x": [
           0,
           1
          ],
          "y": [
           0,
           1
          ]
         },
         "xaxis": {
          "title": {
           "text": "Total_Orders"
          }
         },
         "yaxis": {
          "title": {
           "text": "Orders_with_Discount"
          }
         },
         "zaxis": {
          "title": {
           "text": "Units"
          }
         }
        },
        "template": {
         "data": {
          "bar": [
           {
            "error_x": {
             "color": "#2a3f5f"
            },
            "error_y": {
             "color": "#2a3f5f"
            },
            "marker": {
             "line": {
              "color": "#E5ECF6",
              "width": 0.5
             },
             "pattern": {
              "fillmode": "overlay",
              "size": 10,
              "solidity": 0.2
             }
            },
            "type": "bar"
           }
          ],
          "barpolar": [
           {
            "marker": {
             "line": {
              "color": "#E5ECF6",
              "width": 0.5
             },
             "pattern": {
              "fillmode": "overlay",
              "size": 10,
              "solidity": 0.2
             }
            },
            "type": "barpolar"
           }
          ],
          "carpet": [
           {
            "aaxis": {
             "endlinecolor": "#2a3f5f",
             "gridcolor": "white",
             "linecolor": "white",
             "minorgridcolor": "white",
             "startlinecolor": "#2a3f5f"
            },
            "baxis": {
             "endlinecolor": "#2a3f5f",
             "gridcolor": "white",
             "linecolor": "white",
             "minorgridcolor": "white",
             "startlinecolor": "#2a3f5f"
            },
            "type": "carpet"
           }
          ],
          "choropleth": [
           {
            "colorbar": {
             "outlinewidth": 0,
             "ticks": ""
            },
            "type": "choropleth"
           }
          ],
          "contour": [
           {
            "colorbar": {
             "outlinewidth": 0,
             "ticks": ""
            },
            "colorscale": [
             [
              0,
              "#0d0887"
             ],
             [
              0.1111111111111111,
              "#46039f"
             ],
             [
              0.2222222222222222,
              "#7201a8"
             ],
             [
              0.3333333333333333,
              "#9c179e"
             ],
             [
              0.4444444444444444,
              "#bd3786"
             ],
             [
              0.5555555555555556,
              "#d8576b"
             ],
             [
              0.6666666666666666,
              "#ed7953"
             ],
             [
              0.7777777777777778,
              "#fb9f3a"
             ],
             [
              0.8888888888888888,
              "#fdca26"
             ],
             [
              1,
              "#f0f921"
             ]
            ],
            "type": "contour"
           }
          ],
          "contourcarpet": [
           {
            "colorbar": {
             "outlinewidth": 0,
             "ticks": ""
            },
            "type": "contourcarpet"
           }
          ],
          "heatmap": [
           {
            "colorbar": {
             "outlinewidth": 0,
             "ticks": ""
            },
            "colorscale": [
             [
              0,
              "#0d0887"
             ],
             [
              0.1111111111111111,
              "#46039f"
             ],
             [
              0.2222222222222222,
              "#7201a8"
             ],
             [
              0.3333333333333333,
              "#9c179e"
             ],
             [
              0.4444444444444444,
              "#bd3786"
             ],
             [
              0.5555555555555556,
              "#d8576b"
             ],
             [
              0.6666666666666666,
              "#ed7953"
             ],
             [
              0.7777777777777778,
              "#fb9f3a"
             ],
             [
              0.8888888888888888,
              "#fdca26"
             ],
             [
              1,
              "#f0f921"
             ]
            ],
            "type": "heatmap"
           }
          ],
          "histogram": [
           {
            "marker": {
             "pattern": {
              "fillmode": "overlay",
              "size": 10,
              "solidity": 0.2
             }
            },
            "type": "histogram"
           }
          ],
          "histogram2d": [
           {
            "colorbar": {
             "outlinewidth": 0,
             "ticks": ""
            },
            "colorscale": [
             [
              0,
              "#0d0887"
             ],
             [
              0.1111111111111111,
              "#46039f"
             ],
             [
              0.2222222222222222,
              "#7201a8"
             ],
             [
              0.3333333333333333,
              "#9c179e"
             ],
             [
              0.4444444444444444,
              "#bd3786"
             ],
             [
              0.5555555555555556,
              "#d8576b"
             ],
             [
              0.6666666666666666,
              "#ed7953"
             ],
             [
              0.7777777777777778,
              "#fb9f3a"
             ],
             [
              0.8888888888888888,
              "#fdca26"
             ],
             [
              1,
              "#f0f921"
             ]
            ],
            "type": "histogram2d"
           }
          ],
          "histogram2dcontour": [
           {
            "colorbar": {
             "outlinewidth": 0,
             "ticks": ""
            },
            "colorscale": [
             [
              0,
              "#0d0887"
             ],
             [
              0.1111111111111111,
              "#46039f"
             ],
             [
              0.2222222222222222,
              "#7201a8"
             ],
             [
              0.3333333333333333,
              "#9c179e"
             ],
             [
              0.4444444444444444,
              "#bd3786"
             ],
             [
              0.5555555555555556,
              "#d8576b"
             ],
             [
              0.6666666666666666,
              "#ed7953"
             ],
             [
              0.7777777777777778,
              "#fb9f3a"
             ],
             [
              0.8888888888888888,
              "#fdca26"
             ],
             [
              1,
              "#f0f921"
             ]
            ],
            "type": "histogram2dcontour"
           }
          ],
          "mesh3d": [
           {
            "colorbar": {
             "outlinewidth": 0,
             "ticks": ""
            },
            "type": "mesh3d"
           }
          ],
          "parcoords": [
           {
            "line": {
             "colorbar": {
              "outlinewidth": 0,
              "ticks": ""
             }
            },
            "type": "parcoords"
           }
          ],
          "pie": [
           {
            "automargin": true,
            "type": "pie"
           }
          ],
          "scatter": [
           {
            "fillpattern": {
             "fillmode": "overlay",
             "size": 10,
             "solidity": 0.2
            },
            "type": "scatter"
           }
          ],
          "scatter3d": [
           {
            "line": {
             "colorbar": {
              "outlinewidth": 0,
              "ticks": ""
             }
            },
            "marker": {
             "colorbar": {
              "outlinewidth": 0,
              "ticks": ""
             }
            },
            "type": "scatter3d"
           }
          ],
          "scattercarpet": [
           {
            "marker": {
             "colorbar": {
              "outlinewidth": 0,
              "ticks": ""
             }
            },
            "type": "scattercarpet"
           }
          ],
          "scattergeo": [
           {
            "marker": {
             "colorbar": {
              "outlinewidth": 0,
              "ticks": ""
             }
            },
            "type": "scattergeo"
           }
          ],
          "scattergl": [
           {
            "marker": {
             "colorbar": {
              "outlinewidth": 0,
              "ticks": ""
             }
            },
            "type": "scattergl"
           }
          ],
          "scattermap": [
           {
            "marker": {
             "colorbar": {
              "outlinewidth": 0,
              "ticks": ""
             }
            },
            "type": "scattermap"
           }
          ],
          "scattermapbox": [
           {
            "marker": {
             "colorbar": {
              "outlinewidth": 0,
              "ticks": ""
             }
            },
            "type": "scattermapbox"
           }
          ],
          "scatterpolar": [
           {
            "marker": {
             "colorbar": {
              "outlinewidth": 0,
              "ticks": ""
             }
            },
            "type": "scatterpolar"
           }
          ],
          "scatterpolargl": [
           {
            "marker": {
             "colorbar": {
              "outlinewidth": 0,
              "ticks": ""
             }
            },
            "type": "scatterpolargl"
           }
          ],
          "scatterternary": [
           {
            "marker": {
             "colorbar": {
              "outlinewidth": 0,
              "ticks": ""
             }
            },
            "type": "scatterternary"
           }
          ],
          "surface": [
           {
            "colorbar": {
             "outlinewidth": 0,
             "ticks": ""
            },
            "colorscale": [
             [
              0,
              "#0d0887"
             ],
             [
              0.1111111111111111,
              "#46039f"
             ],
             [
              0.2222222222222222,
              "#7201a8"
             ],
             [
              0.3333333333333333,
              "#9c179e"
             ],
             [
              0.4444444444444444,
              "#bd3786"
             ],
             [
              0.5555555555555556,
              "#d8576b"
             ],
             [
              0.6666666666666666,
              "#ed7953"
             ],
             [
              0.7777777777777778,
              "#fb9f3a"
             ],
             [
              0.8888888888888888,
              "#fdca26"
             ],
             [
              1,
              "#f0f921"
             ]
            ],
            "type": "surface"
           }
          ],
          "table": [
           {
            "cells": {
             "fill": {
              "color": "#EBF0F8"
             },
             "line": {
              "color": "white"
             }
            },
            "header": {
             "fill": {
              "color": "#C8D4E3"
             },
             "line": {
              "color": "white"
             }
            },
            "type": "table"
           }
          ]
         },
         "layout": {
          "annotationdefaults": {
           "arrowcolor": "#2a3f5f",
           "arrowhead": 0,
           "arrowwidth": 1
          },
          "autotypenumbers": "strict",
          "coloraxis": {
           "colorbar": {
            "outlinewidth": 0,
            "ticks": ""
           }
          },
          "colorscale": {
           "diverging": [
            [
             0,
             "#8e0152"
            ],
            [
             0.1,
             "#c51b7d"
            ],
            [
             0.2,
             "#de77ae"
            ],
            [
             0.3,
             "#f1b6da"
            ],
            [
             0.4,
             "#fde0ef"
            ],
            [
             0.5,
             "#f7f7f7"
            ],
            [
             0.6,
             "#e6f5d0"
            ],
            [
             0.7,
             "#b8e186"
            ],
            [
             0.8,
             "#7fbc41"
            ],
            [
             0.9,
             "#4d9221"
            ],
            [
             1,
             "#276419"
            ]
           ],
           "sequential": [
            [
             0,
             "#0d0887"
            ],
            [
             0.1111111111111111,
             "#46039f"
            ],
            [
             0.2222222222222222,
             "#7201a8"
            ],
            [
             0.3333333333333333,
             "#9c179e"
            ],
            [
             0.4444444444444444,
             "#bd3786"
            ],
            [
             0.5555555555555556,
             "#d8576b"
            ],
            [
             0.6666666666666666,
             "#ed7953"
            ],
            [
             0.7777777777777778,
             "#fb9f3a"
            ],
            [
             0.8888888888888888,
             "#fdca26"
            ],
            [
             1,
             "#f0f921"
            ]
           ],
           "sequentialminus": [
            [
             0,
             "#0d0887"
            ],
            [
             0.1111111111111111,
             "#46039f"
            ],
            [
             0.2222222222222222,
             "#7201a8"
            ],
            [
             0.3333333333333333,
             "#9c179e"
            ],
            [
             0.4444444444444444,
             "#bd3786"
            ],
            [
             0.5555555555555556,
             "#d8576b"
            ],
            [
             0.6666666666666666,
             "#ed7953"
            ],
            [
             0.7777777777777778,
             "#fb9f3a"
            ],
            [
             0.8888888888888888,
             "#fdca26"
            ],
            [
             1,
             "#f0f921"
            ]
           ]
          },
          "colorway": [
           "#636efa",
           "#EF553B",
           "#00cc96",
           "#ab63fa",
           "#FFA15A",
           "#19d3f3",
           "#FF6692",
           "#B6E880",
           "#FF97FF",
           "#FECB52"
          ],
          "font": {
           "color": "#2a3f5f"
          },
          "geo": {
           "bgcolor": "white",
           "lakecolor": "white",
           "landcolor": "#E5ECF6",
           "showlakes": true,
           "showland": true,
           "subunitcolor": "white"
          },
          "hoverlabel": {
           "align": "left"
          },
          "hovermode": "closest",
          "mapbox": {
           "style": "light"
          },
          "paper_bgcolor": "white",
          "plot_bgcolor": "#E5ECF6",
          "polar": {
           "angularaxis": {
            "gridcolor": "white",
            "linecolor": "white",
            "ticks": ""
           },
           "bgcolor": "#E5ECF6",
           "radialaxis": {
            "gridcolor": "white",
            "linecolor": "white",
            "ticks": ""
           }
          },
          "scene": {
           "xaxis": {
            "backgroundcolor": "#E5ECF6",
            "gridcolor": "white",
            "gridwidth": 2,
            "linecolor": "white",
            "showbackground": true,
            "ticks": "",
            "zerolinecolor": "white"
           },
           "yaxis": {
            "backgroundcolor": "#E5ECF6",
            "gridcolor": "white",
            "gridwidth": 2,
            "linecolor": "white",
            "showbackground": true,
            "ticks": "",
            "zerolinecolor": "white"
           },
           "zaxis": {
            "backgroundcolor": "#E5ECF6",
            "gridcolor": "white",
            "gridwidth": 2,
            "linecolor": "white",
            "showbackground": true,
            "ticks": "",
            "zerolinecolor": "white"
           }
          },
          "shapedefaults": {
           "line": {
            "color": "#2a3f5f"
           }
          },
          "ternary": {
           "aaxis": {
            "gridcolor": "white",
            "linecolor": "white",
            "ticks": ""
           },
           "baxis": {
            "gridcolor": "white",
            "linecolor": "white",
            "ticks": ""
           },
           "bgcolor": "#E5ECF6",
           "caxis": {
            "gridcolor": "white",
            "linecolor": "white",
            "ticks": ""
           }
          },
          "title": {
           "x": 0.05
          },
          "xaxis": {
           "automargin": true,
           "gridcolor": "white",
           "linecolor": "white",
           "ticks": "",
           "title": {
            "standoff": 15
           },
           "zerolinecolor": "white",
           "zerolinewidth": 2
          },
          "yaxis": {
           "automargin": true,
           "gridcolor": "white",
           "linecolor": "white",
           "ticks": "",
           "title": {
            "standoff": 15
           },
           "zerolinecolor": "white",
           "zerolinewidth": 2
          }
         }
        },
        "title": {
         "text": "DBSCAN Clustering on RFM Data"
        },
        "width": 600
       }
      }
     },
     "metadata": {},
     "output_type": "display_data"
    },
    {
     "name": "stdout",
     "output_type": "stream",
     "text": [
      "Silhouette Avg (excluding noise): 0.445\n",
      "Davies-Bouldin Index (excluding noise): 0.826\n",
      "Number of clusters identified (excluding noise): 2\n"
     ]
    }
   ],
   "source": [
    "from sklearn.cluster import DBSCAN\n",
    "from sklearn.metrics import silhouette_score\n",
    "from sklearn.metrics import davies_bouldin_score\n",
    "\n",
    "# DBSCAN does not require the number of clusters to be set explicitly.\n",
    "# Instead, it uses the parameters 'eps' (maximum distance between two samples for them to be considered as in the same neighborhood)\n",
    "# and 'min_samples' (number of samples in a neighborhood for a point to be considered as a core point).\n",
    "\n",
    "dbscan = DBSCAN(eps=0.5, min_samples=66)  # Number of clusters is NOT set here\n",
    "dbscan_labels = dbscan.fit_predict(rfm_df_scaled)\n",
    "\n",
    "# Observation1: (eps=0.5, min_samples=5) brought out 8 clusters & 0.031 silhouette score\n",
    "# Observation2: (eps=0.5, min_samples=60) brought out 2 clusters & 0.359 silhouette score\n",
    "# Observation3: (eps=0.5, min_samples=65) brought out 2 clusters & 0.439 silhouette score\n",
    "# Observation3: (eps=0.5, min_samples=66) brought out 2 clusters & 0.445 silhouette score\n",
    "\n",
    "# Add DBSCAN cluster labels to the dataframe\n",
    "df_preds['dbscan_cluster'] = dbscan_labels\n",
    "\n",
    "print(f\"DBSCAN identified {len(set(dbscan_labels)) - (1 if -1 in dbscan_labels else 0)} clusters (excluding noise).\")\n",
    "\n",
    "# Visualize DBSCAN clusters in 3D\n",
    "# Compute silhouette average (excluding noise points, i.e., dbscan_cluster == -1)\n",
    "mask = df_preds[\"dbscan_cluster\"] != -1\n",
    "if mask.sum() > 1 and len(set(df_preds.loc[mask, \"dbscan_cluster\"])) > 1:\n",
    "    dbscan_silhouette_avg = silhouette_score(\n",
    "        rfm_df_scaled.loc[mask], df_preds.loc[mask, \"dbscan_cluster\"]\n",
    "    )\n",
    "    db_index_dbscan = davies_bouldin_score(rfm_df_scaled.loc[mask], df_preds.loc[mask, \"dbscan_cluster\"])\n",
    "    plot_title = \"DBSCAN Clustering on RFM Data\"\n",
    "else:\n",
    "    dbscan_silhouette_avg = None\n",
    "    db_index_dbscan = None\n",
    "    plot_title = \"DBSCAN Clustering on RFM Data\"\n",
    "\n",
    "fig = px.scatter_3d(\n",
    "    df_preds,\n",
    "    x=\"Total_Orders\", y=\"Orders_with_Discount\", z=\"Units\",\n",
    "    color=\"dbscan_cluster\",\n",
    "    height=500, width=600,\n",
    "    title=plot_title\n",
    ")\n",
    "fig.show()\n",
    "\n",
    "if dbscan_silhouette_avg is not None and db_index_dbscan is not None:\n",
    "    n_clusters_identified = len(set(dbscan_labels)) - (1 if -1 in dbscan_labels else 0)\n",
    "    print(f\"Silhouette Avg (excluding noise): {dbscan_silhouette_avg:.3f}\")\n",
    "    print(f\"Davies-Bouldin Index (excluding noise): {db_index_dbscan:.3f}\")\n",
    "    print(f\"Number of clusters identified (excluding noise): {n_clusters_identified}\")\n",
    "else:\n",
    "    print(\"Silhouette Avg: N/A (not enough clusters)\")\n",
    "    print(\"Davies-Bouldin Index: N/A (not enough clusters)\")\n",
    "\n"
   ]
  },
  {
   "cell_type": "code",
   "execution_count": 58,
   "id": "26616d14",
   "metadata": {},
   "outputs": [
    {
     "data": {
      "image/png": "[encoded data removed]",
      "text/plain": [
       "<Figure size 1000x600 with 1 Axes>"
      ]
     },
     "metadata": {},
     "output_type": "display_data"
    },
    {
     "name": "stdout",
     "output_type": "stream",
     "text": [
      "Cluster category = -1 refers to noise points (outliers) detected by DBSCAN.\n"
     ]
    }
   ],
   "source": [
    "# Calculate silhouette score for each cluster\n",
    "from sklearn.metrics import silhouette_samples\n",
    "import matplotlib.pyplot as plt\n",
    "import seaborn as sns\n",
    "\n",
    "# Calculate silhouette scores for each sample\n",
    "silhouette_vals = silhouette_samples(rfm_df_scaled, df_preds['dbscan_cluster'])\n",
    "# Create a DataFrame for silhouette scores\n",
    "silhouette_df = pd.DataFrame({\n",
    "    'Silhouette Score': silhouette_vals,\n",
    "    'Cluster': df_preds['dbscan_cluster']\n",
    "})\n",
    "# Calculate average silhouette score for each cluster\n",
    "silhouette_avg_per_cluster = silhouette_df.groupby('Cluster')['Silhouette Score'].mean().reset_index()\n",
    "# Plot silhouette scores by cluster\n",
    "plt.figure(figsize=(10, 6))\n",
    "sns.barplot(x='Cluster', y='Silhouette Score', data=silhouette_avg_per_cluster)\n",
    "plt.title('Average Silhouette Score by Cluster (DBSCAN)')\n",
    "plt.xlabel('Cluster')\n",
    "plt.ylabel('Average Silhouette Score')\n",
    "plt.show()\n",
    "# Save the dataframe with cluster labels to a CSV file \n",
    "df_preds.to_csv('Archive/df_product_active_clusters.csv', index=False)\n",
    "\n",
    "# In DBSCAN, cluster label -1 indicates noise points (outliers) that do not belong to any cluster.\n",
    "# All samples assigned to cluster -1 are considered noise by the DBSCAN algorithm.\n",
    "print(\"Cluster category = -1 refers to noise points (outliers) detected by DBSCAN.\")"
   ]
  },
  {
   "cell_type": "markdown",
   "id": "9fd9e8af",
   "metadata": {},
   "source": [
    "# Fuzzy C means"
   ]
  },
  {
   "cell_type": "code",
   "execution_count": 59,
   "id": "9bc78e05",
   "metadata": {},
   "outputs": [
    {
     "data": {
      "application/vnd.plotly.v1+json": {
       "config": {
        "plotlyServerURL": "https://plot.ly"
       },
       "data": [
        {
         "hovertemplate": "Total_Orders=%{x}<br>Orders_with_Discount=%{y}<br>Units=%{z}<br>fuzzy_cluster=%{marker.color}<extra></extra>",
         "legendgroup": "",
         "marker": {
          "color": {
           "bdata": "AAAAAQEBAAAAAQAAAQEBAQABAAEBAAEAAQEBAQEAAAEBAAEAAAEAAAEBAQEAAQEBAQABAQABAQEBAQEBAAEBAQEBAQEBAQEAAQEAAAAAAAABAQAAAAAAAQAAAAAAAAAAAQABAAAAAAABAAAAAQAAAAEBAAABAAEBAAEBAQAAAAEBAAEBAQAAAAEAAQABAQAAAAEAAAAAAAAAAAAAAQABAQAAAQAAAQAAAAAAAQAAAAAAAQAAAAABAQEBAAAAAAAAAAABAAEAAAABAQABAAAAAAEAAQAAAAAAAQAAAAEAAQAAAAAAAAEBAAEAAAEBAAAAAAAAAAEBAQAAAAEBAAEAAAEAAAAAAAEAAQAAAAEAAAAAAQAAAAEAAQEBAAAAAAAAAQEAAAEAAQAAAQABAAAAAQAAAQAAAAAAAAAAAAEBAQEAAAAAAQABAQEAAQABAQABAAABAAEBAAABAAAAAAEAAAEBAQAAAAAAAAABAQEAAAABAQEBAQEAAAEBAQEBAQEBAAAAAAEAAQABAAAAAAAAAQABAAABAQAAAAEAAQAAAAEAAAABAQEBAQABAQEAAQEBAAEBAQEBAAEBAQAAAQABAQEBAQEBAQEBAQABAQABAQEBAQAAAQEBAAEBAQEBAQEBAQEBAQAAAQEAAQEAAQEAAQEBAQEBAQABAQEBAQAAAQEBAQEBAQABAQEBAAEAAAEAAQABAAEAAQABAQABAQAAAAAAAQEAAAEAAQABAAEBAAEAAAAAAAABAAABAAEAAAAAAAAAAAEBAAAAAAEAAQEBAQAAAQAAAAEAAAABAQABAQEBAAEAAAEAAAEBAAEAAAEAAAAAAQEAAAAAAQEAAAAAAAAAAAAAAAABAAAAAQAAAAEBAQEAAQAAAAABAQAAAAEAAAEAAAABAAABAQABAQAAAAAAAAABAAABAQEBAQAAAAAAAAAAAAABAAAAAQAAAAAAAQEAAAAAAQEBAQABAAAAAAAAAQABAAAAAAAAAQAAAAABAQEAAAAAAQABAQAAAQABAQABAQEBAQAAAAEBAAEBAAAAAAEBAQEAAAABAQABAAAAAQAAAQAAAAABAAAAAQAAAAABAAAAAQEAAAABAQAAAAEAAAAAAQAAAAEBAAABAAAAAQAAAQAAAAEBAAABAAEAAAAAAAAAAAAAAQAAAAAAAAEBAAAAAAEAAAEAAAEAAQEBAAAAAQAAAQEBAQEBAAEBAAABAAABAQEAAAAAAAEBAQABAQEAAQABAQABAAABAQABAQEAAQAAAQAAAQEAAQAAAQABAQAAAAEAAQEAAAAAAQEAAAEAAQABAAAAAAEAAAEBAAAAAAAAAQAAAAEBAQAAAAAAAAEAAAEAAAAAAQAAAQEBAQEBAAEBAAEBAAEBAQABAQAAAQAAAAAAAAEAAQABAQABAQAAAQAAAQEAAQAAAQEAAAAAAAEBAAAAAAABAQEBAQABAQAAAAAAAAAAAQABAQEBAAAAAQAAAAAAAAAAAAAAAAAAAAAAAQEAAAABAQABAAEBAQAAAAEBAAABAAAAAAEBAAEAAQAAAAEAAAABAQAAAAAAAAAAAAEAAAABAAABAAAAAAAAAQEBAAABAAABAQAAAAEBAQEBAQEAAAAAAQABAAEAAAABAQAAAQEBAQEBAAABAAAAAQEBAAABAAAB",
           "dtype": "i1"
          },
          "coloraxis": "coloraxis",
          "symbol": "circle"
         },
         "mode": "markers",
         "name": "",
         "scene": "scene",
         "showlegend": false,
         "type": "scatter3d",
         "x": {
          "bdata": "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",
          "dtype": "f8"
         },
         "y": {
          "bdata": "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",
          "dtype": "f8"
         },
         "z": {
          "bdata": "nWjrCsQ28r+dnOCvitXAP64849WV/Pi/SM/nQQbB4T9QuWMn7yPlP8mEoSmbHfg/xFvuEWDNx7+uPOPVlfz4v6VSZ/CsmfW/8wHv04Gs0r+2Jl+7fl/8vxop53/k4ea/xY/jtiZs9j+4sKleyVfxP815X5wPz/k/Ginnf+Th5r8D1uaeU3LZv8WP47YmbPY/vkTQRS5hzj9QuWMn7yPlP7ylZ9E9CfM/IhNjZc1E6r/ZWJn0bOP+P/MB79OBrNK/95AnmVmtA0DZWJn0bOP+P8WP47YmbPY/5qOHzzhPmj+8pWfRPQnzP0jP50EGweE/nWjrCsQ28r9Yo98M2IboPwPW5p5Tctm/Kv3eSran7b/ZWJn0bOP+P52c4K+K1cA/vkTQRS5hzj/3kCeZWa0DQOGCzAnuuQDAnZzgr4rVwD9v9t/taPbVP8WP47YmbPY/uLCpXslX8T/EW+4RYM3Hv6VSZ/CsmfW/xFvuEWDNx7/EW+4RYM3Hv0hn/fd4g7S/wJolRLK69D+uPOPVlfz4v+ajh884T5o/dZbIX5/UAkAiE2NlzUTqv7iwqV7JV/E/b/bf7Wj21T/JhKEpmx34P8WP47YmbPY/yYShKZsd+D9Iz+dBBsHhP7ylZ9E9CfM/SGf993iDtL9QuWMn7yPlP2l319epTO8/b/bf7Wj21T9v9t/taPbVP7iwqV7JV/E/dZbIX5/UAkDNeV+cD8/5P3mLhtIThgRAULljJ+8j5T8KVe+0EhzgvwpV77QSHOC/SGf993iDtL/VY9uB+DH9P8Rb7hFgzce/nZzgr4rVwD/EW+4RYM3Hv/MB79OBrNK/Ginnf+Th5r+pRyVjIUv3v0jP50EGweE/aXfX16lM7z8D1uaeU3LZv5lzLZhPhfC/IhNjZc1E6r/EW+4RYM3Hv75E0EUuYc4/xY/jtiZs9j8D1uaeU3LZv52c4K+K1cA/vkTQRS5hzj++RNBFLmHOP52c4K+K1cA/A9bmnlNy2b+daOsKxDbyvwPW5p5Tctm/vkTQRS5hzj8D1uaeU3LZv2/23+1o9tU/WKPfDNiG6D9Iz+dBBsHhPwPW5p5Tctm/5qOHzzhPmj8aKed/5OHmv+6mq7NwSgBAA9bmnlNy2b/mo4fPOE+aP75E0EUuYc4/gMrXuDq83D/zAe/TgazSv75E0EUuYc4/A9bmnlNy2b/3kCeZWa0DQNFuHQ+EgPs/Kv3eSran7b/mo4fPOE+aP2/23+1o9tU/IhNjZc1E6r+dnOCvitXAP7iwqV7JV/E/Kv3eSran7b/AmiVEsrr0P9Vj24H4Mf0/WKPfDNiG6D8D1uaeU3LZv51o6wrENvK/mXMtmE+F8L9QuWMn7yPlP8WP47YmbPY/8wHv04Gs0r+Ayte4OrzcP1C5YyfvI+U/2ViZ9Gzj/j+lUmfwrJn1v64849WV/Pi/qUclYyFL979Yo98M2IboP7obHS7zEP6/zXlfnA/P+T/EW+4RYM3Hv2CNW/LA6es/gMrXuDq83D+daOsKxDbyvxop53/k4ea/Kv3eSran7b9pd9fXqUzvP0hn/fd4g7S/5qOHzzhPmj/mo4fPOE+aP5lzLZhPhfC/ClXvtBIc4L+uPOPVlfz4v+ajh884T5o/A9bmnlNy2b/zAe/TgazSv+ajh884T5o/wJolRLK69D/zAe/TgazSv2/23+1o9tU/1WPbgfgx/T+daOsKxDbyv0hn/fd4g7S/vkTQRS5hzj9IZ/33eIO0v5lzLZhPhfC/5qOHzzhPmj8iE2NlzUTqvwPW5p5Tctm/ClXvtBIc4L8D1uaeU3LZv5lzLZhPhfC/zXlfnA/P+T+daOsKxDbyv0hn/fd4g7S/IhNjZc1E6r8iE2NlzUTqvwPW5p5Tctm/ULljJ+8j5T+lUmfwrJn1v64849WV/Pi/IhNjZc1E6r+daOsKxDbyv7iwqV7JV/E/SGf993iDtL8D1uaeU3LZv2/23+1o9tU/Ginnf+Th5r8KVe+0EhzgvwpV77QSHOC/nWjrCsQ28r8aKed/5OHmv64849WV/Pi/Ginnf+Th5r8iE2NlzUTqv7iwqV7JV/E/A9bmnlNy2b9gjVvywOnrP/MB79OBrNK/IhNjZc1E6r8D1uaeU3LZv52c4K+K1cA/nZzgr4rVwD/zAe/TgazSv0jP50EGweE/Ginnf+Th5r/EW+4RYM3Hv8Rb7hFgzce/xFvuEWDNx7/upquzcEoAQCr93kq2p+2/ULljJ+8j5T8aKed/5OHmvxI/a5r7fuO/ClXvtBIc4L8q/d5Ktqftv/MB79OBrNK/caEK7SojAUAiE2NlzUTqv51o6wrENvK/xFvuEWDNx79pd9fXqUzvP/MB79OBrNK/b/bf7Wj21T/mo4fPOE+aP2/23+1o9tU/vkTQRS5hzj8D1uaeU3LZv6VSZ/CsmfW/mXMtmE+F8L/upquzcEoAQEhn/fd4g7S/xFvuEWDNx79pd9fXqUzvPyITY2XNROq/SGf993iDtL9xoQrtKiMBQEjP50EGweE/A9bmnlNy2b9Yo98M2IboPxop53/k4ea/Ginnf+Th5r8SP2ua+37jvyITY2XNROq/nZzgr4rVwD9Iz+dBBsHhP2CNW/LA6es/SGf993iDtL+daOsKxDbyv6VSZ/CsmfW/5qOHzzhPmj/mo4fPOE+aP7iwqV7JV/E/tiZfu35f/L+4sKleyVfxPxI/a5r7fuO/rjzj1ZX8+L/upquzcEoAQIDK17g6vNw/Kv3eSran7b8q/d5Ktqftv51o6wrENvK/Ej9rmvt+47+dnOCvitXAP6FdqX046PO/YI1b8sDp6z+lUmfwrJn1vwpV77QSHOC/uhsdLvMQ/r9gjVvywOnrPwpV77QSHOC/8wHv04Gs0r+dnOCvitXAPyr93kq2p+2/zXlfnA/P+T9IZ/33eIO0vyITY2XNROq/sjGhSAqu+r9pd9fXqUzvP/MB79OBrNK/yYShKZsd+D9gjVvywOnrP2/23+1o9tU/nZzgr4rVwD/zAe/TgazSv75E0EUuYc4/IhNjZc1E6r+lUmfwrJn1v5lzLZhPhfC/95AnmVmtA0Dmo4fPOE+aPwpV77QSHOC/Ginnf+Th5r9Iz+dBBsHhP8Rb7hFgzce/vkTQRS5hzj+dnOCvitXAP75E0EUuYc4/SGf993iDtL+pRyVjIUv3v2l319epTO8/Kv3eSran7b+daOsKxDbyvyITY2XNROq/b/bf7Wj21T+yMaFICq76vxop53/k4ea/ULljJ+8j5T+yMaFICq76v6VSZ/CsmfW/SM/nQQbB4T+lUmfwrJn1vxop53/k4ea/nWjrCsQ28r8aKed/5OHmv6VSZ/CsmfW/Ginnf+Th5r+8pWfRPQnzP4DK17g6vNw/5qOHzzhPmj/Fj+O2Jmz2P5lzLZhPhfC/SGf993iDtL+pRyVjIUv3v75E0EUuYc4/aXfX16lM7z/mo4fPOE+aP4DK17g6vNw/aXfX16lM7z/EW+4RYM3HvyITY2XNROq/b/bf7Wj21T8iE2NlzUTqv1C5YyfvI+U/b/bf7Wj21T9v9t/taPbVP7iwqV7JV/E/A9bmnlNy2b8SP2ua+37jv1C5YyfvI+U/A9bmnlNy2b9Yo98M2IboP8Rb7hFgzce/Ginnf+Th5r8iE2NlzUTqv2CNW/LA6es/ULljJ+8j5T+Ayte4OrzcP6VSZ/CsmfW/mXMtmE+F8L/zAe/TgazSv6FdqX046PO/xFvuEWDNx79Iz+dBBsHhP1C5YyfvI+U/aXfX16lM7z8iE2NlzUTqvyr93kq2p+2/b/bf7Wj21T+dnOCvitXAP6VSZ/CsmfW/oV2pfTjo87/zAe/TgazSv75E0EUuYc4/b/bf7Wj21T+8pWfRPQnzP75E0EUuYc4/Ej9rmvt+478aKed/5OHmv0jP50EGweE/WKPfDNiG6D9v9t/taPbVPwPW5p5Tctm/SGf993iDtL+8pWfRPQnzP2/23+1o9tU/xFvuEWDNx79QuWMn7yPlP7iwqV7JV/E/b/bf7Wj21T+8pWfRPQnzP/eQJ5lZrQNASGf993iDtL9IZ/33eIO0vxI/a5r7fuO/aXfX16lM7z9IZ/33eIO0v7YmX7t+X/y/A9bmnlNy2b/AmiVEsrr0PwPW5p5Tctm/yYShKZsd+D/zAe/TgazSv2l319epTO8/8wHv04Gs0r+hXal9OOjzv7obHS7zEP6/Ginnf+Th5r+2Jl+7fl/8v0hn/fd4g7S/nZzgr4rVwD+lUmfwrJn1v2l319epTO8/Ej9rmvt+478SP2ua+37jv7iwqV7JV/E/vkTQRS5hzj8KVe+0EhzgvwPW5p5Tctm/uhsdLvMQ/r+Ayte4OrzcPwPW5p5Tctm/SGf993iDtL+lUmfwrJn1v7YmX7t+X/y/xFvuEWDNx7/upquzcEoAQLIxoUgKrvq/mXMtmE+F8L+daOsKxDbyv2CNW/LA6es/85tpJuX7AUDVY9uB+DH9P815X5wPz/k/uLCpXslX8T+daOsKxDbyv8mEoSmbHfg/aXfX16lM7z8KVe+0Ehzgv6VSZ/CsmfW/WKPfDNiG6D9gjVvywOnrP9lYmfRs4/4/A9bmnlNy2b/JhKEpmx34P815X5wPz/k/ULljJ+8j5T/upquzcEoAQLiwqV7JV/E/Ej9rmvt+47/Rbh0PhID7P7ylZ9E9CfM/uLCpXslX8T8iE2NlzUTqv6VSZ/CsmfW/WKPfDNiG6D8D1uaeU3LZv0hn/fd4g7S/uLCpXslX8T9pd9fXqUzvP9FuHQ+EgPs/vkTQRS5hzj/AmiVEsrr0P2l319epTO8/nZzgr4rVwD9Iz+dBBsHhP+ajh884T5o/caEK7SojAUDmo4fPOE+aP2/23+1o9tU/nZzgr4rVwD8D1uaeU3LZv8WP47YmbPY/SM/nQQbB4T/AmiVEsrr0P3WWyF+f1AJAULljJ+8j5T9v9t/taPbVPwPW5p5Tctm/vkTQRS5hzj+dnOCvitXAPwpV77QSHOC/nZzgr4rVwD9Iz+dBBsHhP2CNW/LA6es/aXfX16lM7z/mo4fPOE+aP9lYmfRs4/4/xY/jtiZs9j+dnOCvitXAP+6mq7NwSgBAyYShKZsd+D/Fj+O2Jmz2P815X5wPz/k/SM/nQQbB4T8KVe+0EhzgvxI/a5r7fuO/5qOHzzhPmj9IZ/33eIO0v+ajh884T5o/YI1b8sDp6z++RNBFLmHOP5lzLZhPhfC/zXlfnA/P+T++RNBFLmHOP5lzLZhPhfC/gMrXuDq83D+8pWfRPQnzP815X5wPz/k/uLCpXslX8T+4sKleyVfxP8WP47YmbPY/vkTQRS5hzj+Zcy2YT4Xwv9Vj24H4Mf0/SM/nQQbB4T/3kCeZWa0DQHGhCu0qIwFAWKPfDNiG6D8q/d5Ktqftv8Rb7hFgzce/yYShKZsd+D9QuWMn7yPlP8WP47YmbPY/95AnmVmtA0Dzm2km5fsBQPMB79OBrNK/85tpJuX7AUDEW+4RYM3Hv0jP50EGweE/SGf993iDtL+4sKleyVfxP9lYmfRs4/4/ClXvtBIc4L++RNBFLmHOPxI/a5r7fuO/5qOHzzhPmj9Iz+dBBsHhPyr93kq2p+2/ULljJ+8j5T8SP2ua+37jv1ij3wzYhug/mXMtmE+F8L9Iz+dBBsHhP51o6wrENvK/aXfX16lM7z8iE2NlzUTqv/MB79OBrNK/8wHv04Gs0r+lUmfwrJn1v0hn/fd4g7S/ULljJ+8j5T+dnOCvitXAP8Rb7hFgzce/oV2pfTjo87+Zcy2YT4XwvyITY2XNROq/5qOHzzhPmj/Fj+O2Jmz2P5lzLZhPhfC/ClXvtBIc4L/JhKEpmx34PxI/a5r7fuO/SM/nQQbB4T++RNBFLmHOP8Rb7hFgzce/nWjrCsQ28r9pd9fXqUzvP2/23+1o9tU/A9bmnlNy2b/JhKEpmx34P6FdqX046PO/A9bmnlNy2b8q/d5KtqftvyITY2XNROq/8wHv04Gs0r+Zcy2YT4Xwv52c4K+K1cA/oV2pfTjo87/zAe/TgazSv2/23+1o9tU/oV2pfTjo87/JhKEpmx34Pxop53/k4ea/oV2pfTjo878KVe+0Ehzgv0hn/fd4g7S/8wHv04Gs0r+hXal9OOjzv74Q26Bnwv+/Kv3eSran7b++RNBFLmHOP7ylZ9E9CfM/ClXvtBIc4L8SP2ua+37jv7IxoUgKrvq/b/bf7Wj21T9QuWMn7yPlPyITY2XNROq/aXfX16lM7z9QuWMn7yPlP/eQJ5lZrQNA1WPbgfgx/T/EW+4RYM3HvyITY2XNROq/vkTQRS5hzj/EW+4RYM3Hv6FdqX046PO/Ej9rmvt+47/Fj+O2Jmz2P52c4K+K1cA/Ej9rmvt+47+lUmfwrJn1v4DK17g6vNw/0W4dD4SA+z9v9t/taPbVP8CaJUSyuvQ/nZzgr4rVwD/mo4fPOE+aP52c4K+K1cA/5qOHzzhPmj/JhKEpmx34PxI/a5r7fuO/ClXvtBIc4L9gjVvywOnrPxop53/k4ea/Ej9rmvt+479IZ/33eIO0v75E0EUuYc4/xFvuEWDNx7++RNBFLmHOPwpV77QSHOC/Ej9rmvt+47+dnOCvitXAP7IxoUgKrvq/IhNjZc1E6r+pRyVjIUv3v/MB79OBrNK/2ViZ9Gzj/j9Yo98M2IboPwPW5p5Tctm/b/bf7Wj21T8SP2ua+37jvyITY2XNROq/7qars3BKAEDJhKEpmx34P52c4K+K1cA/SGf993iDtL/zAe/TgazSvwpV77QSHOC/aXfX16lM7z8KVe+0EhzgvyITY2XNROq/pVJn8KyZ9b/zAe/TgazSv2/23+1o9tU/pVJn8KyZ9b8D1uaeU3LZv2l319epTO8/xFvuEWDNx7++ENugZ8L/v/MB79OBrNK/dZbIX5/UAkCyMaFICq76vyITY2XNROq/qUclYyFL97+Ayte4OrzcP8mEoSmbHfg/0W4dD4SA+z/NeV+cD8/5P7obHS7zEP6/b/bf7Wj21T8q/d5Ktqftv7YmX7t+X/y/IhNjZc1E6r9IZ/33eIO0v9FuHQ+EgPs/WKPfDNiG6D9IZ/33eIO0v2/23+1o9tU/oV2pfTjo87+8pWfRPQnzP8Rb7hFgzce/Ej9rmvt+47/NeV+cD8/5P2/23+1o9tU/A9bmnlNy2b8iE2NlzUTqv3mLhtIThgRAClXvtBIc4L8aKed/5OHmv2CNW/LA6es/2ViZ9Gzj/j/zAe/TgazSv/MB79OBrNK/aXfX16lM7z8aKed/5OHmvyr93kq2p+2/ClXvtBIc4L8SP2ua+37jvwPW5p5Tctm/8wHv04Gs0r+hXal9OOjzv52c4K+K1cA/tiZfu35f/L+daOsKxDbyv1ij3wzYhug/gMrXuDq83D9v9t/taPbVP2/23+1o9tU/0W4dD4SA+z/EW+4RYM3Hv0hn/fd4g7S/IhNjZc1E6r8SP2ua+37jv8Rb7hFgzce/Ginnf+Th5r+Zcy2YT4XwvxI/a5r7fuO/oV2pfTjo87+yMaFICq76v8WP47YmbPY/oV2pfTjo87+Ayte4OrzcP6FdqX046PO/7qars3BKAEAq/d5Ktqftvyr93kq2p+2/xFvuEWDNx78q/d5Ktqftv0hn/fd4g7S/8wHv04Gs0r9Iz+dBBsHhP0hn/fd4g7S/A9bmnlNy2b+Zcy2YT4Xwv7IxoUgKrvq/WKPfDNiG6D+8pWfRPQnzP9lYmfRs4/4/caEK7SojAUAD1uaeU3LZv4DK17g6vNw/b/bf7Wj21T+daOsKxDbyvwPW5p5Tctm/qUclYyFL97+Zcy2YT4Xwv7YmX7t+X/y/0W4dD4SA+z8iE2NlzUTqv2/23+1o9tU/Ej9rmvt+478aKed/5OHmv2/23+1o9tU/Ginnf+Th5r/EW+4RYM3Hv2l319epTO8/WKPfDNiG6D/mo4fPOE+aPxI/a5r7fuO/gMrXuDq83D+hXal9OOjzv2/23+1o9tU/vKVn0T0J8z9gjVvywOnrPxI/a5r7fuO/8wHv04Gs0r8D1uaeU3LZv6lHJWMhS/e/WKPfDNiG6D8aKed/5OHmv4DK17g6vNw/ULljJ+8j5T9IZ/33eIO0v6lHJWMhS/e/b/bf7Wj21T8aKed/5OHmv1ij3wzYhug/aXfX16lM7z8D1uaeU3LZv2/23+1o9tU/b/bf7Wj21T9Iz+dBBsHhP7ylZ9E9CfM/0W4dD4SA+z+hXal9OOjzv64849WV/Pi/vhDboGfC/7/AmiVEsrr0P2/23+1o9tU/tiZfu35f/L/JhKEpmx34P8WP47YmbPY/xFvuEWDNx78aKed/5OHmv1C5YyfvI+U/ClXvtBIc4L/AmiVEsrr0P52c4K+K1cA/SM/nQQbB4T/Rbh0PhID7P52c4K+K1cA/uhsdLvMQ/r8SP2ua+37jv7ylZ9E9CfM/SGf993iDtL/EW+4RYM3Hv2l319epTO8/sjGhSAqu+r+yMaFICq76v6lHJWMhS/e/aXfX16lM7z+dnOCvitXAP0jP50EGweE/gMrXuDq83D/mo4fPOE+aP0hn/fd4g7S/gMrXuDq83D8KVe+0Ehzgv8CaJUSyuvQ/pVJn8KyZ9b8q/d5KtqftvxI/a5r7fuO/nZzgr4rVwD9IZ/33eIO0vyITY2XNROq/IhNjZc1E6r8KVe+0Ehzgv/uF5QvOXgVAb/bf7Wj21T+Zcy2YT4XwvxI/a5r7fuO/vKVn0T0J8z/EW+4RYM3HvyITY2XNROq/Ginnf+Th5r8q/d5Ktqftv1ij3wzYhug/A9bmnlNy2b+yMaFICq76v4DK17g6vNw/mXMtmE+F8L+8pWfRPQnzP8Rb7hFgzce/xFvuEWDNx7+lUmfwrJn1v5lzLZhPhfC/7qars3BKAEBIz+dBBsHhP+ajh884T5o/8wHv04Gs0r/VY9uB+DH9P8mEoSmbHfg/oV2pfTjo87++ENugZ8L/v0jP50EGweE/YI1b8sDp6z/zAe/TgazSvwpV77QSHOC/aXfX16lM7z/EW+4RYM3HvwpV77QSHOC/WKPfDNiG6D++ENugZ8L/v6VSZ/CsmfW/Kv3eSran7b+Ayte4OrzcP+ajh884T5o/WKPfDNiG6D+pRyVjIUv3v/ObaSbl+wFAULljJ+8j5T9IZ/33eIO0vyr93kq2p+2/nZzgr4rVwD8SP2ua+37jv+ajh884T5o/IhNjZc1E6r9Yo98M2IboPxop53/k4ea/xFvuEWDNx7+daOsKxDbyv51o6wrENvK/nZzgr4rVwD+lUmfwrJn1vyr93kq2p+2/Ej9rmvt+479Yo98M2IboPxI/a5r7fuO/Ginnf+Th5r9Iz+dBBsHhP4DK17g6vNw/A9bmnlNy2b8iE2NlzUTqv75E0EUuYc4/Ej9rmvt+47+Ayte4OrzcP+ajh884T5o/qUclYyFL97/zAe/TgazSv75E0EUuYc4/xFvuEWDNx7/Rbh0PhID7P0hn/fd4g7S/ULljJ+8j5T91lshfn9QCQHWWyF+f1AJAKv3eSran7b+daOsKxDbyvxop53/k4ea/nZzgr4rVwD+lUmfwrJn1v5lzLZhPhfC/uLCpXslX8T9IZ/33eIO0v2l319epTO8/vKVn0T0J8z9v9t/taPbVP7ylZ9E9CfM/A9bmnlNy2b/Fj+O2Jmz2P2/23+1o9tU/A9bmnlNy2b8KVe+0Ehzgv2l319epTO8/SGf993iDtL8SP2ua+37jv/MB79OBrNK/yYShKZsd+D9QuWMn7yPlP/MB79OBrNK/nZzgr4rVwD8q/d5Ktqftvyr93kq2p+2/Ej9rmvt+47/JhKEpmx34P8mEoSmbHfg/uLCpXslX8T+6Gx0u8xD+v2CNW/LA6es/7qars3BKAEC4sKleyVfxPyITY2XNROq/7qars3BKAEAiE2NlzUTqv7iwqV7JV/E/SM/nQQbB4T8iE2NlzUTqv2l319epTO8/oV2pfTjo878iE2NlzUTqv2l319epTO8/b/bf7Wj21T9IZ/33eIO0v1ij3wzYhug/dZbIX5/UAkBpd9fXqUzvP2l319epTO8/SM/nQQbB4T+yMaFICq76v/MB79OBrNK/wJolRLK69D+pRyVjIUv3vyITY2XNROq/xY/jtiZs9j9v9t/taPbVP+ajh884T5o/5qOHzzhPmj8SP2ua+37jv8Rb7hFgzce/SM/nQQbB4T8aKed/5OHmv+6mq7NwSgBAULljJ+8j5T8aKed/5OHmv6VSZ/CsmfW/sjGhSAqu+r/mo4fPOE+aP52c4K+K1cA/vKVn0T0J8z/NeV+cD8/5P+ajh884T5o/Kv3eSran7b+yMaFICq76v1ij3wzYhug/nZzgr4rVwD/mo4fPOE+aPwpV77QSHOC/Kv3eSran7b+4sKleyVfxP64849WV/Pi/SM/nQQbB4T8iE2NlzUTqv52c4K+K1cA/Ginnf+Th5r8iE2NlzUTqv75E0EUuYc4/qUclYyFL979v9t/taPbVPyITY2XNROq/xFvuEWDNx79gjVvywOnrP1C5YyfvI+U/Kv3eSran7b8SP2ua+37jv6lHJWMhS/e/b/bf7Wj21T+uPOPVlfz4vyr93kq2p+2/SGf993iDtL+lUmfwrJn1vxop53/k4ea/SGf993iDtL/mo4fPOE+aP7iwqV7JV/E/nZzgr4rVwD8D1uaeU3LZvwpV77QSHOC/IhNjZc1E6r/EW+4RYM3Hv7YmX7t+X/y/ClXvtBIc4L9Yo98M2IboPxI/a5r7fuO/b/bf7Wj21T9Iz+dBBsHhP2/23+1o9tU/Ej9rmvt+47/mo4fPOE+aPxop53/k4ea/xY/jtiZs9j8D1uaeU3LZv4DK17g6vNw/SM/nQQbB4T/mo4fPOE+aP75E0EUuYc4/gMrXuDq83D95i4bSE4YEQEjP50EGweE/mXMtmE+F8L+8pWfRPQnzP8CaJUSyuvQ/mXMtmE+F8L/mo4fPOE+aP9lYmfRs4/4/Ginnf+Th5r/NeV+cD8/5P2/23+1o9tU/YI1b8sDp6z+hXal9OOjzv4DK17g6vNw/gMrXuDq83D8KVe+0Ehzgv/MB79OBrNK/95AnmVmtA0BIz+dBBsHhPwpV77QSHOC/SGf993iDtL+hXal9OOjzv7obHS7zEP6/SGf993iDtL9pd9fXqUzvP7IxoUgKrvq/YI1b8sDp6z+2Jl+7fl/8v8WP47YmbPY/yYShKZsd+D8aKed/5OHmv2l319epTO8/A9bmnlNy2b8aKed/5OHmvyITY2XNROq/yYShKZsd+D/zAe/TgazSvwPW5p5Tctm/vKVn0T0J8z++RNBFLmHOP5lzLZhPhfC/5qOHzzhPmj9Iz+dBBsHhPyITY2XNROq/nZzgr4rVwD9IZ/33eIO0v4DK17g6vNw/SGf993iDtL8aKed/5OHmvyITY2XNROq/5qOHzzhPmj/Fj+O2Jmz2P3GhCu0qIwFAA9bmnlNy2b/zAe/TgazSv51o6wrENvK/nWjrCsQ28r+4sKleyVfxP2CNW/LA6es/5qOHzzhPmj/zm2km5fsBQHGhCu0qIwFAgMrXuDq83D+2Jl+7fl/8v2l319epTO8/vKVn0T0J8z+daOsKxDbyvyr93kq2p+2/8wHv04Gs0r9v9t/taPbVPyr93kq2p+2/IhNjZc1E6r/zAe/TgazSv64849WV/Pi/ClXvtBIc4L8KVe+0Ehzgv9Vj24H4Mf0/nWjrCsQ28r+Ayte4OrzcP+ajh884T5o/mXMtmE+F8L+pRyVjIUv3vwPW5p5Tctm/xFvuEWDNx79IZ/33eIO0vxop53/k4ea/uhsdLvMQ/r+Zcy2YT4Xwv7IxoUgKrvq/tiZfu35f/L8D1uaeU3LZvxop53/k4ea/uhsdLvMQ/r+6Gx0u8xD+v51o6wrENvK/uhsdLvMQ/r+Zcy2YT4Xwv7IxoUgKrvq/uhsdLvMQ/r+uPOPVlfz4v6lHJWMhS/e/xY/jtiZs9j9Iz+dBBsHhPyr93kq2p+2/mXMtmE+F8L9QuWMn7yPlPwPW5p5Tctm/nZzgr4rVwD8SP2ua+37jv4DK17g6vNw/nWjrCsQ28r+8pWfRPQnzP1ij3wzYhug/8wHv04Gs0r+lUmfwrJn1v4DK17g6vNw/oV2pfTjo879QuWMn7yPlP+6mq7NwSgBApVJn8KyZ9b/mo4fPOE+aP1C5YyfvI+U/Ginnf+Th5r/EW+4RYM3HvwPW5p5Tctm/b/bf7Wj21T+8pWfRPQnzP1C5YyfvI+U/mXMtmE+F8L9v9t/taPbVP5lzLZhPhfC/2ViZ9Gzj/j+6Gx0u8xD+vwPW5p5Tctm/Ej9rmvt+4791lshfn9QCQAPW5p5Tctm/A9bmnlNy2b+daOsKxDbyv52c4K+K1cA/b/bf7Wj21T/zAe/TgazSvyITY2XNROq/nWjrCsQ28r/EW+4RYM3Hv6FdqX046PO/IhNjZc1E6r/EW+4RYM3Hv6FdqX046PO/Ginnf+Th5r/Rbh0PhID7PxI/a5r7fuO/xFvuEWDNx78iE2NlzUTqvwpV77QSHOC/8wHv04Gs0r8aKed/5OHmv52c4K+K1cA/Ginnf+Th5r+daOsKxDbyvxI/a5r7fuO/nWjrCsQ28r8iE2NlzUTqv64849WV/Pi/aXfX16lM7z9v9t/taPbVP52c4K+K1cA/IhNjZc1E6r/zAe/TgazSv1C5YyfvI+U/IhNjZc1E6r8SP2ua+37jv2CNW/LA6es/SM/nQQbB4T8SP2ua+37jvyITY2XNROq/vkTQRS5hzj9v9t/taPbVP8mEoSmbHfg/gMrXuDq83D+8pWfRPQnzP4DK17g6vNw/ULljJ+8j5T/zAe/TgazSv/MB79OBrNK/5qOHzzhPmj/mo4fPOE+aP/MB79OBrNK/YI1b8sDp6z8q/d5Ktqftv0jP50EGweE/pVJn8KyZ9b9QuWMn7yPlP52c4K+K1cA/IhNjZc1E6r8SP2ua+37jvwPW5p5Tctm/WKPfDNiG6D+Zcy2YT4Xwvyr93kq2p+2/gMrXuDq83D++RNBFLmHOP7ylZ9E9CfM/ULljJ+8j5T/Fj+O2Jmz2P+ajh884T5o/sjGhSAqu+r+Zcy2YT4Xwv7iwqV7JV/E/pVJn8KyZ9b8KVe+0Ehzgvyr93kq2p+2/A9bmnlNy2b9Yo98M2IboP0jP50EGweE/Ginnf+Th5r9IZ/33eIO0v4DK17g6vNw/mXMtmE+F8L/EW+4RYM3Hv7ylZ9E9CfM/",
          "dtype": "f8"
         }
        }
       ],
       "layout": {
        "coloraxis": {
         "colorbar": {
          "title": {
           "text": "fuzzy_cluster"
          }
         },
         "colorscale": [
          [
           0,
           "#0d0887"
          ],
          [
           0.1111111111111111,
           "#46039f"
          ],
          [
           0.2222222222222222,
           "#7201a8"
          ],
          [
           0.3333333333333333,
           "#9c179e"
          ],
          [
           0.4444444444444444,
           "#bd3786"
          ],
          [
           0.5555555555555556,
           "#d8576b"
          ],
          [
           0.6666666666666666,
           "#ed7953"
          ],
          [
           0.7777777777777778,
           "#fb9f3a"
          ],
          [
           0.8888888888888888,
           "#fdca26"
          ],
          [
           1,
           "#f0f921"
          ]
         ]
        },
        "height": 500,
        "legend": {
         "tracegroupgap": 0
        },
        "scene": {
         "domain": {
          "x": [
           0,
           1
          ],
          "y": [
           0,
           1
          ]
         },
         "xaxis": {
          "title": {
           "text": "Total_Orders"
          }
         },
         "yaxis": {
          "title": {
           "text": "Orders_with_Discount"
          }
         },
         "zaxis": {
          "title": {
           "text": "Units"
          }
         }
        },
        "template": {
         "data": {
          "bar": [
           {
            "error_x": {
             "color": "#2a3f5f"
            },
            "error_y": {
             "color": "#2a3f5f"
            },
            "marker": {
             "line": {
              "color": "#E5ECF6",
              "width": 0.5
             },
             "pattern": {
              "fillmode": "overlay",
              "size": 10,
              "solidity": 0.2
             }
            },
            "type": "bar"
           }
          ],
          "barpolar": [
           {
            "marker": {
             "line": {
              "color": "#E5ECF6",
              "width": 0.5
             },
             "pattern": {
              "fillmode": "overlay",
              "size": 10,
              "solidity": 0.2
             }
            },
            "type": "barpolar"
           }
          ],
          "carpet": [
           {
            "aaxis": {
             "endlinecolor": "#2a3f5f",
             "gridcolor": "white",
             "linecolor": "white",
             "minorgridcolor": "white",
             "startlinecolor": "#2a3f5f"
            },
            "baxis": {
             "endlinecolor": "#2a3f5f",
             "gridcolor": "white",
             "linecolor": "white",
             "minorgridcolor": "white",
             "startlinecolor": "#2a3f5f"
            },
            "type": "carpet"
           }
          ],
          "choropleth": [
           {
            "colorbar": {
             "outlinewidth": 0,
             "ticks": ""
            },
            "type": "choropleth"
           }
          ],
          "contour": [
           {
            "colorbar": {
             "outlinewidth": 0,
             "ticks": ""
            },
            "colorscale": [
             [
              0,
              "#0d0887"
             ],
             [
              0.1111111111111111,
              "#46039f"
             ],
             [
              0.2222222222222222,
              "#7201a8"
             ],
             [
              0.3333333333333333,
              "#9c179e"
             ],
             [
              0.4444444444444444,
              "#bd3786"
             ],
             [
              0.5555555555555556,
              "#d8576b"
             ],
             [
              0.6666666666666666,
              "#ed7953"
             ],
             [
              0.7777777777777778,
              "#fb9f3a"
             ],
             [
              0.8888888888888888,
              "#fdca26"
             ],
             [
              1,
              "#f0f921"
             ]
            ],
            "type": "contour"
           }
          ],
          "contourcarpet": [
           {
            "colorbar": {
             "outlinewidth": 0,
             "ticks": ""
            },
            "type": "contourcarpet"
           }
          ],
          "heatmap": [
           {
            "colorbar": {
             "outlinewidth": 0,
             "ticks": ""
            },
            "colorscale": [
             [
              0,
              "#0d0887"
             ],
             [
              0.1111111111111111,
              "#46039f"
             ],
             [
              0.2222222222222222,
              "#7201a8"
             ],
             [
              0.3333333333333333,
              "#9c179e"
             ],
             [
              0.4444444444444444,
              "#bd3786"
             ],
             [
              0.5555555555555556,
              "#d8576b"
             ],
             [
              0.6666666666666666,
              "#ed7953"
             ],
             [
              0.7777777777777778,
              "#fb9f3a"
             ],
             [
              0.8888888888888888,
              "#fdca26"
             ],
             [
              1,
              "#f0f921"
             ]
            ],
            "type": "heatmap"
           }
          ],
          "histogram": [
           {
            "marker": {
             "pattern": {
              "fillmode": "overlay",
              "size": 10,
              "solidity": 0.2
             }
            },
            "type": "histogram"
           }
          ],
          "histogram2d": [
           {
            "colorbar": {
             "outlinewidth": 0,
             "ticks": ""
            },
            "colorscale": [
             [
              0,
              "#0d0887"
             ],
             [
              0.1111111111111111,
              "#46039f"
             ],
             [
              0.2222222222222222,
              "#7201a8"
             ],
             [
              0.3333333333333333,
              "#9c179e"
             ],
             [
              0.4444444444444444,
              "#bd3786"
             ],
             [
              0.5555555555555556,
              "#d8576b"
             ],
             [
              0.6666666666666666,
              "#ed7953"
             ],
             [
              0.7777777777777778,
              "#fb9f3a"
             ],
             [
              0.8888888888888888,
              "#fdca26"
             ],
             [
              1,
              "#f0f921"
             ]
            ],
            "type": "histogram2d"
           }
          ],
          "histogram2dcontour": [
           {
            "colorbar": {
             "outlinewidth": 0,
             "ticks": ""
            },
            "colorscale": [
             [
              0,
              "#0d0887"
             ],
             [
              0.1111111111111111,
              "#46039f"
             ],
             [
              0.2222222222222222,
              "#7201a8"
             ],
             [
              0.3333333333333333,
              "#9c179e"
             ],
             [
              0.4444444444444444,
              "#bd3786"
             ],
             [
              0.5555555555555556,
              "#d8576b"
             ],
             [
              0.6666666666666666,
              "#ed7953"
             ],
             [
              0.7777777777777778,
              "#fb9f3a"
             ],
             [
              0.8888888888888888,
              "#fdca26"
             ],
             [
              1,
              "#f0f921"
             ]
            ],
            "type": "histogram2dcontour"
           }
          ],
          "mesh3d": [
           {
            "colorbar": {
             "outlinewidth": 0,
             "ticks": ""
            },
            "type": "mesh3d"
           }
          ],
          "parcoords": [
           {
            "line": {
             "colorbar": {
              "outlinewidth": 0,
              "ticks": ""
             }
            },
            "type": "parcoords"
           }
          ],
          "pie": [
           {
            "automargin": true,
            "type": "pie"
           }
          ],
          "scatter": [
           {
            "fillpattern": {
             "fillmode": "overlay",
             "size": 10,
             "solidity": 0.2
            },
            "type": "scatter"
           }
          ],
          "scatter3d": [
           {
            "line": {
             "colorbar": {
              "outlinewidth": 0,
              "ticks": ""
             }
            },
            "marker": {
             "colorbar": {
              "outlinewidth": 0,
              "ticks": ""
             }
            },
            "type": "scatter3d"
           }
          ],
          "scattercarpet": [
           {
            "marker": {
             "colorbar": {
              "outlinewidth": 0,
              "ticks": ""
             }
            },
            "type": "scattercarpet"
           }
          ],
          "scattergeo": [
           {
            "marker": {
             "colorbar": {
              "outlinewidth": 0,
              "ticks": ""
             }
            },
            "type": "scattergeo"
           }
          ],
          "scattergl": [
           {
            "marker": {
             "colorbar": {
              "outlinewidth": 0,
              "ticks": ""
             }
            },
            "type": "scattergl"
           }
          ],
          "scattermap": [
           {
            "marker": {
             "colorbar": {
              "outlinewidth": 0,
              "ticks": ""
             }
            },
            "type": "scattermap"
           }
          ],
          "scattermapbox": [
           {
            "marker": {
             "colorbar": {
              "outlinewidth": 0,
              "ticks": ""
             }
            },
            "type": "scattermapbox"
           }
          ],
          "scatterpolar": [
           {
            "marker": {
             "colorbar": {
              "outlinewidth": 0,
              "ticks": ""
             }
            },
            "type": "scatterpolar"
           }
          ],
          "scatterpolargl": [
           {
            "marker": {
             "colorbar": {
              "outlinewidth": 0,
              "ticks": ""
             }
            },
            "type": "scatterpolargl"
           }
          ],
          "scatterternary": [
           {
            "marker": {
             "colorbar": {
              "outlinewidth": 0,
              "ticks": ""
             }
            },
            "type": "scatterternary"
           }
          ],
          "surface": [
           {
            "colorbar": {
             "outlinewidth": 0,
             "ticks": ""
            },
            "colorscale": [
             [
              0,
              "#0d0887"
             ],
             [
              0.1111111111111111,
              "#46039f"
             ],
             [
              0.2222222222222222,
              "#7201a8"
             ],
             [
              0.3333333333333333,
              "#9c179e"
             ],
             [
              0.4444444444444444,
              "#bd3786"
             ],
             [
              0.5555555555555556,
              "#d8576b"
             ],
             [
              0.6666666666666666,
              "#ed7953"
             ],
             [
              0.7777777777777778,
              "#fb9f3a"
             ],
             [
              0.8888888888888888,
              "#fdca26"
             ],
             [
              1,
              "#f0f921"
             ]
            ],
            "type": "surface"
           }
          ],
          "table": [
           {
            "cells": {
             "fill": {
              "color": "#EBF0F8"
             },
             "line": {
              "color": "white"
             }
            },
            "header": {
             "fill": {
              "color": "#C8D4E3"
             },
             "line": {
              "color": "white"
             }
            },
            "type": "table"
           }
          ]
         },
         "layout": {
          "annotationdefaults": {
           "arrowcolor": "#2a3f5f",
           "arrowhead": 0,
           "arrowwidth": 1
          },
          "autotypenumbers": "strict",
          "coloraxis": {
           "colorbar": {
            "outlinewidth": 0,
            "ticks": ""
           }
          },
          "colorscale": {
           "diverging": [
            [
             0,
             "#8e0152"
            ],
            [
             0.1,
             "#c51b7d"
            ],
            [
             0.2,
             "#de77ae"
            ],
            [
             0.3,
             "#f1b6da"
            ],
            [
             0.4,
             "#fde0ef"
            ],
            [
             0.5,
             "#f7f7f7"
            ],
            [
             0.6,
             "#e6f5d0"
            ],
            [
             0.7,
             "#b8e186"
            ],
            [
             0.8,
             "#7fbc41"
            ],
            [
             0.9,
             "#4d9221"
            ],
            [
             1,
             "#276419"
            ]
           ],
           "sequential": [
            [
             0,
             "#0d0887"
            ],
            [
             0.1111111111111111,
             "#46039f"
            ],
            [
             0.2222222222222222,
             "#7201a8"
            ],
            [
             0.3333333333333333,
             "#9c179e"
            ],
            [
             0.4444444444444444,
             "#bd3786"
            ],
            [
             0.5555555555555556,
             "#d8576b"
            ],
            [
             0.6666666666666666,
             "#ed7953"
            ],
            [
             0.7777777777777778,
             "#fb9f3a"
            ],
            [
             0.8888888888888888,
             "#fdca26"
            ],
            [
             1,
             "#f0f921"
            ]
           ],
           "sequentialminus": [
            [
             0,
             "#0d0887"
            ],
            [
             0.1111111111111111,
             "#46039f"
            ],
            [
             0.2222222222222222,
             "#7201a8"
            ],
            [
             0.3333333333333333,
             "#9c179e"
            ],
            [
             0.4444444444444444,
             "#bd3786"
            ],
            [
             0.5555555555555556,
             "#d8576b"
            ],
            [
             0.6666666666666666,
             "#ed7953"
            ],
            [
             0.7777777777777778,
             "#fb9f3a"
            ],
            [
             0.8888888888888888,
             "#fdca26"
            ],
            [
             1,
             "#f0f921"
            ]
           ]
          },
          "colorway": [
           "#636efa",
           "#EF553B",
           "#00cc96",
           "#ab63fa",
           "#FFA15A",
           "#19d3f3",
           "#FF6692",
           "#B6E880",
           "#FF97FF",
           "#FECB52"
          ],
          "font": {
           "color": "#2a3f5f"
          },
          "geo": {
           "bgcolor": "white",
           "lakecolor": "white",
           "landcolor": "#E5ECF6",
           "showlakes": true,
           "showland": true,
           "subunitcolor": "white"
          },
          "hoverlabel": {
           "align": "left"
          },
          "hovermode": "closest",
          "mapbox": {
           "style": "light"
          },
          "paper_bgcolor": "white",
          "plot_bgcolor": "#E5ECF6",
          "polar": {
           "angularaxis": {
            "gridcolor": "white",
            "linecolor": "white",
            "ticks": ""
           },
           "bgcolor": "#E5ECF6",
           "radialaxis": {
            "gridcolor": "white",
            "linecolor": "white",
            "ticks": ""
           }
          },
          "scene": {
           "xaxis": {
            "backgroundcolor": "#E5ECF6",
            "gridcolor": "white",
            "gridwidth": 2,
            "linecolor": "white",
            "showbackground": true,
            "ticks": "",
            "zerolinecolor": "white"
           },
           "yaxis": {
            "backgroundcolor": "#E5ECF6",
            "gridcolor": "white",
            "gridwidth": 2,
            "linecolor": "white",
            "showbackground": true,
            "ticks": "",
            "zerolinecolor": "white"
           },
           "zaxis": {
            "backgroundcolor": "#E5ECF6",
            "gridcolor": "white",
            "gridwidth": 2,
            "linecolor": "white",
            "showbackground": true,
            "ticks": "",
            "zerolinecolor": "white"
           }
          },
          "shapedefaults": {
           "line": {
            "color": "#2a3f5f"
           }
          },
          "ternary": {
           "aaxis": {
            "gridcolor": "white",
            "linecolor": "white",
            "ticks": ""
           },
           "baxis": {
            "gridcolor": "white",
            "linecolor": "white",
            "ticks": ""
           },
           "bgcolor": "#E5ECF6",
           "caxis": {
            "gridcolor": "white",
            "linecolor": "white",
            "ticks": ""
           }
          },
          "title": {
           "x": 0.05
          },
          "xaxis": {
           "automargin": true,
           "gridcolor": "white",
           "linecolor": "white",
           "ticks": "",
           "title": {
            "standoff": 15
           },
           "zerolinecolor": "white",
           "zerolinewidth": 2
          },
          "yaxis": {
           "automargin": true,
           "gridcolor": "white",
           "linecolor": "white",
           "ticks": "",
           "title": {
            "standoff": 15
           },
           "zerolinecolor": "white",
           "zerolinewidth": 2
          }
         }
        },
        "title": {
         "text": "Fuzzy C-Means Clustering (n_clusters=2)"
        },
        "width": 600
       }
      }
     },
     "metadata": {},
     "output_type": "display_data"
    },
    {
     "name": "stdout",
     "output_type": "stream",
     "text": [
      "Silhouette Score (Fuzzy C-Means, n_clusters=2): 0.425\n",
      "Davies-Bouldin Index (Fuzzy C-Means, n_clusters=2): 0.890\n"
     ]
    }
   ],
   "source": [
    "# Fuzzy K-Means (Fuzzy C-Means) clustering\n",
    "\n",
    "\n",
    "import skfuzzy as fuzz\n",
    "from sklearn.metrics import silhouette_score, davies_bouldin_score\n",
    "\n",
    "\n",
    "# Transpose the data for skfuzzy (features x samples)\n",
    "data = rfm_df_scaled.values.T\n",
    "\n",
    "# Set number of clusters (e.g., 2 for comparison)\n",
    "n_clusters = 2\n",
    "\n",
    "# Run fuzzy c-means\n",
    "cntr, u, u0, d, jm, p, fpc = fuzz.cluster.cmeans(\n",
    "    data, c=n_clusters, m=2, error=0.005, maxiter=1000, init=None, seed=42\n",
    ")\n",
    "\n",
    "# Assign each sample to the cluster with highest membership\n",
    "fuzzy_labels = np.argmax(u, axis=0)\n",
    "\n",
    "# Add fuzzy cluster labels to df_preds\n",
    "df_preds['fuzzy_cluster'] = fuzzy_labels\n",
    "\n",
    "# Visualize fuzzy clusters in 3D\n",
    "fig = px.scatter_3d(\n",
    "    df_preds,\n",
    "    x=\"Total_Orders\", y=\"Orders_with_Discount\", z=\"Units\",\n",
    "    color=\"fuzzy_cluster\",\n",
    "    height=500, width=600,\n",
    "    title=f\"Fuzzy C-Means Clustering (n_clusters={n_clusters})\"\n",
    ")\n",
    "fig.show()\n",
    "\n",
    "# Calculate silhouette score and Davies-Bouldin index for fuzzy clusters\n",
    "silhouette_fuzzy = silhouette_score(rfm_df_scaled, fuzzy_labels)\n",
    "db_index_fuzzy = davies_bouldin_score(rfm_df_scaled, fuzzy_labels)\n",
    "\n",
    "print(f\"Silhouette Score (Fuzzy C-Means, n_clusters={n_clusters}): {silhouette_fuzzy:.3f}\")\n",
    "print(f\"Davies-Bouldin Index (Fuzzy C-Means, n_clusters={n_clusters}): {db_index_fuzzy:.3f}\")"
   ]
  },
  {
   "cell_type": "markdown",
   "id": "1f58cc3d",
   "metadata": {},
   "source": [
    "# Hierarchical clustering"
   ]
  },
  {
   "cell_type": "code",
   "execution_count": 60,
   "id": "a5f25c83",
   "metadata": {},
   "outputs": [
    {
     "data": {
      "image/png": "[encoded data removed]",
      "text/plain": [
       "<Figure size 1200x600 with 1 Axes>"
      ]
     },
     "metadata": {},
     "output_type": "display_data"
    },
    {
     "name": "stdout",
     "output_type": "stream",
     "text": [
      "Silhouette Score (Hierarchical, n_clusters=2): 0.408\n",
      "Davies-Bouldin Index (Hierarchical, n_clusters=2): 0.929\n"
     ]
    }
   ],
   "source": [
    "from scipy.cluster.hierarchy import linkage, dendrogram, fcluster\n",
    "from sklearn.metrics import silhouette_score, davies_bouldin_score\n",
    "\n",
    "# Please apply hierarchical clustering method to rfm_df_scaled\n",
    "\n",
    "import matplotlib.pyplot as plt\n",
    "\n",
    "# Perform hierarchical clustering using Ward's method\n",
    "Z = linkage(rfm_df_scaled, method='ward')\n",
    "\n",
    "# Plot the dendrogram\n",
    "plt.figure(figsize=(12, 6))\n",
    "dendrogram(Z, truncate_mode='lastp', p=30, leaf_rotation=90., leaf_font_size=12., show_contracted=True)\n",
    "plt.title('Hierarchical Clustering Dendrogram (truncated)')\n",
    "plt.xlabel('Sample Index or (Cluster Size)')\n",
    "plt.ylabel('Distance')\n",
    "plt.show()\n",
    "\n",
    "# Assign cluster labels (e.g., 2 clusters for comparison)\n",
    "n_clusters = 2\n",
    "hierarchical_labels = fcluster(Z, n_clusters, criterion='maxclust')\n",
    "\n",
    "# Add hierarchical cluster labels to df_preds\n",
    "df_preds['hierarchical_cluster'] = hierarchical_labels\n",
    "\n",
    "# Visualize clusters in 3D\n",
    "px.scatter_3d(\n",
    "    df_preds,\n",
    "    x=\"Total_Orders\", y=\"Orders_with_Discount\", z=\"Units\",\n",
    "    color=\"hierarchical_cluster\",\n",
    "    height=500, width=600,\n",
    "    title=f\"Hierarchical Clustering (n_clusters={n_clusters})\"\n",
    ")\n",
    "\n",
    "# Calculate silhouette score\n",
    "sil_score = silhouette_score(rfm_df_scaled, hierarchical_labels)\n",
    "# Calculate Davies-Bouldin index\n",
    "db_index = davies_bouldin_score(rfm_df_scaled, hierarchical_labels)\n",
    "\n",
    "print(f\"Silhouette Score (Hierarchical, n_clusters={n_clusters}): {sil_score:.3f}\")\n",
    "print(f\"Davies-Bouldin Index (Hierarchical, n_clusters={n_clusters}): {db_index:.3f}\")"
   ]
  }
 ],
 "metadata": {
  "kernelspec": {
   "display_name": "EDA_Marc",
   "language": "python",
   "name": "python3"
  },
  "language_info": {
   "codemirror_mode": {
    "name": "ipython",
    "version": 3
   },
   "file_extension": ".py",
   "mimetype": "text/x-python",
   "name": "python",
   "nbconvert_exporter": "python",
   "pygments_lexer": "ipython3",
   "version": "3.9.21"
  }
 },
 "nbformat": 4,
 "nbformat_minor": 5
}
