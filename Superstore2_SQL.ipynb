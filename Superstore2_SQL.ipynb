{
 "cells": [
  {
   "cell_type": "code",
   "execution_count": 1,
   "id": "d87f1dac",
   "metadata": {},
   "outputs": [],
   "source": [
    "import pandas as pd\n",
    "import numpy as np\n",
    "import sqlite3\n",
    "import os"
   ]
  },
  {
   "cell_type": "code",
   "execution_count": 2,
   "id": "cc631a9b",
   "metadata": {},
   "outputs": [
    {
     "name": "stdout",
     "output_type": "stream",
     "text": [
      "<class 'pandas.core.frame.DataFrame'>\n",
      "RangeIndex: 9994 entries, 0 to 9993\n",
      "Data columns (total 26 columns):\n",
      " #   Column                Non-Null Count  Dtype  \n",
      "---  ------                --------------  -----  \n",
      " 0   row_id                9994 non-null   int64  \n",
      " 1   order_id              9994 non-null   object \n",
      " 2   order_date            9994 non-null   object \n",
      " 3   year                  9994 non-null   int64  \n",
      " 4   month                 9994 non-null   int64  \n",
      " 5   day_of_week           9994 non-null   object \n",
      " 6   ship_date             9994 non-null   object \n",
      " 7   ship_mode             9994 non-null   object \n",
      " 8   customer_id           9994 non-null   object \n",
      " 9   customer_name         9994 non-null   object \n",
      " 10  segment               9994 non-null   object \n",
      " 11  customer_address_key  9994 non-null   object \n",
      " 12  country               9994 non-null   object \n",
      " 13  city                  9994 non-null   object \n",
      " 14  state                 9994 non-null   object \n",
      " 15  postal_code           9994 non-null   int64  \n",
      " 16  region                9994 non-null   object \n",
      " 17  product_id            9994 non-null   object \n",
      " 18  category              9994 non-null   object \n",
      " 19  subcategory           9994 non-null   object \n",
      " 20  product_name          9994 non-null   object \n",
      " 21  price                 9994 non-null   float64\n",
      " 22  sales                 9994 non-null   float64\n",
      " 23  quantity              9994 non-null   int64  \n",
      " 24  discount              9994 non-null   float64\n",
      " 25  profit                9994 non-null   float64\n",
      "dtypes: float64(4), int64(5), object(17)\n",
      "memory usage: 2.0+ MB\n"
     ]
    }
   ],
   "source": [
    "# import csv file\n",
    "df = pd.read_csv('Sample-Superstore_cleaned.csv', sep=',', encoding='utf-8', low_memory=False)\n",
    "df.info()"
   ]
  },
  {
   "cell_type": "code",
   "execution_count": 3,
   "id": "faf4c7f9",
   "metadata": {},
   "outputs": [
    {
     "name": "stdout",
     "output_type": "stream",
     "text": [
      "<class 'pandas.core.frame.DataFrame'>\n",
      "RangeIndex: 9994 entries, 0 to 9993\n",
      "Data columns (total 26 columns):\n",
      " #   Column                Non-Null Count  Dtype         \n",
      "---  ------                --------------  -----         \n",
      " 0   row_id                9994 non-null   int64         \n",
      " 1   order_id              9994 non-null   object        \n",
      " 2   order_date            9994 non-null   datetime64[ns]\n",
      " 3   year                  9994 non-null   int64         \n",
      " 4   month                 9994 non-null   int64         \n",
      " 5   day_of_week           9994 non-null   object        \n",
      " 6   ship_date             9994 non-null   datetime64[ns]\n",
      " 7   ship_mode             9994 non-null   object        \n",
      " 8   customer_id           9994 non-null   object        \n",
      " 9   customer_name         9994 non-null   object        \n",
      " 10  segment               9994 non-null   object        \n",
      " 11  customer_address_key  9994 non-null   object        \n",
      " 12  country               9994 non-null   object        \n",
      " 13  city                  9994 non-null   object        \n",
      " 14  state                 9994 non-null   object        \n",
      " 15  postal_code           9994 non-null   int64         \n",
      " 16  region                9994 non-null   object        \n",
      " 17  product_id            9994 non-null   object        \n",
      " 18  category              9994 non-null   object        \n",
      " 19  subcategory           9994 non-null   object        \n",
      " 20  product_name          9994 non-null   object        \n",
      " 21  price                 9994 non-null   float64       \n",
      " 22  sales                 9994 non-null   float64       \n",
      " 23  quantity              9994 non-null   int64         \n",
      " 24  discount              9994 non-null   float64       \n",
      " 25  profit                9994 non-null   float64       \n",
      "dtypes: datetime64[ns](2), float64(4), int64(5), object(15)\n",
      "memory usage: 2.0+ MB\n"
     ]
    }
   ],
   "source": [
    "# Change ship_date to datetime format\n",
    "df['ship_date'] = pd.to_datetime(df['ship_date'], format='%Y-%m-%d')\n",
    "df['order_date'] = pd.to_datetime(df['order_date'], format='%Y-%m-%d')\n",
    "df.info()"
   ]
  },
  {
   "cell_type": "markdown",
   "id": "d2cf3b9d",
   "metadata": {},
   "source": [
    "SETUP OF SQL DATABASE STRUCTURE"
   ]
  },
  {
   "cell_type": "markdown",
   "id": "78de15f1",
   "metadata": {},
   "source": [
    "Table 1 - Customer"
   ]
  },
  {
   "cell_type": "code",
   "execution_count": 4,
   "id": "98a08f41",
   "metadata": {},
   "outputs": [],
   "source": [
    "# start sqlite3 connection and creation of database\n",
    "conn = sqlite3.connect(\"superstore2.db\")\n",
    "\n",
    "cur = conn.cursor()\n",
    "\n",
    "# Create customer table\n",
    "create_customer_table = \"\"\"\n",
    "   CREATE TABLE IF NOT EXISTS customer (\n",
    "      customer_id TEXT NOT NULL PRIMARY KEY,\n",
    "      customer_name TEXT NOT NULL,\n",
    "      segment TEXT NOT NULL\n",
    "   )\n",
    "\"\"\"\n",
    "\n",
    "cur.execute(create_customer_table)\n",
    "\n",
    "cur.close()\n",
    "conn.close()"
   ]
  },
  {
   "cell_type": "code",
   "execution_count": 5,
   "id": "f92ad479",
   "metadata": {},
   "outputs": [
    {
     "data": {
      "application/vnd.microsoft.datawrangler.viewer.v0+json": {
       "columns": [
        {
         "name": "index",
         "rawType": "int64",
         "type": "integer"
        },
        {
         "name": "customer_id",
         "rawType": "object",
         "type": "string"
        },
        {
         "name": "customer_name",
         "rawType": "object",
         "type": "string"
        },
        {
         "name": "segment",
         "rawType": "object",
         "type": "string"
        }
       ],
       "conversionMethod": "pd.DataFrame",
       "ref": "09321c2c-45b9-4724-b636-70c2aba98beb",
       "rows": [
        [
         "0",
         "CG-12520",
         "Claire Gute",
         "Consumer"
        ],
        [
         "2",
         "DV-13045",
         "Darrin Van Huff",
         "Corporate"
        ],
        [
         "3",
         "SO-20335",
         "Sean O'Donnell",
         "Consumer"
        ],
        [
         "5",
         "BH-11710",
         "Brosina Hoffman",
         "Consumer"
        ],
        [
         "12",
         "AA-10480",
         "Andrew Allen",
         "Consumer"
        ],
        [
         "13",
         "IM-15070",
         "Irene Maddox",
         "Consumer"
        ],
        [
         "14",
         "HP-14815",
         "Harold Pawlan",
         "Home Office"
        ],
        [
         "16",
         "PK-19075",
         "Pete Kriz",
         "Consumer"
        ],
        [
         "17",
         "AG-10270",
         "Alejandro Grove",
         "Consumer"
        ],
        [
         "18",
         "ZD-21925",
         "Zuschuss Donatelli",
         "Consumer"
        ],
        [
         "21",
         "KB-16585",
         "Ken Black",
         "Corporate"
        ],
        [
         "23",
         "SF-20065",
         "Sandra Flanagan",
         "Consumer"
        ],
        [
         "24",
         "EB-13870",
         "Emily Burns",
         "Consumer"
        ],
        [
         "25",
         "EH-13945",
         "Eric Hoffmann",
         "Consumer"
        ],
        [
         "27",
         "TB-21520",
         "Tracy Blumstein",
         "Consumer"
        ],
        [
         "34",
         "MA-17560",
         "Matt Abelman",
         "Home Office"
        ],
        [
         "35",
         "GH-14485",
         "Gene Hale",
         "Corporate"
        ],
        [
         "37",
         "SN-20710",
         "Steve Nguyen",
         "Home Office"
        ],
        [
         "41",
         "LC-16930",
         "Linda Cazamias",
         "Corporate"
        ],
        [
         "42",
         "RA-19885",
         "Ruben Ausman",
         "Corporate"
        ],
        [
         "43",
         "ES-14080",
         "Erin Smith",
         "Corporate"
        ],
        [
         "44",
         "ON-18715",
         "Odella Nelson",
         "Corporate"
        ],
        [
         "46",
         "PO-18865",
         "Patrick O'Donnell",
         "Consumer"
        ],
        [
         "47",
         "LH-16900",
         "Lena Hernandez",
         "Consumer"
        ],
        [
         "49",
         "DP-13000",
         "Darren Powers",
         "Consumer"
        ],
        [
         "53",
         "JM-15265",
         "Janet Molinari",
         "Corporate"
        ],
        [
         "55",
         "TB-21055",
         "Ted Butterfield",
         "Consumer"
        ],
        [
         "62",
         "KM-16720",
         "Kunst Miller",
         "Consumer"
        ],
        [
         "66",
         "PS-18970",
         "Paul Stevenson",
         "Home Office"
        ],
        [
         "67",
         "BS-11590",
         "Brendan Sweed",
         "Corporate"
        ],
        [
         "69",
         "KD-16270",
         "Karen Daniels",
         "Consumer"
        ],
        [
         "70",
         "HM-14980",
         "Henry MacAllister",
         "Consumer"
        ],
        [
         "72",
         "JE-15745",
         "Joel Eaton",
         "Consumer"
        ],
        [
         "75",
         "KB-16600",
         "Ken Brennan",
         "Corporate"
        ],
        [
         "79",
         "SC-20770",
         "Stewart Carmichael",
         "Corporate"
        ],
        [
         "81",
         "DN-13690",
         "Duane Noonan",
         "Consumer"
        ],
        [
         "83",
         "JC-16105",
         "Julie Creighton",
         "Corporate"
        ],
        [
         "84",
         "CS-12400",
         "Christopher Schild",
         "Home Office"
        ],
        [
         "86",
         "PG-18895",
         "Paul Gonzalez",
         "Consumer"
        ],
        [
         "88",
         "GM-14455",
         "Gary Mitchum",
         "Home Office"
        ],
        [
         "89",
         "JS-15685",
         "Jim Sink",
         "Corporate"
        ],
        [
         "92",
         "KB-16315",
         "Karl Braun",
         "Consumer"
        ],
        [
         "95",
         "RB-19705",
         "Roger Barcio",
         "Home Office"
        ],
        [
         "96",
         "PN-18775",
         "Parhena Norris",
         "Home Office"
        ],
        [
         "97",
         "KD-16345",
         "Katherine Ducich",
         "Consumer"
        ],
        [
         "98",
         "ER-13855",
         "Elpida Rittenbach",
         "Corporate"
        ],
        [
         "99",
         "RB-19465",
         "Rick Bensley",
         "Home Office"
        ],
        [
         "102",
         "GZ-14470",
         "Gary Zandusky",
         "Consumer"
        ],
        [
         "103",
         "LC-16870",
         "Lena Cacioppo",
         "Consumer"
        ],
        [
         "106",
         "JM-15250",
         "Janet Martin",
         "Consumer"
        ]
       ],
       "shape": {
        "columns": 3,
        "rows": 793
       }
      },
      "text/html": [
       "<div>\n",
       "<style scoped>\n",
       "    .dataframe tbody tr th:only-of-type {\n",
       "        vertical-align: middle;\n",
       "    }\n",
       "\n",
       "    .dataframe tbody tr th {\n",
       "        vertical-align: top;\n",
       "    }\n",
       "\n",
       "    .dataframe thead th {\n",
       "        text-align: right;\n",
       "    }\n",
       "</style>\n",
       "<table border=\"1\" class=\"dataframe\">\n",
       "  <thead>\n",
       "    <tr style=\"text-align: right;\">\n",
       "      <th></th>\n",
       "      <th>customer_id</th>\n",
       "      <th>customer_name</th>\n",
       "      <th>segment</th>\n",
       "    </tr>\n",
       "  </thead>\n",
       "  <tbody>\n",
       "    <tr>\n",
       "      <th>0</th>\n",
       "      <td>CG-12520</td>\n",
       "      <td>Claire Gute</td>\n",
       "      <td>Consumer</td>\n",
       "    </tr>\n",
       "    <tr>\n",
       "      <th>2</th>\n",
       "      <td>DV-13045</td>\n",
       "      <td>Darrin Van Huff</td>\n",
       "      <td>Corporate</td>\n",
       "    </tr>\n",
       "    <tr>\n",
       "      <th>3</th>\n",
       "      <td>SO-20335</td>\n",
       "      <td>Sean O'Donnell</td>\n",
       "      <td>Consumer</td>\n",
       "    </tr>\n",
       "    <tr>\n",
       "      <th>5</th>\n",
       "      <td>BH-11710</td>\n",
       "      <td>Brosina Hoffman</td>\n",
       "      <td>Consumer</td>\n",
       "    </tr>\n",
       "    <tr>\n",
       "      <th>12</th>\n",
       "      <td>AA-10480</td>\n",
       "      <td>Andrew Allen</td>\n",
       "      <td>Consumer</td>\n",
       "    </tr>\n",
       "    <tr>\n",
       "      <th>...</th>\n",
       "      <td>...</td>\n",
       "      <td>...</td>\n",
       "      <td>...</td>\n",
       "    </tr>\n",
       "    <tr>\n",
       "      <th>8666</th>\n",
       "      <td>CJ-11875</td>\n",
       "      <td>Carl Jackson</td>\n",
       "      <td>Corporate</td>\n",
       "    </tr>\n",
       "    <tr>\n",
       "      <th>9209</th>\n",
       "      <td>RS-19870</td>\n",
       "      <td>Roy Skaria</td>\n",
       "      <td>Home Office</td>\n",
       "    </tr>\n",
       "    <tr>\n",
       "      <th>9399</th>\n",
       "      <td>SC-20845</td>\n",
       "      <td>Sung Chung</td>\n",
       "      <td>Consumer</td>\n",
       "    </tr>\n",
       "    <tr>\n",
       "      <th>9441</th>\n",
       "      <td>RE-19405</td>\n",
       "      <td>Ricardo Emerson</td>\n",
       "      <td>Consumer</td>\n",
       "    </tr>\n",
       "    <tr>\n",
       "      <th>9558</th>\n",
       "      <td>SM-20905</td>\n",
       "      <td>Susan MacKendrick</td>\n",
       "      <td>Consumer</td>\n",
       "    </tr>\n",
       "  </tbody>\n",
       "</table>\n",
       "<p>793 rows × 3 columns</p>\n",
       "</div>"
      ],
      "text/plain": [
       "     customer_id      customer_name      segment\n",
       "0       CG-12520        Claire Gute     Consumer\n",
       "2       DV-13045    Darrin Van Huff    Corporate\n",
       "3       SO-20335     Sean O'Donnell     Consumer\n",
       "5       BH-11710    Brosina Hoffman     Consumer\n",
       "12      AA-10480       Andrew Allen     Consumer\n",
       "...          ...                ...          ...\n",
       "8666    CJ-11875       Carl Jackson    Corporate\n",
       "9209    RS-19870         Roy Skaria  Home Office\n",
       "9399    SC-20845         Sung Chung     Consumer\n",
       "9441    RE-19405    Ricardo Emerson     Consumer\n",
       "9558    SM-20905  Susan MacKendrick     Consumer\n",
       "\n",
       "[793 rows x 3 columns]"
      ]
     },
     "execution_count": 5,
     "metadata": {},
     "output_type": "execute_result"
    }
   ],
   "source": [
    "# fill customer table with data from df\n",
    "customer = df[[\"customer_id\", \"customer_name\", \"segment\"]].copy()\n",
    "customer.drop_duplicates(inplace=True)\n",
    "\n",
    "# Check result\n",
    "customer\n"
   ]
  },
  {
   "cell_type": "code",
   "execution_count": 6,
   "id": "2e0dc860",
   "metadata": {},
   "outputs": [],
   "source": [
    "# insert data into customer table\n",
    "conn = sqlite3.connect(\"superstore2.db\")\n",
    "\n",
    "customer.to_sql(\n",
    "   \"customer\", # the name of the table\n",
    "   con=conn, # the connection variable\n",
    "   index=False, # whether to include the index column\n",
    "   if_exists=\"append\" # define behavior if table already exists\n",
    ")\n",
    "\n",
    "# Export customer table to csv without index\n",
    "customer = pd.read_sql_query(\"SELECT * FROM customer\", conn)\n",
    "\n",
    "# Ensure the 'Tableau' folder exists\n",
    "os.makedirs(\"Tableau\", exist_ok=True)\n",
    "\n",
    "# Save the CSV file into the 'Tableau' folder\n",
    "customer.to_csv(\"Tableau/customer.csv\", index=False)\n",
    "\n",
    "conn.close()\n",
    "\n"
   ]
  },
  {
   "cell_type": "markdown",
   "id": "98ba75c4",
   "metadata": {},
   "source": [
    "Table 2 - Geographical Data"
   ]
  },
  {
   "cell_type": "code",
   "execution_count": 7,
   "id": "643c25a4",
   "metadata": {},
   "outputs": [],
   "source": [
    "# start sqlite3 connection and creation of database\n",
    "conn = sqlite3.connect(\"superstore2.db\")\n",
    "\n",
    "cur = conn.cursor()\n",
    "\n",
    "# Create customer table\n",
    "create_geographical_data_table = \"\"\"\n",
    "   CREATE TABLE IF NOT EXISTS geographical_data (\n",
    "      state TEXT NOT NULL PRIMARY KEY,\n",
    "      country TEXT NOT NULL,\n",
    "      region TEXT NOT NULL\n",
    "      )\n",
    "\"\"\"\n",
    "\n",
    "cur.execute(create_geographical_data_table)\n",
    "\n",
    "cur.close()\n",
    "conn.close()"
   ]
  },
  {
   "cell_type": "code",
   "execution_count": 8,
   "id": "f3c5bcee",
   "metadata": {},
   "outputs": [
    {
     "data": {
      "application/vnd.microsoft.datawrangler.viewer.v0+json": {
       "columns": [
        {
         "name": "index",
         "rawType": "int64",
         "type": "integer"
        },
        {
         "name": "state",
         "rawType": "object",
         "type": "string"
        },
        {
         "name": "country",
         "rawType": "object",
         "type": "string"
        },
        {
         "name": "region",
         "rawType": "object",
         "type": "string"
        }
       ],
       "conversionMethod": "pd.DataFrame",
       "ref": "90648817-30bf-43f0-bd8c-5e2aad2644fc",
       "rows": [
        [
         "0",
         "Kentucky",
         "United States",
         "South"
        ],
        [
         "2",
         "California",
         "United States",
         "West"
        ],
        [
         "3",
         "Florida",
         "United States",
         "South"
        ],
        [
         "12",
         "North Carolina",
         "United States",
         "South"
        ],
        [
         "13",
         "Washington",
         "United States",
         "West"
        ],
        [
         "14",
         "Texas",
         "United States",
         "Central"
        ],
        [
         "16",
         "Wisconsin",
         "United States",
         "Central"
        ],
        [
         "17",
         "Utah",
         "United States",
         "West"
        ],
        [
         "21",
         "Nebraska",
         "United States",
         "Central"
        ],
        [
         "23",
         "Pennsylvania",
         "United States",
         "East"
        ],
        [
         "41",
         "Illinois",
         "United States",
         "Central"
        ],
        [
         "44",
         "Minnesota",
         "United States",
         "Central"
        ],
        [
         "46",
         "Michigan",
         "United States",
         "Central"
        ],
        [
         "47",
         "Delaware",
         "United States",
         "East"
        ],
        [
         "49",
         "Indiana",
         "United States",
         "Central"
        ],
        [
         "53",
         "New York",
         "United States",
         "East"
        ],
        [
         "67",
         "Arizona",
         "United States",
         "West"
        ],
        [
         "69",
         "Virginia",
         "United States",
         "South"
        ],
        [
         "72",
         "Tennessee",
         "United States",
         "South"
        ],
        [
         "79",
         "Alabama",
         "United States",
         "South"
        ],
        [
         "85",
         "South Carolina",
         "United States",
         "South"
        ],
        [
         "95",
         "Oregon",
         "United States",
         "West"
        ],
        [
         "103",
         "Colorado",
         "United States",
         "West"
        ],
        [
         "111",
         "Iowa",
         "United States",
         "Central"
        ],
        [
         "113",
         "Ohio",
         "United States",
         "East"
        ],
        [
         "144",
         "Missouri",
         "United States",
         "Central"
        ],
        [
         "158",
         "Oklahoma",
         "United States",
         "Central"
        ],
        [
         "162",
         "New Mexico",
         "United States",
         "West"
        ],
        [
         "182",
         "Louisiana",
         "United States",
         "South"
        ],
        [
         "185",
         "Connecticut",
         "United States",
         "East"
        ],
        [
         "197",
         "New Jersey",
         "United States",
         "East"
        ],
        [
         "346",
         "Massachusetts",
         "United States",
         "East"
        ],
        [
         "359",
         "Georgia",
         "United States",
         "South"
        ],
        [
         "394",
         "Nevada",
         "United States",
         "West"
        ],
        [
         "395",
         "Rhode Island",
         "United States",
         "East"
        ],
        [
         "424",
         "Mississippi",
         "United States",
         "South"
        ],
        [
         "495",
         "Arkansas",
         "United States",
         "South"
        ],
        [
         "515",
         "Montana",
         "United States",
         "West"
        ],
        [
         "871",
         "New Hampshire",
         "United States",
         "East"
        ],
        [
         "887",
         "Maryland",
         "United States",
         "East"
        ],
        [
         "1020",
         "District of Columbia",
         "United States",
         "East"
        ],
        [
         "1794",
         "Kansas",
         "United States",
         "Central"
        ],
        [
         "2234",
         "Vermont",
         "United States",
         "East"
        ],
        [
         "2255",
         "Maine",
         "United States",
         "East"
        ],
        [
         "2313",
         "South Dakota",
         "United States",
         "Central"
        ],
        [
         "3050",
         "Idaho",
         "United States",
         "West"
        ],
        [
         "4362",
         "North Dakota",
         "United States",
         "Central"
        ],
        [
         "5869",
         "Wyoming",
         "United States",
         "West"
        ],
        [
         "7894",
         "West Virginia",
         "United States",
         "East"
        ]
       ],
       "shape": {
        "columns": 3,
        "rows": 49
       }
      },
      "text/html": [
       "<div>\n",
       "<style scoped>\n",
       "    .dataframe tbody tr th:only-of-type {\n",
       "        vertical-align: middle;\n",
       "    }\n",
       "\n",
       "    .dataframe tbody tr th {\n",
       "        vertical-align: top;\n",
       "    }\n",
       "\n",
       "    .dataframe thead th {\n",
       "        text-align: right;\n",
       "    }\n",
       "</style>\n",
       "<table border=\"1\" class=\"dataframe\">\n",
       "  <thead>\n",
       "    <tr style=\"text-align: right;\">\n",
       "      <th></th>\n",
       "      <th>state</th>\n",
       "      <th>country</th>\n",
       "      <th>region</th>\n",
       "    </tr>\n",
       "  </thead>\n",
       "  <tbody>\n",
       "    <tr>\n",
       "      <th>0</th>\n",
       "      <td>Kentucky</td>\n",
       "      <td>United States</td>\n",
       "      <td>South</td>\n",
       "    </tr>\n",
       "    <tr>\n",
       "      <th>2</th>\n",
       "      <td>California</td>\n",
       "      <td>United States</td>\n",
       "      <td>West</td>\n",
       "    </tr>\n",
       "    <tr>\n",
       "      <th>3</th>\n",
       "      <td>Florida</td>\n",
       "      <td>United States</td>\n",
       "      <td>South</td>\n",
       "    </tr>\n",
       "    <tr>\n",
       "      <th>12</th>\n",
       "      <td>North Carolina</td>\n",
       "      <td>United States</td>\n",
       "      <td>South</td>\n",
       "    </tr>\n",
       "    <tr>\n",
       "      <th>13</th>\n",
       "      <td>Washington</td>\n",
       "      <td>United States</td>\n",
       "      <td>West</td>\n",
       "    </tr>\n",
       "    <tr>\n",
       "      <th>14</th>\n",
       "      <td>Texas</td>\n",
       "      <td>United States</td>\n",
       "      <td>Central</td>\n",
       "    </tr>\n",
       "    <tr>\n",
       "      <th>16</th>\n",
       "      <td>Wisconsin</td>\n",
       "      <td>United States</td>\n",
       "      <td>Central</td>\n",
       "    </tr>\n",
       "    <tr>\n",
       "      <th>17</th>\n",
       "      <td>Utah</td>\n",
       "      <td>United States</td>\n",
       "      <td>West</td>\n",
       "    </tr>\n",
       "    <tr>\n",
       "      <th>21</th>\n",
       "      <td>Nebraska</td>\n",
       "      <td>United States</td>\n",
       "      <td>Central</td>\n",
       "    </tr>\n",
       "    <tr>\n",
       "      <th>23</th>\n",
       "      <td>Pennsylvania</td>\n",
       "      <td>United States</td>\n",
       "      <td>East</td>\n",
       "    </tr>\n",
       "    <tr>\n",
       "      <th>41</th>\n",
       "      <td>Illinois</td>\n",
       "      <td>United States</td>\n",
       "      <td>Central</td>\n",
       "    </tr>\n",
       "    <tr>\n",
       "      <th>44</th>\n",
       "      <td>Minnesota</td>\n",
       "      <td>United States</td>\n",
       "      <td>Central</td>\n",
       "    </tr>\n",
       "    <tr>\n",
       "      <th>46</th>\n",
       "      <td>Michigan</td>\n",
       "      <td>United States</td>\n",
       "      <td>Central</td>\n",
       "    </tr>\n",
       "    <tr>\n",
       "      <th>47</th>\n",
       "      <td>Delaware</td>\n",
       "      <td>United States</td>\n",
       "      <td>East</td>\n",
       "    </tr>\n",
       "    <tr>\n",
       "      <th>49</th>\n",
       "      <td>Indiana</td>\n",
       "      <td>United States</td>\n",
       "      <td>Central</td>\n",
       "    </tr>\n",
       "    <tr>\n",
       "      <th>53</th>\n",
       "      <td>New York</td>\n",
       "      <td>United States</td>\n",
       "      <td>East</td>\n",
       "    </tr>\n",
       "    <tr>\n",
       "      <th>67</th>\n",
       "      <td>Arizona</td>\n",
       "      <td>United States</td>\n",
       "      <td>West</td>\n",
       "    </tr>\n",
       "    <tr>\n",
       "      <th>69</th>\n",
       "      <td>Virginia</td>\n",
       "      <td>United States</td>\n",
       "      <td>South</td>\n",
       "    </tr>\n",
       "    <tr>\n",
       "      <th>72</th>\n",
       "      <td>Tennessee</td>\n",
       "      <td>United States</td>\n",
       "      <td>South</td>\n",
       "    </tr>\n",
       "    <tr>\n",
       "      <th>79</th>\n",
       "      <td>Alabama</td>\n",
       "      <td>United States</td>\n",
       "      <td>South</td>\n",
       "    </tr>\n",
       "    <tr>\n",
       "      <th>85</th>\n",
       "      <td>South Carolina</td>\n",
       "      <td>United States</td>\n",
       "      <td>South</td>\n",
       "    </tr>\n",
       "    <tr>\n",
       "      <th>95</th>\n",
       "      <td>Oregon</td>\n",
       "      <td>United States</td>\n",
       "      <td>West</td>\n",
       "    </tr>\n",
       "    <tr>\n",
       "      <th>103</th>\n",
       "      <td>Colorado</td>\n",
       "      <td>United States</td>\n",
       "      <td>West</td>\n",
       "    </tr>\n",
       "    <tr>\n",
       "      <th>111</th>\n",
       "      <td>Iowa</td>\n",
       "      <td>United States</td>\n",
       "      <td>Central</td>\n",
       "    </tr>\n",
       "    <tr>\n",
       "      <th>113</th>\n",
       "      <td>Ohio</td>\n",
       "      <td>United States</td>\n",
       "      <td>East</td>\n",
       "    </tr>\n",
       "    <tr>\n",
       "      <th>144</th>\n",
       "      <td>Missouri</td>\n",
       "      <td>United States</td>\n",
       "      <td>Central</td>\n",
       "    </tr>\n",
       "    <tr>\n",
       "      <th>158</th>\n",
       "      <td>Oklahoma</td>\n",
       "      <td>United States</td>\n",
       "      <td>Central</td>\n",
       "    </tr>\n",
       "    <tr>\n",
       "      <th>162</th>\n",
       "      <td>New Mexico</td>\n",
       "      <td>United States</td>\n",
       "      <td>West</td>\n",
       "    </tr>\n",
       "    <tr>\n",
       "      <th>182</th>\n",
       "      <td>Louisiana</td>\n",
       "      <td>United States</td>\n",
       "      <td>South</td>\n",
       "    </tr>\n",
       "    <tr>\n",
       "      <th>185</th>\n",
       "      <td>Connecticut</td>\n",
       "      <td>United States</td>\n",
       "      <td>East</td>\n",
       "    </tr>\n",
       "    <tr>\n",
       "      <th>197</th>\n",
       "      <td>New Jersey</td>\n",
       "      <td>United States</td>\n",
       "      <td>East</td>\n",
       "    </tr>\n",
       "    <tr>\n",
       "      <th>346</th>\n",
       "      <td>Massachusetts</td>\n",
       "      <td>United States</td>\n",
       "      <td>East</td>\n",
       "    </tr>\n",
       "    <tr>\n",
       "      <th>359</th>\n",
       "      <td>Georgia</td>\n",
       "      <td>United States</td>\n",
       "      <td>South</td>\n",
       "    </tr>\n",
       "    <tr>\n",
       "      <th>394</th>\n",
       "      <td>Nevada</td>\n",
       "      <td>United States</td>\n",
       "      <td>West</td>\n",
       "    </tr>\n",
       "    <tr>\n",
       "      <th>395</th>\n",
       "      <td>Rhode Island</td>\n",
       "      <td>United States</td>\n",
       "      <td>East</td>\n",
       "    </tr>\n",
       "    <tr>\n",
       "      <th>424</th>\n",
       "      <td>Mississippi</td>\n",
       "      <td>United States</td>\n",
       "      <td>South</td>\n",
       "    </tr>\n",
       "    <tr>\n",
       "      <th>495</th>\n",
       "      <td>Arkansas</td>\n",
       "      <td>United States</td>\n",
       "      <td>South</td>\n",
       "    </tr>\n",
       "    <tr>\n",
       "      <th>515</th>\n",
       "      <td>Montana</td>\n",
       "      <td>United States</td>\n",
       "      <td>West</td>\n",
       "    </tr>\n",
       "    <tr>\n",
       "      <th>871</th>\n",
       "      <td>New Hampshire</td>\n",
       "      <td>United States</td>\n",
       "      <td>East</td>\n",
       "    </tr>\n",
       "    <tr>\n",
       "      <th>887</th>\n",
       "      <td>Maryland</td>\n",
       "      <td>United States</td>\n",
       "      <td>East</td>\n",
       "    </tr>\n",
       "    <tr>\n",
       "      <th>1020</th>\n",
       "      <td>District of Columbia</td>\n",
       "      <td>United States</td>\n",
       "      <td>East</td>\n",
       "    </tr>\n",
       "    <tr>\n",
       "      <th>1794</th>\n",
       "      <td>Kansas</td>\n",
       "      <td>United States</td>\n",
       "      <td>Central</td>\n",
       "    </tr>\n",
       "    <tr>\n",
       "      <th>2234</th>\n",
       "      <td>Vermont</td>\n",
       "      <td>United States</td>\n",
       "      <td>East</td>\n",
       "    </tr>\n",
       "    <tr>\n",
       "      <th>2255</th>\n",
       "      <td>Maine</td>\n",
       "      <td>United States</td>\n",
       "      <td>East</td>\n",
       "    </tr>\n",
       "    <tr>\n",
       "      <th>2313</th>\n",
       "      <td>South Dakota</td>\n",
       "      <td>United States</td>\n",
       "      <td>Central</td>\n",
       "    </tr>\n",
       "    <tr>\n",
       "      <th>3050</th>\n",
       "      <td>Idaho</td>\n",
       "      <td>United States</td>\n",
       "      <td>West</td>\n",
       "    </tr>\n",
       "    <tr>\n",
       "      <th>4362</th>\n",
       "      <td>North Dakota</td>\n",
       "      <td>United States</td>\n",
       "      <td>Central</td>\n",
       "    </tr>\n",
       "    <tr>\n",
       "      <th>5869</th>\n",
       "      <td>Wyoming</td>\n",
       "      <td>United States</td>\n",
       "      <td>West</td>\n",
       "    </tr>\n",
       "    <tr>\n",
       "      <th>7894</th>\n",
       "      <td>West Virginia</td>\n",
       "      <td>United States</td>\n",
       "      <td>East</td>\n",
       "    </tr>\n",
       "  </tbody>\n",
       "</table>\n",
       "</div>"
      ],
      "text/plain": [
       "                     state        country   region\n",
       "0                 Kentucky  United States    South\n",
       "2               California  United States     West\n",
       "3                  Florida  United States    South\n",
       "12          North Carolina  United States    South\n",
       "13              Washington  United States     West\n",
       "14                   Texas  United States  Central\n",
       "16               Wisconsin  United States  Central\n",
       "17                    Utah  United States     West\n",
       "21                Nebraska  United States  Central\n",
       "23            Pennsylvania  United States     East\n",
       "41                Illinois  United States  Central\n",
       "44               Minnesota  United States  Central\n",
       "46                Michigan  United States  Central\n",
       "47                Delaware  United States     East\n",
       "49                 Indiana  United States  Central\n",
       "53                New York  United States     East\n",
       "67                 Arizona  United States     West\n",
       "69                Virginia  United States    South\n",
       "72               Tennessee  United States    South\n",
       "79                 Alabama  United States    South\n",
       "85          South Carolina  United States    South\n",
       "95                  Oregon  United States     West\n",
       "103               Colorado  United States     West\n",
       "111                   Iowa  United States  Central\n",
       "113                   Ohio  United States     East\n",
       "144               Missouri  United States  Central\n",
       "158               Oklahoma  United States  Central\n",
       "162             New Mexico  United States     West\n",
       "182              Louisiana  United States    South\n",
       "185            Connecticut  United States     East\n",
       "197             New Jersey  United States     East\n",
       "346          Massachusetts  United States     East\n",
       "359                Georgia  United States    South\n",
       "394                 Nevada  United States     West\n",
       "395           Rhode Island  United States     East\n",
       "424            Mississippi  United States    South\n",
       "495               Arkansas  United States    South\n",
       "515                Montana  United States     West\n",
       "871          New Hampshire  United States     East\n",
       "887               Maryland  United States     East\n",
       "1020  District of Columbia  United States     East\n",
       "1794                Kansas  United States  Central\n",
       "2234               Vermont  United States     East\n",
       "2255                 Maine  United States     East\n",
       "2313          South Dakota  United States  Central\n",
       "3050                 Idaho  United States     West\n",
       "4362          North Dakota  United States  Central\n",
       "5869               Wyoming  United States     West\n",
       "7894         West Virginia  United States     East"
      ]
     },
     "execution_count": 8,
     "metadata": {},
     "output_type": "execute_result"
    }
   ],
   "source": [
    "# fill customer_address table with data from df\n",
    "geographical_data = df[[\"state\", \"country\", \"region\"]].copy()\n",
    "geographical_data.drop_duplicates(inplace=True)\n",
    "\n",
    "# Check result\n",
    "geographical_data"
   ]
  },
  {
   "cell_type": "code",
   "execution_count": 9,
   "id": "81c4f5ff",
   "metadata": {},
   "outputs": [],
   "source": [
    "# insert data into geographical_data table\n",
    "conn = sqlite3.connect(\"superstore2.db\")\n",
    "\n",
    "geographical_data.to_sql(\n",
    "   \"geographical_data\", # the name of the table\n",
    "   con=conn, # the connection variable\n",
    "   index=False, # whether to include the index column\n",
    "   if_exists=\"append\" # define behavior if table already exists\n",
    ")\n",
    "\n",
    "\n",
    "# Export geographical_data table to csv without index\n",
    "geographical_data = pd.read_sql_query(\"SELECT * FROM geographical_data\", conn)\n",
    "\n",
    "# Save the CSV file into the 'Tableau' folder\n",
    "geographical_data.to_csv(\"Tableau/geographical_data.csv\", index=False)\n",
    "\n",
    "\n",
    "conn.close()"
   ]
  },
  {
   "cell_type": "markdown",
   "id": "031d8ead",
   "metadata": {},
   "source": [
    "Table 3 - Customer Address"
   ]
  },
  {
   "cell_type": "code",
   "execution_count": 10,
   "id": "e08dd857",
   "metadata": {},
   "outputs": [],
   "source": [
    "# start sqlite3 connection and creation of database\n",
    "conn = sqlite3.connect(\"superstore2.db\")\n",
    "\n",
    "cur = conn.cursor()\n",
    "\n",
    "# Create customer_address table\n",
    "create_customer_address_table = \"\"\"\n",
    "   CREATE TABLE IF NOT EXISTS customer_address (\n",
    "      customer_address_key TEXT NOT NULL PRIMARY KEY,\n",
    "      city TEXT NOT NULL,\n",
    "      postal_code INT NOT NULL,\n",
    "      state TEXT NOT NULL,\n",
    "      FOREIGN KEY (state) REFERENCES geographical_data(state)\n",
    "   )\n",
    "\"\"\"\n",
    "\n",
    "cur.execute(create_customer_address_table)\n",
    "\n",
    "cur.close()\n",
    "conn.close()"
   ]
  },
  {
   "cell_type": "code",
   "execution_count": 11,
   "id": "804ce5c5",
   "metadata": {},
   "outputs": [
    {
     "data": {
      "application/vnd.microsoft.datawrangler.viewer.v0+json": {
       "columns": [
        {
         "name": "index",
         "rawType": "int64",
         "type": "integer"
        },
        {
         "name": "customer_address_key",
         "rawType": "object",
         "type": "string"
        },
        {
         "name": "city",
         "rawType": "object",
         "type": "string"
        },
        {
         "name": "postal_code",
         "rawType": "int64",
         "type": "integer"
        },
        {
         "name": "state",
         "rawType": "object",
         "type": "string"
        }
       ],
       "conversionMethod": "pd.DataFrame",
       "ref": "eaaf43db-0db0-4293-bbb6-32d1924acf4e",
       "rows": [
        [
         "0",
         "CG-12520-42420-Henderson-Kentucky",
         "Henderson",
         "42420",
         "Kentucky"
        ],
        [
         "2",
         "DV-13045-90036-Los Angeles-California",
         "Los Angeles",
         "90036",
         "California"
        ],
        [
         "3",
         "SO-20335-33311-Fort Lauderdale-Florida",
         "Fort Lauderdale",
         "33311",
         "Florida"
        ],
        [
         "5",
         "BH-11710-90032-Los Angeles-California",
         "Los Angeles",
         "90032",
         "California"
        ],
        [
         "12",
         "AA-10480-28027-Concord-North Carolina",
         "Concord",
         "28027",
         "North Carolina"
        ],
        [
         "13",
         "IM-15070-98103-Seattle-Washington",
         "Seattle",
         "98103",
         "Washington"
        ],
        [
         "14",
         "HP-14815-76106-Fort Worth-Texas",
         "Fort Worth",
         "76106",
         "Texas"
        ],
        [
         "16",
         "PK-19075-53711-Madison-Wisconsin",
         "Madison",
         "53711",
         "Wisconsin"
        ],
        [
         "17",
         "AG-10270-84084-West Jordan-Utah",
         "West Jordan",
         "84084",
         "Utah"
        ],
        [
         "18",
         "ZD-21925-94109-San Francisco-California",
         "San Francisco",
         "94109",
         "California"
        ],
        [
         "21",
         "KB-16585-68025-Fremont-Nebraska",
         "Fremont",
         "68025",
         "Nebraska"
        ],
        [
         "23",
         "SF-20065-19140-Philadelphia-Pennsylvania",
         "Philadelphia",
         "19140",
         "Pennsylvania"
        ],
        [
         "24",
         "EB-13870-84057-Orem-Utah",
         "Orem",
         "84057",
         "Utah"
        ],
        [
         "25",
         "EH-13945-90049-Los Angeles-California",
         "Los Angeles",
         "90049",
         "California"
        ],
        [
         "27",
         "TB-21520-19140-Philadelphia-Pennsylvania",
         "Philadelphia",
         "19140",
         "Pennsylvania"
        ],
        [
         "34",
         "MA-17560-77095-Houston-Texas",
         "Houston",
         "77095",
         "Texas"
        ],
        [
         "35",
         "GH-14485-75080-Richardson-Texas",
         "Richardson",
         "75080",
         "Texas"
        ],
        [
         "37",
         "SN-20710-77041-Houston-Texas",
         "Houston",
         "77041",
         "Texas"
        ],
        [
         "41",
         "LC-16930-60540-Naperville-Illinois",
         "Naperville",
         "60540",
         "Illinois"
        ],
        [
         "42",
         "RA-19885-90049-Los Angeles-California",
         "Los Angeles",
         "90049",
         "California"
        ],
        [
         "43",
         "ES-14080-32935-Melbourne-Florida",
         "Melbourne",
         "32935",
         "Florida"
        ],
        [
         "44",
         "ON-18715-55122-Eagan-Minnesota",
         "Eagan",
         "55122",
         "Minnesota"
        ],
        [
         "46",
         "PO-18865-48185-Westland-Michigan",
         "Westland",
         "48185",
         "Michigan"
        ],
        [
         "47",
         "LH-16900-19901-Dover-Delaware",
         "Dover",
         "19901",
         "Delaware"
        ],
        [
         "49",
         "DP-13000-47150-New Albany-Indiana",
         "New Albany",
         "47150",
         "Indiana"
        ],
        [
         "53",
         "JM-15265-10024-New York City-New York",
         "New York City",
         "10024",
         "New York"
        ],
        [
         "55",
         "TB-21055-12180-Troy-New York",
         "Troy",
         "12180",
         "New York"
        ],
        [
         "62",
         "KM-16720-90004-Los Angeles-California",
         "Los Angeles",
         "90004",
         "California"
        ],
        [
         "66",
         "PS-18970-60610-Chicago-Illinois",
         "Chicago",
         "60610",
         "Illinois"
        ],
        [
         "67",
         "BS-11590-85234-Gilbert-Arizona",
         "Gilbert",
         "85234",
         "Arizona"
        ],
        [
         "69",
         "KD-16270-22153-Springfield-Virginia",
         "Springfield",
         "22153",
         "Virginia"
        ],
        [
         "70",
         "HM-14980-10009-New York City-New York",
         "New York City",
         "10009",
         "New York"
        ],
        [
         "71",
         "TB-21520-49201-Jackson-Michigan",
         "Jackson",
         "49201",
         "Michigan"
        ],
        [
         "72",
         "JE-15745-38109-Memphis-Tennessee",
         "Memphis",
         "38109",
         "Tennessee"
        ],
        [
         "75",
         "KB-16600-77041-Houston-Texas",
         "Houston",
         "77041",
         "Texas"
        ],
        [
         "78",
         "JE-15745-77070-Houston-Texas",
         "Houston",
         "77070",
         "Texas"
        ],
        [
         "79",
         "SC-20770-35601-Decatur-Alabama",
         "Decatur",
         "35601",
         "Alabama"
        ],
        [
         "81",
         "DN-13690-94122-San Francisco-California",
         "San Francisco",
         "94122",
         "California"
        ],
        [
         "83",
         "JC-16105-27707-Durham-North Carolina",
         "Durham",
         "27707",
         "North Carolina"
        ],
        [
         "84",
         "CS-12400-60623-Chicago-Illinois",
         "Chicago",
         "60623",
         "Illinois"
        ],
        [
         "85",
         "PO-18865-29203-Columbia-South Carolina",
         "Columbia",
         "29203",
         "South Carolina"
        ],
        [
         "86",
         "PG-18895-55901-Rochester-Minnesota",
         "Rochester",
         "55901",
         "Minnesota"
        ],
        [
         "88",
         "GM-14455-77095-Houston-Texas",
         "Houston",
         "77095",
         "Texas"
        ],
        [
         "89",
         "JS-15685-90036-Los Angeles-California",
         "Los Angeles",
         "90036",
         "California"
        ],
        [
         "92",
         "KB-16315-55407-Minneapolis-Minnesota",
         "Minneapolis",
         "55407",
         "Minnesota"
        ],
        [
         "95",
         "RB-19705-97206-Portland-Oregon",
         "Portland",
         "97206",
         "Oregon"
        ],
        [
         "96",
         "PN-18775-10009-New York City-New York",
         "New York City",
         "10009",
         "New York"
        ],
        [
         "97",
         "KD-16345-94122-San Francisco-California",
         "San Francisco",
         "94122",
         "California"
        ],
        [
         "98",
         "ER-13855-55106-Saint Paul-Minnesota",
         "Saint Paul",
         "55106",
         "Minnesota"
        ],
        [
         "99",
         "RB-19465-60610-Chicago-Illinois",
         "Chicago",
         "60610",
         "Illinois"
        ]
       ],
       "shape": {
        "columns": 4,
        "rows": 4910
       }
      },
      "text/html": [
       "<div>\n",
       "<style scoped>\n",
       "    .dataframe tbody tr th:only-of-type {\n",
       "        vertical-align: middle;\n",
       "    }\n",
       "\n",
       "    .dataframe tbody tr th {\n",
       "        vertical-align: top;\n",
       "    }\n",
       "\n",
       "    .dataframe thead th {\n",
       "        text-align: right;\n",
       "    }\n",
       "</style>\n",
       "<table border=\"1\" class=\"dataframe\">\n",
       "  <thead>\n",
       "    <tr style=\"text-align: right;\">\n",
       "      <th></th>\n",
       "      <th>customer_address_key</th>\n",
       "      <th>city</th>\n",
       "      <th>postal_code</th>\n",
       "      <th>state</th>\n",
       "    </tr>\n",
       "  </thead>\n",
       "  <tbody>\n",
       "    <tr>\n",
       "      <th>0</th>\n",
       "      <td>CG-12520-42420-Henderson-Kentucky</td>\n",
       "      <td>Henderson</td>\n",
       "      <td>42420</td>\n",
       "      <td>Kentucky</td>\n",
       "    </tr>\n",
       "    <tr>\n",
       "      <th>2</th>\n",
       "      <td>DV-13045-90036-Los Angeles-California</td>\n",
       "      <td>Los Angeles</td>\n",
       "      <td>90036</td>\n",
       "      <td>California</td>\n",
       "    </tr>\n",
       "    <tr>\n",
       "      <th>3</th>\n",
       "      <td>SO-20335-33311-Fort Lauderdale-Florida</td>\n",
       "      <td>Fort Lauderdale</td>\n",
       "      <td>33311</td>\n",
       "      <td>Florida</td>\n",
       "    </tr>\n",
       "    <tr>\n",
       "      <th>5</th>\n",
       "      <td>BH-11710-90032-Los Angeles-California</td>\n",
       "      <td>Los Angeles</td>\n",
       "      <td>90032</td>\n",
       "      <td>California</td>\n",
       "    </tr>\n",
       "    <tr>\n",
       "      <th>12</th>\n",
       "      <td>AA-10480-28027-Concord-North Carolina</td>\n",
       "      <td>Concord</td>\n",
       "      <td>28027</td>\n",
       "      <td>North Carolina</td>\n",
       "    </tr>\n",
       "    <tr>\n",
       "      <th>...</th>\n",
       "      <td>...</td>\n",
       "      <td>...</td>\n",
       "      <td>...</td>\n",
       "      <td>...</td>\n",
       "    </tr>\n",
       "    <tr>\n",
       "      <th>9986</th>\n",
       "      <td>ML-17410-90008-Los Angeles-California</td>\n",
       "      <td>Los Angeles</td>\n",
       "      <td>90008</td>\n",
       "      <td>California</td>\n",
       "    </tr>\n",
       "    <tr>\n",
       "      <th>9987</th>\n",
       "      <td>RA-19885-30605-Athens-Georgia</td>\n",
       "      <td>Athens</td>\n",
       "      <td>30605</td>\n",
       "      <td>Georgia</td>\n",
       "    </tr>\n",
       "    <tr>\n",
       "      <th>9989</th>\n",
       "      <td>TB-21400-33180-Miami-Florida</td>\n",
       "      <td>Miami</td>\n",
       "      <td>33180</td>\n",
       "      <td>Florida</td>\n",
       "    </tr>\n",
       "    <tr>\n",
       "      <th>9990</th>\n",
       "      <td>DB-13060-92627-Costa Mesa-California</td>\n",
       "      <td>Costa Mesa</td>\n",
       "      <td>92627</td>\n",
       "      <td>California</td>\n",
       "    </tr>\n",
       "    <tr>\n",
       "      <th>9993</th>\n",
       "      <td>CC-12220-92683-Westminster-California</td>\n",
       "      <td>Westminster</td>\n",
       "      <td>92683</td>\n",
       "      <td>California</td>\n",
       "    </tr>\n",
       "  </tbody>\n",
       "</table>\n",
       "<p>4910 rows × 4 columns</p>\n",
       "</div>"
      ],
      "text/plain": [
       "                        customer_address_key             city  postal_code  \\\n",
       "0          CG-12520-42420-Henderson-Kentucky        Henderson        42420   \n",
       "2      DV-13045-90036-Los Angeles-California      Los Angeles        90036   \n",
       "3     SO-20335-33311-Fort Lauderdale-Florida  Fort Lauderdale        33311   \n",
       "5      BH-11710-90032-Los Angeles-California      Los Angeles        90032   \n",
       "12     AA-10480-28027-Concord-North Carolina          Concord        28027   \n",
       "...                                      ...              ...          ...   \n",
       "9986   ML-17410-90008-Los Angeles-California      Los Angeles        90008   \n",
       "9987           RA-19885-30605-Athens-Georgia           Athens        30605   \n",
       "9989            TB-21400-33180-Miami-Florida            Miami        33180   \n",
       "9990    DB-13060-92627-Costa Mesa-California       Costa Mesa        92627   \n",
       "9993   CC-12220-92683-Westminster-California      Westminster        92683   \n",
       "\n",
       "               state  \n",
       "0           Kentucky  \n",
       "2         California  \n",
       "3            Florida  \n",
       "5         California  \n",
       "12    North Carolina  \n",
       "...              ...  \n",
       "9986      California  \n",
       "9987         Georgia  \n",
       "9989         Florida  \n",
       "9990      California  \n",
       "9993      California  \n",
       "\n",
       "[4910 rows x 4 columns]"
      ]
     },
     "execution_count": 11,
     "metadata": {},
     "output_type": "execute_result"
    }
   ],
   "source": [
    "# fill customer_address table with data from df\n",
    "customer_address = df[[\"customer_address_key\", \"city\", \"postal_code\", \"state\"]].copy()\n",
    "customer_address.drop_duplicates(inplace=True)\n",
    "\n",
    "# Check result\n",
    "customer_address"
   ]
  },
  {
   "cell_type": "code",
   "execution_count": 12,
   "id": "524805d9",
   "metadata": {},
   "outputs": [],
   "source": [
    "# insert data into customer_address table\n",
    "conn = sqlite3.connect(\"superstore2.db\")\n",
    "\n",
    "customer_address.to_sql(\n",
    "   \"customer_address\", # the name of the table\n",
    "   con=conn, # the connection variable\n",
    "   index=False, # whether to include the index column\n",
    "   if_exists=\"append\" # define behavior if table already exists\n",
    ")\n",
    "\n",
    "# Export customer_address table to csv without index\n",
    "customer_address = pd.read_sql_query(\"SELECT * FROM customer_address\", conn)\n",
    "\n",
    "# Save the CSV file into the 'Tableau' folder\n",
    "customer_address.to_csv(\"Tableau/customer_address.csv\", index=False)\n",
    "\n",
    "conn.close()\n"
   ]
  },
  {
   "cell_type": "markdown",
   "id": "1d2cd28d",
   "metadata": {},
   "source": [
    "Table 4 - Product Categories"
   ]
  },
  {
   "cell_type": "code",
   "execution_count": 13,
   "id": "6f018ff9",
   "metadata": {},
   "outputs": [],
   "source": [
    "# start sqlite3 connection and creation of database\n",
    "conn = sqlite3.connect(\"superstore2.db\")\n",
    "\n",
    "cur = conn.cursor()\n",
    "\n",
    "# Create product_categories table\n",
    "create_product_categories_table = \"\"\"\n",
    "   CREATE TABLE IF NOT EXISTS product_categories (\n",
    "      subcategory TEXT NOT NULL PRIMARY KEY,\n",
    "      category TEXT NOT NULL\n",
    "   )\n",
    "\"\"\"\n",
    "\n",
    "cur.execute(create_product_categories_table)\n",
    "\n",
    "cur.close()\n",
    "conn.close()"
   ]
  },
  {
   "cell_type": "code",
   "execution_count": 14,
   "id": "ebd70ff2",
   "metadata": {},
   "outputs": [
    {
     "data": {
      "application/vnd.microsoft.datawrangler.viewer.v0+json": {
       "columns": [
        {
         "name": "index",
         "rawType": "int64",
         "type": "integer"
        },
        {
         "name": "subcategory",
         "rawType": "object",
         "type": "string"
        },
        {
         "name": "category",
         "rawType": "object",
         "type": "string"
        }
       ],
       "conversionMethod": "pd.DataFrame",
       "ref": "d8cbb514-cce5-42ce-b8b7-9df495870efd",
       "rows": [
        [
         "0",
         "Bookcases",
         "Furniture"
        ],
        [
         "1",
         "Chairs",
         "Furniture"
        ],
        [
         "2",
         "Labels",
         "Office Supplies"
        ],
        [
         "3",
         "Tables",
         "Furniture"
        ],
        [
         "4",
         "Storage",
         "Office Supplies"
        ],
        [
         "5",
         "Furnishings",
         "Furniture"
        ],
        [
         "6",
         "Art",
         "Office Supplies"
        ],
        [
         "7",
         "Phones",
         "Technology"
        ],
        [
         "8",
         "Binders",
         "Office Supplies"
        ],
        [
         "9",
         "Appliances",
         "Office Supplies"
        ],
        [
         "12",
         "Paper",
         "Office Supplies"
        ],
        [
         "26",
         "Accessories",
         "Technology"
        ],
        [
         "30",
         "Envelopes",
         "Office Supplies"
        ],
        [
         "53",
         "Fasteners",
         "Office Supplies"
        ],
        [
         "138",
         "Supplies",
         "Office Supplies"
        ],
        [
         "165",
         "Machines",
         "Technology"
        ],
        [
         "335",
         "Copiers",
         "Technology"
        ]
       ],
       "shape": {
        "columns": 2,
        "rows": 17
       }
      },
      "text/html": [
       "<div>\n",
       "<style scoped>\n",
       "    .dataframe tbody tr th:only-of-type {\n",
       "        vertical-align: middle;\n",
       "    }\n",
       "\n",
       "    .dataframe tbody tr th {\n",
       "        vertical-align: top;\n",
       "    }\n",
       "\n",
       "    .dataframe thead th {\n",
       "        text-align: right;\n",
       "    }\n",
       "</style>\n",
       "<table border=\"1\" class=\"dataframe\">\n",
       "  <thead>\n",
       "    <tr style=\"text-align: right;\">\n",
       "      <th></th>\n",
       "      <th>subcategory</th>\n",
       "      <th>category</th>\n",
       "    </tr>\n",
       "  </thead>\n",
       "  <tbody>\n",
       "    <tr>\n",
       "      <th>0</th>\n",
       "      <td>Bookcases</td>\n",
       "      <td>Furniture</td>\n",
       "    </tr>\n",
       "    <tr>\n",
       "      <th>1</th>\n",
       "      <td>Chairs</td>\n",
       "      <td>Furniture</td>\n",
       "    </tr>\n",
       "    <tr>\n",
       "      <th>2</th>\n",
       "      <td>Labels</td>\n",
       "      <td>Office Supplies</td>\n",
       "    </tr>\n",
       "    <tr>\n",
       "      <th>3</th>\n",
       "      <td>Tables</td>\n",
       "      <td>Furniture</td>\n",
       "    </tr>\n",
       "    <tr>\n",
       "      <th>4</th>\n",
       "      <td>Storage</td>\n",
       "      <td>Office Supplies</td>\n",
       "    </tr>\n",
       "    <tr>\n",
       "      <th>5</th>\n",
       "      <td>Furnishings</td>\n",
       "      <td>Furniture</td>\n",
       "    </tr>\n",
       "    <tr>\n",
       "      <th>6</th>\n",
       "      <td>Art</td>\n",
       "      <td>Office Supplies</td>\n",
       "    </tr>\n",
       "    <tr>\n",
       "      <th>7</th>\n",
       "      <td>Phones</td>\n",
       "      <td>Technology</td>\n",
       "    </tr>\n",
       "    <tr>\n",
       "      <th>8</th>\n",
       "      <td>Binders</td>\n",
       "      <td>Office Supplies</td>\n",
       "    </tr>\n",
       "    <tr>\n",
       "      <th>9</th>\n",
       "      <td>Appliances</td>\n",
       "      <td>Office Supplies</td>\n",
       "    </tr>\n",
       "    <tr>\n",
       "      <th>12</th>\n",
       "      <td>Paper</td>\n",
       "      <td>Office Supplies</td>\n",
       "    </tr>\n",
       "    <tr>\n",
       "      <th>26</th>\n",
       "      <td>Accessories</td>\n",
       "      <td>Technology</td>\n",
       "    </tr>\n",
       "    <tr>\n",
       "      <th>30</th>\n",
       "      <td>Envelopes</td>\n",
       "      <td>Office Supplies</td>\n",
       "    </tr>\n",
       "    <tr>\n",
       "      <th>53</th>\n",
       "      <td>Fasteners</td>\n",
       "      <td>Office Supplies</td>\n",
       "    </tr>\n",
       "    <tr>\n",
       "      <th>138</th>\n",
       "      <td>Supplies</td>\n",
       "      <td>Office Supplies</td>\n",
       "    </tr>\n",
       "    <tr>\n",
       "      <th>165</th>\n",
       "      <td>Machines</td>\n",
       "      <td>Technology</td>\n",
       "    </tr>\n",
       "    <tr>\n",
       "      <th>335</th>\n",
       "      <td>Copiers</td>\n",
       "      <td>Technology</td>\n",
       "    </tr>\n",
       "  </tbody>\n",
       "</table>\n",
       "</div>"
      ],
      "text/plain": [
       "     subcategory         category\n",
       "0      Bookcases        Furniture\n",
       "1         Chairs        Furniture\n",
       "2         Labels  Office Supplies\n",
       "3         Tables        Furniture\n",
       "4        Storage  Office Supplies\n",
       "5    Furnishings        Furniture\n",
       "6            Art  Office Supplies\n",
       "7         Phones       Technology\n",
       "8        Binders  Office Supplies\n",
       "9     Appliances  Office Supplies\n",
       "12         Paper  Office Supplies\n",
       "26   Accessories       Technology\n",
       "30     Envelopes  Office Supplies\n",
       "53     Fasteners  Office Supplies\n",
       "138     Supplies  Office Supplies\n",
       "165     Machines       Technology\n",
       "335      Copiers       Technology"
      ]
     },
     "execution_count": 14,
     "metadata": {},
     "output_type": "execute_result"
    }
   ],
   "source": [
    "# fill product_categories table with data from df\n",
    "product_categories = df[[\"subcategory\", \"category\"]].copy()\n",
    "product_categories.drop_duplicates(inplace=True)\n",
    "\n",
    "# Check result\n",
    "product_categories"
   ]
  },
  {
   "cell_type": "code",
   "execution_count": 15,
   "id": "03c03ff7",
   "metadata": {},
   "outputs": [],
   "source": [
    "# insert data into product_categories table\n",
    "conn = sqlite3.connect(\"superstore2.db\")\n",
    "\n",
    "product_categories.to_sql(\n",
    "   \"product_categories\", # the name of the table\n",
    "   con=conn, # the connection variable\n",
    "   index=False, # whether to include the index column\n",
    "   if_exists=\"append\" # define behavior if table already exists\n",
    ")\n",
    "\n",
    "# Export product_categories table to csv without index\n",
    "product_categories = pd.read_sql_query(\"SELECT * FROM product_categories\", conn)\n",
    "\n",
    "# Save the CSV file into the 'Tableau' folder\n",
    "product_categories.to_csv(\"Tableau/product_categories.csv\", index=False)\n",
    "\n",
    "conn.close()"
   ]
  },
  {
   "cell_type": "markdown",
   "id": "558b26e0",
   "metadata": {},
   "source": [
    "Table 5 - Products"
   ]
  },
  {
   "cell_type": "code",
   "execution_count": 16,
   "id": "cef6d3c4",
   "metadata": {},
   "outputs": [],
   "source": [
    "# start sqlite3 connection and creation of database\n",
    "conn = sqlite3.connect(\"superstore2.db\")\n",
    "\n",
    "cur = conn.cursor()\n",
    "\n",
    "# Create product table\n",
    "create_product_table = \"\"\"\n",
    "   CREATE TABLE IF NOT EXISTS product (\n",
    "      product_id TEXT NOT NULL PRIMARY KEY,\n",
    "      product_name TEXT NOT NULL,\n",
    "      subcategory TEXT NOT NULL,\n",
    "      price FLOAT NOT NULL,\n",
    "      FOREIGN KEY (subcategory) REFERENCES product_categories(subcategory)\n",
    "   )\n",
    "\"\"\"\n",
    "\n",
    "cur.execute(create_product_table)\n",
    "\n",
    "cur.close()\n",
    "conn.close()"
   ]
  },
  {
   "cell_type": "code",
   "execution_count": 17,
   "id": "1e818877",
   "metadata": {},
   "outputs": [
    {
     "data": {
      "application/vnd.microsoft.datawrangler.viewer.v0+json": {
       "columns": [
        {
         "name": "index",
         "rawType": "int64",
         "type": "integer"
        },
        {
         "name": "product_id",
         "rawType": "object",
         "type": "string"
        },
        {
         "name": "product_name",
         "rawType": "object",
         "type": "string"
        },
        {
         "name": "subcategory",
         "rawType": "object",
         "type": "string"
        },
        {
         "name": "price",
         "rawType": "float64",
         "type": "float"
        }
       ],
       "conversionMethod": "pd.DataFrame",
       "ref": "069d3da2-066d-4bfe-9106-9fb76a6aca05",
       "rows": [
        [
         "0",
         "FUR-BO-10001798",
         "Bush Somerset Collection Bookcase",
         "Bookcases",
         "130.98"
        ],
        [
         "1",
         "FUR-CH-10000454",
         "Hon Deluxe Fabric Upholstered Stacking Chairs, Rounded Back",
         "Chairs",
         "243.98"
        ],
        [
         "2",
         "OFF-LA-10000240",
         "Self-Adhesive Address Labels for Typewriters by Universal",
         "Labels",
         "7.31"
        ],
        [
         "3",
         "FUR-TA-10000577",
         "Bretford CR4500 Series Slim Rectangular Table",
         "Tables",
         "348.21"
        ],
        [
         "4",
         "OFF-ST-10000760",
         "Eldon Fold 'N Roll Cart System",
         "Storage",
         "13.98"
        ],
        [
         "5",
         "FUR-FU-10001487",
         "Eldon Expressions Wood and Plastic Desk Accessories, Cherry Wood",
         "Furnishings",
         "6.98"
        ],
        [
         "6",
         "OFF-AR-10002833",
         "Newell 322",
         "Art",
         "1.82"
        ],
        [
         "7",
         "TEC-PH-10002275",
         "Mitel 5320 IP Phone VoIP phone",
         "Phones",
         "188.99"
        ],
        [
         "8",
         "OFF-BI-10003910",
         "DXL Angle-View Binders with Locking Rings by Samsill",
         "Binders",
         "7.71"
        ],
        [
         "9",
         "OFF-AP-10002892",
         "Belkin F5C206VTEL 6 Outlet Surge",
         "Appliances",
         "22.98"
        ],
        [
         "10",
         "FUR-TA-10001539",
         "Chromcraft Rectangular Conference Tables",
         "Tables",
         "236.97"
        ],
        [
         "11",
         "TEC-PH-10002033",
         "Konftel 250 Conferenceï¾ phoneï¾ - Charcoal black",
         "Phones",
         "284.82"
        ],
        [
         "12",
         "OFF-PA-10002365",
         "Xerox 1967",
         "Paper",
         "6.48"
        ],
        [
         "13",
         "OFF-BI-10003656",
         "Fellowes PB200 Plastic Comb Binding Machine",
         "Binders",
         "169.99"
        ],
        [
         "14",
         "OFF-AP-10002311",
         "Holmes Replacement Filter for HEPA Air Cleaner, Very Large Room, HEPA Filter",
         "Appliances",
         "68.81"
        ],
        [
         "15",
         "OFF-BI-10000756",
         "Storex DuraTech Recycled Plastic Frosted Binders",
         "Binders",
         "4.24"
        ],
        [
         "16",
         "OFF-ST-10004186",
         "Stur-D-Stor Shelving, Vertical 5-Shelf: 72\"H x 36\"W x 18 1/2\"D",
         "Storage",
         "110.98"
        ],
        [
         "17",
         "OFF-ST-10000107",
         "Fellowes Super Stor/Drawer",
         "Storage",
         "27.75"
        ],
        [
         "18",
         "OFF-AR-10003056",
         "Newell 341",
         "Art",
         "4.28"
        ],
        [
         "19",
         "TEC-PH-10001949",
         "Cisco SPA 501G IP Phone",
         "Phones",
         "88.95"
        ],
        [
         "20",
         "OFF-BI-10002215",
         "Wilson Jones Hanging View Binder, White, 1\"",
         "Binders",
         "7.1"
        ],
        [
         "21",
         "OFF-AR-10000246",
         "Newell 318",
         "Art",
         "2.78"
        ],
        [
         "22",
         "OFF-AP-10001492",
         "Acco Six-Outlet Power Strip, 4' Cord Length",
         "Appliances",
         "8.62"
        ],
        [
         "23",
         "FUR-CH-10002774",
         "Global Deluxe Stacking Chair, Gray",
         "Chairs",
         "50.98"
        ],
        [
         "25",
         "OFF-BI-10001634",
         "Wilson Jones Active Use Binders",
         "Binders",
         "7.28"
        ],
        [
         "26",
         "TEC-AC-10003027",
         "Imationï¾ 8GB Mini TravelDrive USB 2.0ï¾ Flash Drive",
         "Accessories",
         "30.19"
        ],
        [
         "27",
         "FUR-BO-10004834",
         "Riverside Palais Royal Lawyers Bookcase, Royale Cherry Finish",
         "Bookcases",
         "880.98"
        ],
        [
         "28",
         "OFF-BI-10000474",
         "Avery Recycled Flexi-View Covers for Binding Systems",
         "Binders",
         "16.03"
        ],
        [
         "29",
         "FUR-FU-10004849",
         "Howard Miller 13-3/4\" Diameter Brushed Chrome Round Wall Clock",
         "Furnishings",
         "51.75"
        ],
        [
         "30",
         "OFF-EN-10001509",
         "Poly String Tie Envelopes",
         "Envelopes",
         "2.04"
        ],
        [
         "31",
         "OFF-AR-10004042",
         "BOSTON Model 1800 Electric Pencil Sharpeners, Putty/Woodgrain",
         "Art",
         "17.98"
        ],
        [
         "32",
         "OFF-BI-10001525",
         "Acco Pressboard Covers with Storage Hooks, 14 7/8\" x 11\", Executive Red",
         "Binders",
         "3.81"
        ],
        [
         "33",
         "OFF-AR-10001683",
         "Lumber Crayons",
         "Art",
         "9.85"
        ],
        [
         "34",
         "OFF-PA-10000249",
         "Easy-staple paper",
         "Paper",
         "12.28"
        ],
        [
         "35",
         "TEC-PH-10004977",
         "GE 30524EE4",
         "Phones",
         "195.99"
        ],
        [
         "36",
         "FUR-FU-10003664",
         "Electrix Architect's Clamp-On Swing Arm Lamp, Black",
         "Furnishings",
         "95.46"
        ],
        [
         "37",
         "OFF-EN-10002986",
         "#10-4 1/8\" x 9 1/2\" Premium Diagonal Seam Envelopes",
         "Envelopes",
         "15.74"
        ],
        [
         "38",
         "FUR-BO-10002545",
         "Atlantic Metals Mobile 3-Shelf Bookcases, Custom Colors",
         "Bookcases",
         "260.98"
        ],
        [
         "39",
         "FUR-CH-10004218",
         "Global Fabric Manager's Chair, Dark Gray",
         "Chairs",
         "100.98"
        ],
        [
         "40",
         "TEC-PH-10000486",
         "Plantronics HL10 Handset Lifter",
         "Phones",
         "115.99"
        ],
        [
         "41",
         "TEC-PH-10004093",
         "Panasonic Kx-TS550",
         "Phones",
         "45.99"
        ],
        [
         "42",
         "OFF-ST-10003479",
         "Eldon Base for stackable storage shelf, platinum",
         "Storage",
         "38.94"
        ],
        [
         "43",
         "OFF-ST-10003282",
         "Advantus 10-Drawer Portable Organizer, Chrome Metal Frame, Smoke Drawers",
         "Storage",
         "59.76"
        ],
        [
         "44",
         "TEC-AC-10000171",
         "Verbatim 25 GB 6x Blu-ray Single Layer Recordable Disc, 25/Pack",
         "Accessories",
         "22.99"
        ],
        [
         "45",
         "OFF-BI-10003291",
         "Wilson Jones Leather-Like Binders with DublLock Round Rings",
         "Binders",
         "8.73"
        ],
        [
         "46",
         "OFF-ST-10001713",
         "Gould Plastics 9-Pocket Panel Bin, 18-3/8w x 5-1/4d x 20-1/2h, Black",
         "Storage",
         "52.99"
        ],
        [
         "47",
         "TEC-AC-10002167",
         "Imationï¾ 8gb Micro Traveldrive Usb 2.0ï¾ Flash Drive",
         "Accessories",
         "15.0"
        ],
        [
         "48",
         "TEC-PH-10003988",
         "LF Elite 3D Dazzle Designer Hard Case Cover, Lf Stylus Pen and Wiper For Apple Iphone 5c Mini Lite",
         "Phones",
         "10.9"
        ],
        [
         "49",
         "OFF-BI-10004410",
         "C-Line Peel & Stick Add-On Filing Pockets, 8-3/4 x 5-1/8, 10/Pack",
         "Binders",
         "6.37"
        ],
        [
         "50",
         "OFF-LA-10002762",
         "Avery 485",
         "Labels",
         "12.53"
        ]
       ],
       "shape": {
        "columns": 4,
        "rows": 1894
       }
      },
      "text/html": [
       "<div>\n",
       "<style scoped>\n",
       "    .dataframe tbody tr th:only-of-type {\n",
       "        vertical-align: middle;\n",
       "    }\n",
       "\n",
       "    .dataframe tbody tr th {\n",
       "        vertical-align: top;\n",
       "    }\n",
       "\n",
       "    .dataframe thead th {\n",
       "        text-align: right;\n",
       "    }\n",
       "</style>\n",
       "<table border=\"1\" class=\"dataframe\">\n",
       "  <thead>\n",
       "    <tr style=\"text-align: right;\">\n",
       "      <th></th>\n",
       "      <th>product_id</th>\n",
       "      <th>product_name</th>\n",
       "      <th>subcategory</th>\n",
       "      <th>price</th>\n",
       "    </tr>\n",
       "  </thead>\n",
       "  <tbody>\n",
       "    <tr>\n",
       "      <th>0</th>\n",
       "      <td>FUR-BO-10001798</td>\n",
       "      <td>Bush Somerset Collection Bookcase</td>\n",
       "      <td>Bookcases</td>\n",
       "      <td>130.98</td>\n",
       "    </tr>\n",
       "    <tr>\n",
       "      <th>1</th>\n",
       "      <td>FUR-CH-10000454</td>\n",
       "      <td>Hon Deluxe Fabric Upholstered Stacking Chairs,...</td>\n",
       "      <td>Chairs</td>\n",
       "      <td>243.98</td>\n",
       "    </tr>\n",
       "    <tr>\n",
       "      <th>2</th>\n",
       "      <td>OFF-LA-10000240</td>\n",
       "      <td>Self-Adhesive Address Labels for Typewriters b...</td>\n",
       "      <td>Labels</td>\n",
       "      <td>7.31</td>\n",
       "    </tr>\n",
       "    <tr>\n",
       "      <th>3</th>\n",
       "      <td>FUR-TA-10000577</td>\n",
       "      <td>Bretford CR4500 Series Slim Rectangular Table</td>\n",
       "      <td>Tables</td>\n",
       "      <td>348.21</td>\n",
       "    </tr>\n",
       "    <tr>\n",
       "      <th>4</th>\n",
       "      <td>OFF-ST-10000760</td>\n",
       "      <td>Eldon Fold 'N Roll Cart System</td>\n",
       "      <td>Storage</td>\n",
       "      <td>13.98</td>\n",
       "    </tr>\n",
       "    <tr>\n",
       "      <th>...</th>\n",
       "      <td>...</td>\n",
       "      <td>...</td>\n",
       "      <td>...</td>\n",
       "      <td>...</td>\n",
       "    </tr>\n",
       "    <tr>\n",
       "      <th>9521</th>\n",
       "      <td>TEC-PH-10002817</td>\n",
       "      <td>RCA ViSYS 25425RE1 Corded phone</td>\n",
       "      <td>Phones</td>\n",
       "      <td>134.99</td>\n",
       "    </tr>\n",
       "    <tr>\n",
       "      <th>9562</th>\n",
       "      <td>TEC-MA-10003589</td>\n",
       "      <td>Cisco 8961 IP Phone Charcoal</td>\n",
       "      <td>Machines</td>\n",
       "      <td>249.93</td>\n",
       "    </tr>\n",
       "    <tr>\n",
       "      <th>9604</th>\n",
       "      <td>OFF-AP-10003099</td>\n",
       "      <td>Eureka Hand Vacuum, Bagless</td>\n",
       "      <td>Appliances</td>\n",
       "      <td>49.43</td>\n",
       "    </tr>\n",
       "    <tr>\n",
       "      <th>9673</th>\n",
       "      <td>TEC-PH-10002645</td>\n",
       "      <td>LG G2</td>\n",
       "      <td>Phones</td>\n",
       "      <td>499.99</td>\n",
       "    </tr>\n",
       "    <tr>\n",
       "      <th>9935</th>\n",
       "      <td>OFF-ST-10001627</td>\n",
       "      <td>Eldon Jumbo ProFile Portable File Boxes Graphi...</td>\n",
       "      <td>Storage</td>\n",
       "      <td>15.31</td>\n",
       "    </tr>\n",
       "  </tbody>\n",
       "</table>\n",
       "<p>1894 rows × 4 columns</p>\n",
       "</div>"
      ],
      "text/plain": [
       "           product_id                                       product_name  \\\n",
       "0     FUR-BO-10001798                  Bush Somerset Collection Bookcase   \n",
       "1     FUR-CH-10000454  Hon Deluxe Fabric Upholstered Stacking Chairs,...   \n",
       "2     OFF-LA-10000240  Self-Adhesive Address Labels for Typewriters b...   \n",
       "3     FUR-TA-10000577      Bretford CR4500 Series Slim Rectangular Table   \n",
       "4     OFF-ST-10000760                     Eldon Fold 'N Roll Cart System   \n",
       "...               ...                                                ...   \n",
       "9521  TEC-PH-10002817                    RCA ViSYS 25425RE1 Corded phone   \n",
       "9562  TEC-MA-10003589                       Cisco 8961 IP Phone Charcoal   \n",
       "9604  OFF-AP-10003099                        Eureka Hand Vacuum, Bagless   \n",
       "9673  TEC-PH-10002645                                              LG G2   \n",
       "9935  OFF-ST-10001627  Eldon Jumbo ProFile Portable File Boxes Graphi...   \n",
       "\n",
       "     subcategory   price  \n",
       "0      Bookcases  130.98  \n",
       "1         Chairs  243.98  \n",
       "2         Labels    7.31  \n",
       "3         Tables  348.21  \n",
       "4        Storage   13.98  \n",
       "...          ...     ...  \n",
       "9521      Phones  134.99  \n",
       "9562    Machines  249.93  \n",
       "9604  Appliances   49.43  \n",
       "9673      Phones  499.99  \n",
       "9935     Storage   15.31  \n",
       "\n",
       "[1894 rows x 4 columns]"
      ]
     },
     "execution_count": 17,
     "metadata": {},
     "output_type": "execute_result"
    }
   ],
   "source": [
    "# fill product table with data from df\n",
    "product = df[[\"product_id\", \"product_name\", \"subcategory\", \"price\"]].copy()\n",
    "product.drop_duplicates(inplace=True)\n",
    "\n",
    "# Check result\n",
    "product"
   ]
  },
  {
   "cell_type": "code",
   "execution_count": 18,
   "id": "820a0952",
   "metadata": {},
   "outputs": [],
   "source": [
    "# insert data into product_categories table\n",
    "conn = sqlite3.connect(\"superstore2.db\")\n",
    "\n",
    "product.to_sql(\n",
    "   \"product\", # the name of the table\n",
    "   con=conn, # the connection variable\n",
    "   index=False, # whether to include the index column\n",
    "   if_exists=\"append\" # define behavior if table already exists\n",
    ")\n",
    "\n",
    "# Export product table to csv without index\n",
    "product = pd.read_sql_query(\"SELECT * FROM product\", conn)\n",
    "\n",
    "# Save the CSV file into the 'Tableau' folder\n",
    "product.to_csv(\"Tableau/product.csv\", index=False)\n",
    "\n",
    "\n",
    "conn.close()"
   ]
  },
  {
   "cell_type": "markdown",
   "id": "05d302e2",
   "metadata": {},
   "source": [
    "Table 6 - Calendar"
   ]
  },
  {
   "cell_type": "code",
   "execution_count": 19,
   "id": "0821f047",
   "metadata": {},
   "outputs": [],
   "source": [
    "# start sqlite3 connection and creation of database\n",
    "conn = sqlite3.connect(\"superstore2.db\")\n",
    "\n",
    "cur = conn.cursor()\n",
    "\n",
    "# Create product table\n",
    "create_calendar_table = \"\"\"\n",
    "   CREATE TABLE IF NOT EXISTS product (\n",
    "      order_date DATE NOT NULL PRIMARY KEY,\n",
    "      day_of_week TEXT NOT NULL,\n",
    "      month INT NOT NULL,\n",
    "      year INT NOT NULL\n",
    "      )\n",
    "\"\"\"\n",
    "\n",
    "cur.execute(create_calendar_table)\n",
    "\n",
    "cur.close()\n",
    "conn.close()"
   ]
  },
  {
   "cell_type": "code",
   "execution_count": 20,
   "id": "2016c5b1",
   "metadata": {},
   "outputs": [
    {
     "data": {
      "application/vnd.microsoft.datawrangler.viewer.v0+json": {
       "columns": [
        {
         "name": "index",
         "rawType": "int64",
         "type": "integer"
        },
        {
         "name": "order_date",
         "rawType": "datetime64[ns]",
         "type": "datetime"
        },
        {
         "name": "day_of_week",
         "rawType": "object",
         "type": "string"
        },
        {
         "name": "month",
         "rawType": "int64",
         "type": "integer"
        },
        {
         "name": "year",
         "rawType": "int64",
         "type": "integer"
        }
       ],
       "conversionMethod": "pd.DataFrame",
       "ref": "e99d6203-569c-4f6e-be10-1d7bff27a90c",
       "rows": [
        [
         "0",
         "2016-11-08 00:00:00",
         "Tuesday",
         "11",
         "2016"
        ],
        [
         "2",
         "2016-06-12 00:00:00",
         "Sunday",
         "6",
         "2016"
        ],
        [
         "3",
         "2015-10-11 00:00:00",
         "Sunday",
         "10",
         "2015"
        ],
        [
         "5",
         "2014-06-09 00:00:00",
         "Monday",
         "6",
         "2014"
        ],
        [
         "12",
         "2017-04-15 00:00:00",
         "Saturday",
         "4",
         "2017"
        ],
        [
         "13",
         "2016-12-05 00:00:00",
         "Monday",
         "12",
         "2016"
        ],
        [
         "14",
         "2015-11-22 00:00:00",
         "Sunday",
         "11",
         "2015"
        ],
        [
         "16",
         "2014-11-11 00:00:00",
         "Tuesday",
         "11",
         "2014"
        ],
        [
         "17",
         "2014-05-13 00:00:00",
         "Tuesday",
         "5",
         "2014"
        ],
        [
         "18",
         "2014-08-27 00:00:00",
         "Wednesday",
         "8",
         "2014"
        ],
        [
         "21",
         "2016-12-09 00:00:00",
         "Friday",
         "12",
         "2016"
        ],
        [
         "23",
         "2017-07-16 00:00:00",
         "Sunday",
         "7",
         "2017"
        ],
        [
         "24",
         "2015-09-25 00:00:00",
         "Friday",
         "9",
         "2015"
        ],
        [
         "25",
         "2016-01-16 00:00:00",
         "Saturday",
         "1",
         "2016"
        ],
        [
         "27",
         "2015-09-17 00:00:00",
         "Thursday",
         "9",
         "2015"
        ],
        [
         "34",
         "2017-10-19 00:00:00",
         "Thursday",
         "10",
         "2017"
        ],
        [
         "35",
         "2016-12-08 00:00:00",
         "Thursday",
         "12",
         "2016"
        ],
        [
         "37",
         "2015-12-27 00:00:00",
         "Sunday",
         "12",
         "2015"
        ],
        [
         "41",
         "2017-09-10 00:00:00",
         "Sunday",
         "9",
         "2017"
        ],
        [
         "42",
         "2016-07-17 00:00:00",
         "Sunday",
         "7",
         "2016"
        ],
        [
         "43",
         "2017-09-19 00:00:00",
         "Tuesday",
         "9",
         "2017"
        ],
        [
         "44",
         "2016-03-11 00:00:00",
         "Friday",
         "3",
         "2016"
        ],
        [
         "46",
         "2014-10-20 00:00:00",
         "Monday",
         "10",
         "2014"
        ],
        [
         "47",
         "2016-06-20 00:00:00",
         "Monday",
         "6",
         "2016"
        ],
        [
         "49",
         "2015-04-18 00:00:00",
         "Saturday",
         "4",
         "2015"
        ],
        [
         "53",
         "2016-12-11 00:00:00",
         "Sunday",
         "12",
         "2016"
        ],
        [
         "55",
         "2016-06-17 00:00:00",
         "Friday",
         "6",
         "2016"
        ],
        [
         "62",
         "2015-11-24 00:00:00",
         "Tuesday",
         "11",
         "2015"
        ],
        [
         "66",
         "2015-04-30 00:00:00",
         "Thursday",
         "4",
         "2015"
        ],
        [
         "67",
         "2014-12-05 00:00:00",
         "Friday",
         "12",
         "2014"
        ],
        [
         "69",
         "2016-06-04 00:00:00",
         "Saturday",
         "6",
         "2016"
        ],
        [
         "70",
         "2016-09-18 00:00:00",
         "Sunday",
         "9",
         "2016"
        ],
        [
         "71",
         "2017-09-14 00:00:00",
         "Thursday",
         "9",
         "2017"
        ],
        [
         "72",
         "2015-04-26 00:00:00",
         "Sunday",
         "4",
         "2015"
        ],
        [
         "75",
         "2017-12-09 00:00:00",
         "Saturday",
         "12",
         "2017"
        ],
        [
         "78",
         "2014-11-26 00:00:00",
         "Wednesday",
         "11",
         "2014"
        ],
        [
         "81",
         "2014-10-12 00:00:00",
         "Sunday",
         "10",
         "2014"
        ],
        [
         "83",
         "2015-09-03 00:00:00",
         "Thursday",
         "9",
         "2015"
        ],
        [
         "84",
         "2017-11-13 00:00:00",
         "Monday",
         "11",
         "2017"
        ],
        [
         "85",
         "2017-05-28 00:00:00",
         "Sunday",
         "5",
         "2017"
        ],
        [
         "86",
         "2017-10-26 00:00:00",
         "Thursday",
         "10",
         "2017"
        ],
        [
         "88",
         "2016-04-05 00:00:00",
         "Tuesday",
         "4",
         "2016"
        ],
        [
         "89",
         "2016-09-17 00:00:00",
         "Saturday",
         "9",
         "2016"
        ],
        [
         "92",
         "2015-01-31 00:00:00",
         "Saturday",
         "1",
         "2015"
        ],
        [
         "95",
         "2017-11-06 00:00:00",
         "Monday",
         "11",
         "2017"
        ],
        [
         "96",
         "2017-11-09 00:00:00",
         "Thursday",
         "11",
         "2017"
        ],
        [
         "97",
         "2017-06-17 00:00:00",
         "Saturday",
         "6",
         "2017"
        ],
        [
         "98",
         "2016-09-06 00:00:00",
         "Tuesday",
         "9",
         "2016"
        ],
        [
         "99",
         "2016-08-29 00:00:00",
         "Monday",
         "8",
         "2016"
        ],
        [
         "102",
         "2016-12-01 00:00:00",
         "Thursday",
         "12",
         "2016"
        ]
       ],
       "shape": {
        "columns": 4,
        "rows": 1237
       }
      },
      "text/html": [
       "<div>\n",
       "<style scoped>\n",
       "    .dataframe tbody tr th:only-of-type {\n",
       "        vertical-align: middle;\n",
       "    }\n",
       "\n",
       "    .dataframe tbody tr th {\n",
       "        vertical-align: top;\n",
       "    }\n",
       "\n",
       "    .dataframe thead th {\n",
       "        text-align: right;\n",
       "    }\n",
       "</style>\n",
       "<table border=\"1\" class=\"dataframe\">\n",
       "  <thead>\n",
       "    <tr style=\"text-align: right;\">\n",
       "      <th></th>\n",
       "      <th>order_date</th>\n",
       "      <th>day_of_week</th>\n",
       "      <th>month</th>\n",
       "      <th>year</th>\n",
       "    </tr>\n",
       "  </thead>\n",
       "  <tbody>\n",
       "    <tr>\n",
       "      <th>0</th>\n",
       "      <td>2016-11-08</td>\n",
       "      <td>Tuesday</td>\n",
       "      <td>11</td>\n",
       "      <td>2016</td>\n",
       "    </tr>\n",
       "    <tr>\n",
       "      <th>2</th>\n",
       "      <td>2016-06-12</td>\n",
       "      <td>Sunday</td>\n",
       "      <td>6</td>\n",
       "      <td>2016</td>\n",
       "    </tr>\n",
       "    <tr>\n",
       "      <th>3</th>\n",
       "      <td>2015-10-11</td>\n",
       "      <td>Sunday</td>\n",
       "      <td>10</td>\n",
       "      <td>2015</td>\n",
       "    </tr>\n",
       "    <tr>\n",
       "      <th>5</th>\n",
       "      <td>2014-06-09</td>\n",
       "      <td>Monday</td>\n",
       "      <td>6</td>\n",
       "      <td>2014</td>\n",
       "    </tr>\n",
       "    <tr>\n",
       "      <th>12</th>\n",
       "      <td>2017-04-15</td>\n",
       "      <td>Saturday</td>\n",
       "      <td>4</td>\n",
       "      <td>2017</td>\n",
       "    </tr>\n",
       "    <tr>\n",
       "      <th>...</th>\n",
       "      <td>...</td>\n",
       "      <td>...</td>\n",
       "      <td>...</td>\n",
       "      <td>...</td>\n",
       "    </tr>\n",
       "    <tr>\n",
       "      <th>9875</th>\n",
       "      <td>2015-12-29</td>\n",
       "      <td>Tuesday</td>\n",
       "      <td>12</td>\n",
       "      <td>2015</td>\n",
       "    </tr>\n",
       "    <tr>\n",
       "      <th>9883</th>\n",
       "      <td>2014-04-03</td>\n",
       "      <td>Thursday</td>\n",
       "      <td>4</td>\n",
       "      <td>2014</td>\n",
       "    </tr>\n",
       "    <tr>\n",
       "      <th>9937</th>\n",
       "      <td>2016-06-03</td>\n",
       "      <td>Friday</td>\n",
       "      <td>6</td>\n",
       "      <td>2016</td>\n",
       "    </tr>\n",
       "    <tr>\n",
       "      <th>9944</th>\n",
       "      <td>2015-04-12</td>\n",
       "      <td>Sunday</td>\n",
       "      <td>4</td>\n",
       "      <td>2015</td>\n",
       "    </tr>\n",
       "    <tr>\n",
       "      <th>9989</th>\n",
       "      <td>2014-01-21</td>\n",
       "      <td>Tuesday</td>\n",
       "      <td>1</td>\n",
       "      <td>2014</td>\n",
       "    </tr>\n",
       "  </tbody>\n",
       "</table>\n",
       "<p>1237 rows × 4 columns</p>\n",
       "</div>"
      ],
      "text/plain": [
       "     order_date day_of_week  month  year\n",
       "0    2016-11-08     Tuesday     11  2016\n",
       "2    2016-06-12      Sunday      6  2016\n",
       "3    2015-10-11      Sunday     10  2015\n",
       "5    2014-06-09      Monday      6  2014\n",
       "12   2017-04-15    Saturday      4  2017\n",
       "...         ...         ...    ...   ...\n",
       "9875 2015-12-29     Tuesday     12  2015\n",
       "9883 2014-04-03    Thursday      4  2014\n",
       "9937 2016-06-03      Friday      6  2016\n",
       "9944 2015-04-12      Sunday      4  2015\n",
       "9989 2014-01-21     Tuesday      1  2014\n",
       "\n",
       "[1237 rows x 4 columns]"
      ]
     },
     "execution_count": 20,
     "metadata": {},
     "output_type": "execute_result"
    }
   ],
   "source": [
    "# fill calendar table with data from df\n",
    "calendar = df[[\"order_date\", \"day_of_week\", \"month\", \"year\"]].copy()\n",
    "calendar.drop_duplicates(inplace=True)\n",
    "\n",
    "# Check result\n",
    "calendar"
   ]
  },
  {
   "cell_type": "code",
   "execution_count": 21,
   "id": "32dfabcf",
   "metadata": {},
   "outputs": [],
   "source": [
    "# insert data into product_categories table\n",
    "conn = sqlite3.connect(\"superstore2.db\")\n",
    "\n",
    "calendar.to_sql(\n",
    "   \"calendar\", # the name of the table\n",
    "   con=conn, # the connection variable\n",
    "   index=False, # whether to include the index column\n",
    "   if_exists=\"append\" # define behavior if table already exists\n",
    ")\n",
    "\n",
    "# Export calendar table to csv without index\n",
    "calendar = pd.read_sql_query(\"SELECT * FROM calendar\", conn)\n",
    "\n",
    "# Save the CSV file into the 'Tableau' folder\n",
    "calendar.to_csv(\"Tableau/calendar.csv\", index=False)\n",
    "\n",
    "\n",
    "conn.close()"
   ]
  },
  {
   "cell_type": "markdown",
   "id": "0ad4cbaa",
   "metadata": {},
   "source": [
    "Table 7a - Order header"
   ]
  },
  {
   "cell_type": "code",
   "execution_count": 22,
   "id": "baf1c308",
   "metadata": {},
   "outputs": [],
   "source": [
    "# start sqlite3 connection and creation of database\n",
    "conn = sqlite3.connect(\"superstore2.db\")\n",
    "\n",
    "cur = conn.cursor()\n",
    "\n",
    "# Create order_header table\n",
    "create_order_header_table = \"\"\"\n",
    "   CREATE TABLE IF NOT EXISTS order_header (\n",
    "      order_id TEXT NOT NULL PRIMARY KEY,\n",
    "      order_date DATE NOT NULL,\n",
    "      ship_date DATE NOT NULL,\n",
    "      ship_mode TEXT NOT NULL,\n",
    "      customer_id TEXT NOT NULL,\n",
    "      customer_address_key TEXT NOT NULL,\n",
    "      FOREIGN KEY (customer_id) REFERENCES customer(customer_id),\n",
    "      FOREIGN KEY (customer_address_key) REFERENCES customer_address(customer_address_key),\n",
    "      FOREIGN KEY (order_date) REFERENCES order_date(calendar)\n",
    "      )\n",
    "\"\"\"\n",
    "\n",
    "cur.execute(create_order_header_table)\n",
    "\n",
    "cur.close()\n",
    "conn.close()"
   ]
  },
  {
   "cell_type": "code",
   "execution_count": 23,
   "id": "8763f7d9",
   "metadata": {},
   "outputs": [
    {
     "data": {
      "application/vnd.microsoft.datawrangler.viewer.v0+json": {
       "columns": [
        {
         "name": "index",
         "rawType": "int64",
         "type": "integer"
        },
        {
         "name": "order_id",
         "rawType": "object",
         "type": "string"
        },
        {
         "name": "order_date",
         "rawType": "datetime64[ns]",
         "type": "datetime"
        },
        {
         "name": "ship_date",
         "rawType": "datetime64[ns]",
         "type": "datetime"
        },
        {
         "name": "ship_mode",
         "rawType": "object",
         "type": "string"
        },
        {
         "name": "customer_id",
         "rawType": "object",
         "type": "string"
        },
        {
         "name": "customer_address_key",
         "rawType": "object",
         "type": "string"
        }
       ],
       "conversionMethod": "pd.DataFrame",
       "ref": "a4ac8820-28c2-4228-87dd-462f118eaf8c",
       "rows": [
        [
         "0",
         "CA-2016-152156",
         "2016-11-08 00:00:00",
         "2016-11-11 00:00:00",
         "Second Class",
         "CG-12520",
         "CG-12520-42420-Henderson-Kentucky"
        ],
        [
         "2",
         "CA-2016-138688",
         "2016-06-12 00:00:00",
         "2016-06-16 00:00:00",
         "Second Class",
         "DV-13045",
         "DV-13045-90036-Los Angeles-California"
        ],
        [
         "3",
         "US-2015-108966",
         "2015-10-11 00:00:00",
         "2015-10-18 00:00:00",
         "Standard Class",
         "SO-20335",
         "SO-20335-33311-Fort Lauderdale-Florida"
        ],
        [
         "5",
         "CA-2014-115812",
         "2014-06-09 00:00:00",
         "2014-06-14 00:00:00",
         "Standard Class",
         "BH-11710",
         "BH-11710-90032-Los Angeles-California"
        ],
        [
         "12",
         "CA-2017-114412",
         "2017-04-15 00:00:00",
         "2017-04-20 00:00:00",
         "Standard Class",
         "AA-10480",
         "AA-10480-28027-Concord-North Carolina"
        ],
        [
         "13",
         "CA-2016-161389",
         "2016-12-05 00:00:00",
         "2016-12-10 00:00:00",
         "Standard Class",
         "IM-15070",
         "IM-15070-98103-Seattle-Washington"
        ],
        [
         "14",
         "US-2015-118983",
         "2015-11-22 00:00:00",
         "2015-11-26 00:00:00",
         "Standard Class",
         "HP-14815",
         "HP-14815-76106-Fort Worth-Texas"
        ],
        [
         "16",
         "CA-2014-105893",
         "2014-11-11 00:00:00",
         "2014-11-18 00:00:00",
         "Standard Class",
         "PK-19075",
         "PK-19075-53711-Madison-Wisconsin"
        ],
        [
         "17",
         "CA-2014-167164",
         "2014-05-13 00:00:00",
         "2014-05-15 00:00:00",
         "Second Class",
         "AG-10270",
         "AG-10270-84084-West Jordan-Utah"
        ],
        [
         "18",
         "CA-2014-143336",
         "2014-08-27 00:00:00",
         "2014-09-01 00:00:00",
         "Second Class",
         "ZD-21925",
         "ZD-21925-94109-San Francisco-California"
        ],
        [
         "21",
         "CA-2016-137330",
         "2016-12-09 00:00:00",
         "2016-12-13 00:00:00",
         "Standard Class",
         "KB-16585",
         "KB-16585-68025-Fremont-Nebraska"
        ],
        [
         "23",
         "US-2017-156909",
         "2017-07-16 00:00:00",
         "2017-07-18 00:00:00",
         "Second Class",
         "SF-20065",
         "SF-20065-19140-Philadelphia-Pennsylvania"
        ],
        [
         "24",
         "CA-2015-106320",
         "2015-09-25 00:00:00",
         "2015-09-30 00:00:00",
         "Standard Class",
         "EB-13870",
         "EB-13870-84057-Orem-Utah"
        ],
        [
         "25",
         "CA-2016-121755",
         "2016-01-16 00:00:00",
         "2016-01-20 00:00:00",
         "Second Class",
         "EH-13945",
         "EH-13945-90049-Los Angeles-California"
        ],
        [
         "27",
         "US-2015-150630",
         "2015-09-17 00:00:00",
         "2015-09-21 00:00:00",
         "Standard Class",
         "TB-21520",
         "TB-21520-19140-Philadelphia-Pennsylvania"
        ],
        [
         "34",
         "CA-2017-107727",
         "2017-10-19 00:00:00",
         "2017-10-23 00:00:00",
         "Second Class",
         "MA-17560",
         "MA-17560-77095-Houston-Texas"
        ],
        [
         "35",
         "CA-2016-117590",
         "2016-12-08 00:00:00",
         "2016-12-10 00:00:00",
         "First Class",
         "GH-14485",
         "GH-14485-75080-Richardson-Texas"
        ],
        [
         "37",
         "CA-2015-117415",
         "2015-12-27 00:00:00",
         "2015-12-31 00:00:00",
         "Standard Class",
         "SN-20710",
         "SN-20710-77041-Houston-Texas"
        ],
        [
         "41",
         "CA-2017-120999",
         "2017-09-10 00:00:00",
         "2017-09-15 00:00:00",
         "Standard Class",
         "LC-16930",
         "LC-16930-60540-Naperville-Illinois"
        ],
        [
         "42",
         "CA-2016-101343",
         "2016-07-17 00:00:00",
         "2016-07-22 00:00:00",
         "Standard Class",
         "RA-19885",
         "RA-19885-90049-Los Angeles-California"
        ],
        [
         "43",
         "CA-2017-139619",
         "2017-09-19 00:00:00",
         "2017-09-23 00:00:00",
         "Standard Class",
         "ES-14080",
         "ES-14080-32935-Melbourne-Florida"
        ],
        [
         "44",
         "CA-2016-118255",
         "2016-03-11 00:00:00",
         "2016-03-13 00:00:00",
         "First Class",
         "ON-18715",
         "ON-18715-55122-Eagan-Minnesota"
        ],
        [
         "46",
         "CA-2014-146703",
         "2014-10-20 00:00:00",
         "2014-10-25 00:00:00",
         "Second Class",
         "PO-18865",
         "PO-18865-48185-Westland-Michigan"
        ],
        [
         "47",
         "CA-2016-169194",
         "2016-06-20 00:00:00",
         "2016-06-25 00:00:00",
         "Standard Class",
         "LH-16900",
         "LH-16900-19901-Dover-Delaware"
        ],
        [
         "49",
         "CA-2015-115742",
         "2015-04-18 00:00:00",
         "2015-04-22 00:00:00",
         "Standard Class",
         "DP-13000",
         "DP-13000-47150-New Albany-Indiana"
        ],
        [
         "53",
         "CA-2016-105816",
         "2016-12-11 00:00:00",
         "2016-12-17 00:00:00",
         "Standard Class",
         "JM-15265",
         "JM-15265-10024-New York City-New York"
        ],
        [
         "55",
         "CA-2016-111682",
         "2016-06-17 00:00:00",
         "2016-06-18 00:00:00",
         "First Class",
         "TB-21055",
         "TB-21055-12180-Troy-New York"
        ],
        [
         "62",
         "CA-2015-135545",
         "2015-11-24 00:00:00",
         "2015-11-30 00:00:00",
         "Standard Class",
         "KM-16720",
         "KM-16720-90004-Los Angeles-California"
        ],
        [
         "66",
         "US-2015-164175",
         "2015-04-30 00:00:00",
         "2015-05-05 00:00:00",
         "Standard Class",
         "PS-18970",
         "PS-18970-60610-Chicago-Illinois"
        ],
        [
         "67",
         "CA-2014-106376",
         "2014-12-05 00:00:00",
         "2014-12-10 00:00:00",
         "Standard Class",
         "BS-11590",
         "BS-11590-85234-Gilbert-Arizona"
        ],
        [
         "69",
         "CA-2016-119823",
         "2016-06-04 00:00:00",
         "2016-06-06 00:00:00",
         "First Class",
         "KD-16270",
         "KD-16270-22153-Springfield-Virginia"
        ],
        [
         "70",
         "CA-2016-106075",
         "2016-09-18 00:00:00",
         "2016-09-23 00:00:00",
         "Standard Class",
         "HM-14980",
         "HM-14980-10009-New York City-New York"
        ],
        [
         "71",
         "CA-2017-114440",
         "2017-09-14 00:00:00",
         "2017-09-17 00:00:00",
         "Second Class",
         "TB-21520",
         "TB-21520-49201-Jackson-Michigan"
        ],
        [
         "72",
         "US-2015-134026",
         "2015-04-26 00:00:00",
         "2015-05-02 00:00:00",
         "Standard Class",
         "JE-15745",
         "JE-15745-38109-Memphis-Tennessee"
        ],
        [
         "75",
         "US-2017-118038",
         "2017-12-09 00:00:00",
         "2017-12-11 00:00:00",
         "First Class",
         "KB-16600",
         "KB-16600-77041-Houston-Texas"
        ],
        [
         "78",
         "US-2014-147606",
         "2014-11-26 00:00:00",
         "2014-12-01 00:00:00",
         "Second Class",
         "JE-15745",
         "JE-15745-77070-Houston-Texas"
        ],
        [
         "79",
         "CA-2016-127208",
         "2016-06-12 00:00:00",
         "2016-06-15 00:00:00",
         "First Class",
         "SC-20770",
         "SC-20770-35601-Decatur-Alabama"
        ],
        [
         "81",
         "CA-2014-139451",
         "2014-10-12 00:00:00",
         "2014-10-16 00:00:00",
         "Standard Class",
         "DN-13690",
         "DN-13690-94122-San Francisco-California"
        ],
        [
         "83",
         "CA-2015-149734",
         "2015-09-03 00:00:00",
         "2015-09-08 00:00:00",
         "Standard Class",
         "JC-16105",
         "JC-16105-27707-Durham-North Carolina"
        ],
        [
         "84",
         "US-2017-119662",
         "2017-11-13 00:00:00",
         "2017-11-16 00:00:00",
         "First Class",
         "CS-12400",
         "CS-12400-60623-Chicago-Illinois"
        ],
        [
         "85",
         "CA-2017-140088",
         "2017-05-28 00:00:00",
         "2017-05-30 00:00:00",
         "Second Class",
         "PO-18865",
         "PO-18865-29203-Columbia-South Carolina"
        ],
        [
         "86",
         "CA-2017-155558",
         "2017-10-26 00:00:00",
         "2017-11-02 00:00:00",
         "Standard Class",
         "PG-18895",
         "PG-18895-55901-Rochester-Minnesota"
        ],
        [
         "88",
         "CA-2016-159695",
         "2016-04-05 00:00:00",
         "2016-04-10 00:00:00",
         "Second Class",
         "GM-14455",
         "GM-14455-77095-Houston-Texas"
        ],
        [
         "89",
         "CA-2016-109806",
         "2016-09-17 00:00:00",
         "2016-09-22 00:00:00",
         "Standard Class",
         "JS-15685",
         "JS-15685-90036-Los Angeles-California"
        ],
        [
         "92",
         "CA-2015-149587",
         "2015-01-31 00:00:00",
         "2015-02-05 00:00:00",
         "Second Class",
         "KB-16315",
         "KB-16315-55407-Minneapolis-Minnesota"
        ],
        [
         "95",
         "US-2017-109484",
         "2017-11-06 00:00:00",
         "2017-11-12 00:00:00",
         "Standard Class",
         "RB-19705",
         "RB-19705-97206-Portland-Oregon"
        ],
        [
         "96",
         "CA-2017-161018",
         "2017-11-09 00:00:00",
         "2017-11-11 00:00:00",
         "Second Class",
         "PN-18775",
         "PN-18775-10009-New York City-New York"
        ],
        [
         "97",
         "CA-2017-157833",
         "2017-06-17 00:00:00",
         "2017-06-20 00:00:00",
         "First Class",
         "KD-16345",
         "KD-16345-94122-San Francisco-California"
        ],
        [
         "98",
         "CA-2016-149223",
         "2016-09-06 00:00:00",
         "2016-09-11 00:00:00",
         "Standard Class",
         "ER-13855",
         "ER-13855-55106-Saint Paul-Minnesota"
        ],
        [
         "99",
         "CA-2016-158568",
         "2016-08-29 00:00:00",
         "2016-09-02 00:00:00",
         "Standard Class",
         "RB-19465",
         "RB-19465-60610-Chicago-Illinois"
        ]
       ],
       "shape": {
        "columns": 6,
        "rows": 5009
       }
      },
      "text/html": [
       "<div>\n",
       "<style scoped>\n",
       "    .dataframe tbody tr th:only-of-type {\n",
       "        vertical-align: middle;\n",
       "    }\n",
       "\n",
       "    .dataframe tbody tr th {\n",
       "        vertical-align: top;\n",
       "    }\n",
       "\n",
       "    .dataframe thead th {\n",
       "        text-align: right;\n",
       "    }\n",
       "</style>\n",
       "<table border=\"1\" class=\"dataframe\">\n",
       "  <thead>\n",
       "    <tr style=\"text-align: right;\">\n",
       "      <th></th>\n",
       "      <th>order_id</th>\n",
       "      <th>order_date</th>\n",
       "      <th>ship_date</th>\n",
       "      <th>ship_mode</th>\n",
       "      <th>customer_id</th>\n",
       "      <th>customer_address_key</th>\n",
       "    </tr>\n",
       "  </thead>\n",
       "  <tbody>\n",
       "    <tr>\n",
       "      <th>0</th>\n",
       "      <td>CA-2016-152156</td>\n",
       "      <td>2016-11-08</td>\n",
       "      <td>2016-11-11</td>\n",
       "      <td>Second Class</td>\n",
       "      <td>CG-12520</td>\n",
       "      <td>CG-12520-42420-Henderson-Kentucky</td>\n",
       "    </tr>\n",
       "    <tr>\n",
       "      <th>2</th>\n",
       "      <td>CA-2016-138688</td>\n",
       "      <td>2016-06-12</td>\n",
       "      <td>2016-06-16</td>\n",
       "      <td>Second Class</td>\n",
       "      <td>DV-13045</td>\n",
       "      <td>DV-13045-90036-Los Angeles-California</td>\n",
       "    </tr>\n",
       "    <tr>\n",
       "      <th>3</th>\n",
       "      <td>US-2015-108966</td>\n",
       "      <td>2015-10-11</td>\n",
       "      <td>2015-10-18</td>\n",
       "      <td>Standard Class</td>\n",
       "      <td>SO-20335</td>\n",
       "      <td>SO-20335-33311-Fort Lauderdale-Florida</td>\n",
       "    </tr>\n",
       "    <tr>\n",
       "      <th>5</th>\n",
       "      <td>CA-2014-115812</td>\n",
       "      <td>2014-06-09</td>\n",
       "      <td>2014-06-14</td>\n",
       "      <td>Standard Class</td>\n",
       "      <td>BH-11710</td>\n",
       "      <td>BH-11710-90032-Los Angeles-California</td>\n",
       "    </tr>\n",
       "    <tr>\n",
       "      <th>12</th>\n",
       "      <td>CA-2017-114412</td>\n",
       "      <td>2017-04-15</td>\n",
       "      <td>2017-04-20</td>\n",
       "      <td>Standard Class</td>\n",
       "      <td>AA-10480</td>\n",
       "      <td>AA-10480-28027-Concord-North Carolina</td>\n",
       "    </tr>\n",
       "    <tr>\n",
       "      <th>...</th>\n",
       "      <td>...</td>\n",
       "      <td>...</td>\n",
       "      <td>...</td>\n",
       "      <td>...</td>\n",
       "      <td>...</td>\n",
       "      <td>...</td>\n",
       "    </tr>\n",
       "    <tr>\n",
       "      <th>9986</th>\n",
       "      <td>CA-2016-125794</td>\n",
       "      <td>2016-09-29</td>\n",
       "      <td>2016-10-03</td>\n",
       "      <td>Standard Class</td>\n",
       "      <td>ML-17410</td>\n",
       "      <td>ML-17410-90008-Los Angeles-California</td>\n",
       "    </tr>\n",
       "    <tr>\n",
       "      <th>9987</th>\n",
       "      <td>CA-2017-163629</td>\n",
       "      <td>2017-11-17</td>\n",
       "      <td>2017-11-21</td>\n",
       "      <td>Standard Class</td>\n",
       "      <td>RA-19885</td>\n",
       "      <td>RA-19885-30605-Athens-Georgia</td>\n",
       "    </tr>\n",
       "    <tr>\n",
       "      <th>9989</th>\n",
       "      <td>CA-2014-110422</td>\n",
       "      <td>2014-01-21</td>\n",
       "      <td>2014-01-23</td>\n",
       "      <td>Second Class</td>\n",
       "      <td>TB-21400</td>\n",
       "      <td>TB-21400-33180-Miami-Florida</td>\n",
       "    </tr>\n",
       "    <tr>\n",
       "      <th>9990</th>\n",
       "      <td>CA-2017-121258</td>\n",
       "      <td>2017-02-26</td>\n",
       "      <td>2017-03-03</td>\n",
       "      <td>Standard Class</td>\n",
       "      <td>DB-13060</td>\n",
       "      <td>DB-13060-92627-Costa Mesa-California</td>\n",
       "    </tr>\n",
       "    <tr>\n",
       "      <th>9993</th>\n",
       "      <td>CA-2017-119914</td>\n",
       "      <td>2017-05-04</td>\n",
       "      <td>2017-05-09</td>\n",
       "      <td>Second Class</td>\n",
       "      <td>CC-12220</td>\n",
       "      <td>CC-12220-92683-Westminster-California</td>\n",
       "    </tr>\n",
       "  </tbody>\n",
       "</table>\n",
       "<p>5009 rows × 6 columns</p>\n",
       "</div>"
      ],
      "text/plain": [
       "            order_id order_date  ship_date       ship_mode customer_id  \\\n",
       "0     CA-2016-152156 2016-11-08 2016-11-11    Second Class    CG-12520   \n",
       "2     CA-2016-138688 2016-06-12 2016-06-16    Second Class    DV-13045   \n",
       "3     US-2015-108966 2015-10-11 2015-10-18  Standard Class    SO-20335   \n",
       "5     CA-2014-115812 2014-06-09 2014-06-14  Standard Class    BH-11710   \n",
       "12    CA-2017-114412 2017-04-15 2017-04-20  Standard Class    AA-10480   \n",
       "...              ...        ...        ...             ...         ...   \n",
       "9986  CA-2016-125794 2016-09-29 2016-10-03  Standard Class    ML-17410   \n",
       "9987  CA-2017-163629 2017-11-17 2017-11-21  Standard Class    RA-19885   \n",
       "9989  CA-2014-110422 2014-01-21 2014-01-23    Second Class    TB-21400   \n",
       "9990  CA-2017-121258 2017-02-26 2017-03-03  Standard Class    DB-13060   \n",
       "9993  CA-2017-119914 2017-05-04 2017-05-09    Second Class    CC-12220   \n",
       "\n",
       "                        customer_address_key  \n",
       "0          CG-12520-42420-Henderson-Kentucky  \n",
       "2      DV-13045-90036-Los Angeles-California  \n",
       "3     SO-20335-33311-Fort Lauderdale-Florida  \n",
       "5      BH-11710-90032-Los Angeles-California  \n",
       "12     AA-10480-28027-Concord-North Carolina  \n",
       "...                                      ...  \n",
       "9986   ML-17410-90008-Los Angeles-California  \n",
       "9987           RA-19885-30605-Athens-Georgia  \n",
       "9989            TB-21400-33180-Miami-Florida  \n",
       "9990    DB-13060-92627-Costa Mesa-California  \n",
       "9993   CC-12220-92683-Westminster-California  \n",
       "\n",
       "[5009 rows x 6 columns]"
      ]
     },
     "execution_count": 23,
     "metadata": {},
     "output_type": "execute_result"
    }
   ],
   "source": [
    "# fill order table with data from df\n",
    "order_header = df[[\"order_id\", \"order_date\", \"ship_date\", \"ship_mode\", \"customer_id\", \n",
    "            \"customer_address_key\"]].copy()\n",
    "order_header.drop_duplicates(inplace=True)\n",
    "\n",
    "# Check result\n",
    "order_header"
   ]
  },
  {
   "cell_type": "code",
   "execution_count": 24,
   "id": "feb515fa",
   "metadata": {},
   "outputs": [],
   "source": [
    "# insert data into order table\n",
    "conn = sqlite3.connect(\"superstore2.db\")\n",
    "\n",
    "order_header.to_sql(\n",
    "   \"order_header\", # the name of the table\n",
    "   con=conn, # the connection variable\n",
    "   index=False, # whether to include the index column\n",
    "   if_exists=\"append\" # define behavior if table already exists\n",
    ")\n",
    "\n",
    "\n",
    "# Export order_header table to csv without index\n",
    "order_header = pd.read_sql_query(\"SELECT * FROM order_header\", conn)\n",
    "\n",
    "# Save the CSV file into the 'Tableau' folder\n",
    "order_header.to_csv(\"Tableau/order_header.csv\", index=False)\n",
    "\n",
    "\n",
    "conn.close()"
   ]
  },
  {
   "cell_type": "markdown",
   "id": "90c2cbef",
   "metadata": {},
   "source": [
    "Table 7b - Order details"
   ]
  },
  {
   "cell_type": "code",
   "execution_count": 25,
   "id": "27771db2",
   "metadata": {},
   "outputs": [],
   "source": [
    "# start sqlite3 connection and creation of database\n",
    "conn = sqlite3.connect(\"superstore2.db\")\n",
    "\n",
    "cur = conn.cursor()\n",
    "\n",
    "# Create order_details table\n",
    "create_order_detail_table = \"\"\"\n",
    "   CREATE TABLE IF NOT EXISTS order_detail (\n",
    "      row_id INT NOT NULL PRIMARY KEY,\n",
    "      order_id TEXT NOT NULL,\n",
    "      product_id TEXT NOT NULL,\n",
    "      quantity INT NOT NULL,\n",
    "      sales FLOAT NOT NULL,\n",
    "      discount FLOAT NOT NULL,\n",
    "      profit FLOAT NOT NULL,\n",
    "      FOREIGN KEY (product_id) REFERENCES product(product_id),\n",
    "      FOREIGN KEY (order_id) REFERENCES order_header(order_id)\n",
    "      )\n",
    "\"\"\"\n",
    "\n",
    "cur.execute(create_order_detail_table)\n",
    "\n",
    "cur.close()\n",
    "conn.close()"
   ]
  },
  {
   "cell_type": "code",
   "execution_count": 26,
   "id": "406512c8",
   "metadata": {},
   "outputs": [
    {
     "data": {
      "application/vnd.microsoft.datawrangler.viewer.v0+json": {
       "columns": [
        {
         "name": "index",
         "rawType": "int64",
         "type": "integer"
        },
        {
         "name": "row_id",
         "rawType": "int64",
         "type": "integer"
        },
        {
         "name": "order_id",
         "rawType": "object",
         "type": "string"
        },
        {
         "name": "product_id",
         "rawType": "object",
         "type": "string"
        },
        {
         "name": "quantity",
         "rawType": "int64",
         "type": "integer"
        },
        {
         "name": "sales",
         "rawType": "float64",
         "type": "float"
        },
        {
         "name": "discount",
         "rawType": "float64",
         "type": "float"
        },
        {
         "name": "profit",
         "rawType": "float64",
         "type": "float"
        }
       ],
       "conversionMethod": "pd.DataFrame",
       "ref": "2ace799e-ae30-41ad-815f-174e6ce5674a",
       "rows": [
        [
         "0",
         "1",
         "CA-2016-152156",
         "FUR-BO-10001798",
         "2",
         "261.96",
         "0.0",
         "41.9136"
        ],
        [
         "1",
         "2",
         "CA-2016-152156",
         "FUR-CH-10000454",
         "3",
         "731.94",
         "0.0",
         "219.582"
        ],
        [
         "2",
         "3",
         "CA-2016-138688",
         "OFF-LA-10000240",
         "2",
         "14.62",
         "0.0",
         "6.8714"
        ],
        [
         "3",
         "4",
         "US-2015-108966",
         "FUR-TA-10000577",
         "5",
         "957.5775",
         "0.45",
         "-383.031"
        ],
        [
         "4",
         "5",
         "US-2015-108966",
         "OFF-ST-10000760",
         "2",
         "22.368",
         "0.2",
         "2.5164"
        ],
        [
         "5",
         "6",
         "CA-2014-115812",
         "FUR-FU-10001487",
         "7",
         "48.86",
         "0.0",
         "14.1694"
        ],
        [
         "6",
         "7",
         "CA-2014-115812",
         "OFF-AR-10002833",
         "4",
         "7.28",
         "0.0",
         "1.9656"
        ],
        [
         "7",
         "8",
         "CA-2014-115812",
         "TEC-PH-10002275",
         "6",
         "907.152",
         "0.2",
         "90.7152"
        ],
        [
         "8",
         "9",
         "CA-2014-115812",
         "OFF-BI-10003910",
         "3",
         "18.504",
         "0.2",
         "5.7825"
        ],
        [
         "9",
         "10",
         "CA-2014-115812",
         "OFF-AP-10002892",
         "5",
         "114.9",
         "0.0",
         "34.47"
        ],
        [
         "10",
         "11",
         "CA-2014-115812",
         "FUR-TA-10001539",
         "9",
         "1706.184",
         "0.2",
         "85.3092"
        ],
        [
         "11",
         "12",
         "CA-2014-115812",
         "TEC-PH-10002033",
         "4",
         "911.424",
         "0.2",
         "68.3568"
        ],
        [
         "12",
         "13",
         "CA-2017-114412",
         "OFF-PA-10002365",
         "3",
         "15.552",
         "0.2",
         "5.4432"
        ],
        [
         "13",
         "14",
         "CA-2016-161389",
         "OFF-BI-10003656",
         "3",
         "407.976",
         "0.2",
         "132.5922"
        ],
        [
         "14",
         "15",
         "US-2015-118983",
         "OFF-AP-10002311",
         "5",
         "68.81",
         "0.8",
         "-123.858"
        ],
        [
         "15",
         "16",
         "US-2015-118983",
         "OFF-BI-10000756",
         "3",
         "2.544",
         "0.8",
         "-3.816"
        ],
        [
         "16",
         "17",
         "CA-2014-105893",
         "OFF-ST-10004186",
         "6",
         "665.88",
         "0.0",
         "13.3176"
        ],
        [
         "17",
         "18",
         "CA-2014-167164",
         "OFF-ST-10000107",
         "2",
         "55.5",
         "0.0",
         "9.99"
        ],
        [
         "18",
         "19",
         "CA-2014-143336",
         "OFF-AR-10003056",
         "2",
         "8.56",
         "0.0",
         "2.4824"
        ],
        [
         "19",
         "20",
         "CA-2014-143336",
         "TEC-PH-10001949",
         "3",
         "213.48",
         "0.2",
         "16.011"
        ],
        [
         "20",
         "21",
         "CA-2014-143336",
         "OFF-BI-10002215",
         "4",
         "22.72",
         "0.2",
         "7.384"
        ],
        [
         "21",
         "22",
         "CA-2016-137330",
         "OFF-AR-10000246",
         "7",
         "19.46",
         "0.0",
         "5.0596"
        ],
        [
         "22",
         "23",
         "CA-2016-137330",
         "OFF-AP-10001492",
         "7",
         "60.34",
         "0.0",
         "15.6884"
        ],
        [
         "23",
         "24",
         "US-2017-156909",
         "FUR-CH-10002774",
         "2",
         "71.372",
         "0.3",
         "-1.0196"
        ],
        [
         "24",
         "25",
         "CA-2015-106320",
         "FUR-TA-10000577",
         "3",
         "1044.63",
         "0.0",
         "240.2649"
        ],
        [
         "25",
         "26",
         "CA-2016-121755",
         "OFF-BI-10001634",
         "2",
         "11.648",
         "0.2",
         "4.2224"
        ],
        [
         "26",
         "27",
         "CA-2016-121755",
         "TEC-AC-10003027",
         "3",
         "90.57",
         "0.0",
         "11.7741"
        ],
        [
         "27",
         "28",
         "US-2015-150630",
         "FUR-BO-10004834",
         "7",
         "3083.43",
         "0.5",
         "-1665.0522"
        ],
        [
         "28",
         "29",
         "US-2015-150630",
         "OFF-BI-10000474",
         "2",
         "9.618",
         "0.7",
         "-7.0532"
        ],
        [
         "29",
         "30",
         "US-2015-150630",
         "FUR-FU-10004849",
         "3",
         "124.2",
         "0.2",
         "15.525"
        ],
        [
         "30",
         "31",
         "US-2015-150630",
         "OFF-EN-10001509",
         "2",
         "3.264",
         "0.2",
         "1.1016"
        ],
        [
         "31",
         "32",
         "US-2015-150630",
         "OFF-AR-10004042",
         "6",
         "86.304",
         "0.2",
         "9.7092"
        ],
        [
         "32",
         "33",
         "US-2015-150630",
         "OFF-BI-10001525",
         "6",
         "6.858",
         "0.7",
         "-5.715"
        ],
        [
         "33",
         "34",
         "US-2015-150630",
         "OFF-AR-10001683",
         "2",
         "15.76",
         "0.2",
         "3.546"
        ],
        [
         "34",
         "35",
         "CA-2017-107727",
         "OFF-PA-10000249",
         "3",
         "29.472",
         "0.2",
         "9.9468"
        ],
        [
         "35",
         "36",
         "CA-2016-117590",
         "TEC-PH-10004977",
         "7",
         "1097.544",
         "0.2",
         "123.4737"
        ],
        [
         "36",
         "37",
         "CA-2016-117590",
         "FUR-FU-10003664",
         "5",
         "190.92",
         "0.6",
         "-147.963"
        ],
        [
         "37",
         "38",
         "CA-2015-117415",
         "OFF-EN-10002986",
         "9",
         "113.328",
         "0.2",
         "35.415"
        ],
        [
         "38",
         "39",
         "CA-2015-117415",
         "FUR-BO-10002545",
         "3",
         "532.3992",
         "0.32",
         "-46.9764"
        ],
        [
         "39",
         "40",
         "CA-2015-117415",
         "FUR-CH-10004218",
         "3",
         "212.058",
         "0.3",
         "-15.147"
        ],
        [
         "40",
         "41",
         "CA-2015-117415",
         "TEC-PH-10000486",
         "4",
         "371.168",
         "0.2",
         "41.7564"
        ],
        [
         "41",
         "42",
         "CA-2017-120999",
         "TEC-PH-10004093",
         "4",
         "147.168",
         "0.2",
         "16.5564"
        ],
        [
         "42",
         "43",
         "CA-2016-101343",
         "OFF-ST-10003479",
         "2",
         "77.88",
         "0.0",
         "3.894"
        ],
        [
         "43",
         "44",
         "CA-2017-139619",
         "OFF-ST-10003282",
         "2",
         "95.616",
         "0.2",
         "9.5616"
        ],
        [
         "44",
         "45",
         "CA-2016-118255",
         "TEC-AC-10000171",
         "2",
         "45.98",
         "0.0",
         "19.7714"
        ],
        [
         "45",
         "46",
         "CA-2016-118255",
         "OFF-BI-10003291",
         "2",
         "17.46",
         "0.0",
         "8.2062"
        ],
        [
         "46",
         "47",
         "CA-2014-146703",
         "OFF-ST-10001713",
         "4",
         "211.96",
         "0.0",
         "8.4784"
        ],
        [
         "47",
         "48",
         "CA-2016-169194",
         "TEC-AC-10002167",
         "3",
         "45.0",
         "0.0",
         "4.95"
        ],
        [
         "48",
         "49",
         "CA-2016-169194",
         "TEC-PH-10003988",
         "2",
         "21.8",
         "0.0",
         "6.104"
        ],
        [
         "49",
         "50",
         "CA-2015-115742",
         "OFF-BI-10004410",
         "6",
         "38.22",
         "0.0",
         "17.9634"
        ]
       ],
       "shape": {
        "columns": 7,
        "rows": 9994
       }
      },
      "text/html": [
       "<div>\n",
       "<style scoped>\n",
       "    .dataframe tbody tr th:only-of-type {\n",
       "        vertical-align: middle;\n",
       "    }\n",
       "\n",
       "    .dataframe tbody tr th {\n",
       "        vertical-align: top;\n",
       "    }\n",
       "\n",
       "    .dataframe thead th {\n",
       "        text-align: right;\n",
       "    }\n",
       "</style>\n",
       "<table border=\"1\" class=\"dataframe\">\n",
       "  <thead>\n",
       "    <tr style=\"text-align: right;\">\n",
       "      <th></th>\n",
       "      <th>row_id</th>\n",
       "      <th>order_id</th>\n",
       "      <th>product_id</th>\n",
       "      <th>quantity</th>\n",
       "      <th>sales</th>\n",
       "      <th>discount</th>\n",
       "      <th>profit</th>\n",
       "    </tr>\n",
       "  </thead>\n",
       "  <tbody>\n",
       "    <tr>\n",
       "      <th>0</th>\n",
       "      <td>1</td>\n",
       "      <td>CA-2016-152156</td>\n",
       "      <td>FUR-BO-10001798</td>\n",
       "      <td>2</td>\n",
       "      <td>261.9600</td>\n",
       "      <td>0.00</td>\n",
       "      <td>41.9136</td>\n",
       "    </tr>\n",
       "    <tr>\n",
       "      <th>1</th>\n",
       "      <td>2</td>\n",
       "      <td>CA-2016-152156</td>\n",
       "      <td>FUR-CH-10000454</td>\n",
       "      <td>3</td>\n",
       "      <td>731.9400</td>\n",
       "      <td>0.00</td>\n",
       "      <td>219.5820</td>\n",
       "    </tr>\n",
       "    <tr>\n",
       "      <th>2</th>\n",
       "      <td>3</td>\n",
       "      <td>CA-2016-138688</td>\n",
       "      <td>OFF-LA-10000240</td>\n",
       "      <td>2</td>\n",
       "      <td>14.6200</td>\n",
       "      <td>0.00</td>\n",
       "      <td>6.8714</td>\n",
       "    </tr>\n",
       "    <tr>\n",
       "      <th>3</th>\n",
       "      <td>4</td>\n",
       "      <td>US-2015-108966</td>\n",
       "      <td>FUR-TA-10000577</td>\n",
       "      <td>5</td>\n",
       "      <td>957.5775</td>\n",
       "      <td>0.45</td>\n",
       "      <td>-383.0310</td>\n",
       "    </tr>\n",
       "    <tr>\n",
       "      <th>4</th>\n",
       "      <td>5</td>\n",
       "      <td>US-2015-108966</td>\n",
       "      <td>OFF-ST-10000760</td>\n",
       "      <td>2</td>\n",
       "      <td>22.3680</td>\n",
       "      <td>0.20</td>\n",
       "      <td>2.5164</td>\n",
       "    </tr>\n",
       "    <tr>\n",
       "      <th>...</th>\n",
       "      <td>...</td>\n",
       "      <td>...</td>\n",
       "      <td>...</td>\n",
       "      <td>...</td>\n",
       "      <td>...</td>\n",
       "      <td>...</td>\n",
       "      <td>...</td>\n",
       "    </tr>\n",
       "    <tr>\n",
       "      <th>9989</th>\n",
       "      <td>9990</td>\n",
       "      <td>CA-2014-110422</td>\n",
       "      <td>FUR-FU-10001889</td>\n",
       "      <td>3</td>\n",
       "      <td>25.2480</td>\n",
       "      <td>0.20</td>\n",
       "      <td>4.1028</td>\n",
       "    </tr>\n",
       "    <tr>\n",
       "      <th>9990</th>\n",
       "      <td>9991</td>\n",
       "      <td>CA-2017-121258</td>\n",
       "      <td>FUR-FU-10000747</td>\n",
       "      <td>2</td>\n",
       "      <td>91.9600</td>\n",
       "      <td>0.00</td>\n",
       "      <td>15.6332</td>\n",
       "    </tr>\n",
       "    <tr>\n",
       "      <th>9991</th>\n",
       "      <td>9992</td>\n",
       "      <td>CA-2017-121258</td>\n",
       "      <td>TEC-PH-10003645</td>\n",
       "      <td>2</td>\n",
       "      <td>258.5760</td>\n",
       "      <td>0.20</td>\n",
       "      <td>19.3932</td>\n",
       "    </tr>\n",
       "    <tr>\n",
       "      <th>9992</th>\n",
       "      <td>9993</td>\n",
       "      <td>CA-2017-121258</td>\n",
       "      <td>OFF-PA-10004041</td>\n",
       "      <td>4</td>\n",
       "      <td>29.6000</td>\n",
       "      <td>0.00</td>\n",
       "      <td>13.3200</td>\n",
       "    </tr>\n",
       "    <tr>\n",
       "      <th>9993</th>\n",
       "      <td>9994</td>\n",
       "      <td>CA-2017-119914</td>\n",
       "      <td>OFF-AP-10002684</td>\n",
       "      <td>2</td>\n",
       "      <td>243.1600</td>\n",
       "      <td>0.00</td>\n",
       "      <td>72.9480</td>\n",
       "    </tr>\n",
       "  </tbody>\n",
       "</table>\n",
       "<p>9994 rows × 7 columns</p>\n",
       "</div>"
      ],
      "text/plain": [
       "      row_id        order_id       product_id  quantity     sales  discount  \\\n",
       "0          1  CA-2016-152156  FUR-BO-10001798         2  261.9600      0.00   \n",
       "1          2  CA-2016-152156  FUR-CH-10000454         3  731.9400      0.00   \n",
       "2          3  CA-2016-138688  OFF-LA-10000240         2   14.6200      0.00   \n",
       "3          4  US-2015-108966  FUR-TA-10000577         5  957.5775      0.45   \n",
       "4          5  US-2015-108966  OFF-ST-10000760         2   22.3680      0.20   \n",
       "...      ...             ...              ...       ...       ...       ...   \n",
       "9989    9990  CA-2014-110422  FUR-FU-10001889         3   25.2480      0.20   \n",
       "9990    9991  CA-2017-121258  FUR-FU-10000747         2   91.9600      0.00   \n",
       "9991    9992  CA-2017-121258  TEC-PH-10003645         2  258.5760      0.20   \n",
       "9992    9993  CA-2017-121258  OFF-PA-10004041         4   29.6000      0.00   \n",
       "9993    9994  CA-2017-119914  OFF-AP-10002684         2  243.1600      0.00   \n",
       "\n",
       "        profit  \n",
       "0      41.9136  \n",
       "1     219.5820  \n",
       "2       6.8714  \n",
       "3    -383.0310  \n",
       "4       2.5164  \n",
       "...        ...  \n",
       "9989    4.1028  \n",
       "9990   15.6332  \n",
       "9991   19.3932  \n",
       "9992   13.3200  \n",
       "9993   72.9480  \n",
       "\n",
       "[9994 rows x 7 columns]"
      ]
     },
     "execution_count": 26,
     "metadata": {},
     "output_type": "execute_result"
    }
   ],
   "source": [
    "# fill order table with data from df\n",
    "order_detail = df[[\"row_id\", \"order_id\", \"product_id\", \"quantity\", \"sales\", \"discount\", \n",
    "            \"profit\"]].copy()\n",
    "order_detail.drop_duplicates(inplace=True)\n",
    "\n",
    "# Check result\n",
    "order_detail"
   ]
  },
  {
   "cell_type": "code",
   "execution_count": 27,
   "id": "6385b8b5",
   "metadata": {},
   "outputs": [],
   "source": [
    "# insert data into order table\n",
    "conn = sqlite3.connect(\"superstore2.db\")\n",
    "\n",
    "order_detail.to_sql(\n",
    "   \"order_detail\", # the name of the table\n",
    "   con=conn, # the connection variable\n",
    "   index=False, # whether to include the index column\n",
    "   if_exists=\"append\" # define behavior if table already exists\n",
    ")\n",
    "\n",
    "\n",
    "# Export order_detail table to csv without index\n",
    "order_detail = pd.read_sql_query(\"SELECT * FROM order_detail\", conn)\n",
    "\n",
    "# Save the CSV file into the 'Tableau' folder\n",
    "order_detail.to_csv(\"Tableau/order_detail.csv\", index=False)\n",
    "\n",
    "\n",
    "conn.close()"
   ]
  },
  {
   "cell_type": "markdown",
   "id": "7e6d6158",
   "metadata": {},
   "source": [
    "Execution of Queries to test DB"
   ]
  },
  {
   "cell_type": "code",
   "execution_count": 28,
   "id": "61ee69c0",
   "metadata": {},
   "outputs": [
    {
     "data": {
      "application/vnd.microsoft.datawrangler.viewer.v0+json": {
       "columns": [
        {
         "name": "index",
         "rawType": "int64",
         "type": "integer"
        },
        {
         "name": "category",
         "rawType": "object",
         "type": "string"
        },
        {
         "name": "Total_revenue",
         "rawType": "float64",
         "type": "float"
        }
       ],
       "conversionMethod": "pd.DataFrame",
       "ref": "0f7bf932-9499-4c81-978b-8bb44a844bcf",
       "rows": [
        [
         "0",
         "Technology",
         "836154.033"
        ]
       ],
       "shape": {
        "columns": 2,
        "rows": 1
       }
      },
      "text/html": [
       "<div>\n",
       "<style scoped>\n",
       "    .dataframe tbody tr th:only-of-type {\n",
       "        vertical-align: middle;\n",
       "    }\n",
       "\n",
       "    .dataframe tbody tr th {\n",
       "        vertical-align: top;\n",
       "    }\n",
       "\n",
       "    .dataframe thead th {\n",
       "        text-align: right;\n",
       "    }\n",
       "</style>\n",
       "<table border=\"1\" class=\"dataframe\">\n",
       "  <thead>\n",
       "    <tr style=\"text-align: right;\">\n",
       "      <th></th>\n",
       "      <th>category</th>\n",
       "      <th>Total_revenue</th>\n",
       "    </tr>\n",
       "  </thead>\n",
       "  <tbody>\n",
       "    <tr>\n",
       "      <th>0</th>\n",
       "      <td>Technology</td>\n",
       "      <td>836154.033</td>\n",
       "    </tr>\n",
       "  </tbody>\n",
       "</table>\n",
       "</div>"
      ],
      "text/plain": [
       "     category  Total_revenue\n",
       "0  Technology     836154.033"
      ]
     },
     "execution_count": 28,
     "metadata": {},
     "output_type": "execute_result"
    }
   ],
   "source": [
    "# Execute queries\n",
    "conn = sqlite3.connect(\"superstore2.db\")\n",
    "cur = conn.cursor()\n",
    "\n",
    "category_max_revenue = \"\"\"\n",
    "   SELECT DISTINCT category, SUM(order_detail.sales) AS Total_revenue\n",
    "    FROM product_categories\n",
    "    LEFT JOIN product ON product.subcategory = product_categories.subcategory\n",
    "    LEFT JOIN order_detail ON order_detail.product_id = product.product_id\n",
    "    GROUP BY category\n",
    "    ORDER BY Total_revenue DESC\n",
    "    LIMIT 1\n",
    "\"\"\"\n",
    "\n",
    "cur.execute(category_max_revenue)\n",
    "rows = cur.fetchall()\n",
    "\n",
    "category_max_revenue = pd.DataFrame(rows, columns=[\"category\", \"Total_revenue\"])\n",
    "\n",
    "cur.close()\n",
    "conn.close()\n",
    "\n",
    "category_max_revenue\n"
   ]
  }
 ],
 "metadata": {
  "kernelspec": {
   "display_name": "EDA_Marc",
   "language": "python",
   "name": "python3"
  },
  "language_info": {
   "codemirror_mode": {
    "name": "ipython",
    "version": 3
   },
   "file_extension": ".py",
   "mimetype": "text/x-python",
   "name": "python",
   "nbconvert_exporter": "python",
   "pygments_lexer": "ipython3",
   "version": "3.9.21"
  }
 },
 "nbformat": 4,
 "nbformat_minor": 5
}
